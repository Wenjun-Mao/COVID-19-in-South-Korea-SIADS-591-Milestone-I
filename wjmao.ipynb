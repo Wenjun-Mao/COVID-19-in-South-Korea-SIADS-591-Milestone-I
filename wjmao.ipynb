{
 "metadata": {
  "language_info": {
   "codemirror_mode": {
    "name": "ipython",
    "version": 3
   },
   "file_extension": ".py",
   "mimetype": "text/x-python",
   "name": "python",
   "nbconvert_exporter": "python",
   "pygments_lexer": "ipython3",
   "version": "3.9.2"
  },
  "orig_nbformat": 2,
  "kernelspec": {
   "name": "python392jvsc74a57bd098c6959b58991ab1aea5c7fa5fd4496b11b37ef00d6fe18e2354dd08529e394d",
   "display_name": "Python 3.9.2 64-bit ('.venv': venv)"
  },
  "metadata": {
   "interpreter": {
    "hash": "d62eba8b95ec2d6293ca21d59f8194922723d0e002633704167b87a8e4d1aa44"
   }
  }
 },
 "nbformat": 4,
 "nbformat_minor": 2,
 "cells": [
  {
   "cell_type": "code",
   "execution_count": 1,
   "metadata": {},
   "outputs": [],
   "source": [
    "import pandas as pd\n",
    "import numpy as np\n",
    "\n",
    "import plotly.express as px\n",
    "import matplotlib.pyplot as plt\n",
    "import seaborn as sns\n",
    "\n",
    "import datetime\n",
    "\n",
    "%matplotlib inline"
   ]
  },
  {
   "source": [
    "<font color='yellow' size = 6>\n",
    "Part I<br>\n",
    "<font color='white' size = 4>\n",
    "Import Data<br>\n",
    "Merge in population by province (manually collected)<br>\n",
    "And some initial cleaning, and checking"
   ],
   "cell_type": "markdown",
   "metadata": {}
  },
  {
   "cell_type": "code",
   "execution_count": 40,
   "metadata": {},
   "outputs": [
    {
     "output_type": "display_data",
     "data": {
      "text/plain": "   patient_id     sex  age country province         city  \\\n0  1000000001    male  50s   Korea    Seoul   Gangseo-gu   \n1  1000000002    male  30s   Korea    Seoul  Jungnang-gu   \n2  1000000003    male  50s   Korea    Seoul    Jongno-gu   \n3  1000000004    male  20s   Korea    Seoul      Mapo-gu   \n4  1000000005  female  20s   Korea    Seoul  Seongbuk-gu   \n\n         infection_case infected_by contact_number symptom_onset_date  \\\n0       overseas inflow         NaN             75         2020-01-22   \n1       overseas inflow         NaN             31                NaN   \n2  contact with patient  2002000001             17                NaN   \n3       overseas inflow         NaN              9         2020-01-26   \n4  contact with patient  1000000002              2                NaN   \n\n  confirmed_date released_date deceased_date     state  \\\n0     2020-01-23    2020-02-05           NaN  released   \n1     2020-01-30    2020-03-02           NaN  released   \n2     2020-01-30    2020-02-19           NaN  released   \n3     2020-01-30    2020-02-15           NaN  released   \n4     2020-01-31    2020-02-24           NaN  released   \n\n   province_population_in_M  \n0                      9.64  \n1                      9.64  \n2                      9.64  \n3                      9.64  \n4                      9.64  ",
      "text/html": "<div>\n<style scoped>\n    .dataframe tbody tr th:only-of-type {\n        vertical-align: middle;\n    }\n\n    .dataframe tbody tr th {\n        vertical-align: top;\n    }\n\n    .dataframe thead th {\n        text-align: right;\n    }\n</style>\n<table border=\"1\" class=\"dataframe\">\n  <thead>\n    <tr style=\"text-align: right;\">\n      <th></th>\n      <th>patient_id</th>\n      <th>sex</th>\n      <th>age</th>\n      <th>country</th>\n      <th>province</th>\n      <th>city</th>\n      <th>infection_case</th>\n      <th>infected_by</th>\n      <th>contact_number</th>\n      <th>symptom_onset_date</th>\n      <th>confirmed_date</th>\n      <th>released_date</th>\n      <th>deceased_date</th>\n      <th>state</th>\n      <th>province_population_in_M</th>\n    </tr>\n  </thead>\n  <tbody>\n    <tr>\n      <th>0</th>\n      <td>1000000001</td>\n      <td>male</td>\n      <td>50s</td>\n      <td>Korea</td>\n      <td>Seoul</td>\n      <td>Gangseo-gu</td>\n      <td>overseas inflow</td>\n      <td>NaN</td>\n      <td>75</td>\n      <td>2020-01-22</td>\n      <td>2020-01-23</td>\n      <td>2020-02-05</td>\n      <td>NaN</td>\n      <td>released</td>\n      <td>9.64</td>\n    </tr>\n    <tr>\n      <th>1</th>\n      <td>1000000002</td>\n      <td>male</td>\n      <td>30s</td>\n      <td>Korea</td>\n      <td>Seoul</td>\n      <td>Jungnang-gu</td>\n      <td>overseas inflow</td>\n      <td>NaN</td>\n      <td>31</td>\n      <td>NaN</td>\n      <td>2020-01-30</td>\n      <td>2020-03-02</td>\n      <td>NaN</td>\n      <td>released</td>\n      <td>9.64</td>\n    </tr>\n    <tr>\n      <th>2</th>\n      <td>1000000003</td>\n      <td>male</td>\n      <td>50s</td>\n      <td>Korea</td>\n      <td>Seoul</td>\n      <td>Jongno-gu</td>\n      <td>contact with patient</td>\n      <td>2002000001</td>\n      <td>17</td>\n      <td>NaN</td>\n      <td>2020-01-30</td>\n      <td>2020-02-19</td>\n      <td>NaN</td>\n      <td>released</td>\n      <td>9.64</td>\n    </tr>\n    <tr>\n      <th>3</th>\n      <td>1000000004</td>\n      <td>male</td>\n      <td>20s</td>\n      <td>Korea</td>\n      <td>Seoul</td>\n      <td>Mapo-gu</td>\n      <td>overseas inflow</td>\n      <td>NaN</td>\n      <td>9</td>\n      <td>2020-01-26</td>\n      <td>2020-01-30</td>\n      <td>2020-02-15</td>\n      <td>NaN</td>\n      <td>released</td>\n      <td>9.64</td>\n    </tr>\n    <tr>\n      <th>4</th>\n      <td>1000000005</td>\n      <td>female</td>\n      <td>20s</td>\n      <td>Korea</td>\n      <td>Seoul</td>\n      <td>Seongbuk-gu</td>\n      <td>contact with patient</td>\n      <td>1000000002</td>\n      <td>2</td>\n      <td>NaN</td>\n      <td>2020-01-31</td>\n      <td>2020-02-24</td>\n      <td>NaN</td>\n      <td>released</td>\n      <td>9.64</td>\n    </tr>\n  </tbody>\n</table>\n</div>"
     },
     "metadata": {}
    },
    {
     "output_type": "stream",
     "name": "stdout",
     "text": [
      "<class 'pandas.core.frame.DataFrame'>\nInt64Index: 5165 entries, 0 to 5164\nData columns (total 15 columns):\n #   Column                    Non-Null Count  Dtype  \n---  ------                    --------------  -----  \n 0   patient_id                5165 non-null   int64  \n 1   sex                       4043 non-null   object \n 2   age                       3785 non-null   object \n 3   country                   5165 non-null   object \n 4   province                  5165 non-null   object \n 5   city                      5071 non-null   object \n 6   infection_case            4246 non-null   object \n 7   infected_by               1346 non-null   object \n 8   contact_number            791 non-null    object \n 9   symptom_onset_date        690 non-null    object \n 10  confirmed_date            5162 non-null   object \n 11  released_date             1587 non-null   object \n 12  deceased_date             66 non-null     object \n 13  state                     5165 non-null   object \n 14  province_population_in_M  5165 non-null   float64\ndtypes: float64(1), int64(1), object(13)\nmemory usage: 645.6+ KB\nNone\n"
     ]
    }
   ],
   "source": [
    "df = pd.read_csv('.\\data\\PatientInfo.csv')\n",
    "popinfo = pd.read_csv('.\\data\\Population.csv')\n",
    "df = pd.merge(df, popinfo, on='province')\n",
    "display(df.head())\n",
    "# print('\\n', df.describe(), '\\n')\n",
    "print(df.info())"
   ]
  },
  {
   "source": [
    "<font size = 4 color = 'yellow'>\n",
    "# Take a look at the null's"
   ],
   "cell_type": "markdown",
   "metadata": {}
  },
  {
   "cell_type": "code",
   "execution_count": 51,
   "metadata": {},
   "outputs": [
    {
     "output_type": "stream",
     "name": "stdout",
     "text": [
      "                          missing_count  missing_percentage\npatient_id                            0                0.00\nsex                                1122               21.72\nage                                1380               26.72\ncountry                               0                0.00\nprovince                              0                0.00\ncity                                 94                1.82\ninfection_case                      919               17.79\ninfected_by                        3819               73.94\ncontact_number                     4374               84.69\nsymptom_onset_date                 4475               86.64\nconfirmed_date                        3                0.06\nreleased_date                      3578               69.27\ndeceased_date                      5099               98.72\nstate                                 0                0.00\nprovince_population_in_M              0                0.00\n"
     ]
    }
   ],
   "source": [
    "missing_count = df.isnull().sum() #it's a pandas.core.series.Series\n",
    "value_count = df.isnull().count() #it's a pandas.core.series.Series\n",
    "missing_percentage = round(missing_count / value_count * 100,2) #the percentage of missing values, Series\n",
    "missing_df = pd.DataFrame({'missing_count': missing_count, 'missing_percentage': missing_percentage}) #create a dataframe\n",
    "print(missing_df)"
   ]
  },
  {
   "source": [
    "<font size = 4 color = 'yellow'>\n",
    "# visualize missing value"
   ],
   "cell_type": "markdown",
   "metadata": {}
  },
  {
   "cell_type": "code",
   "execution_count": 56,
   "metadata": {},
   "outputs": [
    {
     "output_type": "display_data",
     "data": {
      "text/plain": "<Figure size 1152x432 with 1 Axes>",
      "image/svg+xml": "<?xml version=\"1.0\" encoding=\"utf-8\" standalone=\"no\"?>\r\n<!DOCTYPE svg PUBLIC \"-//W3C//DTD SVG 1.1//EN\"\r\n  \"http://www.w3.org/Graphics/SVG/1.1/DTD/svg11.dtd\">\r\n<svg height=\"435.798928pt\" version=\"1.1\" viewBox=\"0 0 964.15567 435.798928\" width=\"964.15567pt\" xmlns=\"http://www.w3.org/2000/svg\" xmlns:xlink=\"http://www.w3.org/1999/xlink\">\r\n <metadata>\r\n  <rdf:RDF xmlns:cc=\"http://creativecommons.org/ns#\" xmlns:dc=\"http://purl.org/dc/elements/1.1/\" xmlns:rdf=\"http://www.w3.org/1999/02/22-rdf-syntax-ns#\">\r\n   <cc:Work>\r\n    <dc:type rdf:resource=\"http://purl.org/dc/dcmitype/StillImage\"/>\r\n    <dc:date>2021-04-18T19:33:18.596489</dc:date>\r\n    <dc:format>image/svg+xml</dc:format>\r\n    <dc:creator>\r\n     <cc:Agent>\r\n      <dc:title>Matplotlib v3.4.0, https://matplotlib.org/</dc:title>\r\n     </cc:Agent>\r\n    </dc:creator>\r\n   </cc:Work>\r\n  </rdf:RDF>\r\n </metadata>\r\n <defs>\r\n  <style type=\"text/css\">*{stroke-linecap:butt;stroke-linejoin:round;}</style>\r\n </defs>\r\n <g id=\"figure_1\">\r\n  <g id=\"patch_1\">\r\n   <path d=\"M 0 435.798928 \r\nL 964.15567 435.798928 \r\nL 964.15567 0 \r\nL 0 0 \r\nz\r\n\" style=\"fill:none;\"/>\r\n  </g>\r\n  <g id=\"axes_1\">\r\n   <g id=\"patch_2\">\r\n    <path d=\"M 35.569322 348.478125 \r\nL 928.369322 348.478125 \r\nL 928.369322 22.318125 \r\nL 35.569322 22.318125 \r\nz\r\n\" style=\"fill:#ffffff;\"/>\r\n   </g>\r\n   <g id=\"patch_3\">\r\n    <path clip-path=\"url(#pade18c1f49)\" d=\"M 50.449322 348.478125 \r\nL 80.209322 348.478125 \r\nL 80.209322 348.478125 \r\nL 50.449322 348.478125 \r\nz\r\n\" style=\"fill:#1f77b4;\"/>\r\n   </g>\r\n   <g id=\"patch_4\">\r\n    <path clip-path=\"url(#pade18c1f49)\" d=\"M 109.969322 348.478125 \r\nL 139.729322 348.478125 \r\nL 139.729322 280.134805 \r\nL 109.969322 280.134805 \r\nz\r\n\" style=\"fill:#1f77b4;\"/>\r\n   </g>\r\n   <g id=\"patch_5\">\r\n    <path clip-path=\"url(#pade18c1f49)\" d=\"M 169.489322 348.478125 \r\nL 199.249322 348.478125 \r\nL 199.249322 264.401996 \r\nL 169.489322 264.401996 \r\nz\r\n\" style=\"fill:#1f77b4;\"/>\r\n   </g>\r\n   <g id=\"patch_6\">\r\n    <path clip-path=\"url(#pade18c1f49)\" d=\"M 229.009322 348.478125 \r\nL 258.769322 348.478125 \r\nL 258.769322 348.478125 \r\nL 229.009322 348.478125 \r\nz\r\n\" style=\"fill:#1f77b4;\"/>\r\n   </g>\r\n   <g id=\"patch_7\">\r\n    <path clip-path=\"url(#pade18c1f49)\" d=\"M 288.529322 348.478125 \r\nL 318.289322 348.478125 \r\nL 318.289322 348.478125 \r\nL 288.529322 348.478125 \r\nz\r\n\" style=\"fill:#1f77b4;\"/>\r\n   </g>\r\n   <g id=\"patch_8\">\r\n    <path clip-path=\"url(#pade18c1f49)\" d=\"M 348.049322 348.478125 \r\nL 377.809322 348.478125 \r\nL 377.809322 342.751383 \r\nL 348.049322 342.751383 \r\nz\r\n\" style=\"fill:#1f77b4;\"/>\r\n   </g>\r\n   <g id=\"patch_9\">\r\n    <path clip-path=\"url(#pade18c1f49)\" d=\"M 407.569322 348.478125 \r\nL 437.329322 348.478125 \r\nL 437.329322 292.500792 \r\nL 407.569322 292.500792 \r\nz\r\n\" style=\"fill:#1f77b4;\"/>\r\n   </g>\r\n   <g id=\"patch_10\">\r\n    <path clip-path=\"url(#pade18c1f49)\" d=\"M 467.089322 348.478125 \r\nL 496.849322 348.478125 \r\nL 496.849322 115.821353 \r\nL 467.089322 115.821353 \r\nz\r\n\" style=\"fill:#1f77b4;\"/>\r\n   </g>\r\n   <g id=\"patch_11\">\r\n    <path clip-path=\"url(#pade18c1f49)\" d=\"M 526.609322 348.478125 \r\nL 556.369322 348.478125 \r\nL 556.369322 81.995814 \r\nL 526.609322 81.995814 \r\nz\r\n\" style=\"fill:#1f77b4;\"/>\r\n   </g>\r\n   <g id=\"patch_12\">\r\n    <path clip-path=\"url(#pade18c1f49)\" d=\"M 586.129322 348.478125 \r\nL 615.889322 348.478125 \r\nL 615.889322 75.860019 \r\nL 586.129322 75.860019 \r\nz\r\n\" style=\"fill:#1f77b4;\"/>\r\n   </g>\r\n   <g id=\"patch_13\">\r\n    <path clip-path=\"url(#pade18c1f49)\" d=\"M 645.649322 348.478125 \r\nL 675.409322 348.478125 \r\nL 675.409322 348.289331 \r\nL 645.649322 348.289331 \r\nz\r\n\" style=\"fill:#1f77b4;\"/>\r\n   </g>\r\n   <g id=\"patch_14\">\r\n    <path clip-path=\"url(#pade18c1f49)\" d=\"M 705.169322 348.478125 \r\nL 734.929322 348.478125 \r\nL 734.929322 130.515796 \r\nL 705.169322 130.515796 \r\nz\r\n\" style=\"fill:#1f77b4;\"/>\r\n   </g>\r\n   <g id=\"patch_15\">\r\n    <path clip-path=\"url(#pade18c1f49)\" d=\"M 764.689322 348.478125 \r\nL 794.449322 348.478125 \r\nL 794.449322 37.849554 \r\nL 764.689322 37.849554 \r\nz\r\n\" style=\"fill:#1f77b4;\"/>\r\n   </g>\r\n   <g id=\"patch_16\">\r\n    <path clip-path=\"url(#pade18c1f49)\" d=\"M 824.209322 348.478125 \r\nL 853.969322 348.478125 \r\nL 853.969322 348.478125 \r\nL 824.209322 348.478125 \r\nz\r\n\" style=\"fill:#1f77b4;\"/>\r\n   </g>\r\n   <g id=\"patch_17\">\r\n    <path clip-path=\"url(#pade18c1f49)\" d=\"M 883.729322 348.478125 \r\nL 913.489322 348.478125 \r\nL 913.489322 348.478125 \r\nL 883.729322 348.478125 \r\nz\r\n\" style=\"fill:#1f77b4;\"/>\r\n   </g>\r\n   <g id=\"matplotlib.axis_1\">\r\n    <g id=\"xtick_1\">\r\n     <g id=\"line2d_1\">\r\n      <defs>\r\n       <path d=\"M 0 0 \r\nL 0 3.5 \r\n\" id=\"m612b0d5537\" style=\"stroke:#000000;stroke-width:0.8;\"/>\r\n      </defs>\r\n      <g>\r\n       <use style=\"stroke:#000000;stroke-width:0.8;\" x=\"65.329322\" xlink:href=\"#m612b0d5537\" y=\"348.478125\"/>\r\n      </g>\r\n     </g>\r\n     <g id=\"text_1\">\r\n      <!-- patient_id -->\r\n      <g transform=\"translate(45.113335 386.914815)rotate(-30)scale(0.1 -0.1)\">\r\n       <defs>\r\n        <path d=\"M 1159 525 \r\nL 1159 -1331 \r\nL 581 -1331 \r\nL 581 3500 \r\nL 1159 3500 \r\nL 1159 2969 \r\nQ 1341 3281 1617 3432 \r\nQ 1894 3584 2278 3584 \r\nQ 2916 3584 3314 3078 \r\nQ 3713 2572 3713 1747 \r\nQ 3713 922 3314 415 \r\nQ 2916 -91 2278 -91 \r\nQ 1894 -91 1617 61 \r\nQ 1341 213 1159 525 \r\nz\r\nM 3116 1747 \r\nQ 3116 2381 2855 2742 \r\nQ 2594 3103 2138 3103 \r\nQ 1681 3103 1420 2742 \r\nQ 1159 2381 1159 1747 \r\nQ 1159 1113 1420 752 \r\nQ 1681 391 2138 391 \r\nQ 2594 391 2855 752 \r\nQ 3116 1113 3116 1747 \r\nz\r\n\" id=\"DejaVuSans-70\" transform=\"scale(0.015625)\"/>\r\n        <path d=\"M 2194 1759 \r\nQ 1497 1759 1228 1600 \r\nQ 959 1441 959 1056 \r\nQ 959 750 1161 570 \r\nQ 1363 391 1709 391 \r\nQ 2188 391 2477 730 \r\nQ 2766 1069 2766 1631 \r\nL 2766 1759 \r\nL 2194 1759 \r\nz\r\nM 3341 1997 \r\nL 3341 0 \r\nL 2766 0 \r\nL 2766 531 \r\nQ 2569 213 2275 61 \r\nQ 1981 -91 1556 -91 \r\nQ 1019 -91 701 211 \r\nQ 384 513 384 1019 \r\nQ 384 1609 779 1909 \r\nQ 1175 2209 1959 2209 \r\nL 2766 2209 \r\nL 2766 2266 \r\nQ 2766 2663 2505 2880 \r\nQ 2244 3097 1772 3097 \r\nQ 1472 3097 1187 3025 \r\nQ 903 2953 641 2809 \r\nL 641 3341 \r\nQ 956 3463 1253 3523 \r\nQ 1550 3584 1831 3584 \r\nQ 2591 3584 2966 3190 \r\nQ 3341 2797 3341 1997 \r\nz\r\n\" id=\"DejaVuSans-61\" transform=\"scale(0.015625)\"/>\r\n        <path d=\"M 1172 4494 \r\nL 1172 3500 \r\nL 2356 3500 \r\nL 2356 3053 \r\nL 1172 3053 \r\nL 1172 1153 \r\nQ 1172 725 1289 603 \r\nQ 1406 481 1766 481 \r\nL 2356 481 \r\nL 2356 0 \r\nL 1766 0 \r\nQ 1100 0 847 248 \r\nQ 594 497 594 1153 \r\nL 594 3053 \r\nL 172 3053 \r\nL 172 3500 \r\nL 594 3500 \r\nL 594 4494 \r\nL 1172 4494 \r\nz\r\n\" id=\"DejaVuSans-74\" transform=\"scale(0.015625)\"/>\r\n        <path d=\"M 603 3500 \r\nL 1178 3500 \r\nL 1178 0 \r\nL 603 0 \r\nL 603 3500 \r\nz\r\nM 603 4863 \r\nL 1178 4863 \r\nL 1178 4134 \r\nL 603 4134 \r\nL 603 4863 \r\nz\r\n\" id=\"DejaVuSans-69\" transform=\"scale(0.015625)\"/>\r\n        <path d=\"M 3597 1894 \r\nL 3597 1613 \r\nL 953 1613 \r\nQ 991 1019 1311 708 \r\nQ 1631 397 2203 397 \r\nQ 2534 397 2845 478 \r\nQ 3156 559 3463 722 \r\nL 3463 178 \r\nQ 3153 47 2828 -22 \r\nQ 2503 -91 2169 -91 \r\nQ 1331 -91 842 396 \r\nQ 353 884 353 1716 \r\nQ 353 2575 817 3079 \r\nQ 1281 3584 2069 3584 \r\nQ 2775 3584 3186 3129 \r\nQ 3597 2675 3597 1894 \r\nz\r\nM 3022 2063 \r\nQ 3016 2534 2758 2815 \r\nQ 2500 3097 2075 3097 \r\nQ 1594 3097 1305 2825 \r\nQ 1016 2553 972 2059 \r\nL 3022 2063 \r\nz\r\n\" id=\"DejaVuSans-65\" transform=\"scale(0.015625)\"/>\r\n        <path d=\"M 3513 2113 \r\nL 3513 0 \r\nL 2938 0 \r\nL 2938 2094 \r\nQ 2938 2591 2744 2837 \r\nQ 2550 3084 2163 3084 \r\nQ 1697 3084 1428 2787 \r\nQ 1159 2491 1159 1978 \r\nL 1159 0 \r\nL 581 0 \r\nL 581 3500 \r\nL 1159 3500 \r\nL 1159 2956 \r\nQ 1366 3272 1645 3428 \r\nQ 1925 3584 2291 3584 \r\nQ 2894 3584 3203 3211 \r\nQ 3513 2838 3513 2113 \r\nz\r\n\" id=\"DejaVuSans-6e\" transform=\"scale(0.015625)\"/>\r\n        <path d=\"M 3263 -1063 \r\nL 3263 -1509 \r\nL -63 -1509 \r\nL -63 -1063 \r\nL 3263 -1063 \r\nz\r\n\" id=\"DejaVuSans-5f\" transform=\"scale(0.015625)\"/>\r\n        <path d=\"M 2906 2969 \r\nL 2906 4863 \r\nL 3481 4863 \r\nL 3481 0 \r\nL 2906 0 \r\nL 2906 525 \r\nQ 2725 213 2448 61 \r\nQ 2172 -91 1784 -91 \r\nQ 1150 -91 751 415 \r\nQ 353 922 353 1747 \r\nQ 353 2572 751 3078 \r\nQ 1150 3584 1784 3584 \r\nQ 2172 3584 2448 3432 \r\nQ 2725 3281 2906 2969 \r\nz\r\nM 947 1747 \r\nQ 947 1113 1208 752 \r\nQ 1469 391 1925 391 \r\nQ 2381 391 2643 752 \r\nQ 2906 1113 2906 1747 \r\nQ 2906 2381 2643 2742 \r\nQ 2381 3103 1925 3103 \r\nQ 1469 3103 1208 2742 \r\nQ 947 2381 947 1747 \r\nz\r\n\" id=\"DejaVuSans-64\" transform=\"scale(0.015625)\"/>\r\n       </defs>\r\n       <use xlink:href=\"#DejaVuSans-70\"/>\r\n       <use x=\"63.476562\" xlink:href=\"#DejaVuSans-61\"/>\r\n       <use x=\"124.755859\" xlink:href=\"#DejaVuSans-74\"/>\r\n       <use x=\"163.964844\" xlink:href=\"#DejaVuSans-69\"/>\r\n       <use x=\"191.748047\" xlink:href=\"#DejaVuSans-65\"/>\r\n       <use x=\"253.271484\" xlink:href=\"#DejaVuSans-6e\"/>\r\n       <use x=\"316.650391\" xlink:href=\"#DejaVuSans-74\"/>\r\n       <use x=\"355.859375\" xlink:href=\"#DejaVuSans-5f\"/>\r\n       <use x=\"405.859375\" xlink:href=\"#DejaVuSans-69\"/>\r\n       <use x=\"433.642578\" xlink:href=\"#DejaVuSans-64\"/>\r\n      </g>\r\n     </g>\r\n    </g>\r\n    <g id=\"xtick_2\">\r\n     <g id=\"line2d_2\">\r\n      <g>\r\n       <use style=\"stroke:#000000;stroke-width:0.8;\" x=\"124.849322\" xlink:href=\"#m612b0d5537\" y=\"348.478125\"/>\r\n      </g>\r\n     </g>\r\n     <g id=\"text_2\">\r\n      <!-- sex -->\r\n      <g transform=\"translate(118.821786 370.61169)rotate(-30)scale(0.1 -0.1)\">\r\n       <defs>\r\n        <path d=\"M 2834 3397 \r\nL 2834 2853 \r\nQ 2591 2978 2328 3040 \r\nQ 2066 3103 1784 3103 \r\nQ 1356 3103 1142 2972 \r\nQ 928 2841 928 2578 \r\nQ 928 2378 1081 2264 \r\nQ 1234 2150 1697 2047 \r\nL 1894 2003 \r\nQ 2506 1872 2764 1633 \r\nQ 3022 1394 3022 966 \r\nQ 3022 478 2636 193 \r\nQ 2250 -91 1575 -91 \r\nQ 1294 -91 989 -36 \r\nQ 684 19 347 128 \r\nL 347 722 \r\nQ 666 556 975 473 \r\nQ 1284 391 1588 391 \r\nQ 1994 391 2212 530 \r\nQ 2431 669 2431 922 \r\nQ 2431 1156 2273 1281 \r\nQ 2116 1406 1581 1522 \r\nL 1381 1569 \r\nQ 847 1681 609 1914 \r\nQ 372 2147 372 2553 \r\nQ 372 3047 722 3315 \r\nQ 1072 3584 1716 3584 \r\nQ 2034 3584 2315 3537 \r\nQ 2597 3491 2834 3397 \r\nz\r\n\" id=\"DejaVuSans-73\" transform=\"scale(0.015625)\"/>\r\n        <path d=\"M 3513 3500 \r\nL 2247 1797 \r\nL 3578 0 \r\nL 2900 0 \r\nL 1881 1375 \r\nL 863 0 \r\nL 184 0 \r\nL 1544 1831 \r\nL 300 3500 \r\nL 978 3500 \r\nL 1906 2253 \r\nL 2834 3500 \r\nL 3513 3500 \r\nz\r\n\" id=\"DejaVuSans-78\" transform=\"scale(0.015625)\"/>\r\n       </defs>\r\n       <use xlink:href=\"#DejaVuSans-73\"/>\r\n       <use x=\"52.099609\" xlink:href=\"#DejaVuSans-65\"/>\r\n       <use x=\"111.873047\" xlink:href=\"#DejaVuSans-78\"/>\r\n      </g>\r\n     </g>\r\n    </g>\r\n    <g id=\"xtick_3\">\r\n     <g id=\"line2d_3\">\r\n      <g>\r\n       <use style=\"stroke:#000000;stroke-width:0.8;\" x=\"184.369322\" xlink:href=\"#m612b0d5537\" y=\"348.478125\"/>\r\n      </g>\r\n     </g>\r\n     <g id=\"text_3\">\r\n      <!-- age -->\r\n      <g transform=\"translate(177.682119 371.373409)rotate(-30)scale(0.1 -0.1)\">\r\n       <defs>\r\n        <path d=\"M 2906 1791 \r\nQ 2906 2416 2648 2759 \r\nQ 2391 3103 1925 3103 \r\nQ 1463 3103 1205 2759 \r\nQ 947 2416 947 1791 \r\nQ 947 1169 1205 825 \r\nQ 1463 481 1925 481 \r\nQ 2391 481 2648 825 \r\nQ 2906 1169 2906 1791 \r\nz\r\nM 3481 434 \r\nQ 3481 -459 3084 -895 \r\nQ 2688 -1331 1869 -1331 \r\nQ 1566 -1331 1297 -1286 \r\nQ 1028 -1241 775 -1147 \r\nL 775 -588 \r\nQ 1028 -725 1275 -790 \r\nQ 1522 -856 1778 -856 \r\nQ 2344 -856 2625 -561 \r\nQ 2906 -266 2906 331 \r\nL 2906 616 \r\nQ 2728 306 2450 153 \r\nQ 2172 0 1784 0 \r\nQ 1141 0 747 490 \r\nQ 353 981 353 1791 \r\nQ 353 2603 747 3093 \r\nQ 1141 3584 1784 3584 \r\nQ 2172 3584 2450 3431 \r\nQ 2728 3278 2906 2969 \r\nL 2906 3500 \r\nL 3481 3500 \r\nL 3481 434 \r\nz\r\n\" id=\"DejaVuSans-67\" transform=\"scale(0.015625)\"/>\r\n       </defs>\r\n       <use xlink:href=\"#DejaVuSans-61\"/>\r\n       <use x=\"61.279297\" xlink:href=\"#DejaVuSans-67\"/>\r\n       <use x=\"124.755859\" xlink:href=\"#DejaVuSans-65\"/>\r\n      </g>\r\n     </g>\r\n    </g>\r\n    <g id=\"xtick_4\">\r\n     <g id=\"line2d_4\">\r\n      <g>\r\n       <use style=\"stroke:#000000;stroke-width:0.8;\" x=\"243.889322\" xlink:href=\"#m612b0d5537\" y=\"348.478125\"/>\r\n      </g>\r\n     </g>\r\n     <g id=\"text_4\">\r\n      <!-- country -->\r\n      <g transform=\"translate(228.709657 381.179659)rotate(-30)scale(0.1 -0.1)\">\r\n       <defs>\r\n        <path d=\"M 3122 3366 \r\nL 3122 2828 \r\nQ 2878 2963 2633 3030 \r\nQ 2388 3097 2138 3097 \r\nQ 1578 3097 1268 2742 \r\nQ 959 2388 959 1747 \r\nQ 959 1106 1268 751 \r\nQ 1578 397 2138 397 \r\nQ 2388 397 2633 464 \r\nQ 2878 531 3122 666 \r\nL 3122 134 \r\nQ 2881 22 2623 -34 \r\nQ 2366 -91 2075 -91 \r\nQ 1284 -91 818 406 \r\nQ 353 903 353 1747 \r\nQ 353 2603 823 3093 \r\nQ 1294 3584 2113 3584 \r\nQ 2378 3584 2631 3529 \r\nQ 2884 3475 3122 3366 \r\nz\r\n\" id=\"DejaVuSans-63\" transform=\"scale(0.015625)\"/>\r\n        <path d=\"M 1959 3097 \r\nQ 1497 3097 1228 2736 \r\nQ 959 2375 959 1747 \r\nQ 959 1119 1226 758 \r\nQ 1494 397 1959 397 \r\nQ 2419 397 2687 759 \r\nQ 2956 1122 2956 1747 \r\nQ 2956 2369 2687 2733 \r\nQ 2419 3097 1959 3097 \r\nz\r\nM 1959 3584 \r\nQ 2709 3584 3137 3096 \r\nQ 3566 2609 3566 1747 \r\nQ 3566 888 3137 398 \r\nQ 2709 -91 1959 -91 \r\nQ 1206 -91 779 398 \r\nQ 353 888 353 1747 \r\nQ 353 2609 779 3096 \r\nQ 1206 3584 1959 3584 \r\nz\r\n\" id=\"DejaVuSans-6f\" transform=\"scale(0.015625)\"/>\r\n        <path d=\"M 544 1381 \r\nL 544 3500 \r\nL 1119 3500 \r\nL 1119 1403 \r\nQ 1119 906 1312 657 \r\nQ 1506 409 1894 409 \r\nQ 2359 409 2629 706 \r\nQ 2900 1003 2900 1516 \r\nL 2900 3500 \r\nL 3475 3500 \r\nL 3475 0 \r\nL 2900 0 \r\nL 2900 538 \r\nQ 2691 219 2414 64 \r\nQ 2138 -91 1772 -91 \r\nQ 1169 -91 856 284 \r\nQ 544 659 544 1381 \r\nz\r\nM 1991 3584 \r\nL 1991 3584 \r\nz\r\n\" id=\"DejaVuSans-75\" transform=\"scale(0.015625)\"/>\r\n        <path d=\"M 2631 2963 \r\nQ 2534 3019 2420 3045 \r\nQ 2306 3072 2169 3072 \r\nQ 1681 3072 1420 2755 \r\nQ 1159 2438 1159 1844 \r\nL 1159 0 \r\nL 581 0 \r\nL 581 3500 \r\nL 1159 3500 \r\nL 1159 2956 \r\nQ 1341 3275 1631 3429 \r\nQ 1922 3584 2338 3584 \r\nQ 2397 3584 2469 3576 \r\nQ 2541 3569 2628 3553 \r\nL 2631 2963 \r\nz\r\n\" id=\"DejaVuSans-72\" transform=\"scale(0.015625)\"/>\r\n        <path d=\"M 2059 -325 \r\nQ 1816 -950 1584 -1140 \r\nQ 1353 -1331 966 -1331 \r\nL 506 -1331 \r\nL 506 -850 \r\nL 844 -850 \r\nQ 1081 -850 1212 -737 \r\nQ 1344 -625 1503 -206 \r\nL 1606 56 \r\nL 191 3500 \r\nL 800 3500 \r\nL 1894 763 \r\nL 2988 3500 \r\nL 3597 3500 \r\nL 2059 -325 \r\nz\r\n\" id=\"DejaVuSans-79\" transform=\"scale(0.015625)\"/>\r\n       </defs>\r\n       <use xlink:href=\"#DejaVuSans-63\"/>\r\n       <use x=\"54.980469\" xlink:href=\"#DejaVuSans-6f\"/>\r\n       <use x=\"116.162109\" xlink:href=\"#DejaVuSans-75\"/>\r\n       <use x=\"179.541016\" xlink:href=\"#DejaVuSans-6e\"/>\r\n       <use x=\"242.919922\" xlink:href=\"#DejaVuSans-74\"/>\r\n       <use x=\"282.128906\" xlink:href=\"#DejaVuSans-72\"/>\r\n       <use x=\"323.242188\" xlink:href=\"#DejaVuSans-79\"/>\r\n      </g>\r\n     </g>\r\n    </g>\r\n    <g id=\"xtick_5\">\r\n     <g id=\"line2d_5\">\r\n      <g>\r\n       <use style=\"stroke:#000000;stroke-width:0.8;\" x=\"303.409322\" xlink:href=\"#m612b0d5537\" y=\"348.478125\"/>\r\n      </g>\r\n     </g>\r\n     <g id=\"text_5\">\r\n      <!-- province -->\r\n      <g transform=\"translate(286.152549 383.578096)rotate(-30)scale(0.1 -0.1)\">\r\n       <defs>\r\n        <path d=\"M 191 3500 \r\nL 800 3500 \r\nL 1894 563 \r\nL 2988 3500 \r\nL 3597 3500 \r\nL 2284 0 \r\nL 1503 0 \r\nL 191 3500 \r\nz\r\n\" id=\"DejaVuSans-76\" transform=\"scale(0.015625)\"/>\r\n       </defs>\r\n       <use xlink:href=\"#DejaVuSans-70\"/>\r\n       <use x=\"63.476562\" xlink:href=\"#DejaVuSans-72\"/>\r\n       <use x=\"102.339844\" xlink:href=\"#DejaVuSans-6f\"/>\r\n       <use x=\"163.521484\" xlink:href=\"#DejaVuSans-76\"/>\r\n       <use x=\"222.701172\" xlink:href=\"#DejaVuSans-69\"/>\r\n       <use x=\"250.484375\" xlink:href=\"#DejaVuSans-6e\"/>\r\n       <use x=\"313.863281\" xlink:href=\"#DejaVuSans-63\"/>\r\n       <use x=\"368.84375\" xlink:href=\"#DejaVuSans-65\"/>\r\n      </g>\r\n     </g>\r\n    </g>\r\n    <g id=\"xtick_6\">\r\n     <g id=\"line2d_6\">\r\n      <g>\r\n       <use style=\"stroke:#000000;stroke-width:0.8;\" x=\"362.929322\" xlink:href=\"#m612b0d5537\" y=\"348.478125\"/>\r\n      </g>\r\n     </g>\r\n     <g id=\"text_6\">\r\n      <!-- city -->\r\n      <g transform=\"translate(356.464714 371.116377)rotate(-30)scale(0.1 -0.1)\">\r\n       <use xlink:href=\"#DejaVuSans-63\"/>\r\n       <use x=\"54.980469\" xlink:href=\"#DejaVuSans-69\"/>\r\n       <use x=\"82.763672\" xlink:href=\"#DejaVuSans-74\"/>\r\n       <use x=\"121.972656\" xlink:href=\"#DejaVuSans-79\"/>\r\n      </g>\r\n     </g>\r\n    </g>\r\n    <g id=\"xtick_7\">\r\n     <g id=\"line2d_7\">\r\n      <g>\r\n       <use style=\"stroke:#000000;stroke-width:0.8;\" x=\"422.449322\" xlink:href=\"#m612b0d5537\" y=\"348.478125\"/>\r\n      </g>\r\n     </g>\r\n     <g id=\"text_7\">\r\n      <!-- infection_case -->\r\n      <g transform=\"translate(392.82884 397.77419)rotate(-30)scale(0.1 -0.1)\">\r\n       <defs>\r\n        <path d=\"M 2375 4863 \r\nL 2375 4384 \r\nL 1825 4384 \r\nQ 1516 4384 1395 4259 \r\nQ 1275 4134 1275 3809 \r\nL 1275 3500 \r\nL 2222 3500 \r\nL 2222 3053 \r\nL 1275 3053 \r\nL 1275 0 \r\nL 697 0 \r\nL 697 3053 \r\nL 147 3053 \r\nL 147 3500 \r\nL 697 3500 \r\nL 697 3744 \r\nQ 697 4328 969 4595 \r\nQ 1241 4863 1831 4863 \r\nL 2375 4863 \r\nz\r\n\" id=\"DejaVuSans-66\" transform=\"scale(0.015625)\"/>\r\n       </defs>\r\n       <use xlink:href=\"#DejaVuSans-69\"/>\r\n       <use x=\"27.783203\" xlink:href=\"#DejaVuSans-6e\"/>\r\n       <use x=\"91.162109\" xlink:href=\"#DejaVuSans-66\"/>\r\n       <use x=\"126.367188\" xlink:href=\"#DejaVuSans-65\"/>\r\n       <use x=\"187.890625\" xlink:href=\"#DejaVuSans-63\"/>\r\n       <use x=\"242.871094\" xlink:href=\"#DejaVuSans-74\"/>\r\n       <use x=\"282.080078\" xlink:href=\"#DejaVuSans-69\"/>\r\n       <use x=\"309.863281\" xlink:href=\"#DejaVuSans-6f\"/>\r\n       <use x=\"371.044922\" xlink:href=\"#DejaVuSans-6e\"/>\r\n       <use x=\"434.423828\" xlink:href=\"#DejaVuSans-5f\"/>\r\n       <use x=\"484.423828\" xlink:href=\"#DejaVuSans-63\"/>\r\n       <use x=\"539.404297\" xlink:href=\"#DejaVuSans-61\"/>\r\n       <use x=\"600.683594\" xlink:href=\"#DejaVuSans-73\"/>\r\n       <use x=\"652.783203\" xlink:href=\"#DejaVuSans-65\"/>\r\n      </g>\r\n     </g>\r\n    </g>\r\n    <g id=\"xtick_8\">\r\n     <g id=\"line2d_8\">\r\n      <g>\r\n       <use style=\"stroke:#000000;stroke-width:0.8;\" x=\"481.969322\" xlink:href=\"#m612b0d5537\" y=\"348.478125\"/>\r\n      </g>\r\n     </g>\r\n     <g id=\"text_8\">\r\n      <!-- infected_by -->\r\n      <g transform=\"translate(458.174891 391.046846)rotate(-30)scale(0.1 -0.1)\">\r\n       <defs>\r\n        <path d=\"M 3116 1747 \r\nQ 3116 2381 2855 2742 \r\nQ 2594 3103 2138 3103 \r\nQ 1681 3103 1420 2742 \r\nQ 1159 2381 1159 1747 \r\nQ 1159 1113 1420 752 \r\nQ 1681 391 2138 391 \r\nQ 2594 391 2855 752 \r\nQ 3116 1113 3116 1747 \r\nz\r\nM 1159 2969 \r\nQ 1341 3281 1617 3432 \r\nQ 1894 3584 2278 3584 \r\nQ 2916 3584 3314 3078 \r\nQ 3713 2572 3713 1747 \r\nQ 3713 922 3314 415 \r\nQ 2916 -91 2278 -91 \r\nQ 1894 -91 1617 61 \r\nQ 1341 213 1159 525 \r\nL 1159 0 \r\nL 581 0 \r\nL 581 4863 \r\nL 1159 4863 \r\nL 1159 2969 \r\nz\r\n\" id=\"DejaVuSans-62\" transform=\"scale(0.015625)\"/>\r\n       </defs>\r\n       <use xlink:href=\"#DejaVuSans-69\"/>\r\n       <use x=\"27.783203\" xlink:href=\"#DejaVuSans-6e\"/>\r\n       <use x=\"91.162109\" xlink:href=\"#DejaVuSans-66\"/>\r\n       <use x=\"126.367188\" xlink:href=\"#DejaVuSans-65\"/>\r\n       <use x=\"187.890625\" xlink:href=\"#DejaVuSans-63\"/>\r\n       <use x=\"242.871094\" xlink:href=\"#DejaVuSans-74\"/>\r\n       <use x=\"282.080078\" xlink:href=\"#DejaVuSans-65\"/>\r\n       <use x=\"343.603516\" xlink:href=\"#DejaVuSans-64\"/>\r\n       <use x=\"407.080078\" xlink:href=\"#DejaVuSans-5f\"/>\r\n       <use x=\"457.080078\" xlink:href=\"#DejaVuSans-62\"/>\r\n       <use x=\"520.556641\" xlink:href=\"#DejaVuSans-79\"/>\r\n      </g>\r\n     </g>\r\n    </g>\r\n    <g id=\"xtick_9\">\r\n     <g id=\"line2d_9\">\r\n      <g>\r\n       <use style=\"stroke:#000000;stroke-width:0.8;\" x=\"541.489322\" xlink:href=\"#m612b0d5537\" y=\"348.478125\"/>\r\n      </g>\r\n     </g>\r\n     <g id=\"text_9\">\r\n      <!-- contact_number -->\r\n      <g transform=\"translate(507.530594 402.783565)rotate(-30)scale(0.1 -0.1)\">\r\n       <defs>\r\n        <path d=\"M 3328 2828 \r\nQ 3544 3216 3844 3400 \r\nQ 4144 3584 4550 3584 \r\nQ 5097 3584 5394 3201 \r\nQ 5691 2819 5691 2113 \r\nL 5691 0 \r\nL 5113 0 \r\nL 5113 2094 \r\nQ 5113 2597 4934 2840 \r\nQ 4756 3084 4391 3084 \r\nQ 3944 3084 3684 2787 \r\nQ 3425 2491 3425 1978 \r\nL 3425 0 \r\nL 2847 0 \r\nL 2847 2094 \r\nQ 2847 2600 2669 2842 \r\nQ 2491 3084 2119 3084 \r\nQ 1678 3084 1418 2786 \r\nQ 1159 2488 1159 1978 \r\nL 1159 0 \r\nL 581 0 \r\nL 581 3500 \r\nL 1159 3500 \r\nL 1159 2956 \r\nQ 1356 3278 1631 3431 \r\nQ 1906 3584 2284 3584 \r\nQ 2666 3584 2933 3390 \r\nQ 3200 3197 3328 2828 \r\nz\r\n\" id=\"DejaVuSans-6d\" transform=\"scale(0.015625)\"/>\r\n       </defs>\r\n       <use xlink:href=\"#DejaVuSans-63\"/>\r\n       <use x=\"54.980469\" xlink:href=\"#DejaVuSans-6f\"/>\r\n       <use x=\"116.162109\" xlink:href=\"#DejaVuSans-6e\"/>\r\n       <use x=\"179.541016\" xlink:href=\"#DejaVuSans-74\"/>\r\n       <use x=\"218.75\" xlink:href=\"#DejaVuSans-61\"/>\r\n       <use x=\"280.029297\" xlink:href=\"#DejaVuSans-63\"/>\r\n       <use x=\"335.009766\" xlink:href=\"#DejaVuSans-74\"/>\r\n       <use x=\"374.21875\" xlink:href=\"#DejaVuSans-5f\"/>\r\n       <use x=\"424.21875\" xlink:href=\"#DejaVuSans-6e\"/>\r\n       <use x=\"487.597656\" xlink:href=\"#DejaVuSans-75\"/>\r\n       <use x=\"550.976562\" xlink:href=\"#DejaVuSans-6d\"/>\r\n       <use x=\"648.388672\" xlink:href=\"#DejaVuSans-62\"/>\r\n       <use x=\"711.865234\" xlink:href=\"#DejaVuSans-65\"/>\r\n       <use x=\"773.388672\" xlink:href=\"#DejaVuSans-72\"/>\r\n      </g>\r\n     </g>\r\n    </g>\r\n    <g id=\"xtick_10\">\r\n     <g id=\"line2d_10\">\r\n      <g>\r\n       <use style=\"stroke:#000000;stroke-width:0.8;\" x=\"601.009322\" xlink:href=\"#m612b0d5537\" y=\"348.478125\"/>\r\n      </g>\r\n     </g>\r\n     <g id=\"text_10\">\r\n      <!-- symptom_onset_date -->\r\n      <g transform=\"translate(555.863305 415.701534)rotate(-30)scale(0.1 -0.1)\">\r\n       <use xlink:href=\"#DejaVuSans-73\"/>\r\n       <use x=\"52.099609\" xlink:href=\"#DejaVuSans-79\"/>\r\n       <use x=\"111.279297\" xlink:href=\"#DejaVuSans-6d\"/>\r\n       <use x=\"208.691406\" xlink:href=\"#DejaVuSans-70\"/>\r\n       <use x=\"272.167969\" xlink:href=\"#DejaVuSans-74\"/>\r\n       <use x=\"311.376953\" xlink:href=\"#DejaVuSans-6f\"/>\r\n       <use x=\"372.558594\" xlink:href=\"#DejaVuSans-6d\"/>\r\n       <use x=\"469.970703\" xlink:href=\"#DejaVuSans-5f\"/>\r\n       <use x=\"519.970703\" xlink:href=\"#DejaVuSans-6f\"/>\r\n       <use x=\"581.152344\" xlink:href=\"#DejaVuSans-6e\"/>\r\n       <use x=\"644.53125\" xlink:href=\"#DejaVuSans-73\"/>\r\n       <use x=\"696.630859\" xlink:href=\"#DejaVuSans-65\"/>\r\n       <use x=\"758.154297\" xlink:href=\"#DejaVuSans-74\"/>\r\n       <use x=\"797.363281\" xlink:href=\"#DejaVuSans-5f\"/>\r\n       <use x=\"847.363281\" xlink:href=\"#DejaVuSans-64\"/>\r\n       <use x=\"910.839844\" xlink:href=\"#DejaVuSans-61\"/>\r\n       <use x=\"972.119141\" xlink:href=\"#DejaVuSans-74\"/>\r\n       <use x=\"1011.328125\" xlink:href=\"#DejaVuSans-65\"/>\r\n      </g>\r\n     </g>\r\n    </g>\r\n    <g id=\"xtick_11\">\r\n     <g id=\"line2d_11\">\r\n      <g>\r\n       <use style=\"stroke:#000000;stroke-width:0.8;\" x=\"660.529322\" xlink:href=\"#m612b0d5537\" y=\"348.478125\"/>\r\n      </g>\r\n     </g>\r\n     <g id=\"text_11\">\r\n      <!-- confirmed_date -->\r\n      <g transform=\"translate(628.072607 401.04919)rotate(-30)scale(0.1 -0.1)\">\r\n       <use xlink:href=\"#DejaVuSans-63\"/>\r\n       <use x=\"54.980469\" xlink:href=\"#DejaVuSans-6f\"/>\r\n       <use x=\"116.162109\" xlink:href=\"#DejaVuSans-6e\"/>\r\n       <use x=\"179.541016\" xlink:href=\"#DejaVuSans-66\"/>\r\n       <use x=\"214.746094\" xlink:href=\"#DejaVuSans-69\"/>\r\n       <use x=\"242.529297\" xlink:href=\"#DejaVuSans-72\"/>\r\n       <use x=\"281.892578\" xlink:href=\"#DejaVuSans-6d\"/>\r\n       <use x=\"379.304688\" xlink:href=\"#DejaVuSans-65\"/>\r\n       <use x=\"440.828125\" xlink:href=\"#DejaVuSans-64\"/>\r\n       <use x=\"504.304688\" xlink:href=\"#DejaVuSans-5f\"/>\r\n       <use x=\"554.304688\" xlink:href=\"#DejaVuSans-64\"/>\r\n       <use x=\"617.78125\" xlink:href=\"#DejaVuSans-61\"/>\r\n       <use x=\"679.060547\" xlink:href=\"#DejaVuSans-74\"/>\r\n       <use x=\"718.269531\" xlink:href=\"#DejaVuSans-65\"/>\r\n      </g>\r\n     </g>\r\n    </g>\r\n    <g id=\"xtick_12\">\r\n     <g id=\"line2d_12\">\r\n      <g>\r\n       <use style=\"stroke:#000000;stroke-width:0.8;\" x=\"720.049322\" xlink:href=\"#m612b0d5537\" y=\"348.478125\"/>\r\n      </g>\r\n     </g>\r\n     <g id=\"text_12\">\r\n      <!-- released_date -->\r\n      <g transform=\"translate(690.892976 397.238252)rotate(-30)scale(0.1 -0.1)\">\r\n       <defs>\r\n        <path d=\"M 603 4863 \r\nL 1178 4863 \r\nL 1178 0 \r\nL 603 0 \r\nL 603 4863 \r\nz\r\n\" id=\"DejaVuSans-6c\" transform=\"scale(0.015625)\"/>\r\n       </defs>\r\n       <use xlink:href=\"#DejaVuSans-72\"/>\r\n       <use x=\"38.863281\" xlink:href=\"#DejaVuSans-65\"/>\r\n       <use x=\"100.386719\" xlink:href=\"#DejaVuSans-6c\"/>\r\n       <use x=\"128.169922\" xlink:href=\"#DejaVuSans-65\"/>\r\n       <use x=\"189.693359\" xlink:href=\"#DejaVuSans-61\"/>\r\n       <use x=\"250.972656\" xlink:href=\"#DejaVuSans-73\"/>\r\n       <use x=\"303.072266\" xlink:href=\"#DejaVuSans-65\"/>\r\n       <use x=\"364.595703\" xlink:href=\"#DejaVuSans-64\"/>\r\n       <use x=\"428.072266\" xlink:href=\"#DejaVuSans-5f\"/>\r\n       <use x=\"478.072266\" xlink:href=\"#DejaVuSans-64\"/>\r\n       <use x=\"541.548828\" xlink:href=\"#DejaVuSans-61\"/>\r\n       <use x=\"602.828125\" xlink:href=\"#DejaVuSans-74\"/>\r\n       <use x=\"642.037109\" xlink:href=\"#DejaVuSans-65\"/>\r\n      </g>\r\n     </g>\r\n    </g>\r\n    <g id=\"xtick_13\">\r\n     <g id=\"line2d_13\">\r\n      <g>\r\n       <use style=\"stroke:#000000;stroke-width:0.8;\" x=\"779.569322\" xlink:href=\"#m612b0d5537\" y=\"348.478125\"/>\r\n      </g>\r\n     </g>\r\n     <g id=\"text_13\">\r\n      <!-- deceased_date -->\r\n      <g transform=\"translate(748.168752 399.829659)rotate(-30)scale(0.1 -0.1)\">\r\n       <use xlink:href=\"#DejaVuSans-64\"/>\r\n       <use x=\"63.476562\" xlink:href=\"#DejaVuSans-65\"/>\r\n       <use x=\"125\" xlink:href=\"#DejaVuSans-63\"/>\r\n       <use x=\"179.980469\" xlink:href=\"#DejaVuSans-65\"/>\r\n       <use x=\"241.503906\" xlink:href=\"#DejaVuSans-61\"/>\r\n       <use x=\"302.783203\" xlink:href=\"#DejaVuSans-73\"/>\r\n       <use x=\"354.882812\" xlink:href=\"#DejaVuSans-65\"/>\r\n       <use x=\"416.40625\" xlink:href=\"#DejaVuSans-64\"/>\r\n       <use x=\"479.882812\" xlink:href=\"#DejaVuSans-5f\"/>\r\n       <use x=\"529.882812\" xlink:href=\"#DejaVuSans-64\"/>\r\n       <use x=\"593.359375\" xlink:href=\"#DejaVuSans-61\"/>\r\n       <use x=\"654.638672\" xlink:href=\"#DejaVuSans-74\"/>\r\n       <use x=\"693.847656\" xlink:href=\"#DejaVuSans-65\"/>\r\n      </g>\r\n     </g>\r\n    </g>\r\n    <g id=\"xtick_14\">\r\n     <g id=\"line2d_14\">\r\n      <g>\r\n       <use style=\"stroke:#000000;stroke-width:0.8;\" x=\"839.089322\" xlink:href=\"#m612b0d5537\" y=\"348.478125\"/>\r\n      </g>\r\n     </g>\r\n     <g id=\"text_14\">\r\n      <!-- state -->\r\n      <g transform=\"translate(829.500257 374.72419)rotate(-30)scale(0.1 -0.1)\">\r\n       <use xlink:href=\"#DejaVuSans-73\"/>\r\n       <use x=\"52.099609\" xlink:href=\"#DejaVuSans-74\"/>\r\n       <use x=\"91.308594\" xlink:href=\"#DejaVuSans-61\"/>\r\n       <use x=\"152.587891\" xlink:href=\"#DejaVuSans-74\"/>\r\n       <use x=\"191.796875\" xlink:href=\"#DejaVuSans-65\"/>\r\n      </g>\r\n     </g>\r\n    </g>\r\n    <g id=\"xtick_15\">\r\n     <g id=\"line2d_15\">\r\n      <g>\r\n       <use style=\"stroke:#000000;stroke-width:0.8;\" x=\"898.609322\" xlink:href=\"#m612b0d5537\" y=\"348.478125\"/>\r\n      </g>\r\n     </g>\r\n     <g id=\"text_15\">\r\n      <!-- province_population_in_M -->\r\n      <g transform=\"translate(844.062193 426.557002)rotate(-30)scale(0.1 -0.1)\">\r\n       <defs>\r\n        <path d=\"M 628 4666 \r\nL 1569 4666 \r\nL 2759 1491 \r\nL 3956 4666 \r\nL 4897 4666 \r\nL 4897 0 \r\nL 4281 0 \r\nL 4281 4097 \r\nL 3078 897 \r\nL 2444 897 \r\nL 1241 4097 \r\nL 1241 0 \r\nL 628 0 \r\nL 628 4666 \r\nz\r\n\" id=\"DejaVuSans-4d\" transform=\"scale(0.015625)\"/>\r\n       </defs>\r\n       <use xlink:href=\"#DejaVuSans-70\"/>\r\n       <use x=\"63.476562\" xlink:href=\"#DejaVuSans-72\"/>\r\n       <use x=\"102.339844\" xlink:href=\"#DejaVuSans-6f\"/>\r\n       <use x=\"163.521484\" xlink:href=\"#DejaVuSans-76\"/>\r\n       <use x=\"222.701172\" xlink:href=\"#DejaVuSans-69\"/>\r\n       <use x=\"250.484375\" xlink:href=\"#DejaVuSans-6e\"/>\r\n       <use x=\"313.863281\" xlink:href=\"#DejaVuSans-63\"/>\r\n       <use x=\"368.84375\" xlink:href=\"#DejaVuSans-65\"/>\r\n       <use x=\"430.367188\" xlink:href=\"#DejaVuSans-5f\"/>\r\n       <use x=\"480.367188\" xlink:href=\"#DejaVuSans-70\"/>\r\n       <use x=\"543.84375\" xlink:href=\"#DejaVuSans-6f\"/>\r\n       <use x=\"605.025391\" xlink:href=\"#DejaVuSans-70\"/>\r\n       <use x=\"668.501953\" xlink:href=\"#DejaVuSans-75\"/>\r\n       <use x=\"731.880859\" xlink:href=\"#DejaVuSans-6c\"/>\r\n       <use x=\"759.664062\" xlink:href=\"#DejaVuSans-61\"/>\r\n       <use x=\"820.943359\" xlink:href=\"#DejaVuSans-74\"/>\r\n       <use x=\"860.152344\" xlink:href=\"#DejaVuSans-69\"/>\r\n       <use x=\"887.935547\" xlink:href=\"#DejaVuSans-6f\"/>\r\n       <use x=\"949.117188\" xlink:href=\"#DejaVuSans-6e\"/>\r\n       <use x=\"1012.496094\" xlink:href=\"#DejaVuSans-5f\"/>\r\n       <use x=\"1062.496094\" xlink:href=\"#DejaVuSans-69\"/>\r\n       <use x=\"1090.279297\" xlink:href=\"#DejaVuSans-6e\"/>\r\n       <use x=\"1153.658203\" xlink:href=\"#DejaVuSans-5f\"/>\r\n       <use x=\"1203.658203\" xlink:href=\"#DejaVuSans-4d\"/>\r\n      </g>\r\n     </g>\r\n    </g>\r\n   </g>\r\n   <g id=\"matplotlib.axis_2\">\r\n    <g id=\"ytick_1\">\r\n     <g id=\"line2d_16\">\r\n      <defs>\r\n       <path d=\"M 0 0 \r\nL -3.5 0 \r\n\" id=\"md9a7c16db2\" style=\"stroke:#000000;stroke-width:0.8;\"/>\r\n      </defs>\r\n      <g>\r\n       <use style=\"stroke:#000000;stroke-width:0.8;\" x=\"35.569322\" xlink:href=\"#md9a7c16db2\" y=\"348.478125\"/>\r\n      </g>\r\n     </g>\r\n     <g id=\"text_16\">\r\n      <!-- 0 -->\r\n      <g transform=\"translate(22.019392 354.440596)rotate(-30)scale(0.1 -0.1)\">\r\n       <defs>\r\n        <path d=\"M 2034 4250 \r\nQ 1547 4250 1301 3770 \r\nQ 1056 3291 1056 2328 \r\nQ 1056 1369 1301 889 \r\nQ 1547 409 2034 409 \r\nQ 2525 409 2770 889 \r\nQ 3016 1369 3016 2328 \r\nQ 3016 3291 2770 3770 \r\nQ 2525 4250 2034 4250 \r\nz\r\nM 2034 4750 \r\nQ 2819 4750 3233 4129 \r\nQ 3647 3509 3647 2328 \r\nQ 3647 1150 3233 529 \r\nQ 2819 -91 2034 -91 \r\nQ 1250 -91 836 529 \r\nQ 422 1150 422 2328 \r\nQ 422 3509 836 4129 \r\nQ 1250 4750 2034 4750 \r\nz\r\n\" id=\"DejaVuSans-30\" transform=\"scale(0.015625)\"/>\r\n       </defs>\r\n       <use xlink:href=\"#DejaVuSans-30\"/>\r\n      </g>\r\n     </g>\r\n    </g>\r\n    <g id=\"ytick_2\">\r\n     <g id=\"line2d_17\">\r\n      <g>\r\n       <use style=\"stroke:#000000;stroke-width:0.8;\" x=\"35.569322\" xlink:href=\"#md9a7c16db2\" y=\"285.546891\"/>\r\n      </g>\r\n     </g>\r\n     <g id=\"text_17\">\r\n      <!-- 20 -->\r\n      <g transform=\"translate(16.509305 294.690612)rotate(-30)scale(0.1 -0.1)\">\r\n       <defs>\r\n        <path d=\"M 1228 531 \r\nL 3431 531 \r\nL 3431 0 \r\nL 469 0 \r\nL 469 531 \r\nQ 828 903 1448 1529 \r\nQ 2069 2156 2228 2338 \r\nQ 2531 2678 2651 2914 \r\nQ 2772 3150 2772 3378 \r\nQ 2772 3750 2511 3984 \r\nQ 2250 4219 1831 4219 \r\nQ 1534 4219 1204 4116 \r\nQ 875 4013 500 3803 \r\nL 500 4441 \r\nQ 881 4594 1212 4672 \r\nQ 1544 4750 1819 4750 \r\nQ 2544 4750 2975 4387 \r\nQ 3406 4025 3406 3419 \r\nQ 3406 3131 3298 2873 \r\nQ 3191 2616 2906 2266 \r\nQ 2828 2175 2409 1742 \r\nQ 1991 1309 1228 531 \r\nz\r\n\" id=\"DejaVuSans-32\" transform=\"scale(0.015625)\"/>\r\n       </defs>\r\n       <use xlink:href=\"#DejaVuSans-32\"/>\r\n       <use x=\"63.623047\" xlink:href=\"#DejaVuSans-30\"/>\r\n      </g>\r\n     </g>\r\n    </g>\r\n    <g id=\"ytick_3\">\r\n     <g id=\"line2d_18\">\r\n      <g>\r\n       <use style=\"stroke:#000000;stroke-width:0.8;\" x=\"35.569322\" xlink:href=\"#md9a7c16db2\" y=\"222.615657\"/>\r\n      </g>\r\n     </g>\r\n     <g id=\"text_18\">\r\n      <!-- 40 -->\r\n      <g transform=\"translate(16.509305 231.759378)rotate(-30)scale(0.1 -0.1)\">\r\n       <defs>\r\n        <path d=\"M 2419 4116 \r\nL 825 1625 \r\nL 2419 1625 \r\nL 2419 4116 \r\nz\r\nM 2253 4666 \r\nL 3047 4666 \r\nL 3047 1625 \r\nL 3713 1625 \r\nL 3713 1100 \r\nL 3047 1100 \r\nL 3047 0 \r\nL 2419 0 \r\nL 2419 1100 \r\nL 313 1100 \r\nL 313 1709 \r\nL 2253 4666 \r\nz\r\n\" id=\"DejaVuSans-34\" transform=\"scale(0.015625)\"/>\r\n       </defs>\r\n       <use xlink:href=\"#DejaVuSans-34\"/>\r\n       <use x=\"63.623047\" xlink:href=\"#DejaVuSans-30\"/>\r\n      </g>\r\n     </g>\r\n    </g>\r\n    <g id=\"ytick_4\">\r\n     <g id=\"line2d_19\">\r\n      <g>\r\n       <use style=\"stroke:#000000;stroke-width:0.8;\" x=\"35.569322\" xlink:href=\"#md9a7c16db2\" y=\"159.684423\"/>\r\n      </g>\r\n     </g>\r\n     <g id=\"text_19\">\r\n      <!-- 60 -->\r\n      <g transform=\"translate(16.509305 168.828144)rotate(-30)scale(0.1 -0.1)\">\r\n       <defs>\r\n        <path d=\"M 2113 2584 \r\nQ 1688 2584 1439 2293 \r\nQ 1191 2003 1191 1497 \r\nQ 1191 994 1439 701 \r\nQ 1688 409 2113 409 \r\nQ 2538 409 2786 701 \r\nQ 3034 994 3034 1497 \r\nQ 3034 2003 2786 2293 \r\nQ 2538 2584 2113 2584 \r\nz\r\nM 3366 4563 \r\nL 3366 3988 \r\nQ 3128 4100 2886 4159 \r\nQ 2644 4219 2406 4219 \r\nQ 1781 4219 1451 3797 \r\nQ 1122 3375 1075 2522 \r\nQ 1259 2794 1537 2939 \r\nQ 1816 3084 2150 3084 \r\nQ 2853 3084 3261 2657 \r\nQ 3669 2231 3669 1497 \r\nQ 3669 778 3244 343 \r\nQ 2819 -91 2113 -91 \r\nQ 1303 -91 875 529 \r\nQ 447 1150 447 2328 \r\nQ 447 3434 972 4092 \r\nQ 1497 4750 2381 4750 \r\nQ 2619 4750 2861 4703 \r\nQ 3103 4656 3366 4563 \r\nz\r\n\" id=\"DejaVuSans-36\" transform=\"scale(0.015625)\"/>\r\n       </defs>\r\n       <use xlink:href=\"#DejaVuSans-36\"/>\r\n       <use x=\"63.623047\" xlink:href=\"#DejaVuSans-30\"/>\r\n      </g>\r\n     </g>\r\n    </g>\r\n    <g id=\"ytick_5\">\r\n     <g id=\"line2d_20\">\r\n      <g>\r\n       <use style=\"stroke:#000000;stroke-width:0.8;\" x=\"35.569322\" xlink:href=\"#md9a7c16db2\" y=\"96.753189\"/>\r\n      </g>\r\n     </g>\r\n     <g id=\"text_20\">\r\n      <!-- 80 -->\r\n      <g transform=\"translate(16.509305 105.89691)rotate(-30)scale(0.1 -0.1)\">\r\n       <defs>\r\n        <path d=\"M 2034 2216 \r\nQ 1584 2216 1326 1975 \r\nQ 1069 1734 1069 1313 \r\nQ 1069 891 1326 650 \r\nQ 1584 409 2034 409 \r\nQ 2484 409 2743 651 \r\nQ 3003 894 3003 1313 \r\nQ 3003 1734 2745 1975 \r\nQ 2488 2216 2034 2216 \r\nz\r\nM 1403 2484 \r\nQ 997 2584 770 2862 \r\nQ 544 3141 544 3541 \r\nQ 544 4100 942 4425 \r\nQ 1341 4750 2034 4750 \r\nQ 2731 4750 3128 4425 \r\nQ 3525 4100 3525 3541 \r\nQ 3525 3141 3298 2862 \r\nQ 3072 2584 2669 2484 \r\nQ 3125 2378 3379 2068 \r\nQ 3634 1759 3634 1313 \r\nQ 3634 634 3220 271 \r\nQ 2806 -91 2034 -91 \r\nQ 1263 -91 848 271 \r\nQ 434 634 434 1313 \r\nQ 434 1759 690 2068 \r\nQ 947 2378 1403 2484 \r\nz\r\nM 1172 3481 \r\nQ 1172 3119 1398 2916 \r\nQ 1625 2713 2034 2713 \r\nQ 2441 2713 2670 2916 \r\nQ 2900 3119 2900 3481 \r\nQ 2900 3844 2670 4047 \r\nQ 2441 4250 2034 4250 \r\nQ 1625 4250 1398 4047 \r\nQ 1172 3844 1172 3481 \r\nz\r\n\" id=\"DejaVuSans-38\" transform=\"scale(0.015625)\"/>\r\n       </defs>\r\n       <use xlink:href=\"#DejaVuSans-38\"/>\r\n       <use x=\"63.623047\" xlink:href=\"#DejaVuSans-30\"/>\r\n      </g>\r\n     </g>\r\n    </g>\r\n    <g id=\"ytick_6\">\r\n     <g id=\"line2d_21\">\r\n      <g>\r\n       <use style=\"stroke:#000000;stroke-width:0.8;\" x=\"35.569322\" xlink:href=\"#md9a7c16db2\" y=\"33.821955\"/>\r\n      </g>\r\n     </g>\r\n     <g id=\"text_21\">\r\n      <!-- 100 -->\r\n      <g transform=\"translate(10.999219 46.146926)rotate(-30)scale(0.1 -0.1)\">\r\n       <defs>\r\n        <path d=\"M 794 531 \r\nL 1825 531 \r\nL 1825 4091 \r\nL 703 3866 \r\nL 703 4441 \r\nL 1819 4666 \r\nL 2450 4666 \r\nL 2450 531 \r\nL 3481 531 \r\nL 3481 0 \r\nL 794 0 \r\nL 794 531 \r\nz\r\n\" id=\"DejaVuSans-31\" transform=\"scale(0.015625)\"/>\r\n       </defs>\r\n       <use xlink:href=\"#DejaVuSans-31\"/>\r\n       <use x=\"63.623047\" xlink:href=\"#DejaVuSans-30\"/>\r\n       <use x=\"127.246094\" xlink:href=\"#DejaVuSans-30\"/>\r\n      </g>\r\n     </g>\r\n    </g>\r\n   </g>\r\n   <g id=\"patch_18\">\r\n    <path d=\"M 35.569322 348.478125 \r\nL 35.569322 22.318125 \r\n\" style=\"fill:none;stroke:#000000;stroke-linecap:square;stroke-linejoin:miter;stroke-width:0.8;\"/>\r\n   </g>\r\n   <g id=\"patch_19\">\r\n    <path d=\"M 928.369322 348.478125 \r\nL 928.369322 22.318125 \r\n\" style=\"fill:none;stroke:#000000;stroke-linecap:square;stroke-linejoin:miter;stroke-width:0.8;\"/>\r\n   </g>\r\n   <g id=\"patch_20\">\r\n    <path d=\"M 35.569322 348.478125 \r\nL 928.369322 348.478125 \r\n\" style=\"fill:none;stroke:#000000;stroke-linecap:square;stroke-linejoin:miter;stroke-width:0.8;\"/>\r\n   </g>\r\n   <g id=\"patch_21\">\r\n    <path d=\"M 35.569322 22.318125 \r\nL 928.369322 22.318125 \r\n\" style=\"fill:none;stroke:#000000;stroke-linecap:square;stroke-linejoin:miter;stroke-width:0.8;\"/>\r\n   </g>\r\n   <g id=\"text_22\">\r\n    <!-- 0.0% -->\r\n    <g transform=\"translate(52.626979 348.478125)scale(0.1 -0.1)\">\r\n     <defs>\r\n      <path d=\"M 684 794 \r\nL 1344 794 \r\nL 1344 0 \r\nL 684 0 \r\nL 684 794 \r\nz\r\n\" id=\"DejaVuSans-2e\" transform=\"scale(0.015625)\"/>\r\n      <path d=\"M 4653 2053 \r\nQ 4381 2053 4226 1822 \r\nQ 4072 1591 4072 1178 \r\nQ 4072 772 4226 539 \r\nQ 4381 306 4653 306 \r\nQ 4919 306 5073 539 \r\nQ 5228 772 5228 1178 \r\nQ 5228 1588 5073 1820 \r\nQ 4919 2053 4653 2053 \r\nz\r\nM 4653 2450 \r\nQ 5147 2450 5437 2106 \r\nQ 5728 1763 5728 1178 \r\nQ 5728 594 5436 251 \r\nQ 5144 -91 4653 -91 \r\nQ 4153 -91 3862 251 \r\nQ 3572 594 3572 1178 \r\nQ 3572 1766 3864 2108 \r\nQ 4156 2450 4653 2450 \r\nz\r\nM 1428 4353 \r\nQ 1159 4353 1004 4120 \r\nQ 850 3888 850 3481 \r\nQ 850 3069 1003 2837 \r\nQ 1156 2606 1428 2606 \r\nQ 1700 2606 1854 2837 \r\nQ 2009 3069 2009 3481 \r\nQ 2009 3884 1853 4118 \r\nQ 1697 4353 1428 4353 \r\nz\r\nM 4250 4750 \r\nL 4750 4750 \r\nL 1831 -91 \r\nL 1331 -91 \r\nL 4250 4750 \r\nz\r\nM 1428 4750 \r\nQ 1922 4750 2215 4408 \r\nQ 2509 4066 2509 3481 \r\nQ 2509 2891 2217 2550 \r\nQ 1925 2209 1428 2209 \r\nQ 931 2209 642 2551 \r\nQ 353 2894 353 3481 \r\nQ 353 4063 643 4406 \r\nQ 934 4750 1428 4750 \r\nz\r\n\" id=\"DejaVuSans-25\" transform=\"scale(0.015625)\"/>\r\n     </defs>\r\n     <use xlink:href=\"#DejaVuSans-30\"/>\r\n     <use x=\"63.623047\" xlink:href=\"#DejaVuSans-2e\"/>\r\n     <use x=\"95.410156\" xlink:href=\"#DejaVuSans-30\"/>\r\n     <use x=\"159.033203\" xlink:href=\"#DejaVuSans-25\"/>\r\n    </g>\r\n   </g>\r\n   <g id=\"text_23\">\r\n    <!-- 21.72% -->\r\n    <g transform=\"translate(105.784479 280.134805)scale(0.1 -0.1)\">\r\n     <defs>\r\n      <path d=\"M 525 4666 \r\nL 3525 4666 \r\nL 3525 4397 \r\nL 1831 0 \r\nL 1172 0 \r\nL 2766 4134 \r\nL 525 4134 \r\nL 525 4666 \r\nz\r\n\" id=\"DejaVuSans-37\" transform=\"scale(0.015625)\"/>\r\n     </defs>\r\n     <use xlink:href=\"#DejaVuSans-32\"/>\r\n     <use x=\"63.623047\" xlink:href=\"#DejaVuSans-31\"/>\r\n     <use x=\"127.246094\" xlink:href=\"#DejaVuSans-2e\"/>\r\n     <use x=\"159.033203\" xlink:href=\"#DejaVuSans-37\"/>\r\n     <use x=\"222.65625\" xlink:href=\"#DejaVuSans-32\"/>\r\n     <use x=\"286.279297\" xlink:href=\"#DejaVuSans-25\"/>\r\n    </g>\r\n   </g>\r\n   <g id=\"text_24\">\r\n    <!-- 26.72% -->\r\n    <g transform=\"translate(165.304479 264.401996)scale(0.1 -0.1)\">\r\n     <use xlink:href=\"#DejaVuSans-32\"/>\r\n     <use x=\"63.623047\" xlink:href=\"#DejaVuSans-36\"/>\r\n     <use x=\"127.246094\" xlink:href=\"#DejaVuSans-2e\"/>\r\n     <use x=\"159.033203\" xlink:href=\"#DejaVuSans-37\"/>\r\n     <use x=\"222.65625\" xlink:href=\"#DejaVuSans-32\"/>\r\n     <use x=\"286.279297\" xlink:href=\"#DejaVuSans-25\"/>\r\n    </g>\r\n   </g>\r\n   <g id=\"text_25\">\r\n    <!-- 0.0% -->\r\n    <g transform=\"translate(231.186979 348.478125)scale(0.1 -0.1)\">\r\n     <use xlink:href=\"#DejaVuSans-30\"/>\r\n     <use x=\"63.623047\" xlink:href=\"#DejaVuSans-2e\"/>\r\n     <use x=\"95.410156\" xlink:href=\"#DejaVuSans-30\"/>\r\n     <use x=\"159.033203\" xlink:href=\"#DejaVuSans-25\"/>\r\n    </g>\r\n   </g>\r\n   <g id=\"text_26\">\r\n    <!-- 0.0% -->\r\n    <g transform=\"translate(290.706979 348.478125)scale(0.1 -0.1)\">\r\n     <use xlink:href=\"#DejaVuSans-30\"/>\r\n     <use x=\"63.623047\" xlink:href=\"#DejaVuSans-2e\"/>\r\n     <use x=\"95.410156\" xlink:href=\"#DejaVuSans-30\"/>\r\n     <use x=\"159.033203\" xlink:href=\"#DejaVuSans-25\"/>\r\n    </g>\r\n   </g>\r\n   <g id=\"text_27\">\r\n    <!-- 1.82% -->\r\n    <g transform=\"translate(347.045729 342.751383)scale(0.1 -0.1)\">\r\n     <use xlink:href=\"#DejaVuSans-31\"/>\r\n     <use x=\"63.623047\" xlink:href=\"#DejaVuSans-2e\"/>\r\n     <use x=\"95.410156\" xlink:href=\"#DejaVuSans-38\"/>\r\n     <use x=\"159.033203\" xlink:href=\"#DejaVuSans-32\"/>\r\n     <use x=\"222.65625\" xlink:href=\"#DejaVuSans-25\"/>\r\n    </g>\r\n   </g>\r\n   <g id=\"text_28\">\r\n    <!-- 17.79% -->\r\n    <g transform=\"translate(403.384479 292.500792)scale(0.1 -0.1)\">\r\n     <defs>\r\n      <path d=\"M 703 97 \r\nL 703 672 \r\nQ 941 559 1184 500 \r\nQ 1428 441 1663 441 \r\nQ 2288 441 2617 861 \r\nQ 2947 1281 2994 2138 \r\nQ 2813 1869 2534 1725 \r\nQ 2256 1581 1919 1581 \r\nQ 1219 1581 811 2004 \r\nQ 403 2428 403 3163 \r\nQ 403 3881 828 4315 \r\nQ 1253 4750 1959 4750 \r\nQ 2769 4750 3195 4129 \r\nQ 3622 3509 3622 2328 \r\nQ 3622 1225 3098 567 \r\nQ 2575 -91 1691 -91 \r\nQ 1453 -91 1209 -44 \r\nQ 966 3 703 97 \r\nz\r\nM 1959 2075 \r\nQ 2384 2075 2632 2365 \r\nQ 2881 2656 2881 3163 \r\nQ 2881 3666 2632 3958 \r\nQ 2384 4250 1959 4250 \r\nQ 1534 4250 1286 3958 \r\nQ 1038 3666 1038 3163 \r\nQ 1038 2656 1286 2365 \r\nQ 1534 2075 1959 2075 \r\nz\r\n\" id=\"DejaVuSans-39\" transform=\"scale(0.015625)\"/>\r\n     </defs>\r\n     <use xlink:href=\"#DejaVuSans-31\"/>\r\n     <use x=\"63.623047\" xlink:href=\"#DejaVuSans-37\"/>\r\n     <use x=\"127.246094\" xlink:href=\"#DejaVuSans-2e\"/>\r\n     <use x=\"159.033203\" xlink:href=\"#DejaVuSans-37\"/>\r\n     <use x=\"222.65625\" xlink:href=\"#DejaVuSans-39\"/>\r\n     <use x=\"286.279297\" xlink:href=\"#DejaVuSans-25\"/>\r\n    </g>\r\n   </g>\r\n   <g id=\"text_29\">\r\n    <!-- 73.94% -->\r\n    <g transform=\"translate(462.904479 115.821353)scale(0.1 -0.1)\">\r\n     <defs>\r\n      <path d=\"M 2597 2516 \r\nQ 3050 2419 3304 2112 \r\nQ 3559 1806 3559 1356 \r\nQ 3559 666 3084 287 \r\nQ 2609 -91 1734 -91 \r\nQ 1441 -91 1130 -33 \r\nQ 819 25 488 141 \r\nL 488 750 \r\nQ 750 597 1062 519 \r\nQ 1375 441 1716 441 \r\nQ 2309 441 2620 675 \r\nQ 2931 909 2931 1356 \r\nQ 2931 1769 2642 2001 \r\nQ 2353 2234 1838 2234 \r\nL 1294 2234 \r\nL 1294 2753 \r\nL 1863 2753 \r\nQ 2328 2753 2575 2939 \r\nQ 2822 3125 2822 3475 \r\nQ 2822 3834 2567 4026 \r\nQ 2313 4219 1838 4219 \r\nQ 1578 4219 1281 4162 \r\nQ 984 4106 628 3988 \r\nL 628 4550 \r\nQ 988 4650 1302 4700 \r\nQ 1616 4750 1894 4750 \r\nQ 2613 4750 3031 4423 \r\nQ 3450 4097 3450 3541 \r\nQ 3450 3153 3228 2886 \r\nQ 3006 2619 2597 2516 \r\nz\r\n\" id=\"DejaVuSans-33\" transform=\"scale(0.015625)\"/>\r\n     </defs>\r\n     <use xlink:href=\"#DejaVuSans-37\"/>\r\n     <use x=\"63.623047\" xlink:href=\"#DejaVuSans-33\"/>\r\n     <use x=\"127.246094\" xlink:href=\"#DejaVuSans-2e\"/>\r\n     <use x=\"159.033203\" xlink:href=\"#DejaVuSans-39\"/>\r\n     <use x=\"222.65625\" xlink:href=\"#DejaVuSans-34\"/>\r\n     <use x=\"286.279297\" xlink:href=\"#DejaVuSans-25\"/>\r\n    </g>\r\n   </g>\r\n   <g id=\"text_30\">\r\n    <!-- 84.69% -->\r\n    <g transform=\"translate(522.424479 81.995814)scale(0.1 -0.1)\">\r\n     <use xlink:href=\"#DejaVuSans-38\"/>\r\n     <use x=\"63.623047\" xlink:href=\"#DejaVuSans-34\"/>\r\n     <use x=\"127.246094\" xlink:href=\"#DejaVuSans-2e\"/>\r\n     <use x=\"159.033203\" xlink:href=\"#DejaVuSans-36\"/>\r\n     <use x=\"222.65625\" xlink:href=\"#DejaVuSans-39\"/>\r\n     <use x=\"286.279297\" xlink:href=\"#DejaVuSans-25\"/>\r\n    </g>\r\n   </g>\r\n   <g id=\"text_31\">\r\n    <!-- 86.64% -->\r\n    <g transform=\"translate(581.944479 75.860019)scale(0.1 -0.1)\">\r\n     <use xlink:href=\"#DejaVuSans-38\"/>\r\n     <use x=\"63.623047\" xlink:href=\"#DejaVuSans-36\"/>\r\n     <use x=\"127.246094\" xlink:href=\"#DejaVuSans-2e\"/>\r\n     <use x=\"159.033203\" xlink:href=\"#DejaVuSans-36\"/>\r\n     <use x=\"222.65625\" xlink:href=\"#DejaVuSans-34\"/>\r\n     <use x=\"286.279297\" xlink:href=\"#DejaVuSans-25\"/>\r\n    </g>\r\n   </g>\r\n   <g id=\"text_32\">\r\n    <!-- 0.06% -->\r\n    <g transform=\"translate(644.645729 348.289331)scale(0.1 -0.1)\">\r\n     <use xlink:href=\"#DejaVuSans-30\"/>\r\n     <use x=\"63.623047\" xlink:href=\"#DejaVuSans-2e\"/>\r\n     <use x=\"95.410156\" xlink:href=\"#DejaVuSans-30\"/>\r\n     <use x=\"159.033203\" xlink:href=\"#DejaVuSans-36\"/>\r\n     <use x=\"222.65625\" xlink:href=\"#DejaVuSans-25\"/>\r\n    </g>\r\n   </g>\r\n   <g id=\"text_33\">\r\n    <!-- 69.27% -->\r\n    <g transform=\"translate(700.984479 130.515796)scale(0.1 -0.1)\">\r\n     <use xlink:href=\"#DejaVuSans-36\"/>\r\n     <use x=\"63.623047\" xlink:href=\"#DejaVuSans-39\"/>\r\n     <use x=\"127.246094\" xlink:href=\"#DejaVuSans-2e\"/>\r\n     <use x=\"159.033203\" xlink:href=\"#DejaVuSans-32\"/>\r\n     <use x=\"222.65625\" xlink:href=\"#DejaVuSans-37\"/>\r\n     <use x=\"286.279297\" xlink:href=\"#DejaVuSans-25\"/>\r\n    </g>\r\n   </g>\r\n   <g id=\"text_34\">\r\n    <!-- 98.72% -->\r\n    <g transform=\"translate(760.504479 37.849554)scale(0.1 -0.1)\">\r\n     <use xlink:href=\"#DejaVuSans-39\"/>\r\n     <use x=\"63.623047\" xlink:href=\"#DejaVuSans-38\"/>\r\n     <use x=\"127.246094\" xlink:href=\"#DejaVuSans-2e\"/>\r\n     <use x=\"159.033203\" xlink:href=\"#DejaVuSans-37\"/>\r\n     <use x=\"222.65625\" xlink:href=\"#DejaVuSans-32\"/>\r\n     <use x=\"286.279297\" xlink:href=\"#DejaVuSans-25\"/>\r\n    </g>\r\n   </g>\r\n   <g id=\"text_35\">\r\n    <!-- 0.0% -->\r\n    <g transform=\"translate(826.386979 348.478125)scale(0.1 -0.1)\">\r\n     <use xlink:href=\"#DejaVuSans-30\"/>\r\n     <use x=\"63.623047\" xlink:href=\"#DejaVuSans-2e\"/>\r\n     <use x=\"95.410156\" xlink:href=\"#DejaVuSans-30\"/>\r\n     <use x=\"159.033203\" xlink:href=\"#DejaVuSans-25\"/>\r\n    </g>\r\n   </g>\r\n   <g id=\"text_36\">\r\n    <!-- 0.0% -->\r\n    <g transform=\"translate(885.906979 348.478125)scale(0.1 -0.1)\">\r\n     <use xlink:href=\"#DejaVuSans-30\"/>\r\n     <use x=\"63.623047\" xlink:href=\"#DejaVuSans-2e\"/>\r\n     <use x=\"95.410156\" xlink:href=\"#DejaVuSans-30\"/>\r\n     <use x=\"159.033203\" xlink:href=\"#DejaVuSans-25\"/>\r\n    </g>\r\n   </g>\r\n   <g id=\"text_37\">\r\n    <!-- Visualize Missing Value -->\r\n    <g transform=\"translate(412.888697 16.318125)scale(0.12 -0.12)\">\r\n     <defs>\r\n      <path d=\"M 1831 0 \r\nL 50 4666 \r\nL 709 4666 \r\nL 2188 738 \r\nL 3669 4666 \r\nL 4325 4666 \r\nL 2547 0 \r\nL 1831 0 \r\nz\r\n\" id=\"DejaVuSans-56\" transform=\"scale(0.015625)\"/>\r\n      <path d=\"M 353 3500 \r\nL 3084 3500 \r\nL 3084 2975 \r\nL 922 459 \r\nL 3084 459 \r\nL 3084 0 \r\nL 275 0 \r\nL 275 525 \r\nL 2438 3041 \r\nL 353 3041 \r\nL 353 3500 \r\nz\r\n\" id=\"DejaVuSans-7a\" transform=\"scale(0.015625)\"/>\r\n      <path id=\"DejaVuSans-20\" transform=\"scale(0.015625)\"/>\r\n     </defs>\r\n     <use xlink:href=\"#DejaVuSans-56\"/>\r\n     <use x=\"66.158203\" xlink:href=\"#DejaVuSans-69\"/>\r\n     <use x=\"93.941406\" xlink:href=\"#DejaVuSans-73\"/>\r\n     <use x=\"146.041016\" xlink:href=\"#DejaVuSans-75\"/>\r\n     <use x=\"209.419922\" xlink:href=\"#DejaVuSans-61\"/>\r\n     <use x=\"270.699219\" xlink:href=\"#DejaVuSans-6c\"/>\r\n     <use x=\"298.482422\" xlink:href=\"#DejaVuSans-69\"/>\r\n     <use x=\"326.265625\" xlink:href=\"#DejaVuSans-7a\"/>\r\n     <use x=\"378.755859\" xlink:href=\"#DejaVuSans-65\"/>\r\n     <use x=\"440.279297\" xlink:href=\"#DejaVuSans-20\"/>\r\n     <use x=\"472.066406\" xlink:href=\"#DejaVuSans-4d\"/>\r\n     <use x=\"558.345703\" xlink:href=\"#DejaVuSans-69\"/>\r\n     <use x=\"586.128906\" xlink:href=\"#DejaVuSans-73\"/>\r\n     <use x=\"638.228516\" xlink:href=\"#DejaVuSans-73\"/>\r\n     <use x=\"690.328125\" xlink:href=\"#DejaVuSans-69\"/>\r\n     <use x=\"718.111328\" xlink:href=\"#DejaVuSans-6e\"/>\r\n     <use x=\"781.490234\" xlink:href=\"#DejaVuSans-67\"/>\r\n     <use x=\"844.966797\" xlink:href=\"#DejaVuSans-20\"/>\r\n     <use x=\"876.753906\" xlink:href=\"#DejaVuSans-56\"/>\r\n     <use x=\"937.412109\" xlink:href=\"#DejaVuSans-61\"/>\r\n     <use x=\"998.691406\" xlink:href=\"#DejaVuSans-6c\"/>\r\n     <use x=\"1026.474609\" xlink:href=\"#DejaVuSans-75\"/>\r\n     <use x=\"1089.853516\" xlink:href=\"#DejaVuSans-65\"/>\r\n    </g>\r\n   </g>\r\n   <g id=\"legend_1\">\r\n    <g id=\"patch_22\">\r\n     <path d=\"M 42.569322 44.99625 \r\nL 171.71151 44.99625 \r\nQ 173.71151 44.99625 173.71151 42.99625 \r\nL 173.71151 29.318125 \r\nQ 173.71151 27.318125 171.71151 27.318125 \r\nL 42.569322 27.318125 \r\nQ 40.569322 27.318125 40.569322 29.318125 \r\nL 40.569322 42.99625 \r\nQ 40.569322 44.99625 42.569322 44.99625 \r\nz\r\n\" style=\"fill:#ffffff;opacity:0.8;stroke:#cccccc;stroke-linejoin:miter;\"/>\r\n    </g>\r\n    <g id=\"patch_23\">\r\n     <path d=\"M 44.569322 38.916562 \r\nL 64.569322 38.916562 \r\nL 64.569322 31.916562 \r\nL 44.569322 31.916562 \r\nz\r\n\" style=\"fill:#1f77b4;\"/>\r\n    </g>\r\n    <g id=\"text_38\">\r\n     <!-- Missing-Percentage -->\r\n     <g transform=\"translate(72.569322 38.916562)scale(0.1 -0.1)\">\r\n      <defs>\r\n       <path d=\"M 313 2009 \r\nL 1997 2009 \r\nL 1997 1497 \r\nL 313 1497 \r\nL 313 2009 \r\nz\r\n\" id=\"DejaVuSans-2d\" transform=\"scale(0.015625)\"/>\r\n       <path d=\"M 1259 4147 \r\nL 1259 2394 \r\nL 2053 2394 \r\nQ 2494 2394 2734 2622 \r\nQ 2975 2850 2975 3272 \r\nQ 2975 3691 2734 3919 \r\nQ 2494 4147 2053 4147 \r\nL 1259 4147 \r\nz\r\nM 628 4666 \r\nL 2053 4666 \r\nQ 2838 4666 3239 4311 \r\nQ 3641 3956 3641 3272 \r\nQ 3641 2581 3239 2228 \r\nQ 2838 1875 2053 1875 \r\nL 1259 1875 \r\nL 1259 0 \r\nL 628 0 \r\nL 628 4666 \r\nz\r\n\" id=\"DejaVuSans-50\" transform=\"scale(0.015625)\"/>\r\n      </defs>\r\n      <use xlink:href=\"#DejaVuSans-4d\"/>\r\n      <use x=\"86.279297\" xlink:href=\"#DejaVuSans-69\"/>\r\n      <use x=\"114.0625\" xlink:href=\"#DejaVuSans-73\"/>\r\n      <use x=\"166.162109\" xlink:href=\"#DejaVuSans-73\"/>\r\n      <use x=\"218.261719\" xlink:href=\"#DejaVuSans-69\"/>\r\n      <use x=\"246.044922\" xlink:href=\"#DejaVuSans-6e\"/>\r\n      <use x=\"309.423828\" xlink:href=\"#DejaVuSans-67\"/>\r\n      <use x=\"372.900391\" xlink:href=\"#DejaVuSans-2d\"/>\r\n      <use x=\"408.984375\" xlink:href=\"#DejaVuSans-50\"/>\r\n      <use x=\"465.662109\" xlink:href=\"#DejaVuSans-65\"/>\r\n      <use x=\"527.185547\" xlink:href=\"#DejaVuSans-72\"/>\r\n      <use x=\"566.048828\" xlink:href=\"#DejaVuSans-63\"/>\r\n      <use x=\"621.029297\" xlink:href=\"#DejaVuSans-65\"/>\r\n      <use x=\"682.552734\" xlink:href=\"#DejaVuSans-6e\"/>\r\n      <use x=\"745.931641\" xlink:href=\"#DejaVuSans-74\"/>\r\n      <use x=\"785.140625\" xlink:href=\"#DejaVuSans-61\"/>\r\n      <use x=\"846.419922\" xlink:href=\"#DejaVuSans-67\"/>\r\n      <use x=\"909.896484\" xlink:href=\"#DejaVuSans-65\"/>\r\n     </g>\r\n    </g>\r\n   </g>\r\n  </g>\r\n </g>\r\n <defs>\r\n  <clipPath id=\"pade18c1f49\">\r\n   <rect height=\"326.16\" width=\"892.8\" x=\"35.569322\" y=\"22.318125\"/>\r\n  </clipPath>\r\n </defs>\r\n</svg>\r\n",
      "image/png": "[encoded data removed]"
     },
     "metadata": {
      "needs_background": "light"
     }
    }
   ],
   "source": [
    "barchart = missing_df.plot.bar(y='missing_percentage', figsize = (16,6), label = 'Missing-Percentage')\n",
    "barchart.tick_params(labelrotation=30)\n",
    "plt.title('Visualize Missing Value')\n",
    "for index, percentage in enumerate(missing_percentage):\n",
    "    barchart.text(index, percentage, str(percentage) + '%', horizontalalignment = 'center')"
   ]
  },
  {
   "cell_type": "code",
   "execution_count": 5,
   "metadata": {},
   "outputs": [],
   "source": [
    "# South Korea 2020 population is estimated at 51,269,185 people at mid year according to UN data.\r\n",
    "SK_TTL_POP = 51269185"
   ]
  },
  {
   "source": [
    "<font size=4 color='yellow'>\n",
    "#Convert datetime<br>\n",
    "<font size=4 color='white'>\n",
    "A quick check on the ones don't have a confirmed date"
   ],
   "cell_type": "markdown",
   "metadata": {}
  },
  {
   "cell_type": "code",
   "execution_count": 57,
   "metadata": {},
   "outputs": [
    {
     "output_type": "execute_result",
     "data": {
      "text/plain": [
       "      patient_id     sex  age country          province       city  \\\n",
       "4730  6011000051  female  40s   Korea  Gyeongsangbuk-do  Andong-si   \n",
       "4731  6011000052  female   0s   Korea  Gyeongsangbuk-do  Andong-si   \n",
       "4732  6011000053  female  10s   Korea  Gyeongsangbuk-do  Andong-si   \n",
       "\n",
       "     infection_case infected_by contact_number symptom_onset_date  \\\n",
       "4730            etc         NaN            NaN                NaN   \n",
       "4731            etc         NaN            NaN                NaN   \n",
       "4732            etc         NaN            NaN         2020-04-15   \n",
       "\n",
       "     confirmed_date released_date deceased_date     state  \\\n",
       "4730            NaN           NaN           NaN  released   \n",
       "4731            NaN           NaN           NaN  released   \n",
       "4732            NaN           NaN           NaN  released   \n",
       "\n",
       "      province_population_in_M  \n",
       "4730                      2.67  \n",
       "4731                      2.67  \n",
       "4732                      2.67  "
      ],
      "text/html": "<div>\n<style scoped>\n    .dataframe tbody tr th:only-of-type {\n        vertical-align: middle;\n    }\n\n    .dataframe tbody tr th {\n        vertical-align: top;\n    }\n\n    .dataframe thead th {\n        text-align: right;\n    }\n</style>\n<table border=\"1\" class=\"dataframe\">\n  <thead>\n    <tr style=\"text-align: right;\">\n      <th></th>\n      <th>patient_id</th>\n      <th>sex</th>\n      <th>age</th>\n      <th>country</th>\n      <th>province</th>\n      <th>city</th>\n      <th>infection_case</th>\n      <th>infected_by</th>\n      <th>contact_number</th>\n      <th>symptom_onset_date</th>\n      <th>confirmed_date</th>\n      <th>released_date</th>\n      <th>deceased_date</th>\n      <th>state</th>\n      <th>province_population_in_M</th>\n    </tr>\n  </thead>\n  <tbody>\n    <tr>\n      <th>4730</th>\n      <td>6011000051</td>\n      <td>female</td>\n      <td>40s</td>\n      <td>Korea</td>\n      <td>Gyeongsangbuk-do</td>\n      <td>Andong-si</td>\n      <td>etc</td>\n      <td>NaN</td>\n      <td>NaN</td>\n      <td>NaN</td>\n      <td>NaN</td>\n      <td>NaN</td>\n      <td>NaN</td>\n      <td>released</td>\n      <td>2.67</td>\n    </tr>\n    <tr>\n      <th>4731</th>\n      <td>6011000052</td>\n      <td>female</td>\n      <td>0s</td>\n      <td>Korea</td>\n      <td>Gyeongsangbuk-do</td>\n      <td>Andong-si</td>\n      <td>etc</td>\n      <td>NaN</td>\n      <td>NaN</td>\n      <td>NaN</td>\n      <td>NaN</td>\n      <td>NaN</td>\n      <td>NaN</td>\n      <td>released</td>\n      <td>2.67</td>\n    </tr>\n    <tr>\n      <th>4732</th>\n      <td>6011000053</td>\n      <td>female</td>\n      <td>10s</td>\n      <td>Korea</td>\n      <td>Gyeongsangbuk-do</td>\n      <td>Andong-si</td>\n      <td>etc</td>\n      <td>NaN</td>\n      <td>NaN</td>\n      <td>2020-04-15</td>\n      <td>NaN</td>\n      <td>NaN</td>\n      <td>NaN</td>\n      <td>released</td>\n      <td>2.67</td>\n    </tr>\n  </tbody>\n</table>\n</div>"
     },
     "metadata": {},
     "execution_count": 57
    }
   ],
   "source": [
    "df[df['confirmed_date'].isnull()]"
   ]
  },
  {
   "cell_type": "code",
   "execution_count": 59,
   "metadata": {},
   "outputs": [
    {
     "output_type": "stream",
     "name": "stdout",
     "text": [
      "<class 'pandas.core.frame.DataFrame'>\nInt64Index: 5162 entries, 0 to 5164\nData columns (total 15 columns):\n #   Column                    Non-Null Count  Dtype         \n---  ------                    --------------  -----         \n 0   patient_id                5162 non-null   int64         \n 1   sex                       4040 non-null   object        \n 2   age                       3782 non-null   object        \n 3   country                   5162 non-null   object        \n 4   province                  5162 non-null   object        \n 5   city                      5068 non-null   object        \n 6   infection_case            4243 non-null   object        \n 7   infected_by               1346 non-null   object        \n 8   contact_number            791 non-null    object        \n 9   symptom_onset_date        688 non-null    datetime64[ns]\n 10  confirmed_date            5162 non-null   datetime64[ns]\n 11  released_date             1587 non-null   datetime64[ns]\n 12  deceased_date             66 non-null     datetime64[ns]\n 13  state                     5162 non-null   object        \n 14  province_population_in_M  5162 non-null   float64       \ndtypes: datetime64[ns](4), float64(1), int64(1), object(9)\nmemory usage: 645.2+ KB\nNone\n"
     ]
    }
   ],
   "source": [
    "df.dropna(subset=['confirmed_date'], inplace = True)\n",
    "df['symptom_onset_date'] = pd.to_datetime(df['symptom_onset_date'], format = '%Y-%m-%d', errors = 'coerce')\n",
    "df['confirmed_date'] = pd.to_datetime(df['confirmed_date'], format = '%Y-%m-%d')\n",
    "df['released_date'] = pd.to_datetime(df['released_date'], format = '%Y-%m-%d')\n",
    "df['deceased_date'] = pd.to_datetime(df['deceased_date'], format = '%Y-%m-%d')\n",
    "print(df.info())"
   ]
  },
  {
   "source": [
    "<font size=4 color='yellow'>\n",
    "# Take a look at the date range of the dataset"
   ],
   "cell_type": "markdown",
   "metadata": {}
  },
  {
   "cell_type": "code",
   "execution_count": 7,
   "metadata": {},
   "outputs": [
    {
     "output_type": "stream",
     "name": "stdout",
     "text": [
      "Earliest date of confirmed case: 2020-01-20\nLatest date of confirmed case: 2020-06-30\n"
     ]
    }
   ],
   "source": [
    "confirmed_date_min = min(df['confirmed_date'].dt.date)\n",
    "confirmed_date_max = max(df['confirmed_date'].dt.date)\n",
    "print(f'Earliest date of confirmed case: {confirmed_date_min}')\n",
    "print(f'Latest date of confirmed case: {confirmed_date_max}')"
   ]
  },
  {
   "source": [
    "<font color='yellow' size = 6>\n",
    "Part II EDA<br>\n",
    "<font color='yellow' size = 4>\n",
    "# Take a look at distribution by Age"
   ],
   "cell_type": "markdown",
   "metadata": {}
  },
  {
   "cell_type": "code",
   "execution_count": 64,
   "metadata": {},
   "outputs": [
    {
     "output_type": "display_data",
     "data": {
      "application/vnd.plotly.v1+json": {
       "config": {
        "plotlyServerURL": "https://plot.ly"
       },
       "data": [
        {
         "alignmentgroup": "True",
         "hovertemplate": "variable=age<br>index=%{x}<br>value=%{y}<extra></extra>",
         "legendgroup": "age",
         "marker": {
          "color": "#636efa"
         },
         "name": "age",
         "offsetgroup": "age",
         "orientation": "v",
         "showlegend": true,
         "textposition": "auto",
         "type": "bar",
         "x": [
          "NA",
          "20s",
          "50s",
          "30s",
          "40s",
          "60s",
          "70s",
          "10s",
          "80s",
          "0s",
          "90s",
          "100s"
         ],
         "xaxis": "x",
         "y": [
          1380,
          899,
          667,
          523,
          517,
          482,
          232,
          177,
          170,
          65,
          49,
          1
         ],
         "yaxis": "y"
        }
       ],
       "layout": {
        "barmode": "relative",
        "legend": {
         "title": {
          "text": "variable"
         },
         "tracegroupgap": 0
        },
        "template": {
         "data": {
          "bar": [
           {
            "error_x": {
             "color": "#2a3f5f"
            },
            "error_y": {
             "color": "#2a3f5f"
            },
            "marker": {
             "line": {
              "color": "#E5ECF6",
              "width": 0.5
             }
            },
            "type": "bar"
           }
          ],
          "barpolar": [
           {
            "marker": {
             "line": {
              "color": "#E5ECF6",
              "width": 0.5
             }
            },
            "type": "barpolar"
           }
          ],
          "carpet": [
           {
            "aaxis": {
             "endlinecolor": "#2a3f5f",
             "gridcolor": "white",
             "linecolor": "white",
             "minorgridcolor": "white",
             "startlinecolor": "#2a3f5f"
            },
            "baxis": {
             "endlinecolor": "#2a3f5f",
             "gridcolor": "white",
             "linecolor": "white",
             "minorgridcolor": "white",
             "startlinecolor": "#2a3f5f"
            },
            "type": "carpet"
           }
          ],
          "choropleth": [
           {
            "colorbar": {
             "outlinewidth": 0,
             "ticks": ""
            },
            "type": "choropleth"
           }
          ],
          "contour": [
           {
            "colorbar": {
             "outlinewidth": 0,
             "ticks": ""
            },
            "colorscale": [
             [
              0,
              "#0d0887"
             ],
             [
              0.1111111111111111,
              "#46039f"
             ],
             [
              0.2222222222222222,
              "#7201a8"
             ],
             [
              0.3333333333333333,
              "#9c179e"
             ],
             [
              0.4444444444444444,
              "#bd3786"
             ],
             [
              0.5555555555555556,
              "#d8576b"
             ],
             [
              0.6666666666666666,
              "#ed7953"
             ],
             [
              0.7777777777777778,
              "#fb9f3a"
             ],
             [
              0.8888888888888888,
              "#fdca26"
             ],
             [
              1,
              "#f0f921"
             ]
            ],
            "type": "contour"
           }
          ],
          "contourcarpet": [
           {
            "colorbar": {
             "outlinewidth": 0,
             "ticks": ""
            },
            "type": "contourcarpet"
           }
          ],
          "heatmap": [
           {
            "colorbar": {
             "outlinewidth": 0,
             "ticks": ""
            },
            "colorscale": [
             [
              0,
              "#0d0887"
             ],
             [
              0.1111111111111111,
              "#46039f"
             ],
             [
              0.2222222222222222,
              "#7201a8"
             ],
             [
              0.3333333333333333,
              "#9c179e"
             ],
             [
              0.4444444444444444,
              "#bd3786"
             ],
             [
              0.5555555555555556,
              "#d8576b"
             ],
             [
              0.6666666666666666,
              "#ed7953"
             ],
             [
              0.7777777777777778,
              "#fb9f3a"
             ],
             [
              0.8888888888888888,
              "#fdca26"
             ],
             [
              1,
              "#f0f921"
             ]
            ],
            "type": "heatmap"
           }
          ],
          "heatmapgl": [
           {
            "colorbar": {
             "outlinewidth": 0,
             "ticks": ""
            },
            "colorscale": [
             [
              0,
              "#0d0887"
             ],
             [
              0.1111111111111111,
              "#46039f"
             ],
             [
              0.2222222222222222,
              "#7201a8"
             ],
             [
              0.3333333333333333,
              "#9c179e"
             ],
             [
              0.4444444444444444,
              "#bd3786"
             ],
             [
              0.5555555555555556,
              "#d8576b"
             ],
             [
              0.6666666666666666,
              "#ed7953"
             ],
             [
              0.7777777777777778,
              "#fb9f3a"
             ],
             [
              0.8888888888888888,
              "#fdca26"
             ],
             [
              1,
              "#f0f921"
             ]
            ],
            "type": "heatmapgl"
           }
          ],
          "histogram": [
           {
            "marker": {
             "colorbar": {
              "outlinewidth": 0,
              "ticks": ""
             }
            },
            "type": "histogram"
           }
          ],
          "histogram2d": [
           {
            "colorbar": {
             "outlinewidth": 0,
             "ticks": ""
            },
            "colorscale": [
             [
              0,
              "#0d0887"
             ],
             [
              0.1111111111111111,
              "#46039f"
             ],
             [
              0.2222222222222222,
              "#7201a8"
             ],
             [
              0.3333333333333333,
              "#9c179e"
             ],
             [
              0.4444444444444444,
              "#bd3786"
             ],
             [
              0.5555555555555556,
              "#d8576b"
             ],
             [
              0.6666666666666666,
              "#ed7953"
             ],
             [
              0.7777777777777778,
              "#fb9f3a"
             ],
             [
              0.8888888888888888,
              "#fdca26"
             ],
             [
              1,
              "#f0f921"
             ]
            ],
            "type": "histogram2d"
           }
          ],
          "histogram2dcontour": [
           {
            "colorbar": {
             "outlinewidth": 0,
             "ticks": ""
            },
            "colorscale": [
             [
              0,
              "#0d0887"
             ],
             [
              0.1111111111111111,
              "#46039f"
             ],
             [
              0.2222222222222222,
              "#7201a8"
             ],
             [
              0.3333333333333333,
              "#9c179e"
             ],
             [
              0.4444444444444444,
              "#bd3786"
             ],
             [
              0.5555555555555556,
              "#d8576b"
             ],
             [
              0.6666666666666666,
              "#ed7953"
             ],
             [
              0.7777777777777778,
              "#fb9f3a"
             ],
             [
              0.8888888888888888,
              "#fdca26"
             ],
             [
              1,
              "#f0f921"
             ]
            ],
            "type": "histogram2dcontour"
           }
          ],
          "mesh3d": [
           {
            "colorbar": {
             "outlinewidth": 0,
             "ticks": ""
            },
            "type": "mesh3d"
           }
          ],
          "parcoords": [
           {
            "line": {
             "colorbar": {
              "outlinewidth": 0,
              "ticks": ""
             }
            },
            "type": "parcoords"
           }
          ],
          "pie": [
           {
            "automargin": true,
            "type": "pie"
           }
          ],
          "scatter": [
           {
            "marker": {
             "colorbar": {
              "outlinewidth": 0,
              "ticks": ""
             }
            },
            "type": "scatter"
           }
          ],
          "scatter3d": [
           {
            "line": {
             "colorbar": {
              "outlinewidth": 0,
              "ticks": ""
             }
            },
            "marker": {
             "colorbar": {
              "outlinewidth": 0,
              "ticks": ""
             }
            },
            "type": "scatter3d"
           }
          ],
          "scattercarpet": [
           {
            "marker": {
             "colorbar": {
              "outlinewidth": 0,
              "ticks": ""
             }
            },
            "type": "scattercarpet"
           }
          ],
          "scattergeo": [
           {
            "marker": {
             "colorbar": {
              "outlinewidth": 0,
              "ticks": ""
             }
            },
            "type": "scattergeo"
           }
          ],
          "scattergl": [
           {
            "marker": {
             "colorbar": {
              "outlinewidth": 0,
              "ticks": ""
             }
            },
            "type": "scattergl"
           }
          ],
          "scattermapbox": [
           {
            "marker": {
             "colorbar": {
              "outlinewidth": 0,
              "ticks": ""
             }
            },
            "type": "scattermapbox"
           }
          ],
          "scatterpolar": [
           {
            "marker": {
             "colorbar": {
              "outlinewidth": 0,
              "ticks": ""
             }
            },
            "type": "scatterpolar"
           }
          ],
          "scatterpolargl": [
           {
            "marker": {
             "colorbar": {
              "outlinewidth": 0,
              "ticks": ""
             }
            },
            "type": "scatterpolargl"
           }
          ],
          "scatterternary": [
           {
            "marker": {
             "colorbar": {
              "outlinewidth": 0,
              "ticks": ""
             }
            },
            "type": "scatterternary"
           }
          ],
          "surface": [
           {
            "colorbar": {
             "outlinewidth": 0,
             "ticks": ""
            },
            "colorscale": [
             [
              0,
              "#0d0887"
             ],
             [
              0.1111111111111111,
              "#46039f"
             ],
             [
              0.2222222222222222,
              "#7201a8"
             ],
             [
              0.3333333333333333,
              "#9c179e"
             ],
             [
              0.4444444444444444,
              "#bd3786"
             ],
             [
              0.5555555555555556,
              "#d8576b"
             ],
             [
              0.6666666666666666,
              "#ed7953"
             ],
             [
              0.7777777777777778,
              "#fb9f3a"
             ],
             [
              0.8888888888888888,
              "#fdca26"
             ],
             [
              1,
              "#f0f921"
             ]
            ],
            "type": "surface"
           }
          ],
          "table": [
           {
            "cells": {
             "fill": {
              "color": "#EBF0F8"
             },
             "line": {
              "color": "white"
             }
            },
            "header": {
             "fill": {
              "color": "#C8D4E3"
             },
             "line": {
              "color": "white"
             }
            },
            "type": "table"
           }
          ]
         },
         "layout": {
          "annotationdefaults": {
           "arrowcolor": "#2a3f5f",
           "arrowhead": 0,
           "arrowwidth": 1
          },
          "autotypenumbers": "strict",
          "coloraxis": {
           "colorbar": {
            "outlinewidth": 0,
            "ticks": ""
           }
          },
          "colorscale": {
           "diverging": [
            [
             0,
             "#8e0152"
            ],
            [
             0.1,
             "#c51b7d"
            ],
            [
             0.2,
             "#de77ae"
            ],
            [
             0.3,
             "#f1b6da"
            ],
            [
             0.4,
             "#fde0ef"
            ],
            [
             0.5,
             "#f7f7f7"
            ],
            [
             0.6,
             "#e6f5d0"
            ],
            [
             0.7,
             "#b8e186"
            ],
            [
             0.8,
             "#7fbc41"
            ],
            [
             0.9,
             "#4d9221"
            ],
            [
             1,
             "#276419"
            ]
           ],
           "sequential": [
            [
             0,
             "#0d0887"
            ],
            [
             0.1111111111111111,
             "#46039f"
            ],
            [
             0.2222222222222222,
             "#7201a8"
            ],
            [
             0.3333333333333333,
             "#9c179e"
            ],
            [
             0.4444444444444444,
             "#bd3786"
            ],
            [
             0.5555555555555556,
             "#d8576b"
            ],
            [
             0.6666666666666666,
             "#ed7953"
            ],
            [
             0.7777777777777778,
             "#fb9f3a"
            ],
            [
             0.8888888888888888,
             "#fdca26"
            ],
            [
             1,
             "#f0f921"
            ]
           ],
           "sequentialminus": [
            [
             0,
             "#0d0887"
            ],
            [
             0.1111111111111111,
             "#46039f"
            ],
            [
             0.2222222222222222,
             "#7201a8"
            ],
            [
             0.3333333333333333,
             "#9c179e"
            ],
            [
             0.4444444444444444,
             "#bd3786"
            ],
            [
             0.5555555555555556,
             "#d8576b"
            ],
            [
             0.6666666666666666,
             "#ed7953"
            ],
            [
             0.7777777777777778,
             "#fb9f3a"
            ],
            [
             0.8888888888888888,
             "#fdca26"
            ],
            [
             1,
             "#f0f921"
            ]
           ]
          },
          "colorway": [
           "#636efa",
           "#EF553B",
           "#00cc96",
           "#ab63fa",
           "#FFA15A",
           "#19d3f3",
           "#FF6692",
           "#B6E880",
           "#FF97FF",
           "#FECB52"
          ],
          "font": {
           "color": "#2a3f5f"
          },
          "geo": {
           "bgcolor": "white",
           "lakecolor": "white",
           "landcolor": "#E5ECF6",
           "showlakes": true,
           "showland": true,
           "subunitcolor": "white"
          },
          "hoverlabel": {
           "align": "left"
          },
          "hovermode": "closest",
          "mapbox": {
           "style": "light"
          },
          "paper_bgcolor": "white",
          "plot_bgcolor": "#E5ECF6",
          "polar": {
           "angularaxis": {
            "gridcolor": "white",
            "linecolor": "white",
            "ticks": ""
           },
           "bgcolor": "#E5ECF6",
           "radialaxis": {
            "gridcolor": "white",
            "linecolor": "white",
            "ticks": ""
           }
          },
          "scene": {
           "xaxis": {
            "backgroundcolor": "#E5ECF6",
            "gridcolor": "white",
            "gridwidth": 2,
            "linecolor": "white",
            "showbackground": true,
            "ticks": "",
            "zerolinecolor": "white"
           },
           "yaxis": {
            "backgroundcolor": "#E5ECF6",
            "gridcolor": "white",
            "gridwidth": 2,
            "linecolor": "white",
            "showbackground": true,
            "ticks": "",
            "zerolinecolor": "white"
           },
           "zaxis": {
            "backgroundcolor": "#E5ECF6",
            "gridcolor": "white",
            "gridwidth": 2,
            "linecolor": "white",
            "showbackground": true,
            "ticks": "",
            "zerolinecolor": "white"
           }
          },
          "shapedefaults": {
           "line": {
            "color": "#2a3f5f"
           }
          },
          "ternary": {
           "aaxis": {
            "gridcolor": "white",
            "linecolor": "white",
            "ticks": ""
           },
           "baxis": {
            "gridcolor": "white",
            "linecolor": "white",
            "ticks": ""
           },
           "bgcolor": "#E5ECF6",
           "caxis": {
            "gridcolor": "white",
            "linecolor": "white",
            "ticks": ""
           }
          },
          "title": {
           "x": 0.05
          },
          "xaxis": {
           "automargin": true,
           "gridcolor": "white",
           "linecolor": "white",
           "ticks": "",
           "title": {
            "standoff": 15
           },
           "zerolinecolor": "white",
           "zerolinewidth": 2
          },
          "yaxis": {
           "automargin": true,
           "gridcolor": "white",
           "linecolor": "white",
           "ticks": "",
           "title": {
            "standoff": 15
           },
           "zerolinecolor": "white",
           "zerolinewidth": 2
          }
         }
        },
        "title": {
         "text": "Age distribution"
        },
        "xaxis": {
         "anchor": "y",
         "domain": [
          0,
          1
         ],
         "title": {
          "text": "index"
         }
        },
        "yaxis": {
         "anchor": "x",
         "domain": [
          0,
          1
         ],
         "title": {
          "text": "value"
         }
        }
       }
      }
     },
     "metadata": {}
    }
   ],
   "source": [
    "age_dist = df['age'].fillna('NA').value_counts()\n",
    "px.bar(age_dist, title = 'Age distribution')"
   ]
  },
  {
   "source": [
    "<font size = 4 color='yellow'>\n",
    "# Make age numerical by cleaning out the 's'"
   ],
   "cell_type": "markdown",
   "metadata": {}
  },
  {
   "cell_type": "code",
   "execution_count": 9,
   "metadata": {},
   "outputs": [
    {
     "output_type": "stream",
     "name": "stdout",
     "text": [
      "['50s' '30s' '20s' '60s' '80s' '70s' '40s' '10s' '90s' '0s' nan '100s']\n"
     ]
    }
   ],
   "source": [
    "print(df['age'].unique())\n",
    "df_by_age = df.dropna(subset=['age']).copy()"
   ]
  },
  {
   "cell_type": "code",
   "execution_count": 61,
   "metadata": {},
   "outputs": [],
   "source": [
    "df_by_age['age'].replace(regex=True,inplace=True,to_replace=r'\\D',value=r'')\n",
    "df_by_age[['age']] = df_by_age[['age']].apply(pd.to_numeric)\n",
    "# df_by_age = df_by_age.infer_objects()\n",
    "# df_by_age.info()"
   ]
  },
  {
   "cell_type": "code",
   "execution_count": 65,
   "metadata": {},
   "outputs": [
    {
     "output_type": "stream",
     "name": "stderr",
     "text": [
      "c:\\Users\\mkof6\\.venv\\lib\\site-packages\\pandas\\plotting\\_matplotlib\\tools.py:400: MatplotlibDeprecationWarning:\n\n\nThe is_first_col function was deprecated in Matplotlib 3.4 and will be removed two minor releases later. Use ax.get_subplotspec().is_first_col() instead.\n\n"
     ]
    },
    {
     "output_type": "execute_result",
     "data": {
      "text/plain": [
       "<AxesSubplot:title={'center':'isolated'}, xlabel='age'>"
      ]
     },
     "metadata": {},
     "execution_count": 65
    },
    {
     "output_type": "display_data",
     "data": {
      "text/plain": "<Figure size 1656x432 with 3 Axes>",
      "image/svg+xml": "<?xml version=\"1.0\" encoding=\"utf-8\" standalone=\"no\"?>\r\n<!DOCTYPE svg PUBLIC \"-//W3C//DTD SVG 1.1//EN\"\r\n  \"http://www.w3.org/Graphics/SVG/1.1/DTD/svg11.dtd\">\r\n<svg height=\"395.44375pt\" version=\"1.1\" viewBox=\"0 0 1323.8875 395.44375\" width=\"1323.8875pt\" xmlns=\"http://www.w3.org/2000/svg\" xmlns:xlink=\"http://www.w3.org/1999/xlink\">\r\n <metadata>\r\n  <rdf:RDF xmlns:cc=\"http://creativecommons.org/ns#\" xmlns:dc=\"http://purl.org/dc/elements/1.1/\" xmlns:rdf=\"http://www.w3.org/1999/02/22-rdf-syntax-ns#\">\r\n   <cc:Work>\r\n    <dc:type rdf:resource=\"http://purl.org/dc/dcmitype/StillImage\"/>\r\n    <dc:date>2021-04-18T19:51:43.396020</dc:date>\r\n    <dc:format>image/svg+xml</dc:format>\r\n    <dc:creator>\r\n     <cc:Agent>\r\n      <dc:title>Matplotlib v3.4.0, https://matplotlib.org/</dc:title>\r\n     </cc:Agent>\r\n    </dc:creator>\r\n   </cc:Work>\r\n  </rdf:RDF>\r\n </metadata>\r\n <defs>\r\n  <style type=\"text/css\">*{stroke-linecap:butt;stroke-linejoin:round;}</style>\r\n </defs>\r\n <g id=\"figure_1\">\r\n  <g id=\"patch_1\">\r\n   <path d=\"M 0 395.44375 \r\nL 1323.8875 395.44375 \r\nL 1323.8875 0 \r\nL 0 0 \r\nz\r\n\" style=\"fill:none;\"/>\r\n  </g>\r\n  <g id=\"axes_1\">\r\n   <g id=\"patch_2\">\r\n    <path d=\"M 33.2875 348.478125 \r\nL 410.758088 348.478125 \r\nL 410.758088 22.318125 \r\nL 33.2875 22.318125 \r\nz\r\n\" style=\"fill:#ffffff;\"/>\r\n   </g>\r\n   <g id=\"patch_3\">\r\n    <path clip-path=\"url(#pf987ed34fb)\" d=\"M 41.866377 348.478125 \r\nL 59.024131 348.478125 \r\nL 59.024131 332.104631 \r\nL 41.866377 332.104631 \r\nz\r\n\" style=\"fill:#1f77b4;\"/>\r\n   </g>\r\n   <g id=\"patch_4\">\r\n    <path clip-path=\"url(#pf987ed34fb)\" d=\"M 76.181885 348.478125 \r\nL 93.339639 348.478125 \r\nL 93.339639 295.147316 \r\nL 76.181885 295.147316 \r\nz\r\n\" style=\"fill:#1f77b4;\"/>\r\n   </g>\r\n   <g id=\"patch_5\">\r\n    <path clip-path=\"url(#pf987ed34fb)\" d=\"M 110.497393 348.478125 \r\nL 127.655147 348.478125 \r\nL 127.655147 37.849554 \r\nL 110.497393 37.849554 \r\nz\r\n\" style=\"fill:#1f77b4;\"/>\r\n   </g>\r\n   <g id=\"patch_6\">\r\n    <path clip-path=\"url(#pf987ed34fb)\" d=\"M 144.812901 348.478125 \r\nL 161.970655 348.478125 \r\nL 161.970655 193.163839 \r\nL 144.812901 193.163839 \r\nz\r\n\" style=\"fill:#1f77b4;\"/>\r\n   </g>\r\n   <g id=\"patch_7\">\r\n    <path clip-path=\"url(#pf987ed34fb)\" d=\"M 179.128409 348.478125 \r\nL 196.286163 348.478125 \r\nL 196.286163 175.854717 \r\nL 179.128409 175.854717 \r\nz\r\n\" style=\"fill:#1f77b4;\"/>\r\n   </g>\r\n   <g id=\"patch_8\">\r\n    <path clip-path=\"url(#pf987ed34fb)\" d=\"M 213.443917 348.478125 \r\nL 230.601671 348.478125 \r\nL 230.601671 134.687075 \r\nL 213.443917 134.687075 \r\nz\r\n\" style=\"fill:#1f77b4;\"/>\r\n   </g>\r\n   <g id=\"patch_9\">\r\n    <path clip-path=\"url(#pf987ed34fb)\" d=\"M 247.759425 348.478125 \r\nL 264.917179 348.478125 \r\nL 264.917179 210.940776 \r\nL 247.759425 210.940776 \r\nz\r\n\" style=\"fill:#1f77b4;\"/>\r\n   </g>\r\n   <g id=\"patch_10\">\r\n    <path clip-path=\"url(#pf987ed34fb)\" d=\"M 282.074933 348.478125 \r\nL 299.232687 348.478125 \r\nL 299.232687 286.258848 \r\nL 282.074933 286.258848 \r\nz\r\n\" style=\"fill:#1f77b4;\"/>\r\n   </g>\r\n   <g id=\"patch_11\">\r\n    <path clip-path=\"url(#pf987ed34fb)\" d=\"M 316.390441 348.478125 \r\nL 333.548195 348.478125 \r\nL 333.548195 311.052996 \r\nL 316.390441 311.052996 \r\nz\r\n\" style=\"fill:#1f77b4;\"/>\r\n   </g>\r\n   <g id=\"patch_12\">\r\n    <path clip-path=\"url(#pf987ed34fb)\" d=\"M 350.705949 348.478125 \r\nL 367.863703 348.478125 \r\nL 367.863703 340.993099 \r\nL 350.705949 340.993099 \r\nz\r\n\" style=\"fill:#1f77b4;\"/>\r\n   </g>\r\n   <g id=\"patch_13\">\r\n    <path clip-path=\"url(#pf987ed34fb)\" d=\"M 385.021457 348.478125 \r\nL 402.179211 348.478125 \r\nL 402.179211 348.010311 \r\nL 385.021457 348.010311 \r\nz\r\n\" style=\"fill:#1f77b4;\"/>\r\n   </g>\r\n   <g id=\"matplotlib.axis_1\">\r\n    <g id=\"xtick_1\">\r\n     <g id=\"line2d_1\">\r\n      <defs>\r\n       <path d=\"M 0 0 \r\nL 0 3.5 \r\n\" id=\"m0d288f367d\" style=\"stroke:#000000;stroke-width:0.8;\"/>\r\n      </defs>\r\n      <g>\r\n       <use style=\"stroke:#000000;stroke-width:0.8;\" x=\"50.445254\" xlink:href=\"#m0d288f367d\" y=\"348.478125\"/>\r\n      </g>\r\n     </g>\r\n     <g id=\"text_1\">\r\n      <!-- 0 -->\r\n      <g transform=\"translate(53.204629 361.840625)rotate(-90)scale(0.1 -0.1)\">\r\n       <defs>\r\n        <path d=\"M 2034 4250 \r\nQ 1547 4250 1301 3770 \r\nQ 1056 3291 1056 2328 \r\nQ 1056 1369 1301 889 \r\nQ 1547 409 2034 409 \r\nQ 2525 409 2770 889 \r\nQ 3016 1369 3016 2328 \r\nQ 3016 3291 2770 3770 \r\nQ 2525 4250 2034 4250 \r\nz\r\nM 2034 4750 \r\nQ 2819 4750 3233 4129 \r\nQ 3647 3509 3647 2328 \r\nQ 3647 1150 3233 529 \r\nQ 2819 -91 2034 -91 \r\nQ 1250 -91 836 529 \r\nQ 422 1150 422 2328 \r\nQ 422 3509 836 4129 \r\nQ 1250 4750 2034 4750 \r\nz\r\n\" id=\"DejaVuSans-30\" transform=\"scale(0.015625)\"/>\r\n       </defs>\r\n       <use xlink:href=\"#DejaVuSans-30\"/>\r\n      </g>\r\n     </g>\r\n    </g>\r\n    <g id=\"xtick_2\">\r\n     <g id=\"line2d_2\">\r\n      <g>\r\n       <use style=\"stroke:#000000;stroke-width:0.8;\" x=\"84.760762\" xlink:href=\"#m0d288f367d\" y=\"348.478125\"/>\r\n      </g>\r\n     </g>\r\n     <g id=\"text_2\">\r\n      <!-- 10 -->\r\n      <g transform=\"translate(87.520137 368.203125)rotate(-90)scale(0.1 -0.1)\">\r\n       <defs>\r\n        <path d=\"M 794 531 \r\nL 1825 531 \r\nL 1825 4091 \r\nL 703 3866 \r\nL 703 4441 \r\nL 1819 4666 \r\nL 2450 4666 \r\nL 2450 531 \r\nL 3481 531 \r\nL 3481 0 \r\nL 794 0 \r\nL 794 531 \r\nz\r\n\" id=\"DejaVuSans-31\" transform=\"scale(0.015625)\"/>\r\n       </defs>\r\n       <use xlink:href=\"#DejaVuSans-31\"/>\r\n       <use x=\"63.623047\" xlink:href=\"#DejaVuSans-30\"/>\r\n      </g>\r\n     </g>\r\n    </g>\r\n    <g id=\"xtick_3\">\r\n     <g id=\"line2d_3\">\r\n      <g>\r\n       <use style=\"stroke:#000000;stroke-width:0.8;\" x=\"119.07627\" xlink:href=\"#m0d288f367d\" y=\"348.478125\"/>\r\n      </g>\r\n     </g>\r\n     <g id=\"text_3\">\r\n      <!-- 20 -->\r\n      <g transform=\"translate(121.835645 368.203125)rotate(-90)scale(0.1 -0.1)\">\r\n       <defs>\r\n        <path d=\"M 1228 531 \r\nL 3431 531 \r\nL 3431 0 \r\nL 469 0 \r\nL 469 531 \r\nQ 828 903 1448 1529 \r\nQ 2069 2156 2228 2338 \r\nQ 2531 2678 2651 2914 \r\nQ 2772 3150 2772 3378 \r\nQ 2772 3750 2511 3984 \r\nQ 2250 4219 1831 4219 \r\nQ 1534 4219 1204 4116 \r\nQ 875 4013 500 3803 \r\nL 500 4441 \r\nQ 881 4594 1212 4672 \r\nQ 1544 4750 1819 4750 \r\nQ 2544 4750 2975 4387 \r\nQ 3406 4025 3406 3419 \r\nQ 3406 3131 3298 2873 \r\nQ 3191 2616 2906 2266 \r\nQ 2828 2175 2409 1742 \r\nQ 1991 1309 1228 531 \r\nz\r\n\" id=\"DejaVuSans-32\" transform=\"scale(0.015625)\"/>\r\n       </defs>\r\n       <use xlink:href=\"#DejaVuSans-32\"/>\r\n       <use x=\"63.623047\" xlink:href=\"#DejaVuSans-30\"/>\r\n      </g>\r\n     </g>\r\n    </g>\r\n    <g id=\"xtick_4\">\r\n     <g id=\"line2d_4\">\r\n      <g>\r\n       <use style=\"stroke:#000000;stroke-width:0.8;\" x=\"153.391778\" xlink:href=\"#m0d288f367d\" y=\"348.478125\"/>\r\n      </g>\r\n     </g>\r\n     <g id=\"text_4\">\r\n      <!-- 30 -->\r\n      <g transform=\"translate(156.151153 368.203125)rotate(-90)scale(0.1 -0.1)\">\r\n       <defs>\r\n        <path d=\"M 2597 2516 \r\nQ 3050 2419 3304 2112 \r\nQ 3559 1806 3559 1356 \r\nQ 3559 666 3084 287 \r\nQ 2609 -91 1734 -91 \r\nQ 1441 -91 1130 -33 \r\nQ 819 25 488 141 \r\nL 488 750 \r\nQ 750 597 1062 519 \r\nQ 1375 441 1716 441 \r\nQ 2309 441 2620 675 \r\nQ 2931 909 2931 1356 \r\nQ 2931 1769 2642 2001 \r\nQ 2353 2234 1838 2234 \r\nL 1294 2234 \r\nL 1294 2753 \r\nL 1863 2753 \r\nQ 2328 2753 2575 2939 \r\nQ 2822 3125 2822 3475 \r\nQ 2822 3834 2567 4026 \r\nQ 2313 4219 1838 4219 \r\nQ 1578 4219 1281 4162 \r\nQ 984 4106 628 3988 \r\nL 628 4550 \r\nQ 988 4650 1302 4700 \r\nQ 1616 4750 1894 4750 \r\nQ 2613 4750 3031 4423 \r\nQ 3450 4097 3450 3541 \r\nQ 3450 3153 3228 2886 \r\nQ 3006 2619 2597 2516 \r\nz\r\n\" id=\"DejaVuSans-33\" transform=\"scale(0.015625)\"/>\r\n       </defs>\r\n       <use xlink:href=\"#DejaVuSans-33\"/>\r\n       <use x=\"63.623047\" xlink:href=\"#DejaVuSans-30\"/>\r\n      </g>\r\n     </g>\r\n    </g>\r\n    <g id=\"xtick_5\">\r\n     <g id=\"line2d_5\">\r\n      <g>\r\n       <use style=\"stroke:#000000;stroke-width:0.8;\" x=\"187.707286\" xlink:href=\"#m0d288f367d\" y=\"348.478125\"/>\r\n      </g>\r\n     </g>\r\n     <g id=\"text_5\">\r\n      <!-- 40 -->\r\n      <g transform=\"translate(190.466661 368.203125)rotate(-90)scale(0.1 -0.1)\">\r\n       <defs>\r\n        <path d=\"M 2419 4116 \r\nL 825 1625 \r\nL 2419 1625 \r\nL 2419 4116 \r\nz\r\nM 2253 4666 \r\nL 3047 4666 \r\nL 3047 1625 \r\nL 3713 1625 \r\nL 3713 1100 \r\nL 3047 1100 \r\nL 3047 0 \r\nL 2419 0 \r\nL 2419 1100 \r\nL 313 1100 \r\nL 313 1709 \r\nL 2253 4666 \r\nz\r\n\" id=\"DejaVuSans-34\" transform=\"scale(0.015625)\"/>\r\n       </defs>\r\n       <use xlink:href=\"#DejaVuSans-34\"/>\r\n       <use x=\"63.623047\" xlink:href=\"#DejaVuSans-30\"/>\r\n      </g>\r\n     </g>\r\n    </g>\r\n    <g id=\"xtick_6\">\r\n     <g id=\"line2d_6\">\r\n      <g>\r\n       <use style=\"stroke:#000000;stroke-width:0.8;\" x=\"222.022794\" xlink:href=\"#m0d288f367d\" y=\"348.478125\"/>\r\n      </g>\r\n     </g>\r\n     <g id=\"text_6\">\r\n      <!-- 50 -->\r\n      <g transform=\"translate(224.782169 368.203125)rotate(-90)scale(0.1 -0.1)\">\r\n       <defs>\r\n        <path d=\"M 691 4666 \r\nL 3169 4666 \r\nL 3169 4134 \r\nL 1269 4134 \r\nL 1269 2991 \r\nQ 1406 3038 1543 3061 \r\nQ 1681 3084 1819 3084 \r\nQ 2600 3084 3056 2656 \r\nQ 3513 2228 3513 1497 \r\nQ 3513 744 3044 326 \r\nQ 2575 -91 1722 -91 \r\nQ 1428 -91 1123 -41 \r\nQ 819 9 494 109 \r\nL 494 744 \r\nQ 775 591 1075 516 \r\nQ 1375 441 1709 441 \r\nQ 2250 441 2565 725 \r\nQ 2881 1009 2881 1497 \r\nQ 2881 1984 2565 2268 \r\nQ 2250 2553 1709 2553 \r\nQ 1456 2553 1204 2497 \r\nQ 953 2441 691 2322 \r\nL 691 4666 \r\nz\r\n\" id=\"DejaVuSans-35\" transform=\"scale(0.015625)\"/>\r\n       </defs>\r\n       <use xlink:href=\"#DejaVuSans-35\"/>\r\n       <use x=\"63.623047\" xlink:href=\"#DejaVuSans-30\"/>\r\n      </g>\r\n     </g>\r\n    </g>\r\n    <g id=\"xtick_7\">\r\n     <g id=\"line2d_7\">\r\n      <g>\r\n       <use style=\"stroke:#000000;stroke-width:0.8;\" x=\"256.338302\" xlink:href=\"#m0d288f367d\" y=\"348.478125\"/>\r\n      </g>\r\n     </g>\r\n     <g id=\"text_7\">\r\n      <!-- 60 -->\r\n      <g transform=\"translate(259.097677 368.203125)rotate(-90)scale(0.1 -0.1)\">\r\n       <defs>\r\n        <path d=\"M 2113 2584 \r\nQ 1688 2584 1439 2293 \r\nQ 1191 2003 1191 1497 \r\nQ 1191 994 1439 701 \r\nQ 1688 409 2113 409 \r\nQ 2538 409 2786 701 \r\nQ 3034 994 3034 1497 \r\nQ 3034 2003 2786 2293 \r\nQ 2538 2584 2113 2584 \r\nz\r\nM 3366 4563 \r\nL 3366 3988 \r\nQ 3128 4100 2886 4159 \r\nQ 2644 4219 2406 4219 \r\nQ 1781 4219 1451 3797 \r\nQ 1122 3375 1075 2522 \r\nQ 1259 2794 1537 2939 \r\nQ 1816 3084 2150 3084 \r\nQ 2853 3084 3261 2657 \r\nQ 3669 2231 3669 1497 \r\nQ 3669 778 3244 343 \r\nQ 2819 -91 2113 -91 \r\nQ 1303 -91 875 529 \r\nQ 447 1150 447 2328 \r\nQ 447 3434 972 4092 \r\nQ 1497 4750 2381 4750 \r\nQ 2619 4750 2861 4703 \r\nQ 3103 4656 3366 4563 \r\nz\r\n\" id=\"DejaVuSans-36\" transform=\"scale(0.015625)\"/>\r\n       </defs>\r\n       <use xlink:href=\"#DejaVuSans-36\"/>\r\n       <use x=\"63.623047\" xlink:href=\"#DejaVuSans-30\"/>\r\n      </g>\r\n     </g>\r\n    </g>\r\n    <g id=\"xtick_8\">\r\n     <g id=\"line2d_8\">\r\n      <g>\r\n       <use style=\"stroke:#000000;stroke-width:0.8;\" x=\"290.65381\" xlink:href=\"#m0d288f367d\" y=\"348.478125\"/>\r\n      </g>\r\n     </g>\r\n     <g id=\"text_8\">\r\n      <!-- 70 -->\r\n      <g transform=\"translate(293.413185 368.203125)rotate(-90)scale(0.1 -0.1)\">\r\n       <defs>\r\n        <path d=\"M 525 4666 \r\nL 3525 4666 \r\nL 3525 4397 \r\nL 1831 0 \r\nL 1172 0 \r\nL 2766 4134 \r\nL 525 4134 \r\nL 525 4666 \r\nz\r\n\" id=\"DejaVuSans-37\" transform=\"scale(0.015625)\"/>\r\n       </defs>\r\n       <use xlink:href=\"#DejaVuSans-37\"/>\r\n       <use x=\"63.623047\" xlink:href=\"#DejaVuSans-30\"/>\r\n      </g>\r\n     </g>\r\n    </g>\r\n    <g id=\"xtick_9\">\r\n     <g id=\"line2d_9\">\r\n      <g>\r\n       <use style=\"stroke:#000000;stroke-width:0.8;\" x=\"324.969318\" xlink:href=\"#m0d288f367d\" y=\"348.478125\"/>\r\n      </g>\r\n     </g>\r\n     <g id=\"text_9\">\r\n      <!-- 80 -->\r\n      <g transform=\"translate(327.728693 368.203125)rotate(-90)scale(0.1 -0.1)\">\r\n       <defs>\r\n        <path d=\"M 2034 2216 \r\nQ 1584 2216 1326 1975 \r\nQ 1069 1734 1069 1313 \r\nQ 1069 891 1326 650 \r\nQ 1584 409 2034 409 \r\nQ 2484 409 2743 651 \r\nQ 3003 894 3003 1313 \r\nQ 3003 1734 2745 1975 \r\nQ 2488 2216 2034 2216 \r\nz\r\nM 1403 2484 \r\nQ 997 2584 770 2862 \r\nQ 544 3141 544 3541 \r\nQ 544 4100 942 4425 \r\nQ 1341 4750 2034 4750 \r\nQ 2731 4750 3128 4425 \r\nQ 3525 4100 3525 3541 \r\nQ 3525 3141 3298 2862 \r\nQ 3072 2584 2669 2484 \r\nQ 3125 2378 3379 2068 \r\nQ 3634 1759 3634 1313 \r\nQ 3634 634 3220 271 \r\nQ 2806 -91 2034 -91 \r\nQ 1263 -91 848 271 \r\nQ 434 634 434 1313 \r\nQ 434 1759 690 2068 \r\nQ 947 2378 1403 2484 \r\nz\r\nM 1172 3481 \r\nQ 1172 3119 1398 2916 \r\nQ 1625 2713 2034 2713 \r\nQ 2441 2713 2670 2916 \r\nQ 2900 3119 2900 3481 \r\nQ 2900 3844 2670 4047 \r\nQ 2441 4250 2034 4250 \r\nQ 1625 4250 1398 4047 \r\nQ 1172 3844 1172 3481 \r\nz\r\n\" id=\"DejaVuSans-38\" transform=\"scale(0.015625)\"/>\r\n       </defs>\r\n       <use xlink:href=\"#DejaVuSans-38\"/>\r\n       <use x=\"63.623047\" xlink:href=\"#DejaVuSans-30\"/>\r\n      </g>\r\n     </g>\r\n    </g>\r\n    <g id=\"xtick_10\">\r\n     <g id=\"line2d_10\">\r\n      <g>\r\n       <use style=\"stroke:#000000;stroke-width:0.8;\" x=\"359.284826\" xlink:href=\"#m0d288f367d\" y=\"348.478125\"/>\r\n      </g>\r\n     </g>\r\n     <g id=\"text_10\">\r\n      <!-- 90 -->\r\n      <g transform=\"translate(362.044201 368.203125)rotate(-90)scale(0.1 -0.1)\">\r\n       <defs>\r\n        <path d=\"M 703 97 \r\nL 703 672 \r\nQ 941 559 1184 500 \r\nQ 1428 441 1663 441 \r\nQ 2288 441 2617 861 \r\nQ 2947 1281 2994 2138 \r\nQ 2813 1869 2534 1725 \r\nQ 2256 1581 1919 1581 \r\nQ 1219 1581 811 2004 \r\nQ 403 2428 403 3163 \r\nQ 403 3881 828 4315 \r\nQ 1253 4750 1959 4750 \r\nQ 2769 4750 3195 4129 \r\nQ 3622 3509 3622 2328 \r\nQ 3622 1225 3098 567 \r\nQ 2575 -91 1691 -91 \r\nQ 1453 -91 1209 -44 \r\nQ 966 3 703 97 \r\nz\r\nM 1959 2075 \r\nQ 2384 2075 2632 2365 \r\nQ 2881 2656 2881 3163 \r\nQ 2881 3666 2632 3958 \r\nQ 2384 4250 1959 4250 \r\nQ 1534 4250 1286 3958 \r\nQ 1038 3666 1038 3163 \r\nQ 1038 2656 1286 2365 \r\nQ 1534 2075 1959 2075 \r\nz\r\n\" id=\"DejaVuSans-39\" transform=\"scale(0.015625)\"/>\r\n       </defs>\r\n       <use xlink:href=\"#DejaVuSans-39\"/>\r\n       <use x=\"63.623047\" xlink:href=\"#DejaVuSans-30\"/>\r\n      </g>\r\n     </g>\r\n    </g>\r\n    <g id=\"xtick_11\">\r\n     <g id=\"line2d_11\">\r\n      <g>\r\n       <use style=\"stroke:#000000;stroke-width:0.8;\" x=\"393.600334\" xlink:href=\"#m0d288f367d\" y=\"348.478125\"/>\r\n      </g>\r\n     </g>\r\n     <g id=\"text_11\">\r\n      <!-- 100 -->\r\n      <g transform=\"translate(396.359709 374.565625)rotate(-90)scale(0.1 -0.1)\">\r\n       <use xlink:href=\"#DejaVuSans-31\"/>\r\n       <use x=\"63.623047\" xlink:href=\"#DejaVuSans-30\"/>\r\n       <use x=\"127.246094\" xlink:href=\"#DejaVuSans-30\"/>\r\n      </g>\r\n     </g>\r\n    </g>\r\n    <g id=\"text_12\">\r\n     <!-- age -->\r\n     <g transform=\"translate(212.70795 386.164062)scale(0.1 -0.1)\">\r\n      <defs>\r\n       <path d=\"M 2194 1759 \r\nQ 1497 1759 1228 1600 \r\nQ 959 1441 959 1056 \r\nQ 959 750 1161 570 \r\nQ 1363 391 1709 391 \r\nQ 2188 391 2477 730 \r\nQ 2766 1069 2766 1631 \r\nL 2766 1759 \r\nL 2194 1759 \r\nz\r\nM 3341 1997 \r\nL 3341 0 \r\nL 2766 0 \r\nL 2766 531 \r\nQ 2569 213 2275 61 \r\nQ 1981 -91 1556 -91 \r\nQ 1019 -91 701 211 \r\nQ 384 513 384 1019 \r\nQ 384 1609 779 1909 \r\nQ 1175 2209 1959 2209 \r\nL 2766 2209 \r\nL 2766 2266 \r\nQ 2766 2663 2505 2880 \r\nQ 2244 3097 1772 3097 \r\nQ 1472 3097 1187 3025 \r\nQ 903 2953 641 2809 \r\nL 641 3341 \r\nQ 956 3463 1253 3523 \r\nQ 1550 3584 1831 3584 \r\nQ 2591 3584 2966 3190 \r\nQ 3341 2797 3341 1997 \r\nz\r\n\" id=\"DejaVuSans-61\" transform=\"scale(0.015625)\"/>\r\n       <path d=\"M 2906 1791 \r\nQ 2906 2416 2648 2759 \r\nQ 2391 3103 1925 3103 \r\nQ 1463 3103 1205 2759 \r\nQ 947 2416 947 1791 \r\nQ 947 1169 1205 825 \r\nQ 1463 481 1925 481 \r\nQ 2391 481 2648 825 \r\nQ 2906 1169 2906 1791 \r\nz\r\nM 3481 434 \r\nQ 3481 -459 3084 -895 \r\nQ 2688 -1331 1869 -1331 \r\nQ 1566 -1331 1297 -1286 \r\nQ 1028 -1241 775 -1147 \r\nL 775 -588 \r\nQ 1028 -725 1275 -790 \r\nQ 1522 -856 1778 -856 \r\nQ 2344 -856 2625 -561 \r\nQ 2906 -266 2906 331 \r\nL 2906 616 \r\nQ 2728 306 2450 153 \r\nQ 2172 0 1784 0 \r\nQ 1141 0 747 490 \r\nQ 353 981 353 1791 \r\nQ 353 2603 747 3093 \r\nQ 1141 3584 1784 3584 \r\nQ 2172 3584 2450 3431 \r\nQ 2728 3278 2906 2969 \r\nL 2906 3500 \r\nL 3481 3500 \r\nL 3481 434 \r\nz\r\n\" id=\"DejaVuSans-67\" transform=\"scale(0.015625)\"/>\r\n       <path d=\"M 3597 1894 \r\nL 3597 1613 \r\nL 953 1613 \r\nQ 991 1019 1311 708 \r\nQ 1631 397 2203 397 \r\nQ 2534 397 2845 478 \r\nQ 3156 559 3463 722 \r\nL 3463 178 \r\nQ 3153 47 2828 -22 \r\nQ 2503 -91 2169 -91 \r\nQ 1331 -91 842 396 \r\nQ 353 884 353 1716 \r\nQ 353 2575 817 3079 \r\nQ 1281 3584 2069 3584 \r\nQ 2775 3584 3186 3129 \r\nQ 3597 2675 3597 1894 \r\nz\r\nM 3022 2063 \r\nQ 3016 2534 2758 2815 \r\nQ 2500 3097 2075 3097 \r\nQ 1594 3097 1305 2825 \r\nQ 1016 2553 972 2059 \r\nL 3022 2063 \r\nz\r\n\" id=\"DejaVuSans-65\" transform=\"scale(0.015625)\"/>\r\n      </defs>\r\n      <use xlink:href=\"#DejaVuSans-61\"/>\r\n      <use x=\"61.279297\" xlink:href=\"#DejaVuSans-67\"/>\r\n      <use x=\"124.755859\" xlink:href=\"#DejaVuSans-65\"/>\r\n     </g>\r\n    </g>\r\n   </g>\r\n   <g id=\"matplotlib.axis_2\">\r\n    <g id=\"ytick_1\">\r\n     <g id=\"line2d_12\">\r\n      <defs>\r\n       <path d=\"M 0 0 \r\nL -3.5 0 \r\n\" id=\"m7979c8816a\" style=\"stroke:#000000;stroke-width:0.8;\"/>\r\n      </defs>\r\n      <g>\r\n       <use style=\"stroke:#000000;stroke-width:0.8;\" x=\"33.2875\" xlink:href=\"#m7979c8816a\" y=\"348.478125\"/>\r\n      </g>\r\n     </g>\r\n     <g id=\"text_13\">\r\n      <!-- 0 -->\r\n      <g transform=\"translate(19.925 352.277344)scale(0.1 -0.1)\">\r\n       <use xlink:href=\"#DejaVuSans-30\"/>\r\n      </g>\r\n     </g>\r\n    </g>\r\n    <g id=\"ytick_2\">\r\n     <g id=\"line2d_13\">\r\n      <g>\r\n       <use style=\"stroke:#000000;stroke-width:0.8;\" x=\"33.2875\" xlink:href=\"#m7979c8816a\" y=\"301.696714\"/>\r\n      </g>\r\n     </g>\r\n     <g id=\"text_14\">\r\n      <!-- 100 -->\r\n      <g transform=\"translate(7.2 305.495932)scale(0.1 -0.1)\">\r\n       <use xlink:href=\"#DejaVuSans-31\"/>\r\n       <use x=\"63.623047\" xlink:href=\"#DejaVuSans-30\"/>\r\n       <use x=\"127.246094\" xlink:href=\"#DejaVuSans-30\"/>\r\n      </g>\r\n     </g>\r\n    </g>\r\n    <g id=\"ytick_3\">\r\n     <g id=\"line2d_14\">\r\n      <g>\r\n       <use style=\"stroke:#000000;stroke-width:0.8;\" x=\"33.2875\" xlink:href=\"#m7979c8816a\" y=\"254.915302\"/>\r\n      </g>\r\n     </g>\r\n     <g id=\"text_15\">\r\n      <!-- 200 -->\r\n      <g transform=\"translate(7.2 258.714521)scale(0.1 -0.1)\">\r\n       <use xlink:href=\"#DejaVuSans-32\"/>\r\n       <use x=\"63.623047\" xlink:href=\"#DejaVuSans-30\"/>\r\n       <use x=\"127.246094\" xlink:href=\"#DejaVuSans-30\"/>\r\n      </g>\r\n     </g>\r\n    </g>\r\n    <g id=\"ytick_4\">\r\n     <g id=\"line2d_15\">\r\n      <g>\r\n       <use style=\"stroke:#000000;stroke-width:0.8;\" x=\"33.2875\" xlink:href=\"#m7979c8816a\" y=\"208.133891\"/>\r\n      </g>\r\n     </g>\r\n     <g id=\"text_16\">\r\n      <!-- 300 -->\r\n      <g transform=\"translate(7.2 211.93311)scale(0.1 -0.1)\">\r\n       <use xlink:href=\"#DejaVuSans-33\"/>\r\n       <use x=\"63.623047\" xlink:href=\"#DejaVuSans-30\"/>\r\n       <use x=\"127.246094\" xlink:href=\"#DejaVuSans-30\"/>\r\n      </g>\r\n     </g>\r\n    </g>\r\n    <g id=\"ytick_5\">\r\n     <g id=\"line2d_16\">\r\n      <g>\r\n       <use style=\"stroke:#000000;stroke-width:0.8;\" x=\"33.2875\" xlink:href=\"#m7979c8816a\" y=\"161.35248\"/>\r\n      </g>\r\n     </g>\r\n     <g id=\"text_17\">\r\n      <!-- 400 -->\r\n      <g transform=\"translate(7.2 165.151698)scale(0.1 -0.1)\">\r\n       <use xlink:href=\"#DejaVuSans-34\"/>\r\n       <use x=\"63.623047\" xlink:href=\"#DejaVuSans-30\"/>\r\n       <use x=\"127.246094\" xlink:href=\"#DejaVuSans-30\"/>\r\n      </g>\r\n     </g>\r\n    </g>\r\n    <g id=\"ytick_6\">\r\n     <g id=\"line2d_17\">\r\n      <g>\r\n       <use style=\"stroke:#000000;stroke-width:0.8;\" x=\"33.2875\" xlink:href=\"#m7979c8816a\" y=\"114.571068\"/>\r\n      </g>\r\n     </g>\r\n     <g id=\"text_18\">\r\n      <!-- 500 -->\r\n      <g transform=\"translate(7.2 118.370287)scale(0.1 -0.1)\">\r\n       <use xlink:href=\"#DejaVuSans-35\"/>\r\n       <use x=\"63.623047\" xlink:href=\"#DejaVuSans-30\"/>\r\n       <use x=\"127.246094\" xlink:href=\"#DejaVuSans-30\"/>\r\n      </g>\r\n     </g>\r\n    </g>\r\n    <g id=\"ytick_7\">\r\n     <g id=\"line2d_18\">\r\n      <g>\r\n       <use style=\"stroke:#000000;stroke-width:0.8;\" x=\"33.2875\" xlink:href=\"#m7979c8816a\" y=\"67.789657\"/>\r\n      </g>\r\n     </g>\r\n     <g id=\"text_19\">\r\n      <!-- 600 -->\r\n      <g transform=\"translate(7.2 71.588876)scale(0.1 -0.1)\">\r\n       <use xlink:href=\"#DejaVuSans-36\"/>\r\n       <use x=\"63.623047\" xlink:href=\"#DejaVuSans-30\"/>\r\n       <use x=\"127.246094\" xlink:href=\"#DejaVuSans-30\"/>\r\n      </g>\r\n     </g>\r\n    </g>\r\n   </g>\r\n   <g id=\"patch_14\">\r\n    <path d=\"M 33.2875 348.478125 \r\nL 33.2875 22.318125 \r\n\" style=\"fill:none;stroke:#000000;stroke-linecap:square;stroke-linejoin:miter;stroke-width:0.8;\"/>\r\n   </g>\r\n   <g id=\"patch_15\">\r\n    <path d=\"M 410.758088 348.478125 \r\nL 410.758088 22.318125 \r\n\" style=\"fill:none;stroke:#000000;stroke-linecap:square;stroke-linejoin:miter;stroke-width:0.8;\"/>\r\n   </g>\r\n   <g id=\"patch_16\">\r\n    <path d=\"M 33.2875 348.478125 \r\nL 410.758088 348.478125 \r\n\" style=\"fill:none;stroke:#000000;stroke-linecap:square;stroke-linejoin:miter;stroke-width:0.8;\"/>\r\n   </g>\r\n   <g id=\"patch_17\">\r\n    <path d=\"M 33.2875 22.318125 \r\nL 410.758088 22.318125 \r\n\" style=\"fill:none;stroke:#000000;stroke-linecap:square;stroke-linejoin:miter;stroke-width:0.8;\"/>\r\n   </g>\r\n   <g id=\"text_20\">\r\n    <!-- released -->\r\n    <g transform=\"translate(196.337169 16.318125)scale(0.12 -0.12)\">\r\n     <defs>\r\n      <path d=\"M 2631 2963 \r\nQ 2534 3019 2420 3045 \r\nQ 2306 3072 2169 3072 \r\nQ 1681 3072 1420 2755 \r\nQ 1159 2438 1159 1844 \r\nL 1159 0 \r\nL 581 0 \r\nL 581 3500 \r\nL 1159 3500 \r\nL 1159 2956 \r\nQ 1341 3275 1631 3429 \r\nQ 1922 3584 2338 3584 \r\nQ 2397 3584 2469 3576 \r\nQ 2541 3569 2628 3553 \r\nL 2631 2963 \r\nz\r\n\" id=\"DejaVuSans-72\" transform=\"scale(0.015625)\"/>\r\n      <path d=\"M 603 4863 \r\nL 1178 4863 \r\nL 1178 0 \r\nL 603 0 \r\nL 603 4863 \r\nz\r\n\" id=\"DejaVuSans-6c\" transform=\"scale(0.015625)\"/>\r\n      <path d=\"M 2834 3397 \r\nL 2834 2853 \r\nQ 2591 2978 2328 3040 \r\nQ 2066 3103 1784 3103 \r\nQ 1356 3103 1142 2972 \r\nQ 928 2841 928 2578 \r\nQ 928 2378 1081 2264 \r\nQ 1234 2150 1697 2047 \r\nL 1894 2003 \r\nQ 2506 1872 2764 1633 \r\nQ 3022 1394 3022 966 \r\nQ 3022 478 2636 193 \r\nQ 2250 -91 1575 -91 \r\nQ 1294 -91 989 -36 \r\nQ 684 19 347 128 \r\nL 347 722 \r\nQ 666 556 975 473 \r\nQ 1284 391 1588 391 \r\nQ 1994 391 2212 530 \r\nQ 2431 669 2431 922 \r\nQ 2431 1156 2273 1281 \r\nQ 2116 1406 1581 1522 \r\nL 1381 1569 \r\nQ 847 1681 609 1914 \r\nQ 372 2147 372 2553 \r\nQ 372 3047 722 3315 \r\nQ 1072 3584 1716 3584 \r\nQ 2034 3584 2315 3537 \r\nQ 2597 3491 2834 3397 \r\nz\r\n\" id=\"DejaVuSans-73\" transform=\"scale(0.015625)\"/>\r\n      <path d=\"M 2906 2969 \r\nL 2906 4863 \r\nL 3481 4863 \r\nL 3481 0 \r\nL 2906 0 \r\nL 2906 525 \r\nQ 2725 213 2448 61 \r\nQ 2172 -91 1784 -91 \r\nQ 1150 -91 751 415 \r\nQ 353 922 353 1747 \r\nQ 353 2572 751 3078 \r\nQ 1150 3584 1784 3584 \r\nQ 2172 3584 2448 3432 \r\nQ 2725 3281 2906 2969 \r\nz\r\nM 947 1747 \r\nQ 947 1113 1208 752 \r\nQ 1469 391 1925 391 \r\nQ 2381 391 2643 752 \r\nQ 2906 1113 2906 1747 \r\nQ 2906 2381 2643 2742 \r\nQ 2381 3103 1925 3103 \r\nQ 1469 3103 1208 2742 \r\nQ 947 2381 947 1747 \r\nz\r\n\" id=\"DejaVuSans-64\" transform=\"scale(0.015625)\"/>\r\n     </defs>\r\n     <use xlink:href=\"#DejaVuSans-72\"/>\r\n     <use x=\"38.863281\" xlink:href=\"#DejaVuSans-65\"/>\r\n     <use x=\"100.386719\" xlink:href=\"#DejaVuSans-6c\"/>\r\n     <use x=\"128.169922\" xlink:href=\"#DejaVuSans-65\"/>\r\n     <use x=\"189.693359\" xlink:href=\"#DejaVuSans-61\"/>\r\n     <use x=\"250.972656\" xlink:href=\"#DejaVuSans-73\"/>\r\n     <use x=\"303.072266\" xlink:href=\"#DejaVuSans-65\"/>\r\n     <use x=\"364.595703\" xlink:href=\"#DejaVuSans-64\"/>\r\n    </g>\r\n   </g>\r\n  </g>\r\n  <g id=\"axes_2\">\r\n   <g id=\"patch_18\">\r\n    <path d=\"M 486.252206 348.478125 \r\nL 863.722794 348.478125 \r\nL 863.722794 22.318125 \r\nL 486.252206 22.318125 \r\nz\r\n\" style=\"fill:#ffffff;\"/>\r\n   </g>\r\n   <g id=\"patch_19\">\r\n    <path clip-path=\"url(#p61e896de8f)\" d=\"M 499.733298 348.478125 \r\nL 526.695483 348.478125 \r\nL 526.695483 336.052982 \r\nL 499.733298 336.052982 \r\nz\r\n\" style=\"fill:#1f77b4;\"/>\r\n   </g>\r\n   <g id=\"patch_20\">\r\n    <path clip-path=\"url(#p61e896de8f)\" d=\"M 553.657668 348.478125 \r\nL 580.619853 348.478125 \r\nL 580.619853 323.627839 \r\nL 553.657668 323.627839 \r\nz\r\n\" style=\"fill:#1f77b4;\"/>\r\n   </g>\r\n   <g id=\"patch_21\">\r\n    <path clip-path=\"url(#p61e896de8f)\" d=\"M 607.582038 348.478125 \r\nL 634.544223 348.478125 \r\nL 634.544223 261.502125 \r\nL 607.582038 261.502125 \r\nz\r\n\" style=\"fill:#1f77b4;\"/>\r\n   </g>\r\n   <g id=\"patch_22\">\r\n    <path clip-path=\"url(#p61e896de8f)\" d=\"M 661.506408 348.478125 \r\nL 688.468592 348.478125 \r\nL 688.468592 199.376411 \r\nL 661.506408 199.376411 \r\nz\r\n\" style=\"fill:#1f77b4;\"/>\r\n   </g>\r\n   <g id=\"patch_23\">\r\n    <path clip-path=\"url(#p61e896de8f)\" d=\"M 715.430777 348.478125 \r\nL 742.392962 348.478125 \r\nL 742.392962 87.550125 \r\nL 715.430777 87.550125 \r\nz\r\n\" style=\"fill:#1f77b4;\"/>\r\n   </g>\r\n   <g id=\"patch_24\">\r\n    <path clip-path=\"url(#p61e896de8f)\" d=\"M 769.355147 348.478125 \r\nL 796.317332 348.478125 \r\nL 796.317332 37.849554 \r\nL 769.355147 37.849554 \r\nz\r\n\" style=\"fill:#1f77b4;\"/>\r\n   </g>\r\n   <g id=\"patch_25\">\r\n    <path clip-path=\"url(#p61e896de8f)\" d=\"M 823.279517 348.478125 \r\nL 850.241702 348.478125 \r\nL 850.241702 261.502125 \r\nL 823.279517 261.502125 \r\nz\r\n\" style=\"fill:#1f77b4;\"/>\r\n   </g>\r\n   <g id=\"matplotlib.axis_3\">\r\n    <g id=\"xtick_12\">\r\n     <g id=\"line2d_19\">\r\n      <g>\r\n       <use style=\"stroke:#000000;stroke-width:0.8;\" x=\"513.214391\" xlink:href=\"#m0d288f367d\" y=\"348.478125\"/>\r\n      </g>\r\n     </g>\r\n     <g id=\"text_21\">\r\n      <!-- 30 -->\r\n      <g transform=\"translate(515.973766 368.203125)rotate(-90)scale(0.1 -0.1)\">\r\n       <use xlink:href=\"#DejaVuSans-33\"/>\r\n       <use x=\"63.623047\" xlink:href=\"#DejaVuSans-30\"/>\r\n      </g>\r\n     </g>\r\n    </g>\r\n    <g id=\"xtick_13\">\r\n     <g id=\"line2d_20\">\r\n      <g>\r\n       <use style=\"stroke:#000000;stroke-width:0.8;\" x=\"567.138761\" xlink:href=\"#m0d288f367d\" y=\"348.478125\"/>\r\n      </g>\r\n     </g>\r\n     <g id=\"text_22\">\r\n      <!-- 40 -->\r\n      <g transform=\"translate(569.898136 368.203125)rotate(-90)scale(0.1 -0.1)\">\r\n       <use xlink:href=\"#DejaVuSans-34\"/>\r\n       <use x=\"63.623047\" xlink:href=\"#DejaVuSans-30\"/>\r\n      </g>\r\n     </g>\r\n    </g>\r\n    <g id=\"xtick_14\">\r\n     <g id=\"line2d_21\">\r\n      <g>\r\n       <use style=\"stroke:#000000;stroke-width:0.8;\" x=\"621.06313\" xlink:href=\"#m0d288f367d\" y=\"348.478125\"/>\r\n      </g>\r\n     </g>\r\n     <g id=\"text_23\">\r\n      <!-- 50 -->\r\n      <g transform=\"translate(623.822505 368.203125)rotate(-90)scale(0.1 -0.1)\">\r\n       <use xlink:href=\"#DejaVuSans-35\"/>\r\n       <use x=\"63.623047\" xlink:href=\"#DejaVuSans-30\"/>\r\n      </g>\r\n     </g>\r\n    </g>\r\n    <g id=\"xtick_15\">\r\n     <g id=\"line2d_22\">\r\n      <g>\r\n       <use style=\"stroke:#000000;stroke-width:0.8;\" x=\"674.9875\" xlink:href=\"#m0d288f367d\" y=\"348.478125\"/>\r\n      </g>\r\n     </g>\r\n     <g id=\"text_24\">\r\n      <!-- 60 -->\r\n      <g transform=\"translate(677.746875 368.203125)rotate(-90)scale(0.1 -0.1)\">\r\n       <use xlink:href=\"#DejaVuSans-36\"/>\r\n       <use x=\"63.623047\" xlink:href=\"#DejaVuSans-30\"/>\r\n      </g>\r\n     </g>\r\n    </g>\r\n    <g id=\"xtick_16\">\r\n     <g id=\"line2d_23\">\r\n      <g>\r\n       <use style=\"stroke:#000000;stroke-width:0.8;\" x=\"728.91187\" xlink:href=\"#m0d288f367d\" y=\"348.478125\"/>\r\n      </g>\r\n     </g>\r\n     <g id=\"text_25\">\r\n      <!-- 70 -->\r\n      <g transform=\"translate(731.671245 368.203125)rotate(-90)scale(0.1 -0.1)\">\r\n       <use xlink:href=\"#DejaVuSans-37\"/>\r\n       <use x=\"63.623047\" xlink:href=\"#DejaVuSans-30\"/>\r\n      </g>\r\n     </g>\r\n    </g>\r\n    <g id=\"xtick_17\">\r\n     <g id=\"line2d_24\">\r\n      <g>\r\n       <use style=\"stroke:#000000;stroke-width:0.8;\" x=\"782.836239\" xlink:href=\"#m0d288f367d\" y=\"348.478125\"/>\r\n      </g>\r\n     </g>\r\n     <g id=\"text_26\">\r\n      <!-- 80 -->\r\n      <g transform=\"translate(785.595614 368.203125)rotate(-90)scale(0.1 -0.1)\">\r\n       <use xlink:href=\"#DejaVuSans-38\"/>\r\n       <use x=\"63.623047\" xlink:href=\"#DejaVuSans-30\"/>\r\n      </g>\r\n     </g>\r\n    </g>\r\n    <g id=\"xtick_18\">\r\n     <g id=\"line2d_25\">\r\n      <g>\r\n       <use style=\"stroke:#000000;stroke-width:0.8;\" x=\"836.760609\" xlink:href=\"#m0d288f367d\" y=\"348.478125\"/>\r\n      </g>\r\n     </g>\r\n     <g id=\"text_27\">\r\n      <!-- 90 -->\r\n      <g transform=\"translate(839.519984 368.203125)rotate(-90)scale(0.1 -0.1)\">\r\n       <use xlink:href=\"#DejaVuSans-39\"/>\r\n       <use x=\"63.623047\" xlink:href=\"#DejaVuSans-30\"/>\r\n      </g>\r\n     </g>\r\n    </g>\r\n    <g id=\"text_28\">\r\n     <!-- age -->\r\n     <g transform=\"translate(665.672656 379.801562)scale(0.1 -0.1)\">\r\n      <use xlink:href=\"#DejaVuSans-61\"/>\r\n      <use x=\"61.279297\" xlink:href=\"#DejaVuSans-67\"/>\r\n      <use x=\"124.755859\" xlink:href=\"#DejaVuSans-65\"/>\r\n     </g>\r\n    </g>\r\n   </g>\r\n   <g id=\"matplotlib.axis_4\">\r\n    <g id=\"ytick_8\">\r\n     <g id=\"line2d_26\">\r\n      <g>\r\n       <use style=\"stroke:#000000;stroke-width:0.8;\" x=\"486.252206\" xlink:href=\"#m7979c8816a\" y=\"348.478125\"/>\r\n      </g>\r\n     </g>\r\n     <g id=\"text_29\">\r\n      <!-- 0 -->\r\n      <g transform=\"translate(472.889706 352.277344)scale(0.1 -0.1)\">\r\n       <use xlink:href=\"#DejaVuSans-30\"/>\r\n      </g>\r\n     </g>\r\n    </g>\r\n    <g id=\"ytick_9\">\r\n     <g id=\"line2d_27\">\r\n      <g>\r\n       <use style=\"stroke:#000000;stroke-width:0.8;\" x=\"486.252206\" xlink:href=\"#m7979c8816a\" y=\"286.352411\"/>\r\n      </g>\r\n     </g>\r\n     <g id=\"text_30\">\r\n      <!-- 5 -->\r\n      <g transform=\"translate(472.889706 290.151629)scale(0.1 -0.1)\">\r\n       <use xlink:href=\"#DejaVuSans-35\"/>\r\n      </g>\r\n     </g>\r\n    </g>\r\n    <g id=\"ytick_10\">\r\n     <g id=\"line2d_28\">\r\n      <g>\r\n       <use style=\"stroke:#000000;stroke-width:0.8;\" x=\"486.252206\" xlink:href=\"#m7979c8816a\" y=\"224.226696\"/>\r\n      </g>\r\n     </g>\r\n     <g id=\"text_31\">\r\n      <!-- 10 -->\r\n      <g transform=\"translate(466.527206 228.025915)scale(0.1 -0.1)\">\r\n       <use xlink:href=\"#DejaVuSans-31\"/>\r\n       <use x=\"63.623047\" xlink:href=\"#DejaVuSans-30\"/>\r\n      </g>\r\n     </g>\r\n    </g>\r\n    <g id=\"ytick_11\">\r\n     <g id=\"line2d_29\">\r\n      <g>\r\n       <use style=\"stroke:#000000;stroke-width:0.8;\" x=\"486.252206\" xlink:href=\"#m7979c8816a\" y=\"162.100982\"/>\r\n      </g>\r\n     </g>\r\n     <g id=\"text_32\">\r\n      <!-- 15 -->\r\n      <g transform=\"translate(466.527206 165.900201)scale(0.1 -0.1)\">\r\n       <use xlink:href=\"#DejaVuSans-31\"/>\r\n       <use x=\"63.623047\" xlink:href=\"#DejaVuSans-35\"/>\r\n      </g>\r\n     </g>\r\n    </g>\r\n    <g id=\"ytick_12\">\r\n     <g id=\"line2d_30\">\r\n      <g>\r\n       <use style=\"stroke:#000000;stroke-width:0.8;\" x=\"486.252206\" xlink:href=\"#m7979c8816a\" y=\"99.975268\"/>\r\n      </g>\r\n     </g>\r\n     <g id=\"text_33\">\r\n      <!-- 20 -->\r\n      <g transform=\"translate(466.527206 103.774487)scale(0.1 -0.1)\">\r\n       <use xlink:href=\"#DejaVuSans-32\"/>\r\n       <use x=\"63.623047\" xlink:href=\"#DejaVuSans-30\"/>\r\n      </g>\r\n     </g>\r\n    </g>\r\n    <g id=\"ytick_13\">\r\n     <g id=\"line2d_31\">\r\n      <g>\r\n       <use style=\"stroke:#000000;stroke-width:0.8;\" x=\"486.252206\" xlink:href=\"#m7979c8816a\" y=\"37.849554\"/>\r\n      </g>\r\n     </g>\r\n     <g id=\"text_34\">\r\n      <!-- 25 -->\r\n      <g transform=\"translate(466.527206 41.648772)scale(0.1 -0.1)\">\r\n       <use xlink:href=\"#DejaVuSans-32\"/>\r\n       <use x=\"63.623047\" xlink:href=\"#DejaVuSans-35\"/>\r\n      </g>\r\n     </g>\r\n    </g>\r\n   </g>\r\n   <g id=\"patch_26\">\r\n    <path d=\"M 486.252206 348.478125 \r\nL 486.252206 22.318125 \r\n\" style=\"fill:none;stroke:#000000;stroke-linecap:square;stroke-linejoin:miter;stroke-width:0.8;\"/>\r\n   </g>\r\n   <g id=\"patch_27\">\r\n    <path d=\"M 863.722794 348.478125 \r\nL 863.722794 22.318125 \r\n\" style=\"fill:none;stroke:#000000;stroke-linecap:square;stroke-linejoin:miter;stroke-width:0.8;\"/>\r\n   </g>\r\n   <g id=\"patch_28\">\r\n    <path d=\"M 486.252206 348.478125 \r\nL 863.722794 348.478125 \r\n\" style=\"fill:none;stroke:#000000;stroke-linecap:square;stroke-linejoin:miter;stroke-width:0.8;\"/>\r\n   </g>\r\n   <g id=\"patch_29\">\r\n    <path d=\"M 486.252206 22.318125 \r\nL 863.722794 22.318125 \r\n\" style=\"fill:none;stroke:#000000;stroke-linecap:square;stroke-linejoin:miter;stroke-width:0.8;\"/>\r\n   </g>\r\n   <g id=\"text_35\">\r\n    <!-- deceased -->\r\n    <g transform=\"translate(646.192188 16.318125)scale(0.12 -0.12)\">\r\n     <defs>\r\n      <path d=\"M 3122 3366 \r\nL 3122 2828 \r\nQ 2878 2963 2633 3030 \r\nQ 2388 3097 2138 3097 \r\nQ 1578 3097 1268 2742 \r\nQ 959 2388 959 1747 \r\nQ 959 1106 1268 751 \r\nQ 1578 397 2138 397 \r\nQ 2388 397 2633 464 \r\nQ 2878 531 3122 666 \r\nL 3122 134 \r\nQ 2881 22 2623 -34 \r\nQ 2366 -91 2075 -91 \r\nQ 1284 -91 818 406 \r\nQ 353 903 353 1747 \r\nQ 353 2603 823 3093 \r\nQ 1294 3584 2113 3584 \r\nQ 2378 3584 2631 3529 \r\nQ 2884 3475 3122 3366 \r\nz\r\n\" id=\"DejaVuSans-63\" transform=\"scale(0.015625)\"/>\r\n     </defs>\r\n     <use xlink:href=\"#DejaVuSans-64\"/>\r\n     <use x=\"63.476562\" xlink:href=\"#DejaVuSans-65\"/>\r\n     <use x=\"125\" xlink:href=\"#DejaVuSans-63\"/>\r\n     <use x=\"179.980469\" xlink:href=\"#DejaVuSans-65\"/>\r\n     <use x=\"241.503906\" xlink:href=\"#DejaVuSans-61\"/>\r\n     <use x=\"302.783203\" xlink:href=\"#DejaVuSans-73\"/>\r\n     <use x=\"354.882812\" xlink:href=\"#DejaVuSans-65\"/>\r\n     <use x=\"416.40625\" xlink:href=\"#DejaVuSans-64\"/>\r\n    </g>\r\n   </g>\r\n  </g>\r\n  <g id=\"axes_3\">\r\n   <g id=\"patch_30\">\r\n    <path d=\"M 939.216912 348.478125 \r\nL 1316.6875 348.478125 \r\nL 1316.6875 22.318125 \r\nL 939.216912 22.318125 \r\nz\r\n\" style=\"fill:#ffffff;\"/>\r\n   </g>\r\n   <g id=\"patch_31\">\r\n    <path clip-path=\"url(#p2d592ff743)\" d=\"M 948.653676 348.478125 \r\nL 967.527206 348.478125 \r\nL 967.527206 308.823414 \r\nL 948.653676 308.823414 \r\nz\r\n\" style=\"fill:#1f77b4;\"/>\r\n   </g>\r\n   <g id=\"patch_32\">\r\n    <path clip-path=\"url(#p2d592ff743)\" d=\"M 986.400735 348.478125 \r\nL 1005.274265 348.478125 \r\nL 1005.274265 265.203231 \r\nL 986.400735 265.203231 \r\nz\r\n\" style=\"fill:#1f77b4;\"/>\r\n   </g>\r\n   <g id=\"patch_33\">\r\n    <path clip-path=\"url(#p2d592ff743)\" d=\"M 1024.147794 348.478125 \r\nL 1043.021324 348.478125 \r\nL 1043.021324 37.849554 \r\nL 1024.147794 37.849554 \r\nz\r\n\" style=\"fill:#1f77b4;\"/>\r\n   </g>\r\n   <g id=\"patch_34\">\r\n    <path clip-path=\"url(#p2d592ff743)\" d=\"M 1061.894853 348.478125 \r\nL 1080.768382 348.478125 \r\nL 1080.768382 97.33162 \r\nL 1061.894853 97.33162 \r\nz\r\n\" style=\"fill:#1f77b4;\"/>\r\n   </g>\r\n   <g id=\"patch_35\">\r\n    <path clip-path=\"url(#p2d592ff743)\" d=\"M 1099.641912 348.478125 \r\nL 1118.515441 348.478125 \r\nL 1118.515441 155.491864 \r\nL 1099.641912 155.491864 \r\nz\r\n\" style=\"fill:#1f77b4;\"/>\r\n   </g>\r\n   <g id=\"patch_36\">\r\n    <path clip-path=\"url(#p2d592ff743)\" d=\"M 1137.388971 348.478125 \r\nL 1156.2625 348.478125 \r\nL 1156.2625 80.147912 \r\nL 1137.388971 80.147912 \r\nz\r\n\" style=\"fill:#1f77b4;\"/>\r\n   </g>\r\n   <g id=\"patch_37\">\r\n    <path clip-path=\"url(#p2d592ff743)\" d=\"M 1175.136029 348.478125 \r\nL 1194.009559 348.478125 \r\nL 1194.009559 115.837152 \r\nL 1175.136029 115.837152 \r\nz\r\n\" style=\"fill:#1f77b4;\"/>\r\n   </g>\r\n   <g id=\"patch_38\">\r\n    <path clip-path=\"url(#p2d592ff743)\" d=\"M 1212.883088 348.478125 \r\nL 1231.756618 348.478125 \r\nL 1231.756618 245.375876 \r\nL 1212.883088 245.375876 \r\nz\r\n\" style=\"fill:#1f77b4;\"/>\r\n   </g>\r\n   <g id=\"patch_39\">\r\n    <path clip-path=\"url(#p2d592ff743)\" d=\"M 1250.630147 348.478125 \r\nL 1269.503676 348.478125 \r\nL 1269.503676 262.559584 \r\nL 1250.630147 262.559584 \r\nz\r\n\" style=\"fill:#1f77b4;\"/>\r\n   </g>\r\n   <g id=\"patch_40\">\r\n    <path clip-path=\"url(#p2d592ff743)\" d=\"M 1288.377206 348.478125 \r\nL 1307.250735 348.478125 \r\nL 1307.250735 314.110709 \r\nL 1288.377206 314.110709 \r\nz\r\n\" style=\"fill:#1f77b4;\"/>\r\n   </g>\r\n   <g id=\"matplotlib.axis_5\">\r\n    <g id=\"xtick_19\">\r\n     <g id=\"line2d_32\">\r\n      <g>\r\n       <use style=\"stroke:#000000;stroke-width:0.8;\" x=\"958.090441\" xlink:href=\"#m0d288f367d\" y=\"348.478125\"/>\r\n      </g>\r\n     </g>\r\n     <g id=\"text_36\">\r\n      <!-- 0 -->\r\n      <g transform=\"translate(960.849816 361.840625)rotate(-90)scale(0.1 -0.1)\">\r\n       <use xlink:href=\"#DejaVuSans-30\"/>\r\n      </g>\r\n     </g>\r\n    </g>\r\n    <g id=\"xtick_20\">\r\n     <g id=\"line2d_33\">\r\n      <g>\r\n       <use style=\"stroke:#000000;stroke-width:0.8;\" x=\"995.8375\" xlink:href=\"#m0d288f367d\" y=\"348.478125\"/>\r\n      </g>\r\n     </g>\r\n     <g id=\"text_37\">\r\n      <!-- 10 -->\r\n      <g transform=\"translate(998.596875 368.203125)rotate(-90)scale(0.1 -0.1)\">\r\n       <use xlink:href=\"#DejaVuSans-31\"/>\r\n       <use x=\"63.623047\" xlink:href=\"#DejaVuSans-30\"/>\r\n      </g>\r\n     </g>\r\n    </g>\r\n    <g id=\"xtick_21\">\r\n     <g id=\"line2d_34\">\r\n      <g>\r\n       <use style=\"stroke:#000000;stroke-width:0.8;\" x=\"1033.584559\" xlink:href=\"#m0d288f367d\" y=\"348.478125\"/>\r\n      </g>\r\n     </g>\r\n     <g id=\"text_38\">\r\n      <!-- 20 -->\r\n      <g transform=\"translate(1036.343934 368.203125)rotate(-90)scale(0.1 -0.1)\">\r\n       <use xlink:href=\"#DejaVuSans-32\"/>\r\n       <use x=\"63.623047\" xlink:href=\"#DejaVuSans-30\"/>\r\n      </g>\r\n     </g>\r\n    </g>\r\n    <g id=\"xtick_22\">\r\n     <g id=\"line2d_35\">\r\n      <g>\r\n       <use style=\"stroke:#000000;stroke-width:0.8;\" x=\"1071.331618\" xlink:href=\"#m0d288f367d\" y=\"348.478125\"/>\r\n      </g>\r\n     </g>\r\n     <g id=\"text_39\">\r\n      <!-- 30 -->\r\n      <g transform=\"translate(1074.090993 368.203125)rotate(-90)scale(0.1 -0.1)\">\r\n       <use xlink:href=\"#DejaVuSans-33\"/>\r\n       <use x=\"63.623047\" xlink:href=\"#DejaVuSans-30\"/>\r\n      </g>\r\n     </g>\r\n    </g>\r\n    <g id=\"xtick_23\">\r\n     <g id=\"line2d_36\">\r\n      <g>\r\n       <use style=\"stroke:#000000;stroke-width:0.8;\" x=\"1109.078676\" xlink:href=\"#m0d288f367d\" y=\"348.478125\"/>\r\n      </g>\r\n     </g>\r\n     <g id=\"text_40\">\r\n      <!-- 40 -->\r\n      <g transform=\"translate(1111.838051 368.203125)rotate(-90)scale(0.1 -0.1)\">\r\n       <use xlink:href=\"#DejaVuSans-34\"/>\r\n       <use x=\"63.623047\" xlink:href=\"#DejaVuSans-30\"/>\r\n      </g>\r\n     </g>\r\n    </g>\r\n    <g id=\"xtick_24\">\r\n     <g id=\"line2d_37\">\r\n      <g>\r\n       <use style=\"stroke:#000000;stroke-width:0.8;\" x=\"1146.825735\" xlink:href=\"#m0d288f367d\" y=\"348.478125\"/>\r\n      </g>\r\n     </g>\r\n     <g id=\"text_41\">\r\n      <!-- 50 -->\r\n      <g transform=\"translate(1149.58511 368.203125)rotate(-90)scale(0.1 -0.1)\">\r\n       <use xlink:href=\"#DejaVuSans-35\"/>\r\n       <use x=\"63.623047\" xlink:href=\"#DejaVuSans-30\"/>\r\n      </g>\r\n     </g>\r\n    </g>\r\n    <g id=\"xtick_25\">\r\n     <g id=\"line2d_38\">\r\n      <g>\r\n       <use style=\"stroke:#000000;stroke-width:0.8;\" x=\"1184.572794\" xlink:href=\"#m0d288f367d\" y=\"348.478125\"/>\r\n      </g>\r\n     </g>\r\n     <g id=\"text_42\">\r\n      <!-- 60 -->\r\n      <g transform=\"translate(1187.332169 368.203125)rotate(-90)scale(0.1 -0.1)\">\r\n       <use xlink:href=\"#DejaVuSans-36\"/>\r\n       <use x=\"63.623047\" xlink:href=\"#DejaVuSans-30\"/>\r\n      </g>\r\n     </g>\r\n    </g>\r\n    <g id=\"xtick_26\">\r\n     <g id=\"line2d_39\">\r\n      <g>\r\n       <use style=\"stroke:#000000;stroke-width:0.8;\" x=\"1222.319853\" xlink:href=\"#m0d288f367d\" y=\"348.478125\"/>\r\n      </g>\r\n     </g>\r\n     <g id=\"text_43\">\r\n      <!-- 70 -->\r\n      <g transform=\"translate(1225.079228 368.203125)rotate(-90)scale(0.1 -0.1)\">\r\n       <use xlink:href=\"#DejaVuSans-37\"/>\r\n       <use x=\"63.623047\" xlink:href=\"#DejaVuSans-30\"/>\r\n      </g>\r\n     </g>\r\n    </g>\r\n    <g id=\"xtick_27\">\r\n     <g id=\"line2d_40\">\r\n      <g>\r\n       <use style=\"stroke:#000000;stroke-width:0.8;\" x=\"1260.066912\" xlink:href=\"#m0d288f367d\" y=\"348.478125\"/>\r\n      </g>\r\n     </g>\r\n     <g id=\"text_44\">\r\n      <!-- 80 -->\r\n      <g transform=\"translate(1262.826287 368.203125)rotate(-90)scale(0.1 -0.1)\">\r\n       <use xlink:href=\"#DejaVuSans-38\"/>\r\n       <use x=\"63.623047\" xlink:href=\"#DejaVuSans-30\"/>\r\n      </g>\r\n     </g>\r\n    </g>\r\n    <g id=\"xtick_28\">\r\n     <g id=\"line2d_41\">\r\n      <g>\r\n       <use style=\"stroke:#000000;stroke-width:0.8;\" x=\"1297.813971\" xlink:href=\"#m0d288f367d\" y=\"348.478125\"/>\r\n      </g>\r\n     </g>\r\n     <g id=\"text_45\">\r\n      <!-- 90 -->\r\n      <g transform=\"translate(1300.573346 368.203125)rotate(-90)scale(0.1 -0.1)\">\r\n       <use xlink:href=\"#DejaVuSans-39\"/>\r\n       <use x=\"63.623047\" xlink:href=\"#DejaVuSans-30\"/>\r\n      </g>\r\n     </g>\r\n    </g>\r\n    <g id=\"text_46\">\r\n     <!-- age -->\r\n     <g transform=\"translate(1118.637362 379.801562)scale(0.1 -0.1)\">\r\n      <use xlink:href=\"#DejaVuSans-61\"/>\r\n      <use x=\"61.279297\" xlink:href=\"#DejaVuSans-67\"/>\r\n      <use x=\"124.755859\" xlink:href=\"#DejaVuSans-65\"/>\r\n     </g>\r\n    </g>\r\n   </g>\r\n   <g id=\"matplotlib.axis_6\">\r\n    <g id=\"ytick_14\">\r\n     <g id=\"line2d_42\">\r\n      <g>\r\n       <use style=\"stroke:#000000;stroke-width:0.8;\" x=\"939.216912\" xlink:href=\"#m7979c8816a\" y=\"348.478125\"/>\r\n      </g>\r\n     </g>\r\n     <g id=\"text_47\">\r\n      <!-- 0 -->\r\n      <g transform=\"translate(925.854412 352.277344)scale(0.1 -0.1)\">\r\n       <use xlink:href=\"#DejaVuSans-30\"/>\r\n      </g>\r\n     </g>\r\n    </g>\r\n    <g id=\"ytick_15\">\r\n     <g id=\"line2d_43\">\r\n      <g>\r\n       <use style=\"stroke:#000000;stroke-width:0.8;\" x=\"939.216912\" xlink:href=\"#m7979c8816a\" y=\"282.38694\"/>\r\n      </g>\r\n     </g>\r\n     <g id=\"text_48\">\r\n      <!-- 50 -->\r\n      <g transform=\"translate(919.491912 286.186158)scale(0.1 -0.1)\">\r\n       <use xlink:href=\"#DejaVuSans-35\"/>\r\n       <use x=\"63.623047\" xlink:href=\"#DejaVuSans-30\"/>\r\n      </g>\r\n     </g>\r\n    </g>\r\n    <g id=\"ytick_16\">\r\n     <g id=\"line2d_44\">\r\n      <g>\r\n       <use style=\"stroke:#000000;stroke-width:0.8;\" x=\"939.216912\" xlink:href=\"#m7979c8816a\" y=\"216.295754\"/>\r\n      </g>\r\n     </g>\r\n     <g id=\"text_49\">\r\n      <!-- 100 -->\r\n      <g transform=\"translate(913.129412 220.094973)scale(0.1 -0.1)\">\r\n       <use xlink:href=\"#DejaVuSans-31\"/>\r\n       <use x=\"63.623047\" xlink:href=\"#DejaVuSans-30\"/>\r\n       <use x=\"127.246094\" xlink:href=\"#DejaVuSans-30\"/>\r\n      </g>\r\n     </g>\r\n    </g>\r\n    <g id=\"ytick_17\">\r\n     <g id=\"line2d_45\">\r\n      <g>\r\n       <use style=\"stroke:#000000;stroke-width:0.8;\" x=\"939.216912\" xlink:href=\"#m7979c8816a\" y=\"150.204569\"/>\r\n      </g>\r\n     </g>\r\n     <g id=\"text_50\">\r\n      <!-- 150 -->\r\n      <g transform=\"translate(913.129412 154.003788)scale(0.1 -0.1)\">\r\n       <use xlink:href=\"#DejaVuSans-31\"/>\r\n       <use x=\"63.623047\" xlink:href=\"#DejaVuSans-35\"/>\r\n       <use x=\"127.246094\" xlink:href=\"#DejaVuSans-30\"/>\r\n      </g>\r\n     </g>\r\n    </g>\r\n    <g id=\"ytick_18\">\r\n     <g id=\"line2d_46\">\r\n      <g>\r\n       <use style=\"stroke:#000000;stroke-width:0.8;\" x=\"939.216912\" xlink:href=\"#m7979c8816a\" y=\"84.113383\"/>\r\n      </g>\r\n     </g>\r\n     <g id=\"text_51\">\r\n      <!-- 200 -->\r\n      <g transform=\"translate(913.129412 87.912602)scale(0.1 -0.1)\">\r\n       <use xlink:href=\"#DejaVuSans-32\"/>\r\n       <use x=\"63.623047\" xlink:href=\"#DejaVuSans-30\"/>\r\n       <use x=\"127.246094\" xlink:href=\"#DejaVuSans-30\"/>\r\n      </g>\r\n     </g>\r\n    </g>\r\n   </g>\r\n   <g id=\"patch_41\">\r\n    <path d=\"M 939.216912 348.478125 \r\nL 939.216912 22.318125 \r\n\" style=\"fill:none;stroke:#000000;stroke-linecap:square;stroke-linejoin:miter;stroke-width:0.8;\"/>\r\n   </g>\r\n   <g id=\"patch_42\">\r\n    <path d=\"M 1316.6875 348.478125 \r\nL 1316.6875 22.318125 \r\n\" style=\"fill:none;stroke:#000000;stroke-linecap:square;stroke-linejoin:miter;stroke-width:0.8;\"/>\r\n   </g>\r\n   <g id=\"patch_43\">\r\n    <path d=\"M 939.216912 348.478125 \r\nL 1316.6875 348.478125 \r\n\" style=\"fill:none;stroke:#000000;stroke-linecap:square;stroke-linejoin:miter;stroke-width:0.8;\"/>\r\n   </g>\r\n   <g id=\"patch_44\">\r\n    <path d=\"M 939.216912 22.318125 \r\nL 1316.6875 22.318125 \r\n\" style=\"fill:none;stroke:#000000;stroke-linecap:square;stroke-linejoin:miter;stroke-width:0.8;\"/>\r\n   </g>\r\n   <g id=\"text_52\">\r\n    <!-- isolated -->\r\n    <g transform=\"translate(1104.291581 16.318125)scale(0.12 -0.12)\">\r\n     <defs>\r\n      <path d=\"M 603 3500 \r\nL 1178 3500 \r\nL 1178 0 \r\nL 603 0 \r\nL 603 3500 \r\nz\r\nM 603 4863 \r\nL 1178 4863 \r\nL 1178 4134 \r\nL 603 4134 \r\nL 603 4863 \r\nz\r\n\" id=\"DejaVuSans-69\" transform=\"scale(0.015625)\"/>\r\n      <path d=\"M 1959 3097 \r\nQ 1497 3097 1228 2736 \r\nQ 959 2375 959 1747 \r\nQ 959 1119 1226 758 \r\nQ 1494 397 1959 397 \r\nQ 2419 397 2687 759 \r\nQ 2956 1122 2956 1747 \r\nQ 2956 2369 2687 2733 \r\nQ 2419 3097 1959 3097 \r\nz\r\nM 1959 3584 \r\nQ 2709 3584 3137 3096 \r\nQ 3566 2609 3566 1747 \r\nQ 3566 888 3137 398 \r\nQ 2709 -91 1959 -91 \r\nQ 1206 -91 779 398 \r\nQ 353 888 353 1747 \r\nQ 353 2609 779 3096 \r\nQ 1206 3584 1959 3584 \r\nz\r\n\" id=\"DejaVuSans-6f\" transform=\"scale(0.015625)\"/>\r\n      <path d=\"M 1172 4494 \r\nL 1172 3500 \r\nL 2356 3500 \r\nL 2356 3053 \r\nL 1172 3053 \r\nL 1172 1153 \r\nQ 1172 725 1289 603 \r\nQ 1406 481 1766 481 \r\nL 2356 481 \r\nL 2356 0 \r\nL 1766 0 \r\nQ 1100 0 847 248 \r\nQ 594 497 594 1153 \r\nL 594 3053 \r\nL 172 3053 \r\nL 172 3500 \r\nL 594 3500 \r\nL 594 4494 \r\nL 1172 4494 \r\nz\r\n\" id=\"DejaVuSans-74\" transform=\"scale(0.015625)\"/>\r\n     </defs>\r\n     <use xlink:href=\"#DejaVuSans-69\"/>\r\n     <use x=\"27.783203\" xlink:href=\"#DejaVuSans-73\"/>\r\n     <use x=\"79.882812\" xlink:href=\"#DejaVuSans-6f\"/>\r\n     <use x=\"141.064453\" xlink:href=\"#DejaVuSans-6c\"/>\r\n     <use x=\"168.847656\" xlink:href=\"#DejaVuSans-61\"/>\r\n     <use x=\"230.126953\" xlink:href=\"#DejaVuSans-74\"/>\r\n     <use x=\"269.335938\" xlink:href=\"#DejaVuSans-65\"/>\r\n     <use x=\"330.859375\" xlink:href=\"#DejaVuSans-64\"/>\r\n    </g>\r\n   </g>\r\n  </g>\r\n </g>\r\n <defs>\r\n  <clipPath id=\"pf987ed34fb\">\r\n   <rect height=\"326.16\" width=\"377.470588\" x=\"33.2875\" y=\"22.318125\"/>\r\n  </clipPath>\r\n  <clipPath id=\"p61e896de8f\">\r\n   <rect height=\"326.16\" width=\"377.470588\" x=\"486.252206\" y=\"22.318125\"/>\r\n  </clipPath>\r\n  <clipPath id=\"p2d592ff743\">\r\n   <rect height=\"326.16\" width=\"377.470588\" x=\"939.216912\" y=\"22.318125\"/>\r\n  </clipPath>\r\n </defs>\r\n</svg>\r\n",
      "image/png": "[encoded data removed]"
     },
     "metadata": {
      "needs_background": "light"
     }
    }
   ],
   "source": [
    "df_groupby_age = df_by_age.groupby(by=['state', 'age'], as_index=True)['patient_id'].count()\n",
    "fig, ax = plt.subplots(1,3, figsize=(23,6))\n",
    "df_groupby_age.xs('released').plot(kind = 'bar', ax = ax[0], title = 'released')\n",
    "df_groupby_age.xs('deceased').plot(kind = 'bar', ax = ax[1], title = 'deceased')\n",
    "df_groupby_age.xs('isolated').plot(kind = 'bar', ax = ax[2], title = 'isolated')"
   ]
  },
  {
   "cell_type": "code",
   "execution_count": 12,
   "metadata": {},
   "outputs": [],
   "source": [
    "df_all_state = df.groupby(by = ['age'])['patient_id'].count()\n",
    "df_only_deceased = df[df['state']=='deceased'].groupby(by = 'age')['patient_id'].count()"
   ]
  },
  {
   "cell_type": "code",
   "execution_count": 13,
   "metadata": {},
   "outputs": [
    {
     "output_type": "execute_result",
     "data": {
      "text/plain": [
       "     age  all_state  deceased  mortality_rate\n",
       "0     0s         65       0.0        0.000000\n",
       "1   100s          1       0.0        0.000000\n",
       "2    10s        177       0.0        0.000000\n",
       "3    20s        899       0.0        0.000000\n",
       "4    30s        523       1.0        0.001912\n",
       "5    40s        517       2.0        0.003868\n",
       "6    50s        667       7.0        0.010495\n",
       "7    60s        482      12.0        0.024896\n",
       "8    70s        232      21.0        0.090517\n",
       "9    80s        170      25.0        0.147059\n",
       "10   90s         49       7.0        0.142857"
      ],
      "text/html": "<div>\n<style scoped>\n    .dataframe tbody tr th:only-of-type {\n        vertical-align: middle;\n    }\n\n    .dataframe tbody tr th {\n        vertical-align: top;\n    }\n\n    .dataframe thead th {\n        text-align: right;\n    }\n</style>\n<table border=\"1\" class=\"dataframe\">\n  <thead>\n    <tr style=\"text-align: right;\">\n      <th></th>\n      <th>age</th>\n      <th>all_state</th>\n      <th>deceased</th>\n      <th>mortality_rate</th>\n    </tr>\n  </thead>\n  <tbody>\n    <tr>\n      <th>0</th>\n      <td>0s</td>\n      <td>65</td>\n      <td>0.0</td>\n      <td>0.000000</td>\n    </tr>\n    <tr>\n      <th>1</th>\n      <td>100s</td>\n      <td>1</td>\n      <td>0.0</td>\n      <td>0.000000</td>\n    </tr>\n    <tr>\n      <th>2</th>\n      <td>10s</td>\n      <td>177</td>\n      <td>0.0</td>\n      <td>0.000000</td>\n    </tr>\n    <tr>\n      <th>3</th>\n      <td>20s</td>\n      <td>899</td>\n      <td>0.0</td>\n      <td>0.000000</td>\n    </tr>\n    <tr>\n      <th>4</th>\n      <td>30s</td>\n      <td>523</td>\n      <td>1.0</td>\n      <td>0.001912</td>\n    </tr>\n    <tr>\n      <th>5</th>\n      <td>40s</td>\n      <td>517</td>\n      <td>2.0</td>\n      <td>0.003868</td>\n    </tr>\n    <tr>\n      <th>6</th>\n      <td>50s</td>\n      <td>667</td>\n      <td>7.0</td>\n      <td>0.010495</td>\n    </tr>\n    <tr>\n      <th>7</th>\n      <td>60s</td>\n      <td>482</td>\n      <td>12.0</td>\n      <td>0.024896</td>\n    </tr>\n    <tr>\n      <th>8</th>\n      <td>70s</td>\n      <td>232</td>\n      <td>21.0</td>\n      <td>0.090517</td>\n    </tr>\n    <tr>\n      <th>9</th>\n      <td>80s</td>\n      <td>170</td>\n      <td>25.0</td>\n      <td>0.147059</td>\n    </tr>\n    <tr>\n      <th>10</th>\n      <td>90s</td>\n      <td>49</td>\n      <td>7.0</td>\n      <td>0.142857</td>\n    </tr>\n  </tbody>\n</table>\n</div>"
     },
     "metadata": {},
     "execution_count": 13
    }
   ],
   "source": [
    "df_combined = pd.merge(df_all_state, df_only_deceased, on='age', how = 'outer').fillna(0)\n",
    "df_combined.columns = ['all_state','deceased']\n",
    "df_combined['mortality_rate'] = df_combined['deceased'] / df_combined['all_state']\n",
    "df_combined.reset_index(inplace = True)\n",
    "df_combined"
   ]
  },
  {
   "cell_type": "code",
   "execution_count": 37,
   "metadata": {},
   "outputs": [
    {
     "output_type": "execute_result",
     "data": {
      "text/plain": [
       "<AxesSubplot:xlabel='age'>"
      ]
     },
     "metadata": {},
     "execution_count": 37
    },
    {
     "output_type": "display_data",
     "data": {
      "text/plain": "<Figure size 1080x432 with 1 Axes>",
      "image/svg+xml": "<?xml version=\"1.0\" encoding=\"utf-8\" standalone=\"no\"?>\r\n<!DOCTYPE svg PUBLIC \"-//W3C//DTD SVG 1.1//EN\"\r\n  \"http://www.w3.org/Graphics/SVG/1.1/DTD/svg11.dtd\">\r\n<svg height=\"385.535pt\" version=\"1.1\" viewBox=\"0 0 880.665625 385.535\" width=\"880.665625pt\" xmlns=\"http://www.w3.org/2000/svg\" xmlns:xlink=\"http://www.w3.org/1999/xlink\">\r\n <metadata>\r\n  <rdf:RDF xmlns:cc=\"http://creativecommons.org/ns#\" xmlns:dc=\"http://purl.org/dc/elements/1.1/\" xmlns:rdf=\"http://www.w3.org/1999/02/22-rdf-syntax-ns#\">\r\n   <cc:Work>\r\n    <dc:type rdf:resource=\"http://purl.org/dc/dcmitype/StillImage\"/>\r\n    <dc:date>2021-04-18T18:59:05.789791</dc:date>\r\n    <dc:format>image/svg+xml</dc:format>\r\n    <dc:creator>\r\n     <cc:Agent>\r\n      <dc:title>Matplotlib v3.4.0, https://matplotlib.org/</dc:title>\r\n     </cc:Agent>\r\n    </dc:creator>\r\n   </cc:Work>\r\n  </rdf:RDF>\r\n </metadata>\r\n <defs>\r\n  <style type=\"text/css\">*{stroke-linecap:butt;stroke-linejoin:round;}</style>\r\n </defs>\r\n <g id=\"figure_1\">\r\n  <g id=\"patch_1\">\r\n   <path d=\"M 0 385.535 \r\nL 880.665625 385.535 \r\nL 880.665625 0 \r\nL 0 0 \r\nz\r\n\" style=\"fill:none;\"/>\r\n  </g>\r\n  <g id=\"axes_1\">\r\n   <g id=\"patch_2\">\r\n    <path d=\"M 36.465625 333.36 \r\nL 873.465625 333.36 \r\nL 873.465625 7.2 \r\nL 36.465625 7.2 \r\nz\r\n\" style=\"fill:#ffffff;\"/>\r\n   </g>\r\n   <g id=\"patch_3\">\r\n    <path clip-path=\"url(#pc1615b59d8)\" d=\"M 55.488352 333.36 \r\nL 93.533807 333.36 \r\nL 93.533807 333.36 \r\nL 55.488352 333.36 \r\nz\r\n\" style=\"fill:#1f77b4;\"/>\r\n   </g>\r\n   <g id=\"patch_4\">\r\n    <path clip-path=\"url(#pc1615b59d8)\" d=\"M 131.579261 333.36 \r\nL 169.624716 333.36 \r\nL 169.624716 333.36 \r\nL 131.579261 333.36 \r\nz\r\n\" style=\"fill:#1f77b4;\"/>\r\n   </g>\r\n   <g id=\"patch_5\">\r\n    <path clip-path=\"url(#pc1615b59d8)\" d=\"M 207.67017 333.36 \r\nL 245.715625 333.36 \r\nL 245.715625 333.36 \r\nL 207.67017 333.36 \r\nz\r\n\" style=\"fill:#1f77b4;\"/>\r\n   </g>\r\n   <g id=\"patch_6\">\r\n    <path clip-path=\"url(#pc1615b59d8)\" d=\"M 283.76108 333.36 \r\nL 321.806534 333.36 \r\nL 321.806534 333.36 \r\nL 283.76108 333.36 \r\nz\r\n\" style=\"fill:#1f77b4;\"/>\r\n   </g>\r\n   <g id=\"patch_7\">\r\n    <path clip-path=\"url(#pc1615b59d8)\" d=\"M 359.851989 333.36 \r\nL 397.897443 333.36 \r\nL 397.897443 329.321235 \r\nL 359.851989 329.321235 \r\nz\r\n\" style=\"fill:#1f77b4;\"/>\r\n   </g>\r\n   <g id=\"patch_8\">\r\n    <path clip-path=\"url(#pc1615b59d8)\" d=\"M 435.942898 333.36 \r\nL 473.988352 333.36 \r\nL 473.988352 325.188726 \r\nL 435.942898 325.188726 \r\nz\r\n\" style=\"fill:#1f77b4;\"/>\r\n   </g>\r\n   <g id=\"patch_9\">\r\n    <path clip-path=\"url(#pc1615b59d8)\" d=\"M 512.033807 333.36 \r\nL 550.079261 333.36 \r\nL 550.079261 311.192204 \r\nL 512.033807 311.192204 \r\nz\r\n\" style=\"fill:#1f77b4;\"/>\r\n   </g>\r\n   <g id=\"patch_10\">\r\n    <path clip-path=\"url(#pc1615b59d8)\" d=\"M 588.124716 333.36 \r\nL 626.17017 333.36 \r\nL 626.17017 280.772258 \r\nL 588.124716 280.772258 \r\nz\r\n\" style=\"fill:#1f77b4;\"/>\r\n   </g>\r\n   <g id=\"patch_11\">\r\n    <path clip-path=\"url(#pc1615b59d8)\" d=\"M 664.215625 333.36 \r\nL 702.26108 333.36 \r\nL 702.26108 142.162759 \r\nL 664.215625 142.162759 \r\nz\r\n\" style=\"fill:#1f77b4;\"/>\r\n   </g>\r\n   <g id=\"patch_12\">\r\n    <path clip-path=\"url(#pc1615b59d8)\" d=\"M 740.306534 333.36 \r\nL 778.351989 333.36 \r\nL 778.351989 22.731429 \r\nL 740.306534 22.731429 \r\nz\r\n\" style=\"fill:#1f77b4;\"/>\r\n   </g>\r\n   <g id=\"patch_13\">\r\n    <path clip-path=\"url(#pc1615b59d8)\" d=\"M 816.397443 333.36 \r\nL 854.442898 333.36 \r\nL 854.442898 31.606531 \r\nL 816.397443 31.606531 \r\nz\r\n\" style=\"fill:#1f77b4;\"/>\r\n   </g>\r\n   <g id=\"matplotlib.axis_1\">\r\n    <g id=\"xtick_1\">\r\n     <g id=\"line2d_1\">\r\n      <defs>\r\n       <path d=\"M 0 0 \r\nL 0 3.5 \r\n\" id=\"mb013ea0e8f\" style=\"stroke:#000000;stroke-width:0.8;\"/>\r\n      </defs>\r\n      <g>\r\n       <use style=\"stroke:#000000;stroke-width:0.8;\" x=\"74.51108\" xlink:href=\"#mb013ea0e8f\" y=\"333.36\"/>\r\n      </g>\r\n     </g>\r\n     <g id=\"text_1\">\r\n      <!-- 0s -->\r\n      <g transform=\"translate(77.270455 351.931875)rotate(-90)scale(0.1 -0.1)\">\r\n       <defs>\r\n        <path d=\"M 2034 4250 \r\nQ 1547 4250 1301 3770 \r\nQ 1056 3291 1056 2328 \r\nQ 1056 1369 1301 889 \r\nQ 1547 409 2034 409 \r\nQ 2525 409 2770 889 \r\nQ 3016 1369 3016 2328 \r\nQ 3016 3291 2770 3770 \r\nQ 2525 4250 2034 4250 \r\nz\r\nM 2034 4750 \r\nQ 2819 4750 3233 4129 \r\nQ 3647 3509 3647 2328 \r\nQ 3647 1150 3233 529 \r\nQ 2819 -91 2034 -91 \r\nQ 1250 -91 836 529 \r\nQ 422 1150 422 2328 \r\nQ 422 3509 836 4129 \r\nQ 1250 4750 2034 4750 \r\nz\r\n\" id=\"DejaVuSans-30\" transform=\"scale(0.015625)\"/>\r\n        <path d=\"M 2834 3397 \r\nL 2834 2853 \r\nQ 2591 2978 2328 3040 \r\nQ 2066 3103 1784 3103 \r\nQ 1356 3103 1142 2972 \r\nQ 928 2841 928 2578 \r\nQ 928 2378 1081 2264 \r\nQ 1234 2150 1697 2047 \r\nL 1894 2003 \r\nQ 2506 1872 2764 1633 \r\nQ 3022 1394 3022 966 \r\nQ 3022 478 2636 193 \r\nQ 2250 -91 1575 -91 \r\nQ 1294 -91 989 -36 \r\nQ 684 19 347 128 \r\nL 347 722 \r\nQ 666 556 975 473 \r\nQ 1284 391 1588 391 \r\nQ 1994 391 2212 530 \r\nQ 2431 669 2431 922 \r\nQ 2431 1156 2273 1281 \r\nQ 2116 1406 1581 1522 \r\nL 1381 1569 \r\nQ 847 1681 609 1914 \r\nQ 372 2147 372 2553 \r\nQ 372 3047 722 3315 \r\nQ 1072 3584 1716 3584 \r\nQ 2034 3584 2315 3537 \r\nQ 2597 3491 2834 3397 \r\nz\r\n\" id=\"DejaVuSans-73\" transform=\"scale(0.015625)\"/>\r\n       </defs>\r\n       <use xlink:href=\"#DejaVuSans-30\"/>\r\n       <use x=\"63.623047\" xlink:href=\"#DejaVuSans-73\"/>\r\n      </g>\r\n     </g>\r\n    </g>\r\n    <g id=\"xtick_2\">\r\n     <g id=\"line2d_2\">\r\n      <g>\r\n       <use style=\"stroke:#000000;stroke-width:0.8;\" x=\"150.601989\" xlink:href=\"#mb013ea0e8f\" y=\"333.36\"/>\r\n      </g>\r\n     </g>\r\n     <g id=\"text_2\">\r\n      <!-- 100s -->\r\n      <g transform=\"translate(153.361364 364.656875)rotate(-90)scale(0.1 -0.1)\">\r\n       <defs>\r\n        <path d=\"M 794 531 \r\nL 1825 531 \r\nL 1825 4091 \r\nL 703 3866 \r\nL 703 4441 \r\nL 1819 4666 \r\nL 2450 4666 \r\nL 2450 531 \r\nL 3481 531 \r\nL 3481 0 \r\nL 794 0 \r\nL 794 531 \r\nz\r\n\" id=\"DejaVuSans-31\" transform=\"scale(0.015625)\"/>\r\n       </defs>\r\n       <use xlink:href=\"#DejaVuSans-31\"/>\r\n       <use x=\"63.623047\" xlink:href=\"#DejaVuSans-30\"/>\r\n       <use x=\"127.246094\" xlink:href=\"#DejaVuSans-30\"/>\r\n       <use x=\"190.869141\" xlink:href=\"#DejaVuSans-73\"/>\r\n      </g>\r\n     </g>\r\n    </g>\r\n    <g id=\"xtick_3\">\r\n     <g id=\"line2d_3\">\r\n      <g>\r\n       <use style=\"stroke:#000000;stroke-width:0.8;\" x=\"226.692898\" xlink:href=\"#mb013ea0e8f\" y=\"333.36\"/>\r\n      </g>\r\n     </g>\r\n     <g id=\"text_3\">\r\n      <!-- 10s -->\r\n      <g transform=\"translate(229.452273 358.294375)rotate(-90)scale(0.1 -0.1)\">\r\n       <use xlink:href=\"#DejaVuSans-31\"/>\r\n       <use x=\"63.623047\" xlink:href=\"#DejaVuSans-30\"/>\r\n       <use x=\"127.246094\" xlink:href=\"#DejaVuSans-73\"/>\r\n      </g>\r\n     </g>\r\n    </g>\r\n    <g id=\"xtick_4\">\r\n     <g id=\"line2d_4\">\r\n      <g>\r\n       <use style=\"stroke:#000000;stroke-width:0.8;\" x=\"302.783807\" xlink:href=\"#mb013ea0e8f\" y=\"333.36\"/>\r\n      </g>\r\n     </g>\r\n     <g id=\"text_4\">\r\n      <!-- 20s -->\r\n      <g transform=\"translate(305.543182 358.294375)rotate(-90)scale(0.1 -0.1)\">\r\n       <defs>\r\n        <path d=\"M 1228 531 \r\nL 3431 531 \r\nL 3431 0 \r\nL 469 0 \r\nL 469 531 \r\nQ 828 903 1448 1529 \r\nQ 2069 2156 2228 2338 \r\nQ 2531 2678 2651 2914 \r\nQ 2772 3150 2772 3378 \r\nQ 2772 3750 2511 3984 \r\nQ 2250 4219 1831 4219 \r\nQ 1534 4219 1204 4116 \r\nQ 875 4013 500 3803 \r\nL 500 4441 \r\nQ 881 4594 1212 4672 \r\nQ 1544 4750 1819 4750 \r\nQ 2544 4750 2975 4387 \r\nQ 3406 4025 3406 3419 \r\nQ 3406 3131 3298 2873 \r\nQ 3191 2616 2906 2266 \r\nQ 2828 2175 2409 1742 \r\nQ 1991 1309 1228 531 \r\nz\r\n\" id=\"DejaVuSans-32\" transform=\"scale(0.015625)\"/>\r\n       </defs>\r\n       <use xlink:href=\"#DejaVuSans-32\"/>\r\n       <use x=\"63.623047\" xlink:href=\"#DejaVuSans-30\"/>\r\n       <use x=\"127.246094\" xlink:href=\"#DejaVuSans-73\"/>\r\n      </g>\r\n     </g>\r\n    </g>\r\n    <g id=\"xtick_5\">\r\n     <g id=\"line2d_5\">\r\n      <g>\r\n       <use style=\"stroke:#000000;stroke-width:0.8;\" x=\"378.874716\" xlink:href=\"#mb013ea0e8f\" y=\"333.36\"/>\r\n      </g>\r\n     </g>\r\n     <g id=\"text_5\">\r\n      <!-- 30s -->\r\n      <g transform=\"translate(381.634091 358.294375)rotate(-90)scale(0.1 -0.1)\">\r\n       <defs>\r\n        <path d=\"M 2597 2516 \r\nQ 3050 2419 3304 2112 \r\nQ 3559 1806 3559 1356 \r\nQ 3559 666 3084 287 \r\nQ 2609 -91 1734 -91 \r\nQ 1441 -91 1130 -33 \r\nQ 819 25 488 141 \r\nL 488 750 \r\nQ 750 597 1062 519 \r\nQ 1375 441 1716 441 \r\nQ 2309 441 2620 675 \r\nQ 2931 909 2931 1356 \r\nQ 2931 1769 2642 2001 \r\nQ 2353 2234 1838 2234 \r\nL 1294 2234 \r\nL 1294 2753 \r\nL 1863 2753 \r\nQ 2328 2753 2575 2939 \r\nQ 2822 3125 2822 3475 \r\nQ 2822 3834 2567 4026 \r\nQ 2313 4219 1838 4219 \r\nQ 1578 4219 1281 4162 \r\nQ 984 4106 628 3988 \r\nL 628 4550 \r\nQ 988 4650 1302 4700 \r\nQ 1616 4750 1894 4750 \r\nQ 2613 4750 3031 4423 \r\nQ 3450 4097 3450 3541 \r\nQ 3450 3153 3228 2886 \r\nQ 3006 2619 2597 2516 \r\nz\r\n\" id=\"DejaVuSans-33\" transform=\"scale(0.015625)\"/>\r\n       </defs>\r\n       <use xlink:href=\"#DejaVuSans-33\"/>\r\n       <use x=\"63.623047\" xlink:href=\"#DejaVuSans-30\"/>\r\n       <use x=\"127.246094\" xlink:href=\"#DejaVuSans-73\"/>\r\n      </g>\r\n     </g>\r\n    </g>\r\n    <g id=\"xtick_6\">\r\n     <g id=\"line2d_6\">\r\n      <g>\r\n       <use style=\"stroke:#000000;stroke-width:0.8;\" x=\"454.965625\" xlink:href=\"#mb013ea0e8f\" y=\"333.36\"/>\r\n      </g>\r\n     </g>\r\n     <g id=\"text_6\">\r\n      <!-- 40s -->\r\n      <g transform=\"translate(457.725 358.294375)rotate(-90)scale(0.1 -0.1)\">\r\n       <defs>\r\n        <path d=\"M 2419 4116 \r\nL 825 1625 \r\nL 2419 1625 \r\nL 2419 4116 \r\nz\r\nM 2253 4666 \r\nL 3047 4666 \r\nL 3047 1625 \r\nL 3713 1625 \r\nL 3713 1100 \r\nL 3047 1100 \r\nL 3047 0 \r\nL 2419 0 \r\nL 2419 1100 \r\nL 313 1100 \r\nL 313 1709 \r\nL 2253 4666 \r\nz\r\n\" id=\"DejaVuSans-34\" transform=\"scale(0.015625)\"/>\r\n       </defs>\r\n       <use xlink:href=\"#DejaVuSans-34\"/>\r\n       <use x=\"63.623047\" xlink:href=\"#DejaVuSans-30\"/>\r\n       <use x=\"127.246094\" xlink:href=\"#DejaVuSans-73\"/>\r\n      </g>\r\n     </g>\r\n    </g>\r\n    <g id=\"xtick_7\">\r\n     <g id=\"line2d_7\">\r\n      <g>\r\n       <use style=\"stroke:#000000;stroke-width:0.8;\" x=\"531.056534\" xlink:href=\"#mb013ea0e8f\" y=\"333.36\"/>\r\n      </g>\r\n     </g>\r\n     <g id=\"text_7\">\r\n      <!-- 50s -->\r\n      <g transform=\"translate(533.815909 358.294375)rotate(-90)scale(0.1 -0.1)\">\r\n       <defs>\r\n        <path d=\"M 691 4666 \r\nL 3169 4666 \r\nL 3169 4134 \r\nL 1269 4134 \r\nL 1269 2991 \r\nQ 1406 3038 1543 3061 \r\nQ 1681 3084 1819 3084 \r\nQ 2600 3084 3056 2656 \r\nQ 3513 2228 3513 1497 \r\nQ 3513 744 3044 326 \r\nQ 2575 -91 1722 -91 \r\nQ 1428 -91 1123 -41 \r\nQ 819 9 494 109 \r\nL 494 744 \r\nQ 775 591 1075 516 \r\nQ 1375 441 1709 441 \r\nQ 2250 441 2565 725 \r\nQ 2881 1009 2881 1497 \r\nQ 2881 1984 2565 2268 \r\nQ 2250 2553 1709 2553 \r\nQ 1456 2553 1204 2497 \r\nQ 953 2441 691 2322 \r\nL 691 4666 \r\nz\r\n\" id=\"DejaVuSans-35\" transform=\"scale(0.015625)\"/>\r\n       </defs>\r\n       <use xlink:href=\"#DejaVuSans-35\"/>\r\n       <use x=\"63.623047\" xlink:href=\"#DejaVuSans-30\"/>\r\n       <use x=\"127.246094\" xlink:href=\"#DejaVuSans-73\"/>\r\n      </g>\r\n     </g>\r\n    </g>\r\n    <g id=\"xtick_8\">\r\n     <g id=\"line2d_8\">\r\n      <g>\r\n       <use style=\"stroke:#000000;stroke-width:0.8;\" x=\"607.147443\" xlink:href=\"#mb013ea0e8f\" y=\"333.36\"/>\r\n      </g>\r\n     </g>\r\n     <g id=\"text_8\">\r\n      <!-- 60s -->\r\n      <g transform=\"translate(609.906818 358.294375)rotate(-90)scale(0.1 -0.1)\">\r\n       <defs>\r\n        <path d=\"M 2113 2584 \r\nQ 1688 2584 1439 2293 \r\nQ 1191 2003 1191 1497 \r\nQ 1191 994 1439 701 \r\nQ 1688 409 2113 409 \r\nQ 2538 409 2786 701 \r\nQ 3034 994 3034 1497 \r\nQ 3034 2003 2786 2293 \r\nQ 2538 2584 2113 2584 \r\nz\r\nM 3366 4563 \r\nL 3366 3988 \r\nQ 3128 4100 2886 4159 \r\nQ 2644 4219 2406 4219 \r\nQ 1781 4219 1451 3797 \r\nQ 1122 3375 1075 2522 \r\nQ 1259 2794 1537 2939 \r\nQ 1816 3084 2150 3084 \r\nQ 2853 3084 3261 2657 \r\nQ 3669 2231 3669 1497 \r\nQ 3669 778 3244 343 \r\nQ 2819 -91 2113 -91 \r\nQ 1303 -91 875 529 \r\nQ 447 1150 447 2328 \r\nQ 447 3434 972 4092 \r\nQ 1497 4750 2381 4750 \r\nQ 2619 4750 2861 4703 \r\nQ 3103 4656 3366 4563 \r\nz\r\n\" id=\"DejaVuSans-36\" transform=\"scale(0.015625)\"/>\r\n       </defs>\r\n       <use xlink:href=\"#DejaVuSans-36\"/>\r\n       <use x=\"63.623047\" xlink:href=\"#DejaVuSans-30\"/>\r\n       <use x=\"127.246094\" xlink:href=\"#DejaVuSans-73\"/>\r\n      </g>\r\n     </g>\r\n    </g>\r\n    <g id=\"xtick_9\">\r\n     <g id=\"line2d_9\">\r\n      <g>\r\n       <use style=\"stroke:#000000;stroke-width:0.8;\" x=\"683.238352\" xlink:href=\"#mb013ea0e8f\" y=\"333.36\"/>\r\n      </g>\r\n     </g>\r\n     <g id=\"text_9\">\r\n      <!-- 70s -->\r\n      <g transform=\"translate(685.997727 358.294375)rotate(-90)scale(0.1 -0.1)\">\r\n       <defs>\r\n        <path d=\"M 525 4666 \r\nL 3525 4666 \r\nL 3525 4397 \r\nL 1831 0 \r\nL 1172 0 \r\nL 2766 4134 \r\nL 525 4134 \r\nL 525 4666 \r\nz\r\n\" id=\"DejaVuSans-37\" transform=\"scale(0.015625)\"/>\r\n       </defs>\r\n       <use xlink:href=\"#DejaVuSans-37\"/>\r\n       <use x=\"63.623047\" xlink:href=\"#DejaVuSans-30\"/>\r\n       <use x=\"127.246094\" xlink:href=\"#DejaVuSans-73\"/>\r\n      </g>\r\n     </g>\r\n    </g>\r\n    <g id=\"xtick_10\">\r\n     <g id=\"line2d_10\">\r\n      <g>\r\n       <use style=\"stroke:#000000;stroke-width:0.8;\" x=\"759.329261\" xlink:href=\"#mb013ea0e8f\" y=\"333.36\"/>\r\n      </g>\r\n     </g>\r\n     <g id=\"text_10\">\r\n      <!-- 80s -->\r\n      <g transform=\"translate(762.088636 358.294375)rotate(-90)scale(0.1 -0.1)\">\r\n       <defs>\r\n        <path d=\"M 2034 2216 \r\nQ 1584 2216 1326 1975 \r\nQ 1069 1734 1069 1313 \r\nQ 1069 891 1326 650 \r\nQ 1584 409 2034 409 \r\nQ 2484 409 2743 651 \r\nQ 3003 894 3003 1313 \r\nQ 3003 1734 2745 1975 \r\nQ 2488 2216 2034 2216 \r\nz\r\nM 1403 2484 \r\nQ 997 2584 770 2862 \r\nQ 544 3141 544 3541 \r\nQ 544 4100 942 4425 \r\nQ 1341 4750 2034 4750 \r\nQ 2731 4750 3128 4425 \r\nQ 3525 4100 3525 3541 \r\nQ 3525 3141 3298 2862 \r\nQ 3072 2584 2669 2484 \r\nQ 3125 2378 3379 2068 \r\nQ 3634 1759 3634 1313 \r\nQ 3634 634 3220 271 \r\nQ 2806 -91 2034 -91 \r\nQ 1263 -91 848 271 \r\nQ 434 634 434 1313 \r\nQ 434 1759 690 2068 \r\nQ 947 2378 1403 2484 \r\nz\r\nM 1172 3481 \r\nQ 1172 3119 1398 2916 \r\nQ 1625 2713 2034 2713 \r\nQ 2441 2713 2670 2916 \r\nQ 2900 3119 2900 3481 \r\nQ 2900 3844 2670 4047 \r\nQ 2441 4250 2034 4250 \r\nQ 1625 4250 1398 4047 \r\nQ 1172 3844 1172 3481 \r\nz\r\n\" id=\"DejaVuSans-38\" transform=\"scale(0.015625)\"/>\r\n       </defs>\r\n       <use xlink:href=\"#DejaVuSans-38\"/>\r\n       <use x=\"63.623047\" xlink:href=\"#DejaVuSans-30\"/>\r\n       <use x=\"127.246094\" xlink:href=\"#DejaVuSans-73\"/>\r\n      </g>\r\n     </g>\r\n    </g>\r\n    <g id=\"xtick_11\">\r\n     <g id=\"line2d_11\">\r\n      <g>\r\n       <use style=\"stroke:#000000;stroke-width:0.8;\" x=\"835.42017\" xlink:href=\"#mb013ea0e8f\" y=\"333.36\"/>\r\n      </g>\r\n     </g>\r\n     <g id=\"text_11\">\r\n      <!-- 90s -->\r\n      <g transform=\"translate(838.179545 358.294375)rotate(-90)scale(0.1 -0.1)\">\r\n       <defs>\r\n        <path d=\"M 703 97 \r\nL 703 672 \r\nQ 941 559 1184 500 \r\nQ 1428 441 1663 441 \r\nQ 2288 441 2617 861 \r\nQ 2947 1281 2994 2138 \r\nQ 2813 1869 2534 1725 \r\nQ 2256 1581 1919 1581 \r\nQ 1219 1581 811 2004 \r\nQ 403 2428 403 3163 \r\nQ 403 3881 828 4315 \r\nQ 1253 4750 1959 4750 \r\nQ 2769 4750 3195 4129 \r\nQ 3622 3509 3622 2328 \r\nQ 3622 1225 3098 567 \r\nQ 2575 -91 1691 -91 \r\nQ 1453 -91 1209 -44 \r\nQ 966 3 703 97 \r\nz\r\nM 1959 2075 \r\nQ 2384 2075 2632 2365 \r\nQ 2881 2656 2881 3163 \r\nQ 2881 3666 2632 3958 \r\nQ 2384 4250 1959 4250 \r\nQ 1534 4250 1286 3958 \r\nQ 1038 3666 1038 3163 \r\nQ 1038 2656 1286 2365 \r\nQ 1534 2075 1959 2075 \r\nz\r\n\" id=\"DejaVuSans-39\" transform=\"scale(0.015625)\"/>\r\n       </defs>\r\n       <use xlink:href=\"#DejaVuSans-39\"/>\r\n       <use x=\"63.623047\" xlink:href=\"#DejaVuSans-30\"/>\r\n       <use x=\"127.246094\" xlink:href=\"#DejaVuSans-73\"/>\r\n      </g>\r\n     </g>\r\n    </g>\r\n    <g id=\"text_12\">\r\n     <!-- age -->\r\n     <g transform=\"translate(445.650781 376.255313)scale(0.1 -0.1)\">\r\n      <defs>\r\n       <path d=\"M 2194 1759 \r\nQ 1497 1759 1228 1600 \r\nQ 959 1441 959 1056 \r\nQ 959 750 1161 570 \r\nQ 1363 391 1709 391 \r\nQ 2188 391 2477 730 \r\nQ 2766 1069 2766 1631 \r\nL 2766 1759 \r\nL 2194 1759 \r\nz\r\nM 3341 1997 \r\nL 3341 0 \r\nL 2766 0 \r\nL 2766 531 \r\nQ 2569 213 2275 61 \r\nQ 1981 -91 1556 -91 \r\nQ 1019 -91 701 211 \r\nQ 384 513 384 1019 \r\nQ 384 1609 779 1909 \r\nQ 1175 2209 1959 2209 \r\nL 2766 2209 \r\nL 2766 2266 \r\nQ 2766 2663 2505 2880 \r\nQ 2244 3097 1772 3097 \r\nQ 1472 3097 1187 3025 \r\nQ 903 2953 641 2809 \r\nL 641 3341 \r\nQ 956 3463 1253 3523 \r\nQ 1550 3584 1831 3584 \r\nQ 2591 3584 2966 3190 \r\nQ 3341 2797 3341 1997 \r\nz\r\n\" id=\"DejaVuSans-61\" transform=\"scale(0.015625)\"/>\r\n       <path d=\"M 2906 1791 \r\nQ 2906 2416 2648 2759 \r\nQ 2391 3103 1925 3103 \r\nQ 1463 3103 1205 2759 \r\nQ 947 2416 947 1791 \r\nQ 947 1169 1205 825 \r\nQ 1463 481 1925 481 \r\nQ 2391 481 2648 825 \r\nQ 2906 1169 2906 1791 \r\nz\r\nM 3481 434 \r\nQ 3481 -459 3084 -895 \r\nQ 2688 -1331 1869 -1331 \r\nQ 1566 -1331 1297 -1286 \r\nQ 1028 -1241 775 -1147 \r\nL 775 -588 \r\nQ 1028 -725 1275 -790 \r\nQ 1522 -856 1778 -856 \r\nQ 2344 -856 2625 -561 \r\nQ 2906 -266 2906 331 \r\nL 2906 616 \r\nQ 2728 306 2450 153 \r\nQ 2172 0 1784 0 \r\nQ 1141 0 747 490 \r\nQ 353 981 353 1791 \r\nQ 353 2603 747 3093 \r\nQ 1141 3584 1784 3584 \r\nQ 2172 3584 2450 3431 \r\nQ 2728 3278 2906 2969 \r\nL 2906 3500 \r\nL 3481 3500 \r\nL 3481 434 \r\nz\r\n\" id=\"DejaVuSans-67\" transform=\"scale(0.015625)\"/>\r\n       <path d=\"M 3597 1894 \r\nL 3597 1613 \r\nL 953 1613 \r\nQ 991 1019 1311 708 \r\nQ 1631 397 2203 397 \r\nQ 2534 397 2845 478 \r\nQ 3156 559 3463 722 \r\nL 3463 178 \r\nQ 3153 47 2828 -22 \r\nQ 2503 -91 2169 -91 \r\nQ 1331 -91 842 396 \r\nQ 353 884 353 1716 \r\nQ 353 2575 817 3079 \r\nQ 1281 3584 2069 3584 \r\nQ 2775 3584 3186 3129 \r\nQ 3597 2675 3597 1894 \r\nz\r\nM 3022 2063 \r\nQ 3016 2534 2758 2815 \r\nQ 2500 3097 2075 3097 \r\nQ 1594 3097 1305 2825 \r\nQ 1016 2553 972 2059 \r\nL 3022 2063 \r\nz\r\n\" id=\"DejaVuSans-65\" transform=\"scale(0.015625)\"/>\r\n      </defs>\r\n      <use xlink:href=\"#DejaVuSans-61\"/>\r\n      <use x=\"61.279297\" xlink:href=\"#DejaVuSans-67\"/>\r\n      <use x=\"124.755859\" xlink:href=\"#DejaVuSans-65\"/>\r\n     </g>\r\n    </g>\r\n   </g>\r\n   <g id=\"matplotlib.axis_2\">\r\n    <g id=\"ytick_1\">\r\n     <g id=\"line2d_12\">\r\n      <defs>\r\n       <path d=\"M 0 0 \r\nL -3.5 0 \r\n\" id=\"m99ce254d73\" style=\"stroke:#000000;stroke-width:0.8;\"/>\r\n      </defs>\r\n      <g>\r\n       <use style=\"stroke:#000000;stroke-width:0.8;\" x=\"36.465625\" xlink:href=\"#m99ce254d73\" y=\"333.36\"/>\r\n      </g>\r\n     </g>\r\n     <g id=\"text_13\">\r\n      <!-- 0.00 -->\r\n      <g transform=\"translate(7.2 337.159219)scale(0.1 -0.1)\">\r\n       <defs>\r\n        <path d=\"M 684 794 \r\nL 1344 794 \r\nL 1344 0 \r\nL 684 0 \r\nL 684 794 \r\nz\r\n\" id=\"DejaVuSans-2e\" transform=\"scale(0.015625)\"/>\r\n       </defs>\r\n       <use xlink:href=\"#DejaVuSans-30\"/>\r\n       <use x=\"63.623047\" xlink:href=\"#DejaVuSans-2e\"/>\r\n       <use x=\"95.410156\" xlink:href=\"#DejaVuSans-30\"/>\r\n       <use x=\"159.033203\" xlink:href=\"#DejaVuSans-30\"/>\r\n      </g>\r\n     </g>\r\n    </g>\r\n    <g id=\"ytick_2\">\r\n     <g id=\"line2d_13\">\r\n      <g>\r\n       <use style=\"stroke:#000000;stroke-width:0.8;\" x=\"36.465625\" xlink:href=\"#m99ce254d73\" y=\"291.114514\"/>\r\n      </g>\r\n     </g>\r\n     <g id=\"text_14\">\r\n      <!-- 0.02 -->\r\n      <g transform=\"translate(7.2 294.913733)scale(0.1 -0.1)\">\r\n       <use xlink:href=\"#DejaVuSans-30\"/>\r\n       <use x=\"63.623047\" xlink:href=\"#DejaVuSans-2e\"/>\r\n       <use x=\"95.410156\" xlink:href=\"#DejaVuSans-30\"/>\r\n       <use x=\"159.033203\" xlink:href=\"#DejaVuSans-32\"/>\r\n      </g>\r\n     </g>\r\n    </g>\r\n    <g id=\"ytick_3\">\r\n     <g id=\"line2d_14\">\r\n      <g>\r\n       <use style=\"stroke:#000000;stroke-width:0.8;\" x=\"36.465625\" xlink:href=\"#m99ce254d73\" y=\"248.869029\"/>\r\n      </g>\r\n     </g>\r\n     <g id=\"text_15\">\r\n      <!-- 0.04 -->\r\n      <g transform=\"translate(7.2 252.668247)scale(0.1 -0.1)\">\r\n       <use xlink:href=\"#DejaVuSans-30\"/>\r\n       <use x=\"63.623047\" xlink:href=\"#DejaVuSans-2e\"/>\r\n       <use x=\"95.410156\" xlink:href=\"#DejaVuSans-30\"/>\r\n       <use x=\"159.033203\" xlink:href=\"#DejaVuSans-34\"/>\r\n      </g>\r\n     </g>\r\n    </g>\r\n    <g id=\"ytick_4\">\r\n     <g id=\"line2d_15\">\r\n      <g>\r\n       <use style=\"stroke:#000000;stroke-width:0.8;\" x=\"36.465625\" xlink:href=\"#m99ce254d73\" y=\"206.623543\"/>\r\n      </g>\r\n     </g>\r\n     <g id=\"text_16\">\r\n      <!-- 0.06 -->\r\n      <g transform=\"translate(7.2 210.422762)scale(0.1 -0.1)\">\r\n       <use xlink:href=\"#DejaVuSans-30\"/>\r\n       <use x=\"63.623047\" xlink:href=\"#DejaVuSans-2e\"/>\r\n       <use x=\"95.410156\" xlink:href=\"#DejaVuSans-30\"/>\r\n       <use x=\"159.033203\" xlink:href=\"#DejaVuSans-36\"/>\r\n      </g>\r\n     </g>\r\n    </g>\r\n    <g id=\"ytick_5\">\r\n     <g id=\"line2d_16\">\r\n      <g>\r\n       <use style=\"stroke:#000000;stroke-width:0.8;\" x=\"36.465625\" xlink:href=\"#m99ce254d73\" y=\"164.378057\"/>\r\n      </g>\r\n     </g>\r\n     <g id=\"text_17\">\r\n      <!-- 0.08 -->\r\n      <g transform=\"translate(7.2 168.177276)scale(0.1 -0.1)\">\r\n       <use xlink:href=\"#DejaVuSans-30\"/>\r\n       <use x=\"63.623047\" xlink:href=\"#DejaVuSans-2e\"/>\r\n       <use x=\"95.410156\" xlink:href=\"#DejaVuSans-30\"/>\r\n       <use x=\"159.033203\" xlink:href=\"#DejaVuSans-38\"/>\r\n      </g>\r\n     </g>\r\n    </g>\r\n    <g id=\"ytick_6\">\r\n     <g id=\"line2d_17\">\r\n      <g>\r\n       <use style=\"stroke:#000000;stroke-width:0.8;\" x=\"36.465625\" xlink:href=\"#m99ce254d73\" y=\"122.132571\"/>\r\n      </g>\r\n     </g>\r\n     <g id=\"text_18\">\r\n      <!-- 0.10 -->\r\n      <g transform=\"translate(7.2 125.93179)scale(0.1 -0.1)\">\r\n       <use xlink:href=\"#DejaVuSans-30\"/>\r\n       <use x=\"63.623047\" xlink:href=\"#DejaVuSans-2e\"/>\r\n       <use x=\"95.410156\" xlink:href=\"#DejaVuSans-31\"/>\r\n       <use x=\"159.033203\" xlink:href=\"#DejaVuSans-30\"/>\r\n      </g>\r\n     </g>\r\n    </g>\r\n    <g id=\"ytick_7\">\r\n     <g id=\"line2d_18\">\r\n      <g>\r\n       <use style=\"stroke:#000000;stroke-width:0.8;\" x=\"36.465625\" xlink:href=\"#m99ce254d73\" y=\"79.887086\"/>\r\n      </g>\r\n     </g>\r\n     <g id=\"text_19\">\r\n      <!-- 0.12 -->\r\n      <g transform=\"translate(7.2 83.686304)scale(0.1 -0.1)\">\r\n       <use xlink:href=\"#DejaVuSans-30\"/>\r\n       <use x=\"63.623047\" xlink:href=\"#DejaVuSans-2e\"/>\r\n       <use x=\"95.410156\" xlink:href=\"#DejaVuSans-31\"/>\r\n       <use x=\"159.033203\" xlink:href=\"#DejaVuSans-32\"/>\r\n      </g>\r\n     </g>\r\n    </g>\r\n    <g id=\"ytick_8\">\r\n     <g id=\"line2d_19\">\r\n      <g>\r\n       <use style=\"stroke:#000000;stroke-width:0.8;\" x=\"36.465625\" xlink:href=\"#m99ce254d73\" y=\"37.6416\"/>\r\n      </g>\r\n     </g>\r\n     <g id=\"text_20\">\r\n      <!-- 0.14 -->\r\n      <g transform=\"translate(7.2 41.440819)scale(0.1 -0.1)\">\r\n       <use xlink:href=\"#DejaVuSans-30\"/>\r\n       <use x=\"63.623047\" xlink:href=\"#DejaVuSans-2e\"/>\r\n       <use x=\"95.410156\" xlink:href=\"#DejaVuSans-31\"/>\r\n       <use x=\"159.033203\" xlink:href=\"#DejaVuSans-34\"/>\r\n      </g>\r\n     </g>\r\n    </g>\r\n   </g>\r\n   <g id=\"patch_14\">\r\n    <path d=\"M 36.465625 333.36 \r\nL 36.465625 7.2 \r\n\" style=\"fill:none;stroke:#000000;stroke-linecap:square;stroke-linejoin:miter;stroke-width:0.8;\"/>\r\n   </g>\r\n   <g id=\"patch_15\">\r\n    <path d=\"M 873.465625 333.36 \r\nL 873.465625 7.2 \r\n\" style=\"fill:none;stroke:#000000;stroke-linecap:square;stroke-linejoin:miter;stroke-width:0.8;\"/>\r\n   </g>\r\n   <g id=\"patch_16\">\r\n    <path d=\"M 36.465625 333.36 \r\nL 873.465625 333.36 \r\n\" style=\"fill:none;stroke:#000000;stroke-linecap:square;stroke-linejoin:miter;stroke-width:0.8;\"/>\r\n   </g>\r\n   <g id=\"patch_17\">\r\n    <path d=\"M 36.465625 7.2 \r\nL 873.465625 7.2 \r\n\" style=\"fill:none;stroke:#000000;stroke-linecap:square;stroke-linejoin:miter;stroke-width:0.8;\"/>\r\n   </g>\r\n   <g id=\"legend_1\">\r\n    <g id=\"patch_18\">\r\n     <path d=\"M 43.465625 30.15625 \r\nL 146.192188 30.15625 \r\nQ 148.192188 30.15625 148.192188 28.15625 \r\nL 148.192188 14.2 \r\nQ 148.192188 12.2 146.192188 12.2 \r\nL 43.465625 12.2 \r\nQ 41.465625 12.2 41.465625 14.2 \r\nL 41.465625 28.15625 \r\nQ 41.465625 30.15625 43.465625 30.15625 \r\nz\r\n\" style=\"fill:#ffffff;opacity:0.8;stroke:#cccccc;stroke-linejoin:miter;\"/>\r\n    </g>\r\n    <g id=\"patch_19\">\r\n     <path d=\"M 45.465625 23.798437 \r\nL 65.465625 23.798437 \r\nL 65.465625 16.798437 \r\nL 45.465625 16.798437 \r\nz\r\n\" style=\"fill:#1f77b4;\"/>\r\n    </g>\r\n    <g id=\"text_21\">\r\n     <!-- mortality_rate -->\r\n     <g transform=\"translate(73.465625 23.798437)scale(0.1 -0.1)\">\r\n      <defs>\r\n       <path d=\"M 3328 2828 \r\nQ 3544 3216 3844 3400 \r\nQ 4144 3584 4550 3584 \r\nQ 5097 3584 5394 3201 \r\nQ 5691 2819 5691 2113 \r\nL 5691 0 \r\nL 5113 0 \r\nL 5113 2094 \r\nQ 5113 2597 4934 2840 \r\nQ 4756 3084 4391 3084 \r\nQ 3944 3084 3684 2787 \r\nQ 3425 2491 3425 1978 \r\nL 3425 0 \r\nL 2847 0 \r\nL 2847 2094 \r\nQ 2847 2600 2669 2842 \r\nQ 2491 3084 2119 3084 \r\nQ 1678 3084 1418 2786 \r\nQ 1159 2488 1159 1978 \r\nL 1159 0 \r\nL 581 0 \r\nL 581 3500 \r\nL 1159 3500 \r\nL 1159 2956 \r\nQ 1356 3278 1631 3431 \r\nQ 1906 3584 2284 3584 \r\nQ 2666 3584 2933 3390 \r\nQ 3200 3197 3328 2828 \r\nz\r\n\" id=\"DejaVuSans-6d\" transform=\"scale(0.015625)\"/>\r\n       <path d=\"M 1959 3097 \r\nQ 1497 3097 1228 2736 \r\nQ 959 2375 959 1747 \r\nQ 959 1119 1226 758 \r\nQ 1494 397 1959 397 \r\nQ 2419 397 2687 759 \r\nQ 2956 1122 2956 1747 \r\nQ 2956 2369 2687 2733 \r\nQ 2419 3097 1959 3097 \r\nz\r\nM 1959 3584 \r\nQ 2709 3584 3137 3096 \r\nQ 3566 2609 3566 1747 \r\nQ 3566 888 3137 398 \r\nQ 2709 -91 1959 -91 \r\nQ 1206 -91 779 398 \r\nQ 353 888 353 1747 \r\nQ 353 2609 779 3096 \r\nQ 1206 3584 1959 3584 \r\nz\r\n\" id=\"DejaVuSans-6f\" transform=\"scale(0.015625)\"/>\r\n       <path d=\"M 2631 2963 \r\nQ 2534 3019 2420 3045 \r\nQ 2306 3072 2169 3072 \r\nQ 1681 3072 1420 2755 \r\nQ 1159 2438 1159 1844 \r\nL 1159 0 \r\nL 581 0 \r\nL 581 3500 \r\nL 1159 3500 \r\nL 1159 2956 \r\nQ 1341 3275 1631 3429 \r\nQ 1922 3584 2338 3584 \r\nQ 2397 3584 2469 3576 \r\nQ 2541 3569 2628 3553 \r\nL 2631 2963 \r\nz\r\n\" id=\"DejaVuSans-72\" transform=\"scale(0.015625)\"/>\r\n       <path d=\"M 1172 4494 \r\nL 1172 3500 \r\nL 2356 3500 \r\nL 2356 3053 \r\nL 1172 3053 \r\nL 1172 1153 \r\nQ 1172 725 1289 603 \r\nQ 1406 481 1766 481 \r\nL 2356 481 \r\nL 2356 0 \r\nL 1766 0 \r\nQ 1100 0 847 248 \r\nQ 594 497 594 1153 \r\nL 594 3053 \r\nL 172 3053 \r\nL 172 3500 \r\nL 594 3500 \r\nL 594 4494 \r\nL 1172 4494 \r\nz\r\n\" id=\"DejaVuSans-74\" transform=\"scale(0.015625)\"/>\r\n       <path d=\"M 603 4863 \r\nL 1178 4863 \r\nL 1178 0 \r\nL 603 0 \r\nL 603 4863 \r\nz\r\n\" id=\"DejaVuSans-6c\" transform=\"scale(0.015625)\"/>\r\n       <path d=\"M 603 3500 \r\nL 1178 3500 \r\nL 1178 0 \r\nL 603 0 \r\nL 603 3500 \r\nz\r\nM 603 4863 \r\nL 1178 4863 \r\nL 1178 4134 \r\nL 603 4134 \r\nL 603 4863 \r\nz\r\n\" id=\"DejaVuSans-69\" transform=\"scale(0.015625)\"/>\r\n       <path d=\"M 2059 -325 \r\nQ 1816 -950 1584 -1140 \r\nQ 1353 -1331 966 -1331 \r\nL 506 -1331 \r\nL 506 -850 \r\nL 844 -850 \r\nQ 1081 -850 1212 -737 \r\nQ 1344 -625 1503 -206 \r\nL 1606 56 \r\nL 191 3500 \r\nL 800 3500 \r\nL 1894 763 \r\nL 2988 3500 \r\nL 3597 3500 \r\nL 2059 -325 \r\nz\r\n\" id=\"DejaVuSans-79\" transform=\"scale(0.015625)\"/>\r\n       <path d=\"M 3263 -1063 \r\nL 3263 -1509 \r\nL -63 -1509 \r\nL -63 -1063 \r\nL 3263 -1063 \r\nz\r\n\" id=\"DejaVuSans-5f\" transform=\"scale(0.015625)\"/>\r\n      </defs>\r\n      <use xlink:href=\"#DejaVuSans-6d\"/>\r\n      <use x=\"97.412109\" xlink:href=\"#DejaVuSans-6f\"/>\r\n      <use x=\"158.59375\" xlink:href=\"#DejaVuSans-72\"/>\r\n      <use x=\"199.707031\" xlink:href=\"#DejaVuSans-74\"/>\r\n      <use x=\"238.916016\" xlink:href=\"#DejaVuSans-61\"/>\r\n      <use x=\"300.195312\" xlink:href=\"#DejaVuSans-6c\"/>\r\n      <use x=\"327.978516\" xlink:href=\"#DejaVuSans-69\"/>\r\n      <use x=\"355.761719\" xlink:href=\"#DejaVuSans-74\"/>\r\n      <use x=\"394.970703\" xlink:href=\"#DejaVuSans-79\"/>\r\n      <use x=\"454.150391\" xlink:href=\"#DejaVuSans-5f\"/>\r\n      <use x=\"504.150391\" xlink:href=\"#DejaVuSans-72\"/>\r\n      <use x=\"545.263672\" xlink:href=\"#DejaVuSans-61\"/>\r\n      <use x=\"606.542969\" xlink:href=\"#DejaVuSans-74\"/>\r\n      <use x=\"645.751953\" xlink:href=\"#DejaVuSans-65\"/>\r\n     </g>\r\n    </g>\r\n   </g>\r\n  </g>\r\n </g>\r\n <defs>\r\n  <clipPath id=\"pc1615b59d8\">\r\n   <rect height=\"326.16\" width=\"837\" x=\"36.465625\" y=\"7.2\"/>\r\n  </clipPath>\r\n </defs>\r\n</svg>\r\n",
      "image/png": "[encoded data removed]"
     },
     "metadata": {
      "needs_background": "light"
     }
    }
   ],
   "source": [
    "df_combined.plot(x='age', y = 'mortality_rate', kind = 'bar', figsize=(15,6))"
   ]
  },
  {
   "cell_type": "code",
   "execution_count": 15,
   "metadata": {},
   "outputs": [
    {
     "output_type": "stream",
     "name": "stdout",
     "text": [
      "['male' 'female' nan]\n['released' 'deceased' 'isolated']\n"
     ]
    }
   ],
   "source": [
    "print(df['sex'].unique())\n",
    "print(df['state'].unique())"
   ]
  },
  {
   "cell_type": "code",
   "execution_count": 16,
   "metadata": {},
   "outputs": [
    {
     "output_type": "stream",
     "name": "stdout",
     "text": [
      "total_male_count:1825, total_female_count:2215\n"
     ]
    }
   ],
   "source": [
    "total_male_count = len(df[df['sex'] == 'male'])\n",
    "total_female_count = len(df[df['sex'] == 'female'])\n",
    "msg1 = f'total_male_count:{total_male_count}, total_female_count:{total_female_count}'\n",
    "# print('total_male_count: ', total_male_count, 'total_female_count: ', total_female_count)\n",
    "print(msg1)"
   ]
  },
  {
   "cell_type": "code",
   "execution_count": 17,
   "metadata": {},
   "outputs": [
    {
     "output_type": "stream",
     "name": "stdout",
     "text": [
      "      sex  patient_id\n0  female        2215\n1    male        1825 \n\nsex\nfemale    2215\nmale      1825\nName: patient_id, dtype: int64 \n\n<class 'pandas.core.series.Series'> \n\n      sex  patient_id\n0  female        2215\n1    male        1825 \n\n<class 'pandas.core.frame.DataFrame'>\n"
     ]
    }
   ],
   "source": [
    "# Using the group by function\n",
    "print(df.groupby('sex', as_index=False)['patient_id'].count(), '\\n')\n",
    "# as_index = True\n",
    "print(df.groupby('sex', as_index=True)['patient_id'].count(), '\\n')\n",
    "#the resulting output is a pd.Series object:\n",
    "print(type(df.groupby('sex', as_index=True)['patient_id'].count()), '\\n')\n",
    "\n",
    "# if you want to automatically return a dataframe object directly (after all, it’s much more readable), \n",
    "# there’s no need to cast it via pd.Dataframe(). \n",
    "# Instead, provide the column name as a list to the column selection (essentially, use double brackets) like that:\n",
    "print(df.groupby('sex', as_index=False)[['patient_id']].count(), '\\n')\n",
    "print(type(df.groupby('sex', as_index=False)[['patient_id']].count()))"
   ]
  },
  {
   "cell_type": "code",
   "execution_count": 18,
   "metadata": {},
   "outputs": [
    {
     "output_type": "execute_result",
     "data": {
      "text/plain": [
       "        patient_id\n",
       "sex               \n",
       "female          28\n",
       "male            47"
      ],
      "text/html": "<div>\n<style scoped>\n    .dataframe tbody tr th:only-of-type {\n        vertical-align: middle;\n    }\n\n    .dataframe tbody tr th {\n        vertical-align: top;\n    }\n\n    .dataframe thead th {\n        text-align: right;\n    }\n</style>\n<table border=\"1\" class=\"dataframe\">\n  <thead>\n    <tr style=\"text-align: right;\">\n      <th></th>\n      <th>patient_id</th>\n    </tr>\n    <tr>\n      <th>sex</th>\n      <th></th>\n    </tr>\n  </thead>\n  <tbody>\n    <tr>\n      <th>female</th>\n      <td>28</td>\n    </tr>\n    <tr>\n      <th>male</th>\n      <td>47</td>\n    </tr>\n  </tbody>\n</table>\n</div>"
     },
     "metadata": {},
     "execution_count": 18
    }
   ],
   "source": [
    "df[df['state']=='deceased'].groupby('sex').agg({'patient_id':np.count_nonzero})"
   ]
  },
  {
   "cell_type": "code",
   "execution_count": 19,
   "metadata": {},
   "outputs": [
    {
     "output_type": "stream",
     "name": "stdout",
     "text": [
      "male_death_count:47, female_death_count:28, total_death_count:78\n"
     ]
    }
   ],
   "source": [
    "df_deceased = df[df['state'] == 'deceased']\n",
    "total_death_count = len(df_deceased)\n",
    "male_death_count = len(df_deceased[df_deceased['sex'] == 'male'])\n",
    "female_death_count = len(df_deceased[df_deceased['sex'] == 'female'])\n",
    "msg2 = f'male_death_count:{male_death_count}, female_death_count:{female_death_count}, total_death_count:{total_death_count}'\n",
    "# print('male_death_count:', male_death_count, ' , female_death_count:', female_death_count, ' , total_death_count:', total_death_count)\n",
    "print(msg2)"
   ]
  },
  {
   "cell_type": "code",
   "execution_count": 20,
   "metadata": {},
   "outputs": [
    {
     "output_type": "stream",
     "name": "stdout",
     "text": [
      "total_male_count:1825, total_female_count:2215\nmale_death_count:47, female_death_count:28, total_death_count:78\nmale death percentage: 2.575%, female death percentage: 1.264%\n"
     ]
    }
   ],
   "source": [
    "msg3 = f'male death percentage:{male_death_count/total_male_count*100: .3f}%, female death percentage:{female_death_count/total_female_count*100: .3f}%'\n",
    "# print('male death percentage:', f'{male_death_count/total_male_count*100: .3f}%', ' , female death percentage:', f'{female_death_count/total_female_count*100: .3f}%')\n",
    "print(msg1, msg2, msg3, sep='\\n')"
   ]
  },
  {
   "cell_type": "code",
   "execution_count": 21,
   "metadata": {},
   "outputs": [
    {
     "output_type": "stream",
     "name": "stdout",
     "text": [
      "There are 17 of provinces and 164 of cities in the dataset\n"
     ]
    }
   ],
   "source": [
    "# df_grouped = df.groupby(by=['province', 'city'])['patient_id'].count().reset_index(name='counts')\n",
    "df_grouped = df.groupby(by=['province', 'city']).agg({'patient_id':'count', 'province_population_in_M':'mean'}).rename(columns = {'patient_id':'counts'}).reset_index()\n",
    "# To provide a level at the top (single root node)\n",
    "df_grouped['Country'] = 'South Korea'\n",
    "ncity = len(df['city'].unique())\n",
    "nprovince = len(df['province'].unique())\n",
    "print(f'There are {nprovince} of provinces and {ncity} of cities in the dataset')"
   ]
  },
  {
   "cell_type": "code",
   "execution_count": 22,
   "metadata": {},
   "outputs": [
    {
     "output_type": "display_data",
     "data": {
      "application/vnd.plotly.v1+json": {
       "config": {
        "plotlyServerURL": "https://plot.ly"
       },
       "data": [
        {
         "branchvalues": "total",
         "customdata": [
          [
           50
          ],
          [
           33
          ],
          [
           4
          ],
          [
           63
          ],
          [
           18
          ],
          [
           71
          ],
          [
           162
          ],
          [
           8
          ],
          [
           10
          ],
          [
           10
          ],
          [
           83
          ],
          [
           14
          ],
          [
           13
          ],
          [
           9
          ],
          [
           31
          ],
          [
           110
          ],
          [
           43
          ],
          [
           20
          ],
          [
           2
          ],
          [
           11
          ],
          [
           51
          ],
          [
           10
          ],
          [
           13
          ],
          [
           5
          ],
          [
           29
          ],
          [
           1
          ],
          [
           6
          ],
          [
           1
          ],
          [
           62
          ],
          [
           1
          ],
          [
           10
          ],
          [
           15
          ],
          [
           5
          ],
          [
           9
          ],
          [
           38
          ],
          [
           5
          ],
          [
           53
          ],
          [
           39
          ],
          [
           7
          ],
          [
           53
          ],
          [
           24
          ],
          [
           35
          ],
          [
           1
          ],
          [
           83
          ],
          [
           9
          ],
          [
           5
          ],
          [
           78
          ],
          [
           1
          ],
          [
           19
          ],
          [
           13
          ],
          [
           32
          ],
          [
           7
          ],
          [
           1
          ],
          [
           24
          ],
          [
           14
          ],
          [
           3
          ],
          [
           37
          ],
          [
           11
          ],
          [
           3
          ],
          [
           10
          ],
          [
           2
          ],
          [
           53
          ],
          [
           78
          ],
          [
           75
          ],
          [
           4
          ],
          [
           6
          ],
          [
           1
          ],
          [
           11
          ],
          [
           85
          ],
          [
           9
          ],
          [
           113
          ],
          [
           17
          ],
          [
           35
          ],
          [
           28
          ],
          [
           1
          ],
          [
           52
          ],
          [
           638
          ],
          [
           1
          ],
          [
           3
          ],
          [
           55
          ],
          [
           22
          ],
          [
           1
          ],
          [
           1
          ],
          [
           12
          ],
          [
           10
          ],
          [
           1
          ],
          [
           4
          ],
          [
           41
          ],
          [
           1
          ],
          [
           1
          ],
          [
           15
          ],
          [
           2
          ],
          [
           1
          ],
          [
           1
          ],
          [
           18
          ],
          [
           8
          ],
          [
           2
          ],
          [
           1
          ],
          [
           12
          ],
          [
           22
          ],
          [
           3
          ],
          [
           11
          ],
          [
           17
          ],
          [
           12
          ],
          [
           12
          ],
          [
           33
          ],
          [
           1
          ],
          [
           38
          ],
          [
           69
          ],
          [
           5
          ],
          [
           5
          ],
          [
           2
          ],
          [
           4
          ],
          [
           7
          ],
          [
           11
          ],
          [
           18
          ],
          [
           45
          ],
          [
           1
          ],
          [
           47
          ],
          [
           6
          ],
          [
           43
          ],
          [
           1
          ],
          [
           8
          ],
          [
           16
          ],
          [
           19
          ],
          [
           53
          ],
          [
           61
          ],
          [
           3
          ],
          [
           11
          ],
          [
           1
          ],
          [
           1
          ],
          [
           15
          ],
          [
           5
          ],
          [
           1
          ],
          [
           51
          ],
          [
           6
          ],
          [
           7
          ],
          [
           47
          ],
          [
           18
          ],
          [
           1
          ],
          [
           55
          ],
          [
           36
          ],
          [
           33
          ],
          [
           49
          ],
          [
           23
          ],
          [
           173
          ],
          [
           9
          ],
          [
           27
          ],
          [
           3
          ],
          [
           55
          ],
          [
           2
          ],
          [
           14
          ],
          [
           1
          ],
          [
           100
          ],
          [
           11
          ],
          [
           1
          ],
          [
           1
          ],
          [
           47
          ],
          [
           41
          ],
          [
           10
          ],
          [
           6
          ],
          [
           25
          ],
          [
           71
          ],
          [
           9
          ],
          [
           1
          ],
          [
           8
          ],
          [
           44
          ],
          [
           1
          ],
          [
           37
          ],
          [
           2
          ],
          [
           62
          ],
          [
           5
          ],
          [
           1
          ],
          [
           2
          ],
          [
           4
          ],
          [
           45
          ],
          [
           3
          ],
          [
           104
          ],
          [
           50
          ],
          [
           40
          ],
          [
           9
          ],
          [
           1
          ],
          [
           1
          ],
          [
           9
          ],
          [
           10
          ],
          [
           80
          ],
          [
           1
          ],
          [
           18.6
          ],
          [
           13.321428571428571
          ],
          [
           75.86904761904762
          ],
          [
           15.336842105263157
          ],
          [
           35.134453781512605
          ],
          [
           14.936507936507937
          ],
          [
           87.65397350993378
          ],
          [
           349.4300559552358
          ],
          [
           16.29230769230769
          ],
          [
           57.123893805309734
          ],
          [
           17.105263157894736
          ],
          [
           6.481481481481482
          ],
          [
           5.8
          ],
          [
           51
          ],
          [
           61.44664634146341
          ],
          [
           12.454545454545455
          ],
          [
           132.58011049723757
          ]
         ],
         "domain": {
          "x": [
           0,
           1
          ],
          "y": [
           0,
           1
          ]
         },
         "hovertemplate": "labels=%{label}<br>counts_sum=%{value}<br>parent=%{parent}<br>id=%{id}<br>counts=%{color}<extra></extra>",
         "ids": [
          "South Korea/Gyeongsangbuk-do/Andong-si",
          "South Korea/Gyeonggi-do/Ansan-si",
          "South Korea/Gyeonggi-do/Anseong-si",
          "South Korea/Gyeonggi-do/Anyang-si",
          "South Korea/Chungcheongnam-do/Asan-si",
          "South Korea/Gyeongsangbuk-do/Bonghwa-gun",
          "South Korea/Gyeonggi-do/Bucheon-si",
          "South Korea/Busan/Buk-gu",
          "South Korea/Daegu/Buk-gu",
          "South Korea/Ulsan/Buk-gu",
          "South Korea/Incheon/Bupyeong-gu",
          "South Korea/Busan/Busanjin-gu",
          "South Korea/Chungcheongnam-do/Buyeo-gun",
          "South Korea/Gyeongsangnam-do/Changnyeong-gun",
          "South Korea/Gyeongsangnam-do/Changwon-si",
          "South Korea/Chungcheongnam-do/Cheonan-si",
          "South Korea/Gyeongsangbuk-do/Cheongdo-gun",
          "South Korea/Chungcheongbuk-do/Cheongju-si",
          "South Korea/Gyeongsangbuk-do/Cheongsong-gun",
          "South Korea/Gangwon-do/Cheorwon-gun",
          "South Korea/Gyeongsangbuk-do/Chilgok-gun",
          "South Korea/Gangwon-do/Chuncheon-si",
          "South Korea/Chungcheongbuk-do/Chungju-si",
          "South Korea/Daejeon/Daedeok-gu",
          "South Korea/Daegu/Dalseo-gu",
          "South Korea/Daegu/Dalseong-gun",
          "South Korea/Daegu/Dalsung-gun",
          "South Korea/Chungcheongbuk-do/Danyang-gun",
          "South Korea/Seoul/Dobong-gu",
          "South Korea/Busan/Dong-gu",
          "South Korea/Daegu/Dong-gu",
          "South Korea/Daejeon/Dong-gu",
          "South Korea/Incheon/Dong-gu",
          "South Korea/Ulsan/Dong-gu",
          "South Korea/Seoul/Dongdaemun-gu",
          "South Korea/Gyeonggi-do/Dongducheon-si",
          "South Korea/Seoul/Dongjak-gu",
          "South Korea/Busan/Dongnae-gu",
          "South Korea/Chungcheongbuk-do/Eumseong-gun",
          "South Korea/Seoul/Eunpyeong-gu",
          "South Korea/Seoul/Gangbuk-gu",
          "South Korea/Seoul/Gangdong-gu",
          "South Korea/Incheon/Ganghwa-gun",
          "South Korea/Seoul/Gangnam-gu",
          "South Korea/Gangwon-do/Gangneung-si",
          "South Korea/Busan/Gangseo-gu",
          "South Korea/Seoul/Gangseo-gu",
          "South Korea/Gyeonggi-do/Gapyeong-gun",
          "South Korea/Gyeongsangnam-do/Geochang-gun",
          "South Korea/Gyeongsangnam-do/Geoje-si",
          "South Korea/Seoul/Geumcheon-gu",
          "South Korea/Busan/Geumjeong-gu",
          "South Korea/Busan/Gijang-gun",
          "South Korea/Gyeongsangbuk-do/Gimcheon-si",
          "South Korea/Gyeongsangnam-do/Gimhae-si",
          "South Korea/Jeollabuk-do/Gimje-si",
          "South Korea/Gyeonggi-do/Gimpo-si",
          "South Korea/Chungcheongbuk-do/Goesan-gun",
          "South Korea/Chungcheongnam-do/Gongju-si",
          "South Korea/Gyeongsangbuk-do/Goryeong-gun",
          "South Korea/Gyeongsangnam-do/Goseong-gun",
          "South Korea/Gyeonggi-do/Goyang-si",
          "South Korea/Gyeongsangbuk-do/Gumi-si",
          "South Korea/Gyeonggi-do/Gunpo-si",
          "South Korea/Jeollabuk-do/Gunsan-si",
          "South Korea/Gyeongsangbuk-do/Gunwi-gun",
          "South Korea/Gyeonggi-do/Guri",
          "South Korea/Gyeonggi-do/Guri-si",
          "South Korea/Seoul/Guro-gu",
          "South Korea/Gyeonggi-do/Gwacheon-si",
          "South Korea/Seoul/Gwanak-gu",
          "South Korea/Seoul/Gwangjin-gu",
          "South Korea/Gyeonggi-do/Gwangju-si",
          "South Korea/Gyeonggi-do/Gwangmyeong-si",
          "South Korea/Jeollanam-do/Gwangyang-si",
          "South Korea/Gyeongsangbuk-do/Gyeongju-si",
          "South Korea/Gyeongsangbuk-do/Gyeongsan-si",
          "South Korea/Jeollanam-do/Gyeongsan-si",
          "South Korea/Chungcheongnam-do/Gyeryong-si",
          "South Korea/Incheon/Gyeyang-gu",
          "South Korea/Busan/Haeundae-gu",
          "South Korea/Gyeongsangnam-do/Haman-gun",
          "South Korea/Gyeongsangnam-do/Hamyang-gun",
          "South Korea/Gyeonggi-do/Hanam-si",
          "South Korea/Gyeongsangnam-do/Hapcheon-gun",
          "South Korea/Gangwon-do/Hoengseong-gun",
          "South Korea/Chungcheongnam-do/Hongseong-gun",
          "South Korea/Gyeonggi-do/Hwaseong-si",
          "South Korea/Jeollanam-do/Hwasun-gun",
          "South Korea/Daegu/Icheon-dong",
          "South Korea/Gyeonggi-do/Icheon-si",
          "South Korea/Jeollabuk-do/Iksan-si",
          "South Korea/Gangwon-do/Inje-gun",
          "South Korea/Jeollabuk-do/Jangsu-gun",
          "South Korea/Jeju-do/Jeju-do",
          "South Korea/Jeollabuk-do/Jeonju-si",
          "South Korea/Chungcheongbuk-do/Jeungpyeong-gun",
          "South Korea/Chungcheongbuk-do/Jincheon-gun",
          "South Korea/Gyeongsangnam-do/Jinju-si",
          "South Korea/Seoul/Jongno-gu",
          "South Korea/Daegu/Jung-gu",
          "South Korea/Daejeon/Jung-gu",
          "South Korea/Incheon/Jung-gu",
          "South Korea/Seoul/Jung-gu",
          "South Korea/Ulsan/Jung-gu",
          "South Korea/Seoul/Jungnang-gu",
          "South Korea/Daegu/Kyeongsan-si",
          "South Korea/Seoul/Mapo-gu",
          "South Korea/Incheon/Michuhol-gu",
          "South Korea/Gyeongsangnam-do/Miryang-si",
          "South Korea/Jeollanam-do/Mokpo-si",
          "South Korea/Jeollanam-do/Muan-gun",
          "South Korea/Gyeongsangbuk-do/Mungyeong-si",
          "South Korea/Busan/Nam-gu",
          "South Korea/Daegu/Nam-gu",
          "South Korea/Ulsan/Nam-gu",
          "South Korea/Incheon/Namdong-gu",
          "South Korea/Gyeongsangnam-do/Namhae-gun",
          "South Korea/Gyeonggi-do/Namyangju-si",
          "South Korea/Chungcheongnam-do/Nonsan-si",
          "South Korea/Seoul/Nowon-gu",
          "South Korea/Chungcheongbuk-do/Okcheon-gun",
          "South Korea/Gyeonggi-do/Osan-si",
          "South Korea/Gyeonggi-do/Paju-si",
          "South Korea/Gyeonggi-do/Pocheon-si",
          "South Korea/Gyeongsangbuk-do/Pohang-si",
          "South Korea/Gyeonggi-do/Pyeongtaek-si",
          "South Korea/Gyeongsangnam-do/Sacheon-si",
          "South Korea/Busan/Saha-gu",
          "South Korea/Gangwon-do/Samcheok-si",
          "South Korea/Gyeongsangnam-do/Sancheong-gun",
          "South Korea/Gyeongsangbuk-do/Sangju-si",
          "South Korea/Busan/Sasang-gu",
          "South Korea/Daejeon/Sejong",
          "South Korea/Sejong/Sejong",
          "South Korea/Busan/Seo-gu",
          "South Korea/Daegu/Seo-gu",
          "South Korea/Daejeon/Seo-gu",
          "South Korea/Incheon/Seo-gu",
          "South Korea/Chungcheongnam-do/Seocheon-gun",
          "South Korea/Seoul/Seocho-gu",
          "South Korea/Seoul/Seodaemun-gu",
          "South Korea/Seoul/Seongbuk-gu",
          "South Korea/Seoul/Seongdong-gu",
          "South Korea/Gyeongsangbuk-do/Seongju-gun",
          "South Korea/Gyeonggi-do/Seongnam-si",
          "South Korea/Chungcheongnam-do/Seosan-si",
          "South Korea/Gyeonggi-do/Siheung-si",
          "South Korea/Gangwon-do/Sokcho-si",
          "South Korea/Seoul/Songpa-gu",
          "South Korea/Jeollanam-do/Suncheon-si",
          "South Korea/Daegu/Suseong-gu",
          "South Korea/Gyeonggi-do/Suwon",
          "South Korea/Gyeonggi-do/Suwon-si",
          "South Korea/Busan/Suyeong-gu",
          "South Korea/Chungcheongnam-do/Taean-gun",
          "South Korea/Gangwon-do/Taebaek-si",
          "South Korea/Gyeonggi-do/Uijeongbu-si",
          "South Korea/Gyeongsangbuk-do/Uiseong-gun",
          "South Korea/Gyeonggi-do/Uiwang-si",
          "South Korea/Ulsan/Ulju-gun",
          "South Korea/Gangwon-do/Wonju-si",
          "South Korea/Seoul/Yangcheon-gu",
          "South Korea/Gyeonggi-do/Yangju-si",
          "South Korea/Gyeonggi-do/Yangpyeong-si",
          "South Korea/Gyeongsangnam-do/Yangsan-si",
          "South Korea/Gyeongsangbuk-do/Yecheon-gun",
          "South Korea/Daegu/Yeongcheon-si",
          "South Korea/Gyeongsangbuk-do/Yeongcheon-si",
          "South Korea/Gyeongsangbuk-do/Yeongdeok-gun",
          "South Korea/Seoul/Yeongdeungpo-gu",
          "South Korea/Gyeongsangbuk-do/Yeongju-si",
          "South Korea/Gangwon-do/Yeongwol-gun",
          "South Korea/Gyeongsangbuk-do/Yeongyang-gun",
          "South Korea/Busan/Yeonje-gu",
          "South Korea/Incheon/Yeonsu-gu",
          "South Korea/Jeollanam-do/Yeosu-si",
          "South Korea/Gyeonggi-do/Yongin-si",
          "South Korea/Seoul/Yongsan-gu",
          "South Korea/Daejeon/Yuseong-gu",
          "South Korea/Busan/etc",
          "South Korea/Incheon/etc",
          "South Korea/Jeju-do/etc",
          "South Korea/Jeollabuk-do/etc",
          "South Korea/Jeollanam-do/etc",
          "South Korea/Seoul/etc",
          "South Korea/Daegu/sankyeock-dong",
          "South Korea/Busan",
          "South Korea/Chungcheongbuk-do",
          "South Korea/Chungcheongnam-do",
          "South Korea/Daegu",
          "South Korea/Daejeon",
          "South Korea/Gangwon-do",
          "South Korea/Gyeonggi-do",
          "South Korea/Gyeongsangbuk-do",
          "South Korea/Gyeongsangnam-do",
          "South Korea/Incheon",
          "South Korea/Jeju-do",
          "South Korea/Jeollabuk-do",
          "South Korea/Jeollanam-do",
          "South Korea/Sejong",
          "South Korea/Seoul",
          "South Korea/Ulsan",
          "South Korea"
         ],
         "labels": [
          "Andong-si",
          "Ansan-si",
          "Anseong-si",
          "Anyang-si",
          "Asan-si",
          "Bonghwa-gun",
          "Bucheon-si",
          "Buk-gu",
          "Buk-gu",
          "Buk-gu",
          "Bupyeong-gu",
          "Busanjin-gu",
          "Buyeo-gun",
          "Changnyeong-gun",
          "Changwon-si",
          "Cheonan-si",
          "Cheongdo-gun",
          "Cheongju-si",
          "Cheongsong-gun",
          "Cheorwon-gun",
          "Chilgok-gun",
          "Chuncheon-si",
          "Chungju-si",
          "Daedeok-gu",
          "Dalseo-gu",
          "Dalseong-gun",
          "Dalsung-gun",
          "Danyang-gun",
          "Dobong-gu",
          "Dong-gu",
          "Dong-gu",
          "Dong-gu",
          "Dong-gu",
          "Dong-gu",
          "Dongdaemun-gu",
          "Dongducheon-si",
          "Dongjak-gu",
          "Dongnae-gu",
          "Eumseong-gun",
          "Eunpyeong-gu",
          "Gangbuk-gu",
          "Gangdong-gu",
          "Ganghwa-gun",
          "Gangnam-gu",
          "Gangneung-si",
          "Gangseo-gu",
          "Gangseo-gu",
          "Gapyeong-gun",
          "Geochang-gun",
          "Geoje-si",
          "Geumcheon-gu",
          "Geumjeong-gu",
          "Gijang-gun",
          "Gimcheon-si",
          "Gimhae-si",
          "Gimje-si",
          "Gimpo-si",
          "Goesan-gun",
          "Gongju-si",
          "Goryeong-gun",
          "Goseong-gun",
          "Goyang-si",
          "Gumi-si",
          "Gunpo-si",
          "Gunsan-si",
          "Gunwi-gun",
          "Guri",
          "Guri-si",
          "Guro-gu",
          "Gwacheon-si",
          "Gwanak-gu",
          "Gwangjin-gu",
          "Gwangju-si",
          "Gwangmyeong-si",
          "Gwangyang-si",
          "Gyeongju-si",
          "Gyeongsan-si",
          "Gyeongsan-si",
          "Gyeryong-si",
          "Gyeyang-gu",
          "Haeundae-gu",
          "Haman-gun",
          "Hamyang-gun",
          "Hanam-si",
          "Hapcheon-gun",
          "Hoengseong-gun",
          "Hongseong-gun",
          "Hwaseong-si",
          "Hwasun-gun",
          "Icheon-dong",
          "Icheon-si",
          "Iksan-si",
          "Inje-gun",
          "Jangsu-gun",
          "Jeju-do",
          "Jeonju-si",
          "Jeungpyeong-gun",
          "Jincheon-gun",
          "Jinju-si",
          "Jongno-gu",
          "Jung-gu",
          "Jung-gu",
          "Jung-gu",
          "Jung-gu",
          "Jung-gu",
          "Jungnang-gu",
          "Kyeongsan-si",
          "Mapo-gu",
          "Michuhol-gu",
          "Miryang-si",
          "Mokpo-si",
          "Muan-gun",
          "Mungyeong-si",
          "Nam-gu",
          "Nam-gu",
          "Nam-gu",
          "Namdong-gu",
          "Namhae-gun",
          "Namyangju-si",
          "Nonsan-si",
          "Nowon-gu",
          "Okcheon-gun",
          "Osan-si",
          "Paju-si",
          "Pocheon-si",
          "Pohang-si",
          "Pyeongtaek-si",
          "Sacheon-si",
          "Saha-gu",
          "Samcheok-si",
          "Sancheong-gun",
          "Sangju-si",
          "Sasang-gu",
          "Sejong",
          "Sejong",
          "Seo-gu",
          "Seo-gu",
          "Seo-gu",
          "Seo-gu",
          "Seocheon-gun",
          "Seocho-gu",
          "Seodaemun-gu",
          "Seongbuk-gu",
          "Seongdong-gu",
          "Seongju-gun",
          "Seongnam-si",
          "Seosan-si",
          "Siheung-si",
          "Sokcho-si",
          "Songpa-gu",
          "Suncheon-si",
          "Suseong-gu",
          "Suwon",
          "Suwon-si",
          "Suyeong-gu",
          "Taean-gun",
          "Taebaek-si",
          "Uijeongbu-si",
          "Uiseong-gun",
          "Uiwang-si",
          "Ulju-gun",
          "Wonju-si",
          "Yangcheon-gu",
          "Yangju-si",
          "Yangpyeong-si",
          "Yangsan-si",
          "Yecheon-gun",
          "Yeongcheon-si",
          "Yeongcheon-si",
          "Yeongdeok-gun",
          "Yeongdeungpo-gu",
          "Yeongju-si",
          "Yeongwol-gun",
          "Yeongyang-gun",
          "Yeonje-gu",
          "Yeonsu-gu",
          "Yeosu-si",
          "Yongin-si",
          "Yongsan-gu",
          "Yuseong-gu",
          "etc",
          "etc",
          "etc",
          "etc",
          "etc",
          "etc",
          "sankyeock-dong",
          "Busan",
          "Chungcheongbuk-do",
          "Chungcheongnam-do",
          "Daegu",
          "Daejeon",
          "Gangwon-do",
          "Gyeonggi-do",
          "Gyeongsangbuk-do",
          "Gyeongsangnam-do",
          "Incheon",
          "Jeju-do",
          "Jeollabuk-do",
          "Jeollanam-do",
          "Sejong",
          "Seoul",
          "Ulsan",
          "South Korea"
         ],
         "marker": {
          "coloraxis": "coloraxis",
          "colors": [
           50,
           33,
           4,
           63,
           18,
           71,
           162,
           8,
           10,
           10,
           83,
           14,
           13,
           9,
           31,
           110,
           43,
           20,
           2,
           11,
           51,
           10,
           13,
           5,
           29,
           1,
           6,
           1,
           62,
           1,
           10,
           15,
           5,
           9,
           38,
           5,
           53,
           39,
           7,
           53,
           24,
           35,
           1,
           83,
           9,
           5,
           78,
           1,
           19,
           13,
           32,
           7,
           1,
           24,
           14,
           3,
           37,
           11,
           3,
           10,
           2,
           53,
           78,
           75,
           4,
           6,
           1,
           11,
           85,
           9,
           113,
           17,
           35,
           28,
           1,
           52,
           638,
           1,
           3,
           55,
           22,
           1,
           1,
           12,
           10,
           1,
           4,
           41,
           1,
           1,
           15,
           2,
           1,
           1,
           18,
           8,
           2,
           1,
           12,
           22,
           3,
           11,
           17,
           12,
           12,
           33,
           1,
           38,
           69,
           5,
           5,
           2,
           4,
           7,
           11,
           18,
           45,
           1,
           47,
           6,
           43,
           1,
           8,
           16,
           19,
           53,
           61,
           3,
           11,
           1,
           1,
           15,
           5,
           1,
           51,
           6,
           7,
           47,
           18,
           1,
           55,
           36,
           33,
           49,
           23,
           173,
           9,
           27,
           3,
           55,
           2,
           14,
           1,
           100,
           11,
           1,
           1,
           47,
           41,
           10,
           6,
           25,
           71,
           9,
           1,
           8,
           44,
           1,
           37,
           2,
           62,
           5,
           1,
           2,
           4,
           45,
           3,
           104,
           50,
           40,
           9,
           1,
           1,
           9,
           10,
           80,
           1,
           18.6,
           13.321428571428571,
           75.86904761904762,
           15.336842105263157,
           35.134453781512605,
           14.936507936507937,
           87.65397350993378,
           349.4300559552358,
           16.29230769230769,
           57.123893805309734,
           17.105263157894736,
           6.481481481481482,
           5.8,
           51,
           61.44664634146341,
           12.454545454545455,
           132.58011049723757
          ]
         },
         "name": "",
         "parents": [
          "South Korea/Gyeongsangbuk-do",
          "South Korea/Gyeonggi-do",
          "South Korea/Gyeonggi-do",
          "South Korea/Gyeonggi-do",
          "South Korea/Chungcheongnam-do",
          "South Korea/Gyeongsangbuk-do",
          "South Korea/Gyeonggi-do",
          "South Korea/Busan",
          "South Korea/Daegu",
          "South Korea/Ulsan",
          "South Korea/Incheon",
          "South Korea/Busan",
          "South Korea/Chungcheongnam-do",
          "South Korea/Gyeongsangnam-do",
          "South Korea/Gyeongsangnam-do",
          "South Korea/Chungcheongnam-do",
          "South Korea/Gyeongsangbuk-do",
          "South Korea/Chungcheongbuk-do",
          "South Korea/Gyeongsangbuk-do",
          "South Korea/Gangwon-do",
          "South Korea/Gyeongsangbuk-do",
          "South Korea/Gangwon-do",
          "South Korea/Chungcheongbuk-do",
          "South Korea/Daejeon",
          "South Korea/Daegu",
          "South Korea/Daegu",
          "South Korea/Daegu",
          "South Korea/Chungcheongbuk-do",
          "South Korea/Seoul",
          "South Korea/Busan",
          "South Korea/Daegu",
          "South Korea/Daejeon",
          "South Korea/Incheon",
          "South Korea/Ulsan",
          "South Korea/Seoul",
          "South Korea/Gyeonggi-do",
          "South Korea/Seoul",
          "South Korea/Busan",
          "South Korea/Chungcheongbuk-do",
          "South Korea/Seoul",
          "South Korea/Seoul",
          "South Korea/Seoul",
          "South Korea/Incheon",
          "South Korea/Seoul",
          "South Korea/Gangwon-do",
          "South Korea/Busan",
          "South Korea/Seoul",
          "South Korea/Gyeonggi-do",
          "South Korea/Gyeongsangnam-do",
          "South Korea/Gyeongsangnam-do",
          "South Korea/Seoul",
          "South Korea/Busan",
          "South Korea/Busan",
          "South Korea/Gyeongsangbuk-do",
          "South Korea/Gyeongsangnam-do",
          "South Korea/Jeollabuk-do",
          "South Korea/Gyeonggi-do",
          "South Korea/Chungcheongbuk-do",
          "South Korea/Chungcheongnam-do",
          "South Korea/Gyeongsangbuk-do",
          "South Korea/Gyeongsangnam-do",
          "South Korea/Gyeonggi-do",
          "South Korea/Gyeongsangbuk-do",
          "South Korea/Gyeonggi-do",
          "South Korea/Jeollabuk-do",
          "South Korea/Gyeongsangbuk-do",
          "South Korea/Gyeonggi-do",
          "South Korea/Gyeonggi-do",
          "South Korea/Seoul",
          "South Korea/Gyeonggi-do",
          "South Korea/Seoul",
          "South Korea/Seoul",
          "South Korea/Gyeonggi-do",
          "South Korea/Gyeonggi-do",
          "South Korea/Jeollanam-do",
          "South Korea/Gyeongsangbuk-do",
          "South Korea/Gyeongsangbuk-do",
          "South Korea/Jeollanam-do",
          "South Korea/Chungcheongnam-do",
          "South Korea/Incheon",
          "South Korea/Busan",
          "South Korea/Gyeongsangnam-do",
          "South Korea/Gyeongsangnam-do",
          "South Korea/Gyeonggi-do",
          "South Korea/Gyeongsangnam-do",
          "South Korea/Gangwon-do",
          "South Korea/Chungcheongnam-do",
          "South Korea/Gyeonggi-do",
          "South Korea/Jeollanam-do",
          "South Korea/Daegu",
          "South Korea/Gyeonggi-do",
          "South Korea/Jeollabuk-do",
          "South Korea/Gangwon-do",
          "South Korea/Jeollabuk-do",
          "South Korea/Jeju-do",
          "South Korea/Jeollabuk-do",
          "South Korea/Chungcheongbuk-do",
          "South Korea/Chungcheongbuk-do",
          "South Korea/Gyeongsangnam-do",
          "South Korea/Seoul",
          "South Korea/Daegu",
          "South Korea/Daejeon",
          "South Korea/Incheon",
          "South Korea/Seoul",
          "South Korea/Ulsan",
          "South Korea/Seoul",
          "South Korea/Daegu",
          "South Korea/Seoul",
          "South Korea/Incheon",
          "South Korea/Gyeongsangnam-do",
          "South Korea/Jeollanam-do",
          "South Korea/Jeollanam-do",
          "South Korea/Gyeongsangbuk-do",
          "South Korea/Busan",
          "South Korea/Daegu",
          "South Korea/Ulsan",
          "South Korea/Incheon",
          "South Korea/Gyeongsangnam-do",
          "South Korea/Gyeonggi-do",
          "South Korea/Chungcheongnam-do",
          "South Korea/Seoul",
          "South Korea/Chungcheongbuk-do",
          "South Korea/Gyeonggi-do",
          "South Korea/Gyeonggi-do",
          "South Korea/Gyeonggi-do",
          "South Korea/Gyeongsangbuk-do",
          "South Korea/Gyeonggi-do",
          "South Korea/Gyeongsangnam-do",
          "South Korea/Busan",
          "South Korea/Gangwon-do",
          "South Korea/Gyeongsangnam-do",
          "South Korea/Gyeongsangbuk-do",
          "South Korea/Busan",
          "South Korea/Daejeon",
          "South Korea/Sejong",
          "South Korea/Busan",
          "South Korea/Daegu",
          "South Korea/Daejeon",
          "South Korea/Incheon",
          "South Korea/Chungcheongnam-do",
          "South Korea/Seoul",
          "South Korea/Seoul",
          "South Korea/Seoul",
          "South Korea/Seoul",
          "South Korea/Gyeongsangbuk-do",
          "South Korea/Gyeonggi-do",
          "South Korea/Chungcheongnam-do",
          "South Korea/Gyeonggi-do",
          "South Korea/Gangwon-do",
          "South Korea/Seoul",
          "South Korea/Jeollanam-do",
          "South Korea/Daegu",
          "South Korea/Gyeonggi-do",
          "South Korea/Gyeonggi-do",
          "South Korea/Busan",
          "South Korea/Chungcheongnam-do",
          "South Korea/Gangwon-do",
          "South Korea/Gyeonggi-do",
          "South Korea/Gyeongsangbuk-do",
          "South Korea/Gyeonggi-do",
          "South Korea/Ulsan",
          "South Korea/Gangwon-do",
          "South Korea/Seoul",
          "South Korea/Gyeonggi-do",
          "South Korea/Gyeonggi-do",
          "South Korea/Gyeongsangnam-do",
          "South Korea/Gyeongsangbuk-do",
          "South Korea/Daegu",
          "South Korea/Gyeongsangbuk-do",
          "South Korea/Gyeongsangbuk-do",
          "South Korea/Seoul",
          "South Korea/Gyeongsangbuk-do",
          "South Korea/Gangwon-do",
          "South Korea/Gyeongsangbuk-do",
          "South Korea/Busan",
          "South Korea/Incheon",
          "South Korea/Jeollanam-do",
          "South Korea/Gyeonggi-do",
          "South Korea/Seoul",
          "South Korea/Daejeon",
          "South Korea/Busan",
          "South Korea/Incheon",
          "South Korea/Jeju-do",
          "South Korea/Jeollabuk-do",
          "South Korea/Jeollanam-do",
          "South Korea/Seoul",
          "South Korea/Daegu",
          "South Korea",
          "South Korea",
          "South Korea",
          "South Korea",
          "South Korea",
          "South Korea",
          "South Korea",
          "South Korea",
          "South Korea",
          "South Korea",
          "South Korea",
          "South Korea",
          "South Korea",
          "South Korea",
          "South Korea",
          "South Korea",
          ""
         ],
         "type": "treemap",
         "values": [
          50,
          33,
          4,
          63,
          18,
          71,
          162,
          8,
          10,
          10,
          83,
          14,
          13,
          9,
          31,
          110,
          43,
          20,
          2,
          11,
          51,
          10,
          13,
          5,
          29,
          1,
          6,
          1,
          62,
          1,
          10,
          15,
          5,
          9,
          38,
          5,
          53,
          39,
          7,
          53,
          24,
          35,
          1,
          83,
          9,
          5,
          78,
          1,
          19,
          13,
          32,
          7,
          1,
          24,
          14,
          3,
          37,
          11,
          3,
          10,
          2,
          53,
          78,
          75,
          4,
          6,
          1,
          11,
          85,
          9,
          113,
          17,
          35,
          28,
          1,
          52,
          638,
          1,
          3,
          55,
          22,
          1,
          1,
          12,
          10,
          1,
          4,
          41,
          1,
          1,
          15,
          2,
          1,
          1,
          18,
          8,
          2,
          1,
          12,
          22,
          3,
          11,
          17,
          12,
          12,
          33,
          1,
          38,
          69,
          5,
          5,
          2,
          4,
          7,
          11,
          18,
          45,
          1,
          47,
          6,
          43,
          1,
          8,
          16,
          19,
          53,
          61,
          3,
          11,
          1,
          1,
          15,
          5,
          1,
          51,
          6,
          7,
          47,
          18,
          1,
          55,
          36,
          33,
          49,
          23,
          173,
          9,
          27,
          3,
          55,
          2,
          14,
          1,
          100,
          11,
          1,
          1,
          47,
          41,
          10,
          6,
          25,
          71,
          9,
          1,
          8,
          44,
          1,
          37,
          2,
          62,
          5,
          1,
          2,
          4,
          45,
          3,
          104,
          50,
          40,
          9,
          1,
          1,
          9,
          10,
          80,
          1,
          150,
          56,
          168,
          95,
          119,
          63,
          1208,
          1251,
          130,
          339,
          19,
          27,
          25,
          51,
          1312,
          55,
          5068
         ]
        }
       ],
       "layout": {
        "coloraxis": {
         "colorbar": {
          "title": {
           "text": "counts"
          }
         },
         "colorscale": [
          [
           0,
           "rgb(0,0,131)"
          ],
          [
           0.2,
           "rgb(0,60,170)"
          ],
          [
           0.4,
           "rgb(5,255,255)"
          ],
          [
           0.6,
           "rgb(255,255,0)"
          ],
          [
           0.8,
           "rgb(250,0,0)"
          ],
          [
           1,
           "rgb(128,0,0)"
          ]
         ]
        },
        "height": 600,
        "legend": {
         "tracegroupgap": 0
        },
        "template": {
         "data": {
          "bar": [
           {
            "error_x": {
             "color": "rgb(36,36,36)"
            },
            "error_y": {
             "color": "rgb(36,36,36)"
            },
            "marker": {
             "line": {
              "color": "rgb(234,234,242)",
              "width": 0.5
             }
            },
            "type": "bar"
           }
          ],
          "barpolar": [
           {
            "marker": {
             "line": {
              "color": "rgb(234,234,242)",
              "width": 0.5
             }
            },
            "type": "barpolar"
           }
          ],
          "carpet": [
           {
            "aaxis": {
             "endlinecolor": "rgb(36,36,36)",
             "gridcolor": "white",
             "linecolor": "white",
             "minorgridcolor": "white",
             "startlinecolor": "rgb(36,36,36)"
            },
            "baxis": {
             "endlinecolor": "rgb(36,36,36)",
             "gridcolor": "white",
             "linecolor": "white",
             "minorgridcolor": "white",
             "startlinecolor": "rgb(36,36,36)"
            },
            "type": "carpet"
           }
          ],
          "choropleth": [
           {
            "colorbar": {
             "outlinewidth": 0,
             "tickcolor": "rgb(36,36,36)",
             "ticklen": 8,
             "ticks": "outside",
             "tickwidth": 2
            },
            "type": "choropleth"
           }
          ],
          "contour": [
           {
            "colorbar": {
             "outlinewidth": 0,
             "tickcolor": "rgb(36,36,36)",
             "ticklen": 8,
             "ticks": "outside",
             "tickwidth": 2
            },
            "colorscale": [
             [
              0,
              "rgb(2,4,25)"
             ],
             [
              0.06274509803921569,
              "rgb(24,15,41)"
             ],
             [
              0.12549019607843137,
              "rgb(47,23,57)"
             ],
             [
              0.18823529411764706,
              "rgb(71,28,72)"
             ],
             [
              0.25098039215686274,
              "rgb(97,30,82)"
             ],
             [
              0.3137254901960784,
              "rgb(123,30,89)"
             ],
             [
              0.3764705882352941,
              "rgb(150,27,91)"
             ],
             [
              0.4392156862745098,
              "rgb(177,22,88)"
             ],
             [
              0.5019607843137255,
              "rgb(203,26,79)"
             ],
             [
              0.5647058823529412,
              "rgb(223,47,67)"
             ],
             [
              0.6274509803921569,
              "rgb(236,76,61)"
             ],
             [
              0.6901960784313725,
              "rgb(242,107,73)"
             ],
             [
              0.7529411764705882,
              "rgb(244,135,95)"
             ],
             [
              0.8156862745098039,
              "rgb(245,162,122)"
             ],
             [
              0.8784313725490196,
              "rgb(246,188,153)"
             ],
             [
              0.9411764705882353,
              "rgb(247,212,187)"
             ],
             [
              1,
              "rgb(250,234,220)"
             ]
            ],
            "type": "contour"
           }
          ],
          "contourcarpet": [
           {
            "colorbar": {
             "outlinewidth": 0,
             "tickcolor": "rgb(36,36,36)",
             "ticklen": 8,
             "ticks": "outside",
             "tickwidth": 2
            },
            "type": "contourcarpet"
           }
          ],
          "heatmap": [
           {
            "colorbar": {
             "outlinewidth": 0,
             "tickcolor": "rgb(36,36,36)",
             "ticklen": 8,
             "ticks": "outside",
             "tickwidth": 2
            },
            "colorscale": [
             [
              0,
              "rgb(2,4,25)"
             ],
             [
              0.06274509803921569,
              "rgb(24,15,41)"
             ],
             [
              0.12549019607843137,
              "rgb(47,23,57)"
             ],
             [
              0.18823529411764706,
              "rgb(71,28,72)"
             ],
             [
              0.25098039215686274,
              "rgb(97,30,82)"
             ],
             [
              0.3137254901960784,
              "rgb(123,30,89)"
             ],
             [
              0.3764705882352941,
              "rgb(150,27,91)"
             ],
             [
              0.4392156862745098,
              "rgb(177,22,88)"
             ],
             [
              0.5019607843137255,
              "rgb(203,26,79)"
             ],
             [
              0.5647058823529412,
              "rgb(223,47,67)"
             ],
             [
              0.6274509803921569,
              "rgb(236,76,61)"
             ],
             [
              0.6901960784313725,
              "rgb(242,107,73)"
             ],
             [
              0.7529411764705882,
              "rgb(244,135,95)"
             ],
             [
              0.8156862745098039,
              "rgb(245,162,122)"
             ],
             [
              0.8784313725490196,
              "rgb(246,188,153)"
             ],
             [
              0.9411764705882353,
              "rgb(247,212,187)"
             ],
             [
              1,
              "rgb(250,234,220)"
             ]
            ],
            "type": "heatmap"
           }
          ],
          "heatmapgl": [
           {
            "colorbar": {
             "outlinewidth": 0,
             "tickcolor": "rgb(36,36,36)",
             "ticklen": 8,
             "ticks": "outside",
             "tickwidth": 2
            },
            "colorscale": [
             [
              0,
              "rgb(2,4,25)"
             ],
             [
              0.06274509803921569,
              "rgb(24,15,41)"
             ],
             [
              0.12549019607843137,
              "rgb(47,23,57)"
             ],
             [
              0.18823529411764706,
              "rgb(71,28,72)"
             ],
             [
              0.25098039215686274,
              "rgb(97,30,82)"
             ],
             [
              0.3137254901960784,
              "rgb(123,30,89)"
             ],
             [
              0.3764705882352941,
              "rgb(150,27,91)"
             ],
             [
              0.4392156862745098,
              "rgb(177,22,88)"
             ],
             [
              0.5019607843137255,
              "rgb(203,26,79)"
             ],
             [
              0.5647058823529412,
              "rgb(223,47,67)"
             ],
             [
              0.6274509803921569,
              "rgb(236,76,61)"
             ],
             [
              0.6901960784313725,
              "rgb(242,107,73)"
             ],
             [
              0.7529411764705882,
              "rgb(244,135,95)"
             ],
             [
              0.8156862745098039,
              "rgb(245,162,122)"
             ],
             [
              0.8784313725490196,
              "rgb(246,188,153)"
             ],
             [
              0.9411764705882353,
              "rgb(247,212,187)"
             ],
             [
              1,
              "rgb(250,234,220)"
             ]
            ],
            "type": "heatmapgl"
           }
          ],
          "histogram": [
           {
            "marker": {
             "colorbar": {
              "outlinewidth": 0,
              "tickcolor": "rgb(36,36,36)",
              "ticklen": 8,
              "ticks": "outside",
              "tickwidth": 2
             }
            },
            "type": "histogram"
           }
          ],
          "histogram2d": [
           {
            "colorbar": {
             "outlinewidth": 0,
             "tickcolor": "rgb(36,36,36)",
             "ticklen": 8,
             "ticks": "outside",
             "tickwidth": 2
            },
            "colorscale": [
             [
              0,
              "rgb(2,4,25)"
             ],
             [
              0.06274509803921569,
              "rgb(24,15,41)"
             ],
             [
              0.12549019607843137,
              "rgb(47,23,57)"
             ],
             [
              0.18823529411764706,
              "rgb(71,28,72)"
             ],
             [
              0.25098039215686274,
              "rgb(97,30,82)"
             ],
             [
              0.3137254901960784,
              "rgb(123,30,89)"
             ],
             [
              0.3764705882352941,
              "rgb(150,27,91)"
             ],
             [
              0.4392156862745098,
              "rgb(177,22,88)"
             ],
             [
              0.5019607843137255,
              "rgb(203,26,79)"
             ],
             [
              0.5647058823529412,
              "rgb(223,47,67)"
             ],
             [
              0.6274509803921569,
              "rgb(236,76,61)"
             ],
             [
              0.6901960784313725,
              "rgb(242,107,73)"
             ],
             [
              0.7529411764705882,
              "rgb(244,135,95)"
             ],
             [
              0.8156862745098039,
              "rgb(245,162,122)"
             ],
             [
              0.8784313725490196,
              "rgb(246,188,153)"
             ],
             [
              0.9411764705882353,
              "rgb(247,212,187)"
             ],
             [
              1,
              "rgb(250,234,220)"
             ]
            ],
            "type": "histogram2d"
           }
          ],
          "histogram2dcontour": [
           {
            "colorbar": {
             "outlinewidth": 0,
             "tickcolor": "rgb(36,36,36)",
             "ticklen": 8,
             "ticks": "outside",
             "tickwidth": 2
            },
            "colorscale": [
             [
              0,
              "rgb(2,4,25)"
             ],
             [
              0.06274509803921569,
              "rgb(24,15,41)"
             ],
             [
              0.12549019607843137,
              "rgb(47,23,57)"
             ],
             [
              0.18823529411764706,
              "rgb(71,28,72)"
             ],
             [
              0.25098039215686274,
              "rgb(97,30,82)"
             ],
             [
              0.3137254901960784,
              "rgb(123,30,89)"
             ],
             [
              0.3764705882352941,
              "rgb(150,27,91)"
             ],
             [
              0.4392156862745098,
              "rgb(177,22,88)"
             ],
             [
              0.5019607843137255,
              "rgb(203,26,79)"
             ],
             [
              0.5647058823529412,
              "rgb(223,47,67)"
             ],
             [
              0.6274509803921569,
              "rgb(236,76,61)"
             ],
             [
              0.6901960784313725,
              "rgb(242,107,73)"
             ],
             [
              0.7529411764705882,
              "rgb(244,135,95)"
             ],
             [
              0.8156862745098039,
              "rgb(245,162,122)"
             ],
             [
              0.8784313725490196,
              "rgb(246,188,153)"
             ],
             [
              0.9411764705882353,
              "rgb(247,212,187)"
             ],
             [
              1,
              "rgb(250,234,220)"
             ]
            ],
            "type": "histogram2dcontour"
           }
          ],
          "mesh3d": [
           {
            "colorbar": {
             "outlinewidth": 0,
             "tickcolor": "rgb(36,36,36)",
             "ticklen": 8,
             "ticks": "outside",
             "tickwidth": 2
            },
            "type": "mesh3d"
           }
          ],
          "parcoords": [
           {
            "line": {
             "colorbar": {
              "outlinewidth": 0,
              "tickcolor": "rgb(36,36,36)",
              "ticklen": 8,
              "ticks": "outside",
              "tickwidth": 2
             }
            },
            "type": "parcoords"
           }
          ],
          "pie": [
           {
            "automargin": true,
            "type": "pie"
           }
          ],
          "scatter": [
           {
            "marker": {
             "colorbar": {
              "outlinewidth": 0,
              "tickcolor": "rgb(36,36,36)",
              "ticklen": 8,
              "ticks": "outside",
              "tickwidth": 2
             }
            },
            "type": "scatter"
           }
          ],
          "scatter3d": [
           {
            "line": {
             "colorbar": {
              "outlinewidth": 0,
              "tickcolor": "rgb(36,36,36)",
              "ticklen": 8,
              "ticks": "outside",
              "tickwidth": 2
             }
            },
            "marker": {
             "colorbar": {
              "outlinewidth": 0,
              "tickcolor": "rgb(36,36,36)",
              "ticklen": 8,
              "ticks": "outside",
              "tickwidth": 2
             }
            },
            "type": "scatter3d"
           }
          ],
          "scattercarpet": [
           {
            "marker": {
             "colorbar": {
              "outlinewidth": 0,
              "tickcolor": "rgb(36,36,36)",
              "ticklen": 8,
              "ticks": "outside",
              "tickwidth": 2
             }
            },
            "type": "scattercarpet"
           }
          ],
          "scattergeo": [
           {
            "marker": {
             "colorbar": {
              "outlinewidth": 0,
              "tickcolor": "rgb(36,36,36)",
              "ticklen": 8,
              "ticks": "outside",
              "tickwidth": 2
             }
            },
            "type": "scattergeo"
           }
          ],
          "scattergl": [
           {
            "marker": {
             "colorbar": {
              "outlinewidth": 0,
              "tickcolor": "rgb(36,36,36)",
              "ticklen": 8,
              "ticks": "outside",
              "tickwidth": 2
             }
            },
            "type": "scattergl"
           }
          ],
          "scattermapbox": [
           {
            "marker": {
             "colorbar": {
              "outlinewidth": 0,
              "tickcolor": "rgb(36,36,36)",
              "ticklen": 8,
              "ticks": "outside",
              "tickwidth": 2
             }
            },
            "type": "scattermapbox"
           }
          ],
          "scatterpolar": [
           {
            "marker": {
             "colorbar": {
              "outlinewidth": 0,
              "tickcolor": "rgb(36,36,36)",
              "ticklen": 8,
              "ticks": "outside",
              "tickwidth": 2
             }
            },
            "type": "scatterpolar"
           }
          ],
          "scatterpolargl": [
           {
            "marker": {
             "colorbar": {
              "outlinewidth": 0,
              "tickcolor": "rgb(36,36,36)",
              "ticklen": 8,
              "ticks": "outside",
              "tickwidth": 2
             }
            },
            "type": "scatterpolargl"
           }
          ],
          "scatterternary": [
           {
            "marker": {
             "colorbar": {
              "outlinewidth": 0,
              "tickcolor": "rgb(36,36,36)",
              "ticklen": 8,
              "ticks": "outside",
              "tickwidth": 2
             }
            },
            "type": "scatterternary"
           }
          ],
          "surface": [
           {
            "colorbar": {
             "outlinewidth": 0,
             "tickcolor": "rgb(36,36,36)",
             "ticklen": 8,
             "ticks": "outside",
             "tickwidth": 2
            },
            "colorscale": [
             [
              0,
              "rgb(2,4,25)"
             ],
             [
              0.06274509803921569,
              "rgb(24,15,41)"
             ],
             [
              0.12549019607843137,
              "rgb(47,23,57)"
             ],
             [
              0.18823529411764706,
              "rgb(71,28,72)"
             ],
             [
              0.25098039215686274,
              "rgb(97,30,82)"
             ],
             [
              0.3137254901960784,
              "rgb(123,30,89)"
             ],
             [
              0.3764705882352941,
              "rgb(150,27,91)"
             ],
             [
              0.4392156862745098,
              "rgb(177,22,88)"
             ],
             [
              0.5019607843137255,
              "rgb(203,26,79)"
             ],
             [
              0.5647058823529412,
              "rgb(223,47,67)"
             ],
             [
              0.6274509803921569,
              "rgb(236,76,61)"
             ],
             [
              0.6901960784313725,
              "rgb(242,107,73)"
             ],
             [
              0.7529411764705882,
              "rgb(244,135,95)"
             ],
             [
              0.8156862745098039,
              "rgb(245,162,122)"
             ],
             [
              0.8784313725490196,
              "rgb(246,188,153)"
             ],
             [
              0.9411764705882353,
              "rgb(247,212,187)"
             ],
             [
              1,
              "rgb(250,234,220)"
             ]
            ],
            "type": "surface"
           }
          ],
          "table": [
           {
            "cells": {
             "fill": {
              "color": "rgb(231,231,240)"
             },
             "line": {
              "color": "white"
             }
            },
            "header": {
             "fill": {
              "color": "rgb(183,183,191)"
             },
             "line": {
              "color": "white"
             }
            },
            "type": "table"
           }
          ]
         },
         "layout": {
          "annotationdefaults": {
           "arrowcolor": "rgb(67,103,167)"
          },
          "autotypenumbers": "strict",
          "coloraxis": {
           "colorbar": {
            "outlinewidth": 0,
            "tickcolor": "rgb(36,36,36)",
            "ticklen": 8,
            "ticks": "outside",
            "tickwidth": 2
           }
          },
          "colorscale": {
           "sequential": [
            [
             0,
             "rgb(2,4,25)"
            ],
            [
             0.06274509803921569,
             "rgb(24,15,41)"
            ],
            [
             0.12549019607843137,
             "rgb(47,23,57)"
            ],
            [
             0.18823529411764706,
             "rgb(71,28,72)"
            ],
            [
             0.25098039215686274,
             "rgb(97,30,82)"
            ],
            [
             0.3137254901960784,
             "rgb(123,30,89)"
            ],
            [
             0.3764705882352941,
             "rgb(150,27,91)"
            ],
            [
             0.4392156862745098,
             "rgb(177,22,88)"
            ],
            [
             0.5019607843137255,
             "rgb(203,26,79)"
            ],
            [
             0.5647058823529412,
             "rgb(223,47,67)"
            ],
            [
             0.6274509803921569,
             "rgb(236,76,61)"
            ],
            [
             0.6901960784313725,
             "rgb(242,107,73)"
            ],
            [
             0.7529411764705882,
             "rgb(244,135,95)"
            ],
            [
             0.8156862745098039,
             "rgb(245,162,122)"
            ],
            [
             0.8784313725490196,
             "rgb(246,188,153)"
            ],
            [
             0.9411764705882353,
             "rgb(247,212,187)"
            ],
            [
             1,
             "rgb(250,234,220)"
            ]
           ],
           "sequentialminus": [
            [
             0,
             "rgb(2,4,25)"
            ],
            [
             0.06274509803921569,
             "rgb(24,15,41)"
            ],
            [
             0.12549019607843137,
             "rgb(47,23,57)"
            ],
            [
             0.18823529411764706,
             "rgb(71,28,72)"
            ],
            [
             0.25098039215686274,
             "rgb(97,30,82)"
            ],
            [
             0.3137254901960784,
             "rgb(123,30,89)"
            ],
            [
             0.3764705882352941,
             "rgb(150,27,91)"
            ],
            [
             0.4392156862745098,
             "rgb(177,22,88)"
            ],
            [
             0.5019607843137255,
             "rgb(203,26,79)"
            ],
            [
             0.5647058823529412,
             "rgb(223,47,67)"
            ],
            [
             0.6274509803921569,
             "rgb(236,76,61)"
            ],
            [
             0.6901960784313725,
             "rgb(242,107,73)"
            ],
            [
             0.7529411764705882,
             "rgb(244,135,95)"
            ],
            [
             0.8156862745098039,
             "rgb(245,162,122)"
            ],
            [
             0.8784313725490196,
             "rgb(246,188,153)"
            ],
            [
             0.9411764705882353,
             "rgb(247,212,187)"
            ],
            [
             1,
             "rgb(250,234,220)"
            ]
           ]
          },
          "colorway": [
           "rgb(76,114,176)",
           "rgb(221,132,82)",
           "rgb(85,168,104)",
           "rgb(196,78,82)",
           "rgb(129,114,179)",
           "rgb(147,120,96)",
           "rgb(218,139,195)",
           "rgb(140,140,140)",
           "rgb(204,185,116)",
           "rgb(100,181,205)"
          ],
          "font": {
           "color": "rgb(36,36,36)"
          },
          "geo": {
           "bgcolor": "white",
           "lakecolor": "white",
           "landcolor": "rgb(234,234,242)",
           "showlakes": true,
           "showland": true,
           "subunitcolor": "white"
          },
          "hoverlabel": {
           "align": "left"
          },
          "hovermode": "closest",
          "paper_bgcolor": "white",
          "plot_bgcolor": "rgb(234,234,242)",
          "polar": {
           "angularaxis": {
            "gridcolor": "white",
            "linecolor": "white",
            "showgrid": true,
            "ticks": ""
           },
           "bgcolor": "rgb(234,234,242)",
           "radialaxis": {
            "gridcolor": "white",
            "linecolor": "white",
            "showgrid": true,
            "ticks": ""
           }
          },
          "scene": {
           "xaxis": {
            "backgroundcolor": "rgb(234,234,242)",
            "gridcolor": "white",
            "gridwidth": 2,
            "linecolor": "white",
            "showbackground": true,
            "showgrid": true,
            "ticks": "",
            "zerolinecolor": "white"
           },
           "yaxis": {
            "backgroundcolor": "rgb(234,234,242)",
            "gridcolor": "white",
            "gridwidth": 2,
            "linecolor": "white",
            "showbackground": true,
            "showgrid": true,
            "ticks": "",
            "zerolinecolor": "white"
           },
           "zaxis": {
            "backgroundcolor": "rgb(234,234,242)",
            "gridcolor": "white",
            "gridwidth": 2,
            "linecolor": "white",
            "showbackground": true,
            "showgrid": true,
            "ticks": "",
            "zerolinecolor": "white"
           }
          },
          "shapedefaults": {
           "fillcolor": "rgb(67,103,167)",
           "line": {
            "width": 0
           },
           "opacity": 0.5
          },
          "ternary": {
           "aaxis": {
            "gridcolor": "white",
            "linecolor": "white",
            "showgrid": true,
            "ticks": ""
           },
           "baxis": {
            "gridcolor": "white",
            "linecolor": "white",
            "showgrid": true,
            "ticks": ""
           },
           "bgcolor": "rgb(234,234,242)",
           "caxis": {
            "gridcolor": "white",
            "linecolor": "white",
            "showgrid": true,
            "ticks": ""
           }
          },
          "xaxis": {
           "automargin": true,
           "gridcolor": "white",
           "linecolor": "white",
           "showgrid": true,
           "ticks": "",
           "title": {
            "standoff": 15
           },
           "zerolinecolor": "white"
          },
          "yaxis": {
           "automargin": true,
           "gridcolor": "white",
           "linecolor": "white",
           "showgrid": true,
           "ticks": "",
           "title": {
            "standoff": 15
           },
           "zerolinecolor": "white"
          }
         }
        },
        "title": {
         "text": "<b>Current Share of South Korea COVID19 Cases</b><br><sub>There are totally 17 of provinces and 164 of cities in the dataset</sub><br>"
        },
        "width": 1200
       }
      }
     },
     "metadata": {}
    }
   ],
   "source": [
    "title_msg = \"<b>Current Share of South Korea COVID19 Cases</b><br><sub>There are totally 17 of provinces and 164 of cities in the dataset</sub><br>\"\n",
    "fig = px.treemap(df_grouped, path=['Country', 'province', 'city'], values = 'counts', color = 'counts',\n",
    "                color_continuous_scale='Jet', title = title_msg)\n",
    "fig.update_layout(width=1200, height = 600, template='seaborn')\n",
    "fig.show()"
   ]
  },
  {
   "cell_type": "code",
   "execution_count": 23,
   "metadata": {},
   "outputs": [
    {
     "output_type": "display_data",
     "data": {
      "application/vnd.plotly.v1+json": {
       "config": {
        "plotlyServerURL": "https://plot.ly"
       },
       "data": [
        {
         "branchvalues": "total",
         "customdata": [
          [
           151
          ],
          [
           56
          ],
          [
           168
          ],
          [
           137
          ],
          [
           119
          ],
          [
           63
          ],
          [
           44
          ],
          [
           1208
          ],
          [
           1251
          ],
          [
           133
          ],
          [
           343
          ],
          [
           19
          ],
          [
           27
          ],
          [
           25
          ],
          [
           51
          ],
          [
           1312
          ],
          [
           55
          ],
          [
           682.3487159683295
          ]
         ],
         "domain": {
          "x": [
           0,
           1
          ],
          "y": [
           0,
           1
          ]
         },
         "hovertemplate": "labels=%{label}<br>province_population_in_M=%{value}<br>parent=%{parent}<br>id=%{id}<br>counts=%{color}<extra></extra>",
         "ids": [
          "South Korea/Busan",
          "South Korea/Chungcheongbuk-do",
          "South Korea/Chungcheongnam-do",
          "South Korea/Daegu",
          "South Korea/Daejeon",
          "South Korea/Gangwon-do",
          "South Korea/Gwangju",
          "South Korea/Gyeonggi-do",
          "South Korea/Gyeongsangbuk-do",
          "South Korea/Gyeongsangnam-do",
          "South Korea/Incheon",
          "South Korea/Jeju-do",
          "South Korea/Jeollabuk-do",
          "South Korea/Jeollanam-do",
          "South Korea/Sejong",
          "South Korea/Seoul",
          "South Korea/Ulsan",
          "South Korea"
         ],
         "labels": [
          "Busan",
          "Chungcheongbuk-do",
          "Chungcheongnam-do",
          "Daegu",
          "Daejeon",
          "Gangwon-do",
          "Gwangju",
          "Gyeonggi-do",
          "Gyeongsangbuk-do",
          "Gyeongsangnam-do",
          "Incheon",
          "Jeju-do",
          "Jeollabuk-do",
          "Jeollanam-do",
          "Sejong",
          "Seoul",
          "Ulsan",
          "South Korea"
         ],
         "marker": {
          "coloraxis": "coloraxis",
          "colors": [
           151,
           56,
           168,
           137,
           119,
           63,
           44,
           1208,
           1251,
           133,
           343,
           19,
           27,
           25,
           51,
           1312,
           55,
           682.3487159683295
          ]
         },
         "name": "",
         "parents": [
          "South Korea",
          "South Korea",
          "South Korea",
          "South Korea",
          "South Korea",
          "South Korea",
          "South Korea",
          "South Korea",
          "South Korea",
          "South Korea",
          "South Korea",
          "South Korea",
          "South Korea",
          "South Korea",
          "South Korea",
          "South Korea",
          "South Korea",
          ""
         ],
         "type": "treemap",
         "values": [
          3.3700000000000037,
          1.6299999999999992,
          2.189999999999998,
          2.430000000000005,
          1.5,
          1.5199999999999996,
          1.4900000000000004,
          13.29999999999971,
          2.670000000000045,
          3.350000000000007,
          2.9500000000000184,
          0.67,
          1.8100000000000005,
          1.7899999999999994,
          0.3399999999999999,
          9.639999999999889,
          1.1400000000000003,
          51.78999999999968
         ]
        }
       ],
       "layout": {
        "coloraxis": {
         "colorbar": {
          "title": {
           "text": "counts"
          }
         },
         "colorscale": [
          [
           0,
           "rgb(0,0,131)"
          ],
          [
           0.2,
           "rgb(0,60,170)"
          ],
          [
           0.4,
           "rgb(5,255,255)"
          ],
          [
           0.6,
           "rgb(255,255,0)"
          ],
          [
           0.8,
           "rgb(250,0,0)"
          ],
          [
           1,
           "rgb(128,0,0)"
          ]
         ]
        },
        "height": 600,
        "legend": {
         "tracegroupgap": 0
        },
        "template": {
         "data": {
          "bar": [
           {
            "error_x": {
             "color": "rgb(36,36,36)"
            },
            "error_y": {
             "color": "rgb(36,36,36)"
            },
            "marker": {
             "line": {
              "color": "rgb(234,234,242)",
              "width": 0.5
             }
            },
            "type": "bar"
           }
          ],
          "barpolar": [
           {
            "marker": {
             "line": {
              "color": "rgb(234,234,242)",
              "width": 0.5
             }
            },
            "type": "barpolar"
           }
          ],
          "carpet": [
           {
            "aaxis": {
             "endlinecolor": "rgb(36,36,36)",
             "gridcolor": "white",
             "linecolor": "white",
             "minorgridcolor": "white",
             "startlinecolor": "rgb(36,36,36)"
            },
            "baxis": {
             "endlinecolor": "rgb(36,36,36)",
             "gridcolor": "white",
             "linecolor": "white",
             "minorgridcolor": "white",
             "startlinecolor": "rgb(36,36,36)"
            },
            "type": "carpet"
           }
          ],
          "choropleth": [
           {
            "colorbar": {
             "outlinewidth": 0,
             "tickcolor": "rgb(36,36,36)",
             "ticklen": 8,
             "ticks": "outside",
             "tickwidth": 2
            },
            "type": "choropleth"
           }
          ],
          "contour": [
           {
            "colorbar": {
             "outlinewidth": 0,
             "tickcolor": "rgb(36,36,36)",
             "ticklen": 8,
             "ticks": "outside",
             "tickwidth": 2
            },
            "colorscale": [
             [
              0,
              "rgb(2,4,25)"
             ],
             [
              0.06274509803921569,
              "rgb(24,15,41)"
             ],
             [
              0.12549019607843137,
              "rgb(47,23,57)"
             ],
             [
              0.18823529411764706,
              "rgb(71,28,72)"
             ],
             [
              0.25098039215686274,
              "rgb(97,30,82)"
             ],
             [
              0.3137254901960784,
              "rgb(123,30,89)"
             ],
             [
              0.3764705882352941,
              "rgb(150,27,91)"
             ],
             [
              0.4392156862745098,
              "rgb(177,22,88)"
             ],
             [
              0.5019607843137255,
              "rgb(203,26,79)"
             ],
             [
              0.5647058823529412,
              "rgb(223,47,67)"
             ],
             [
              0.6274509803921569,
              "rgb(236,76,61)"
             ],
             [
              0.6901960784313725,
              "rgb(242,107,73)"
             ],
             [
              0.7529411764705882,
              "rgb(244,135,95)"
             ],
             [
              0.8156862745098039,
              "rgb(245,162,122)"
             ],
             [
              0.8784313725490196,
              "rgb(246,188,153)"
             ],
             [
              0.9411764705882353,
              "rgb(247,212,187)"
             ],
             [
              1,
              "rgb(250,234,220)"
             ]
            ],
            "type": "contour"
           }
          ],
          "contourcarpet": [
           {
            "colorbar": {
             "outlinewidth": 0,
             "tickcolor": "rgb(36,36,36)",
             "ticklen": 8,
             "ticks": "outside",
             "tickwidth": 2
            },
            "type": "contourcarpet"
           }
          ],
          "heatmap": [
           {
            "colorbar": {
             "outlinewidth": 0,
             "tickcolor": "rgb(36,36,36)",
             "ticklen": 8,
             "ticks": "outside",
             "tickwidth": 2
            },
            "colorscale": [
             [
              0,
              "rgb(2,4,25)"
             ],
             [
              0.06274509803921569,
              "rgb(24,15,41)"
             ],
             [
              0.12549019607843137,
              "rgb(47,23,57)"
             ],
             [
              0.18823529411764706,
              "rgb(71,28,72)"
             ],
             [
              0.25098039215686274,
              "rgb(97,30,82)"
             ],
             [
              0.3137254901960784,
              "rgb(123,30,89)"
             ],
             [
              0.3764705882352941,
              "rgb(150,27,91)"
             ],
             [
              0.4392156862745098,
              "rgb(177,22,88)"
             ],
             [
              0.5019607843137255,
              "rgb(203,26,79)"
             ],
             [
              0.5647058823529412,
              "rgb(223,47,67)"
             ],
             [
              0.6274509803921569,
              "rgb(236,76,61)"
             ],
             [
              0.6901960784313725,
              "rgb(242,107,73)"
             ],
             [
              0.7529411764705882,
              "rgb(244,135,95)"
             ],
             [
              0.8156862745098039,
              "rgb(245,162,122)"
             ],
             [
              0.8784313725490196,
              "rgb(246,188,153)"
             ],
             [
              0.9411764705882353,
              "rgb(247,212,187)"
             ],
             [
              1,
              "rgb(250,234,220)"
             ]
            ],
            "type": "heatmap"
           }
          ],
          "heatmapgl": [
           {
            "colorbar": {
             "outlinewidth": 0,
             "tickcolor": "rgb(36,36,36)",
             "ticklen": 8,
             "ticks": "outside",
             "tickwidth": 2
            },
            "colorscale": [
             [
              0,
              "rgb(2,4,25)"
             ],
             [
              0.06274509803921569,
              "rgb(24,15,41)"
             ],
             [
              0.12549019607843137,
              "rgb(47,23,57)"
             ],
             [
              0.18823529411764706,
              "rgb(71,28,72)"
             ],
             [
              0.25098039215686274,
              "rgb(97,30,82)"
             ],
             [
              0.3137254901960784,
              "rgb(123,30,89)"
             ],
             [
              0.3764705882352941,
              "rgb(150,27,91)"
             ],
             [
              0.4392156862745098,
              "rgb(177,22,88)"
             ],
             [
              0.5019607843137255,
              "rgb(203,26,79)"
             ],
             [
              0.5647058823529412,
              "rgb(223,47,67)"
             ],
             [
              0.6274509803921569,
              "rgb(236,76,61)"
             ],
             [
              0.6901960784313725,
              "rgb(242,107,73)"
             ],
             [
              0.7529411764705882,
              "rgb(244,135,95)"
             ],
             [
              0.8156862745098039,
              "rgb(245,162,122)"
             ],
             [
              0.8784313725490196,
              "rgb(246,188,153)"
             ],
             [
              0.9411764705882353,
              "rgb(247,212,187)"
             ],
             [
              1,
              "rgb(250,234,220)"
             ]
            ],
            "type": "heatmapgl"
           }
          ],
          "histogram": [
           {
            "marker": {
             "colorbar": {
              "outlinewidth": 0,
              "tickcolor": "rgb(36,36,36)",
              "ticklen": 8,
              "ticks": "outside",
              "tickwidth": 2
             }
            },
            "type": "histogram"
           }
          ],
          "histogram2d": [
           {
            "colorbar": {
             "outlinewidth": 0,
             "tickcolor": "rgb(36,36,36)",
             "ticklen": 8,
             "ticks": "outside",
             "tickwidth": 2
            },
            "colorscale": [
             [
              0,
              "rgb(2,4,25)"
             ],
             [
              0.06274509803921569,
              "rgb(24,15,41)"
             ],
             [
              0.12549019607843137,
              "rgb(47,23,57)"
             ],
             [
              0.18823529411764706,
              "rgb(71,28,72)"
             ],
             [
              0.25098039215686274,
              "rgb(97,30,82)"
             ],
             [
              0.3137254901960784,
              "rgb(123,30,89)"
             ],
             [
              0.3764705882352941,
              "rgb(150,27,91)"
             ],
             [
              0.4392156862745098,
              "rgb(177,22,88)"
             ],
             [
              0.5019607843137255,
              "rgb(203,26,79)"
             ],
             [
              0.5647058823529412,
              "rgb(223,47,67)"
             ],
             [
              0.6274509803921569,
              "rgb(236,76,61)"
             ],
             [
              0.6901960784313725,
              "rgb(242,107,73)"
             ],
             [
              0.7529411764705882,
              "rgb(244,135,95)"
             ],
             [
              0.8156862745098039,
              "rgb(245,162,122)"
             ],
             [
              0.8784313725490196,
              "rgb(246,188,153)"
             ],
             [
              0.9411764705882353,
              "rgb(247,212,187)"
             ],
             [
              1,
              "rgb(250,234,220)"
             ]
            ],
            "type": "histogram2d"
           }
          ],
          "histogram2dcontour": [
           {
            "colorbar": {
             "outlinewidth": 0,
             "tickcolor": "rgb(36,36,36)",
             "ticklen": 8,
             "ticks": "outside",
             "tickwidth": 2
            },
            "colorscale": [
             [
              0,
              "rgb(2,4,25)"
             ],
             [
              0.06274509803921569,
              "rgb(24,15,41)"
             ],
             [
              0.12549019607843137,
              "rgb(47,23,57)"
             ],
             [
              0.18823529411764706,
              "rgb(71,28,72)"
             ],
             [
              0.25098039215686274,
              "rgb(97,30,82)"
             ],
             [
              0.3137254901960784,
              "rgb(123,30,89)"
             ],
             [
              0.3764705882352941,
              "rgb(150,27,91)"
             ],
             [
              0.4392156862745098,
              "rgb(177,22,88)"
             ],
             [
              0.5019607843137255,
              "rgb(203,26,79)"
             ],
             [
              0.5647058823529412,
              "rgb(223,47,67)"
             ],
             [
              0.6274509803921569,
              "rgb(236,76,61)"
             ],
             [
              0.6901960784313725,
              "rgb(242,107,73)"
             ],
             [
              0.7529411764705882,
              "rgb(244,135,95)"
             ],
             [
              0.8156862745098039,
              "rgb(245,162,122)"
             ],
             [
              0.8784313725490196,
              "rgb(246,188,153)"
             ],
             [
              0.9411764705882353,
              "rgb(247,212,187)"
             ],
             [
              1,
              "rgb(250,234,220)"
             ]
            ],
            "type": "histogram2dcontour"
           }
          ],
          "mesh3d": [
           {
            "colorbar": {
             "outlinewidth": 0,
             "tickcolor": "rgb(36,36,36)",
             "ticklen": 8,
             "ticks": "outside",
             "tickwidth": 2
            },
            "type": "mesh3d"
           }
          ],
          "parcoords": [
           {
            "line": {
             "colorbar": {
              "outlinewidth": 0,
              "tickcolor": "rgb(36,36,36)",
              "ticklen": 8,
              "ticks": "outside",
              "tickwidth": 2
             }
            },
            "type": "parcoords"
           }
          ],
          "pie": [
           {
            "automargin": true,
            "type": "pie"
           }
          ],
          "scatter": [
           {
            "marker": {
             "colorbar": {
              "outlinewidth": 0,
              "tickcolor": "rgb(36,36,36)",
              "ticklen": 8,
              "ticks": "outside",
              "tickwidth": 2
             }
            },
            "type": "scatter"
           }
          ],
          "scatter3d": [
           {
            "line": {
             "colorbar": {
              "outlinewidth": 0,
              "tickcolor": "rgb(36,36,36)",
              "ticklen": 8,
              "ticks": "outside",
              "tickwidth": 2
             }
            },
            "marker": {
             "colorbar": {
              "outlinewidth": 0,
              "tickcolor": "rgb(36,36,36)",
              "ticklen": 8,
              "ticks": "outside",
              "tickwidth": 2
             }
            },
            "type": "scatter3d"
           }
          ],
          "scattercarpet": [
           {
            "marker": {
             "colorbar": {
              "outlinewidth": 0,
              "tickcolor": "rgb(36,36,36)",
              "ticklen": 8,
              "ticks": "outside",
              "tickwidth": 2
             }
            },
            "type": "scattercarpet"
           }
          ],
          "scattergeo": [
           {
            "marker": {
             "colorbar": {
              "outlinewidth": 0,
              "tickcolor": "rgb(36,36,36)",
              "ticklen": 8,
              "ticks": "outside",
              "tickwidth": 2
             }
            },
            "type": "scattergeo"
           }
          ],
          "scattergl": [
           {
            "marker": {
             "colorbar": {
              "outlinewidth": 0,
              "tickcolor": "rgb(36,36,36)",
              "ticklen": 8,
              "ticks": "outside",
              "tickwidth": 2
             }
            },
            "type": "scattergl"
           }
          ],
          "scattermapbox": [
           {
            "marker": {
             "colorbar": {
              "outlinewidth": 0,
              "tickcolor": "rgb(36,36,36)",
              "ticklen": 8,
              "ticks": "outside",
              "tickwidth": 2
             }
            },
            "type": "scattermapbox"
           }
          ],
          "scatterpolar": [
           {
            "marker": {
             "colorbar": {
              "outlinewidth": 0,
              "tickcolor": "rgb(36,36,36)",
              "ticklen": 8,
              "ticks": "outside",
              "tickwidth": 2
             }
            },
            "type": "scatterpolar"
           }
          ],
          "scatterpolargl": [
           {
            "marker": {
             "colorbar": {
              "outlinewidth": 0,
              "tickcolor": "rgb(36,36,36)",
              "ticklen": 8,
              "ticks": "outside",
              "tickwidth": 2
             }
            },
            "type": "scatterpolargl"
           }
          ],
          "scatterternary": [
           {
            "marker": {
             "colorbar": {
              "outlinewidth": 0,
              "tickcolor": "rgb(36,36,36)",
              "ticklen": 8,
              "ticks": "outside",
              "tickwidth": 2
             }
            },
            "type": "scatterternary"
           }
          ],
          "surface": [
           {
            "colorbar": {
             "outlinewidth": 0,
             "tickcolor": "rgb(36,36,36)",
             "ticklen": 8,
             "ticks": "outside",
             "tickwidth": 2
            },
            "colorscale": [
             [
              0,
              "rgb(2,4,25)"
             ],
             [
              0.06274509803921569,
              "rgb(24,15,41)"
             ],
             [
              0.12549019607843137,
              "rgb(47,23,57)"
             ],
             [
              0.18823529411764706,
              "rgb(71,28,72)"
             ],
             [
              0.25098039215686274,
              "rgb(97,30,82)"
             ],
             [
              0.3137254901960784,
              "rgb(123,30,89)"
             ],
             [
              0.3764705882352941,
              "rgb(150,27,91)"
             ],
             [
              0.4392156862745098,
              "rgb(177,22,88)"
             ],
             [
              0.5019607843137255,
              "rgb(203,26,79)"
             ],
             [
              0.5647058823529412,
              "rgb(223,47,67)"
             ],
             [
              0.6274509803921569,
              "rgb(236,76,61)"
             ],
             [
              0.6901960784313725,
              "rgb(242,107,73)"
             ],
             [
              0.7529411764705882,
              "rgb(244,135,95)"
             ],
             [
              0.8156862745098039,
              "rgb(245,162,122)"
             ],
             [
              0.8784313725490196,
              "rgb(246,188,153)"
             ],
             [
              0.9411764705882353,
              "rgb(247,212,187)"
             ],
             [
              1,
              "rgb(250,234,220)"
             ]
            ],
            "type": "surface"
           }
          ],
          "table": [
           {
            "cells": {
             "fill": {
              "color": "rgb(231,231,240)"
             },
             "line": {
              "color": "white"
             }
            },
            "header": {
             "fill": {
              "color": "rgb(183,183,191)"
             },
             "line": {
              "color": "white"
             }
            },
            "type": "table"
           }
          ]
         },
         "layout": {
          "annotationdefaults": {
           "arrowcolor": "rgb(67,103,167)"
          },
          "autotypenumbers": "strict",
          "coloraxis": {
           "colorbar": {
            "outlinewidth": 0,
            "tickcolor": "rgb(36,36,36)",
            "ticklen": 8,
            "ticks": "outside",
            "tickwidth": 2
           }
          },
          "colorscale": {
           "sequential": [
            [
             0,
             "rgb(2,4,25)"
            ],
            [
             0.06274509803921569,
             "rgb(24,15,41)"
            ],
            [
             0.12549019607843137,
             "rgb(47,23,57)"
            ],
            [
             0.18823529411764706,
             "rgb(71,28,72)"
            ],
            [
             0.25098039215686274,
             "rgb(97,30,82)"
            ],
            [
             0.3137254901960784,
             "rgb(123,30,89)"
            ],
            [
             0.3764705882352941,
             "rgb(150,27,91)"
            ],
            [
             0.4392156862745098,
             "rgb(177,22,88)"
            ],
            [
             0.5019607843137255,
             "rgb(203,26,79)"
            ],
            [
             0.5647058823529412,
             "rgb(223,47,67)"
            ],
            [
             0.6274509803921569,
             "rgb(236,76,61)"
            ],
            [
             0.6901960784313725,
             "rgb(242,107,73)"
            ],
            [
             0.7529411764705882,
             "rgb(244,135,95)"
            ],
            [
             0.8156862745098039,
             "rgb(245,162,122)"
            ],
            [
             0.8784313725490196,
             "rgb(246,188,153)"
            ],
            [
             0.9411764705882353,
             "rgb(247,212,187)"
            ],
            [
             1,
             "rgb(250,234,220)"
            ]
           ],
           "sequentialminus": [
            [
             0,
             "rgb(2,4,25)"
            ],
            [
             0.06274509803921569,
             "rgb(24,15,41)"
            ],
            [
             0.12549019607843137,
             "rgb(47,23,57)"
            ],
            [
             0.18823529411764706,
             "rgb(71,28,72)"
            ],
            [
             0.25098039215686274,
             "rgb(97,30,82)"
            ],
            [
             0.3137254901960784,
             "rgb(123,30,89)"
            ],
            [
             0.3764705882352941,
             "rgb(150,27,91)"
            ],
            [
             0.4392156862745098,
             "rgb(177,22,88)"
            ],
            [
             0.5019607843137255,
             "rgb(203,26,79)"
            ],
            [
             0.5647058823529412,
             "rgb(223,47,67)"
            ],
            [
             0.6274509803921569,
             "rgb(236,76,61)"
            ],
            [
             0.6901960784313725,
             "rgb(242,107,73)"
            ],
            [
             0.7529411764705882,
             "rgb(244,135,95)"
            ],
            [
             0.8156862745098039,
             "rgb(245,162,122)"
            ],
            [
             0.8784313725490196,
             "rgb(246,188,153)"
            ],
            [
             0.9411764705882353,
             "rgb(247,212,187)"
            ],
            [
             1,
             "rgb(250,234,220)"
            ]
           ]
          },
          "colorway": [
           "rgb(76,114,176)",
           "rgb(221,132,82)",
           "rgb(85,168,104)",
           "rgb(196,78,82)",
           "rgb(129,114,179)",
           "rgb(147,120,96)",
           "rgb(218,139,195)",
           "rgb(140,140,140)",
           "rgb(204,185,116)",
           "rgb(100,181,205)"
          ],
          "font": {
           "color": "rgb(36,36,36)"
          },
          "geo": {
           "bgcolor": "white",
           "lakecolor": "white",
           "landcolor": "rgb(234,234,242)",
           "showlakes": true,
           "showland": true,
           "subunitcolor": "white"
          },
          "hoverlabel": {
           "align": "left"
          },
          "hovermode": "closest",
          "paper_bgcolor": "white",
          "plot_bgcolor": "rgb(234,234,242)",
          "polar": {
           "angularaxis": {
            "gridcolor": "white",
            "linecolor": "white",
            "showgrid": true,
            "ticks": ""
           },
           "bgcolor": "rgb(234,234,242)",
           "radialaxis": {
            "gridcolor": "white",
            "linecolor": "white",
            "showgrid": true,
            "ticks": ""
           }
          },
          "scene": {
           "xaxis": {
            "backgroundcolor": "rgb(234,234,242)",
            "gridcolor": "white",
            "gridwidth": 2,
            "linecolor": "white",
            "showbackground": true,
            "showgrid": true,
            "ticks": "",
            "zerolinecolor": "white"
           },
           "yaxis": {
            "backgroundcolor": "rgb(234,234,242)",
            "gridcolor": "white",
            "gridwidth": 2,
            "linecolor": "white",
            "showbackground": true,
            "showgrid": true,
            "ticks": "",
            "zerolinecolor": "white"
           },
           "zaxis": {
            "backgroundcolor": "rgb(234,234,242)",
            "gridcolor": "white",
            "gridwidth": 2,
            "linecolor": "white",
            "showbackground": true,
            "showgrid": true,
            "ticks": "",
            "zerolinecolor": "white"
           }
          },
          "shapedefaults": {
           "fillcolor": "rgb(67,103,167)",
           "line": {
            "width": 0
           },
           "opacity": 0.5
          },
          "ternary": {
           "aaxis": {
            "gridcolor": "white",
            "linecolor": "white",
            "showgrid": true,
            "ticks": ""
           },
           "baxis": {
            "gridcolor": "white",
            "linecolor": "white",
            "showgrid": true,
            "ticks": ""
           },
           "bgcolor": "rgb(234,234,242)",
           "caxis": {
            "gridcolor": "white",
            "linecolor": "white",
            "showgrid": true,
            "ticks": ""
           }
          },
          "xaxis": {
           "automargin": true,
           "gridcolor": "white",
           "linecolor": "white",
           "showgrid": true,
           "ticks": "",
           "title": {
            "standoff": 15
           },
           "zerolinecolor": "white"
          },
          "yaxis": {
           "automargin": true,
           "gridcolor": "white",
           "linecolor": "white",
           "showgrid": true,
           "ticks": "",
           "title": {
            "standoff": 15
           },
           "zerolinecolor": "white"
          }
         }
        },
        "title": {
         "text": "<b>Current Share of South Korea COVID19 Cases</b><br><sub>There are totally 17 of provinces in the dataset</sub><br>"
        },
        "width": 1200
       }
      }
     },
     "metadata": {}
    }
   ],
   "source": [
    "df_grouped_by_province = df.groupby(by=['province']).agg({'patient_id':'count', 'province_population_in_M':'mean'}).reset_index().rename(columns = {'patient_id':'counts'})\n",
    "# To provide a level at the top (single root node)\n",
    "df_grouped_by_province['Country'] = 'South Korea'\n",
    "\n",
    "title_msg = \"<b>Current Share of South Korea COVID19 Cases</b><br><sub>There are totally 17 of provinces in the dataset</sub><br>\"\n",
    "fig = px.treemap(df_grouped_by_province, path=['Country', 'province'], values = 'province_population_in_M', color = 'counts',\n",
    "                color_continuous_scale='Jet', title = title_msg)\n",
    "fig.update_layout(width=1200, height = 600, template='seaborn')\n",
    "fig.show()"
   ]
  },
  {
   "cell_type": "code",
   "execution_count": 24,
   "metadata": {},
   "outputs": [
    {
     "output_type": "display_data",
     "data": {
      "text/plain": "<Figure size 1152x432 with 1 Axes>",
      "image/svg+xml": "<?xml version=\"1.0\" encoding=\"utf-8\" standalone=\"no\"?>\r\n<!DOCTYPE svg PUBLIC \"-//W3C//DTD SVG 1.1//EN\"\r\n  \"http://www.w3.org/Graphics/SVG/1.1/DTD/svg11.dtd\">\r\n<svg height=\"423.329002pt\" version=\"1.1\" viewBox=\"0 0 939.957046 423.329002\" width=\"939.957046pt\" xmlns=\"http://www.w3.org/2000/svg\" xmlns:xlink=\"http://www.w3.org/1999/xlink\">\r\n <metadata>\r\n  <rdf:RDF xmlns:cc=\"http://creativecommons.org/ns#\" xmlns:dc=\"http://purl.org/dc/elements/1.1/\" xmlns:rdf=\"http://www.w3.org/1999/02/22-rdf-syntax-ns#\">\r\n   <cc:Work>\r\n    <dc:type rdf:resource=\"http://purl.org/dc/dcmitype/StillImage\"/>\r\n    <dc:date>2021-04-18T18:58:21.882798</dc:date>\r\n    <dc:format>image/svg+xml</dc:format>\r\n    <dc:creator>\r\n     <cc:Agent>\r\n      <dc:title>Matplotlib v3.4.0, https://matplotlib.org/</dc:title>\r\n     </cc:Agent>\r\n    </dc:creator>\r\n   </cc:Work>\r\n  </rdf:RDF>\r\n </metadata>\r\n <defs>\r\n  <style type=\"text/css\">*{stroke-linecap:butt;stroke-linejoin:round;}</style>\r\n </defs>\r\n <g id=\"figure_1\">\r\n  <g id=\"patch_1\">\r\n   <path d=\"M 0 423.329002 \r\nL 939.957046 423.329002 \r\nL 939.957046 0 \r\nL 0 0 \r\nz\r\n\" style=\"fill:none;\"/>\r\n  </g>\r\n  <g id=\"axes_1\">\r\n   <g id=\"patch_2\">\r\n    <path d=\"M 35.569322 333.36 \r\nL 928.369322 333.36 \r\nL 928.369322 7.2 \r\nL 35.569322 7.2 \r\nz\r\n\" style=\"fill:#ffffff;\"/>\r\n   </g>\r\n   <g id=\"patch_3\">\r\n    <path clip-path=\"url(#p57812dcb0e)\" d=\"M 48.698734 333.36 \r\nL 74.957558 333.36 \r\nL 74.957558 22.731429 \r\nL 48.698734 22.731429 \r\nz\r\n\" style=\"fill:#1f77b4;\"/>\r\n   </g>\r\n   <g id=\"patch_4\">\r\n    <path clip-path=\"url(#p57812dcb0e)\" d=\"M 101.216381 333.36 \r\nL 127.475205 333.36 \r\nL 127.475205 233.914162 \r\nL 101.216381 233.914162 \r\nz\r\n\" style=\"fill:#1f77b4;\"/>\r\n   </g>\r\n   <g id=\"patch_5\">\r\n    <path clip-path=\"url(#p57812dcb0e)\" d=\"M 153.734028 333.36 \r\nL 179.992852 333.36 \r\nL 179.992852 243.129752 \r\nL 153.734028 243.129752 \r\nz\r\n\" style=\"fill:#1f77b4;\"/>\r\n   </g>\r\n   <g id=\"patch_6\">\r\n    <path clip-path=\"url(#p57812dcb0e)\" d=\"M 206.251675 333.36 \r\nL 232.510499 333.36 \r\nL 232.510499 256.27543 \r\nL 206.251675 256.27543 \r\nz\r\n\" style=\"fill:#1f77b4;\"/>\r\n   </g>\r\n   <g id=\"patch_7\">\r\n    <path clip-path=\"url(#p57812dcb0e)\" d=\"M 258.769322 333.36 \r\nL 285.028146 333.36 \r\nL 285.028146 273.144175 \r\nL 258.769322 273.144175 \r\nz\r\n\" style=\"fill:#1f77b4;\"/>\r\n   </g>\r\n   <g id=\"patch_8\">\r\n    <path clip-path=\"url(#p57812dcb0e)\" d=\"M 311.286969 333.36 \r\nL 337.545793 333.36 \r\nL 337.545793 280.764201 \r\nL 311.286969 280.764201 \r\nz\r\n\" style=\"fill:#1f77b4;\"/>\r\n   </g>\r\n   <g id=\"patch_9\">\r\n    <path clip-path=\"url(#p57812dcb0e)\" d=\"M 363.804617 333.36 \r\nL 390.06344 333.36 \r\nL 390.06344 282.501855 \r\nL 363.804617 282.501855 \r\nz\r\n\" style=\"fill:#1f77b4;\"/>\r\n   </g>\r\n   <g id=\"patch_10\">\r\n    <path clip-path=\"url(#p57812dcb0e)\" d=\"M 416.322264 333.36 \r\nL 442.581087 333.36 \r\nL 442.581087 295.982552 \r\nL 416.322264 295.982552 \r\nz\r\n\" style=\"fill:#1f77b4;\"/>\r\n   </g>\r\n   <g id=\"patch_11\">\r\n    <path clip-path=\"url(#p57812dcb0e)\" d=\"M 468.839911 333.36 \r\nL 495.098734 333.36 \r\nL 495.098734 301.374497 \r\nL 468.839911 301.374497 \r\nz\r\n\" style=\"fill:#1f77b4;\"/>\r\n   </g>\r\n   <g id=\"patch_12\">\r\n    <path clip-path=\"url(#p57812dcb0e)\" d=\"M 521.357558 333.36 \r\nL 547.616381 333.36 \r\nL 547.616381 303.654122 \r\nL 521.357558 303.654122 \r\nz\r\n\" style=\"fill:#1f77b4;\"/>\r\n   </g>\r\n   <g id=\"patch_13\">\r\n    <path clip-path=\"url(#p57812dcb0e)\" d=\"M 573.875205 333.36 \r\nL 600.134028 333.36 \r\nL 600.134028 305.881545 \r\nL 573.875205 305.881545 \r\nz\r\n\" style=\"fill:#1f77b4;\"/>\r\n   </g>\r\n   <g id=\"patch_14\">\r\n    <path clip-path=\"url(#p57812dcb0e)\" d=\"M 626.392852 333.36 \r\nL 652.651675 333.36 \r\nL 652.651675 307.039012 \r\nL 626.392852 307.039012 \r\nz\r\n\" style=\"fill:#1f77b4;\"/>\r\n   </g>\r\n   <g id=\"patch_15\">\r\n    <path clip-path=\"url(#p57812dcb0e)\" d=\"M 678.910499 333.36 \r\nL 705.169322 333.36 \r\nL 705.169322 310.583039 \r\nL 678.910499 310.583039 \r\nz\r\n\" style=\"fill:#1f77b4;\"/>\r\n   </g>\r\n   <g id=\"patch_16\">\r\n    <path clip-path=\"url(#p57812dcb0e)\" d=\"M 731.428146 333.36 \r\nL 757.686969 333.36 \r\nL 757.686969 313.782296 \r\nL 731.428146 313.782296 \r\nz\r\n\" style=\"fill:#1f77b4;\"/>\r\n   </g>\r\n   <g id=\"patch_17\">\r\n    <path clip-path=\"url(#p57812dcb0e)\" d=\"M 783.945793 333.36 \r\nL 810.204617 333.36 \r\nL 810.204617 314.559294 \r\nL 783.945793 314.559294 \r\nz\r\n\" style=\"fill:#1f77b4;\"/>\r\n   </g>\r\n   <g id=\"patch_18\">\r\n    <path clip-path=\"url(#p57812dcb0e)\" d=\"M 836.46344 333.36 \r\nL 862.722264 333.36 \r\nL 862.722264 323.470359 \r\nL 836.46344 323.470359 \r\nz\r\n\" style=\"fill:#1f77b4;\"/>\r\n   </g>\r\n   <g id=\"patch_19\">\r\n    <path clip-path=\"url(#p57812dcb0e)\" d=\"M 888.981087 333.36 \r\nL 915.239911 333.36 \r\nL 915.239911 324.100611 \r\nL 888.981087 324.100611 \r\nz\r\n\" style=\"fill:#1f77b4;\"/>\r\n   </g>\r\n   <g id=\"matplotlib.axis_1\">\r\n    <g id=\"xtick_1\">\r\n     <g id=\"line2d_1\">\r\n      <defs>\r\n       <path d=\"M 0 0 \r\nL 0 3.5 \r\n\" id=\"mdedcae4ca4\" style=\"stroke:#000000;stroke-width:0.8;\"/>\r\n      </defs>\r\n      <g>\r\n       <use style=\"stroke:#000000;stroke-width:0.8;\" x=\"61.828146\" xlink:href=\"#mdedcae4ca4\" y=\"333.36\"/>\r\n      </g>\r\n     </g>\r\n     <g id=\"text_1\">\r\n      <!-- Gyeongsangbuk-do -->\r\n      <g transform=\"translate(21.118999 395.54044)rotate(-30)scale(0.1 -0.1)\">\r\n       <defs>\r\n        <path d=\"M 3809 666 \r\nL 3809 1919 \r\nL 2778 1919 \r\nL 2778 2438 \r\nL 4434 2438 \r\nL 4434 434 \r\nQ 4069 175 3628 42 \r\nQ 3188 -91 2688 -91 \r\nQ 1594 -91 976 548 \r\nQ 359 1188 359 2328 \r\nQ 359 3472 976 4111 \r\nQ 1594 4750 2688 4750 \r\nQ 3144 4750 3555 4637 \r\nQ 3966 4525 4313 4306 \r\nL 4313 3634 \r\nQ 3963 3931 3569 4081 \r\nQ 3175 4231 2741 4231 \r\nQ 1884 4231 1454 3753 \r\nQ 1025 3275 1025 2328 \r\nQ 1025 1384 1454 906 \r\nQ 1884 428 2741 428 \r\nQ 3075 428 3337 486 \r\nQ 3600 544 3809 666 \r\nz\r\n\" id=\"DejaVuSans-47\" transform=\"scale(0.015625)\"/>\r\n        <path d=\"M 2059 -325 \r\nQ 1816 -950 1584 -1140 \r\nQ 1353 -1331 966 -1331 \r\nL 506 -1331 \r\nL 506 -850 \r\nL 844 -850 \r\nQ 1081 -850 1212 -737 \r\nQ 1344 -625 1503 -206 \r\nL 1606 56 \r\nL 191 3500 \r\nL 800 3500 \r\nL 1894 763 \r\nL 2988 3500 \r\nL 3597 3500 \r\nL 2059 -325 \r\nz\r\n\" id=\"DejaVuSans-79\" transform=\"scale(0.015625)\"/>\r\n        <path d=\"M 3597 1894 \r\nL 3597 1613 \r\nL 953 1613 \r\nQ 991 1019 1311 708 \r\nQ 1631 397 2203 397 \r\nQ 2534 397 2845 478 \r\nQ 3156 559 3463 722 \r\nL 3463 178 \r\nQ 3153 47 2828 -22 \r\nQ 2503 -91 2169 -91 \r\nQ 1331 -91 842 396 \r\nQ 353 884 353 1716 \r\nQ 353 2575 817 3079 \r\nQ 1281 3584 2069 3584 \r\nQ 2775 3584 3186 3129 \r\nQ 3597 2675 3597 1894 \r\nz\r\nM 3022 2063 \r\nQ 3016 2534 2758 2815 \r\nQ 2500 3097 2075 3097 \r\nQ 1594 3097 1305 2825 \r\nQ 1016 2553 972 2059 \r\nL 3022 2063 \r\nz\r\n\" id=\"DejaVuSans-65\" transform=\"scale(0.015625)\"/>\r\n        <path d=\"M 1959 3097 \r\nQ 1497 3097 1228 2736 \r\nQ 959 2375 959 1747 \r\nQ 959 1119 1226 758 \r\nQ 1494 397 1959 397 \r\nQ 2419 397 2687 759 \r\nQ 2956 1122 2956 1747 \r\nQ 2956 2369 2687 2733 \r\nQ 2419 3097 1959 3097 \r\nz\r\nM 1959 3584 \r\nQ 2709 3584 3137 3096 \r\nQ 3566 2609 3566 1747 \r\nQ 3566 888 3137 398 \r\nQ 2709 -91 1959 -91 \r\nQ 1206 -91 779 398 \r\nQ 353 888 353 1747 \r\nQ 353 2609 779 3096 \r\nQ 1206 3584 1959 3584 \r\nz\r\n\" id=\"DejaVuSans-6f\" transform=\"scale(0.015625)\"/>\r\n        <path d=\"M 3513 2113 \r\nL 3513 0 \r\nL 2938 0 \r\nL 2938 2094 \r\nQ 2938 2591 2744 2837 \r\nQ 2550 3084 2163 3084 \r\nQ 1697 3084 1428 2787 \r\nQ 1159 2491 1159 1978 \r\nL 1159 0 \r\nL 581 0 \r\nL 581 3500 \r\nL 1159 3500 \r\nL 1159 2956 \r\nQ 1366 3272 1645 3428 \r\nQ 1925 3584 2291 3584 \r\nQ 2894 3584 3203 3211 \r\nQ 3513 2838 3513 2113 \r\nz\r\n\" id=\"DejaVuSans-6e\" transform=\"scale(0.015625)\"/>\r\n        <path d=\"M 2906 1791 \r\nQ 2906 2416 2648 2759 \r\nQ 2391 3103 1925 3103 \r\nQ 1463 3103 1205 2759 \r\nQ 947 2416 947 1791 \r\nQ 947 1169 1205 825 \r\nQ 1463 481 1925 481 \r\nQ 2391 481 2648 825 \r\nQ 2906 1169 2906 1791 \r\nz\r\nM 3481 434 \r\nQ 3481 -459 3084 -895 \r\nQ 2688 -1331 1869 -1331 \r\nQ 1566 -1331 1297 -1286 \r\nQ 1028 -1241 775 -1147 \r\nL 775 -588 \r\nQ 1028 -725 1275 -790 \r\nQ 1522 -856 1778 -856 \r\nQ 2344 -856 2625 -561 \r\nQ 2906 -266 2906 331 \r\nL 2906 616 \r\nQ 2728 306 2450 153 \r\nQ 2172 0 1784 0 \r\nQ 1141 0 747 490 \r\nQ 353 981 353 1791 \r\nQ 353 2603 747 3093 \r\nQ 1141 3584 1784 3584 \r\nQ 2172 3584 2450 3431 \r\nQ 2728 3278 2906 2969 \r\nL 2906 3500 \r\nL 3481 3500 \r\nL 3481 434 \r\nz\r\n\" id=\"DejaVuSans-67\" transform=\"scale(0.015625)\"/>\r\n        <path d=\"M 2834 3397 \r\nL 2834 2853 \r\nQ 2591 2978 2328 3040 \r\nQ 2066 3103 1784 3103 \r\nQ 1356 3103 1142 2972 \r\nQ 928 2841 928 2578 \r\nQ 928 2378 1081 2264 \r\nQ 1234 2150 1697 2047 \r\nL 1894 2003 \r\nQ 2506 1872 2764 1633 \r\nQ 3022 1394 3022 966 \r\nQ 3022 478 2636 193 \r\nQ 2250 -91 1575 -91 \r\nQ 1294 -91 989 -36 \r\nQ 684 19 347 128 \r\nL 347 722 \r\nQ 666 556 975 473 \r\nQ 1284 391 1588 391 \r\nQ 1994 391 2212 530 \r\nQ 2431 669 2431 922 \r\nQ 2431 1156 2273 1281 \r\nQ 2116 1406 1581 1522 \r\nL 1381 1569 \r\nQ 847 1681 609 1914 \r\nQ 372 2147 372 2553 \r\nQ 372 3047 722 3315 \r\nQ 1072 3584 1716 3584 \r\nQ 2034 3584 2315 3537 \r\nQ 2597 3491 2834 3397 \r\nz\r\n\" id=\"DejaVuSans-73\" transform=\"scale(0.015625)\"/>\r\n        <path d=\"M 2194 1759 \r\nQ 1497 1759 1228 1600 \r\nQ 959 1441 959 1056 \r\nQ 959 750 1161 570 \r\nQ 1363 391 1709 391 \r\nQ 2188 391 2477 730 \r\nQ 2766 1069 2766 1631 \r\nL 2766 1759 \r\nL 2194 1759 \r\nz\r\nM 3341 1997 \r\nL 3341 0 \r\nL 2766 0 \r\nL 2766 531 \r\nQ 2569 213 2275 61 \r\nQ 1981 -91 1556 -91 \r\nQ 1019 -91 701 211 \r\nQ 384 513 384 1019 \r\nQ 384 1609 779 1909 \r\nQ 1175 2209 1959 2209 \r\nL 2766 2209 \r\nL 2766 2266 \r\nQ 2766 2663 2505 2880 \r\nQ 2244 3097 1772 3097 \r\nQ 1472 3097 1187 3025 \r\nQ 903 2953 641 2809 \r\nL 641 3341 \r\nQ 956 3463 1253 3523 \r\nQ 1550 3584 1831 3584 \r\nQ 2591 3584 2966 3190 \r\nQ 3341 2797 3341 1997 \r\nz\r\n\" id=\"DejaVuSans-61\" transform=\"scale(0.015625)\"/>\r\n        <path d=\"M 3116 1747 \r\nQ 3116 2381 2855 2742 \r\nQ 2594 3103 2138 3103 \r\nQ 1681 3103 1420 2742 \r\nQ 1159 2381 1159 1747 \r\nQ 1159 1113 1420 752 \r\nQ 1681 391 2138 391 \r\nQ 2594 391 2855 752 \r\nQ 3116 1113 3116 1747 \r\nz\r\nM 1159 2969 \r\nQ 1341 3281 1617 3432 \r\nQ 1894 3584 2278 3584 \r\nQ 2916 3584 3314 3078 \r\nQ 3713 2572 3713 1747 \r\nQ 3713 922 3314 415 \r\nQ 2916 -91 2278 -91 \r\nQ 1894 -91 1617 61 \r\nQ 1341 213 1159 525 \r\nL 1159 0 \r\nL 581 0 \r\nL 581 4863 \r\nL 1159 4863 \r\nL 1159 2969 \r\nz\r\n\" id=\"DejaVuSans-62\" transform=\"scale(0.015625)\"/>\r\n        <path d=\"M 544 1381 \r\nL 544 3500 \r\nL 1119 3500 \r\nL 1119 1403 \r\nQ 1119 906 1312 657 \r\nQ 1506 409 1894 409 \r\nQ 2359 409 2629 706 \r\nQ 2900 1003 2900 1516 \r\nL 2900 3500 \r\nL 3475 3500 \r\nL 3475 0 \r\nL 2900 0 \r\nL 2900 538 \r\nQ 2691 219 2414 64 \r\nQ 2138 -91 1772 -91 \r\nQ 1169 -91 856 284 \r\nQ 544 659 544 1381 \r\nz\r\nM 1991 3584 \r\nL 1991 3584 \r\nz\r\n\" id=\"DejaVuSans-75\" transform=\"scale(0.015625)\"/>\r\n        <path d=\"M 581 4863 \r\nL 1159 4863 \r\nL 1159 1991 \r\nL 2875 3500 \r\nL 3609 3500 \r\nL 1753 1863 \r\nL 3688 0 \r\nL 2938 0 \r\nL 1159 1709 \r\nL 1159 0 \r\nL 581 0 \r\nL 581 4863 \r\nz\r\n\" id=\"DejaVuSans-6b\" transform=\"scale(0.015625)\"/>\r\n        <path d=\"M 313 2009 \r\nL 1997 2009 \r\nL 1997 1497 \r\nL 313 1497 \r\nL 313 2009 \r\nz\r\n\" id=\"DejaVuSans-2d\" transform=\"scale(0.015625)\"/>\r\n        <path d=\"M 2906 2969 \r\nL 2906 4863 \r\nL 3481 4863 \r\nL 3481 0 \r\nL 2906 0 \r\nL 2906 525 \r\nQ 2725 213 2448 61 \r\nQ 2172 -91 1784 -91 \r\nQ 1150 -91 751 415 \r\nQ 353 922 353 1747 \r\nQ 353 2572 751 3078 \r\nQ 1150 3584 1784 3584 \r\nQ 2172 3584 2448 3432 \r\nQ 2725 3281 2906 2969 \r\nz\r\nM 947 1747 \r\nQ 947 1113 1208 752 \r\nQ 1469 391 1925 391 \r\nQ 2381 391 2643 752 \r\nQ 2906 1113 2906 1747 \r\nQ 2906 2381 2643 2742 \r\nQ 2381 3103 1925 3103 \r\nQ 1469 3103 1208 2742 \r\nQ 947 2381 947 1747 \r\nz\r\n\" id=\"DejaVuSans-64\" transform=\"scale(0.015625)\"/>\r\n       </defs>\r\n       <use xlink:href=\"#DejaVuSans-47\"/>\r\n       <use x=\"77.490234\" xlink:href=\"#DejaVuSans-79\"/>\r\n       <use x=\"136.669922\" xlink:href=\"#DejaVuSans-65\"/>\r\n       <use x=\"198.193359\" xlink:href=\"#DejaVuSans-6f\"/>\r\n       <use x=\"259.375\" xlink:href=\"#DejaVuSans-6e\"/>\r\n       <use x=\"322.753906\" xlink:href=\"#DejaVuSans-67\"/>\r\n       <use x=\"386.230469\" xlink:href=\"#DejaVuSans-73\"/>\r\n       <use x=\"438.330078\" xlink:href=\"#DejaVuSans-61\"/>\r\n       <use x=\"499.609375\" xlink:href=\"#DejaVuSans-6e\"/>\r\n       <use x=\"562.988281\" xlink:href=\"#DejaVuSans-67\"/>\r\n       <use x=\"626.464844\" xlink:href=\"#DejaVuSans-62\"/>\r\n       <use x=\"689.941406\" xlink:href=\"#DejaVuSans-75\"/>\r\n       <use x=\"753.320312\" xlink:href=\"#DejaVuSans-6b\"/>\r\n       <use x=\"811.230469\" xlink:href=\"#DejaVuSans-2d\"/>\r\n       <use x=\"847.314453\" xlink:href=\"#DejaVuSans-64\"/>\r\n       <use x=\"910.791016\" xlink:href=\"#DejaVuSans-6f\"/>\r\n      </g>\r\n     </g>\r\n    </g>\r\n    <g id=\"xtick_2\">\r\n     <g id=\"line2d_2\">\r\n      <g>\r\n       <use style=\"stroke:#000000;stroke-width:0.8;\" x=\"114.345793\" xlink:href=\"#mdedcae4ca4\" y=\"333.36\"/>\r\n      </g>\r\n     </g>\r\n     <g id=\"text_2\">\r\n      <!-- Sejong -->\r\n      <g transform=\"translate(100.966513 363.982627)rotate(-30)scale(0.1 -0.1)\">\r\n       <defs>\r\n        <path d=\"M 3425 4513 \r\nL 3425 3897 \r\nQ 3066 4069 2747 4153 \r\nQ 2428 4238 2131 4238 \r\nQ 1616 4238 1336 4038 \r\nQ 1056 3838 1056 3469 \r\nQ 1056 3159 1242 3001 \r\nQ 1428 2844 1947 2747 \r\nL 2328 2669 \r\nQ 3034 2534 3370 2195 \r\nQ 3706 1856 3706 1288 \r\nQ 3706 609 3251 259 \r\nQ 2797 -91 1919 -91 \r\nQ 1588 -91 1214 -16 \r\nQ 841 59 441 206 \r\nL 441 856 \r\nQ 825 641 1194 531 \r\nQ 1563 422 1919 422 \r\nQ 2459 422 2753 634 \r\nQ 3047 847 3047 1241 \r\nQ 3047 1584 2836 1778 \r\nQ 2625 1972 2144 2069 \r\nL 1759 2144 \r\nQ 1053 2284 737 2584 \r\nQ 422 2884 422 3419 \r\nQ 422 4038 858 4394 \r\nQ 1294 4750 2059 4750 \r\nQ 2388 4750 2728 4690 \r\nQ 3069 4631 3425 4513 \r\nz\r\n\" id=\"DejaVuSans-53\" transform=\"scale(0.015625)\"/>\r\n        <path d=\"M 603 3500 \r\nL 1178 3500 \r\nL 1178 -63 \r\nQ 1178 -731 923 -1031 \r\nQ 669 -1331 103 -1331 \r\nL -116 -1331 \r\nL -116 -844 \r\nL 38 -844 \r\nQ 366 -844 484 -692 \r\nQ 603 -541 603 -63 \r\nL 603 3500 \r\nz\r\nM 603 4863 \r\nL 1178 4863 \r\nL 1178 4134 \r\nL 603 4134 \r\nL 603 4863 \r\nz\r\n\" id=\"DejaVuSans-6a\" transform=\"scale(0.015625)\"/>\r\n       </defs>\r\n       <use xlink:href=\"#DejaVuSans-53\"/>\r\n       <use x=\"63.476562\" xlink:href=\"#DejaVuSans-65\"/>\r\n       <use x=\"125\" xlink:href=\"#DejaVuSans-6a\"/>\r\n       <use x=\"152.783203\" xlink:href=\"#DejaVuSans-6f\"/>\r\n       <use x=\"213.964844\" xlink:href=\"#DejaVuSans-6e\"/>\r\n       <use x=\"277.34375\" xlink:href=\"#DejaVuSans-67\"/>\r\n      </g>\r\n     </g>\r\n    </g>\r\n    <g id=\"xtick_3\">\r\n     <g id=\"line2d_3\">\r\n      <g>\r\n       <use style=\"stroke:#000000;stroke-width:0.8;\" x=\"166.86344\" xlink:href=\"#mdedcae4ca4\" y=\"333.36\"/>\r\n      </g>\r\n     </g>\r\n     <g id=\"text_3\">\r\n      <!-- Seoul -->\r\n      <g transform=\"translate(156.233114 360.808409)rotate(-30)scale(0.1 -0.1)\">\r\n       <defs>\r\n        <path d=\"M 603 4863 \r\nL 1178 4863 \r\nL 1178 0 \r\nL 603 0 \r\nL 603 4863 \r\nz\r\n\" id=\"DejaVuSans-6c\" transform=\"scale(0.015625)\"/>\r\n       </defs>\r\n       <use xlink:href=\"#DejaVuSans-53\"/>\r\n       <use x=\"63.476562\" xlink:href=\"#DejaVuSans-65\"/>\r\n       <use x=\"125\" xlink:href=\"#DejaVuSans-6f\"/>\r\n       <use x=\"186.181641\" xlink:href=\"#DejaVuSans-75\"/>\r\n       <use x=\"249.560547\" xlink:href=\"#DejaVuSans-6c\"/>\r\n      </g>\r\n     </g>\r\n    </g>\r\n    <g id=\"xtick_4\">\r\n     <g id=\"line2d_4\">\r\n      <g>\r\n       <use style=\"stroke:#000000;stroke-width:0.8;\" x=\"219.381087\" xlink:href=\"#mdedcae4ca4\" y=\"333.36\"/>\r\n      </g>\r\n     </g>\r\n     <g id=\"text_4\">\r\n      <!-- Incheon -->\r\n      <g transform=\"translate(203.555962 366.806846)rotate(-30)scale(0.1 -0.1)\">\r\n       <defs>\r\n        <path d=\"M 628 4666 \r\nL 1259 4666 \r\nL 1259 0 \r\nL 628 0 \r\nL 628 4666 \r\nz\r\n\" id=\"DejaVuSans-49\" transform=\"scale(0.015625)\"/>\r\n        <path d=\"M 3122 3366 \r\nL 3122 2828 \r\nQ 2878 2963 2633 3030 \r\nQ 2388 3097 2138 3097 \r\nQ 1578 3097 1268 2742 \r\nQ 959 2388 959 1747 \r\nQ 959 1106 1268 751 \r\nQ 1578 397 2138 397 \r\nQ 2388 397 2633 464 \r\nQ 2878 531 3122 666 \r\nL 3122 134 \r\nQ 2881 22 2623 -34 \r\nQ 2366 -91 2075 -91 \r\nQ 1284 -91 818 406 \r\nQ 353 903 353 1747 \r\nQ 353 2603 823 3093 \r\nQ 1294 3584 2113 3584 \r\nQ 2378 3584 2631 3529 \r\nQ 2884 3475 3122 3366 \r\nz\r\n\" id=\"DejaVuSans-63\" transform=\"scale(0.015625)\"/>\r\n        <path d=\"M 3513 2113 \r\nL 3513 0 \r\nL 2938 0 \r\nL 2938 2094 \r\nQ 2938 2591 2744 2837 \r\nQ 2550 3084 2163 3084 \r\nQ 1697 3084 1428 2787 \r\nQ 1159 2491 1159 1978 \r\nL 1159 0 \r\nL 581 0 \r\nL 581 4863 \r\nL 1159 4863 \r\nL 1159 2956 \r\nQ 1366 3272 1645 3428 \r\nQ 1925 3584 2291 3584 \r\nQ 2894 3584 3203 3211 \r\nQ 3513 2838 3513 2113 \r\nz\r\n\" id=\"DejaVuSans-68\" transform=\"scale(0.015625)\"/>\r\n       </defs>\r\n       <use xlink:href=\"#DejaVuSans-49\"/>\r\n       <use x=\"29.492188\" xlink:href=\"#DejaVuSans-6e\"/>\r\n       <use x=\"92.871094\" xlink:href=\"#DejaVuSans-63\"/>\r\n       <use x=\"147.851562\" xlink:href=\"#DejaVuSans-68\"/>\r\n       <use x=\"211.230469\" xlink:href=\"#DejaVuSans-65\"/>\r\n       <use x=\"272.753906\" xlink:href=\"#DejaVuSans-6f\"/>\r\n       <use x=\"333.935547\" xlink:href=\"#DejaVuSans-6e\"/>\r\n      </g>\r\n     </g>\r\n    </g>\r\n    <g id=\"xtick_5\">\r\n     <g id=\"line2d_5\">\r\n      <g>\r\n       <use style=\"stroke:#000000;stroke-width:0.8;\" x=\"271.898734\" xlink:href=\"#mdedcae4ca4\" y=\"333.36\"/>\r\n      </g>\r\n     </g>\r\n     <g id=\"text_5\">\r\n      <!-- Gyeonggi-do -->\r\n      <g transform=\"translate(245.640709 378.853721)rotate(-30)scale(0.1 -0.1)\">\r\n       <defs>\r\n        <path d=\"M 603 3500 \r\nL 1178 3500 \r\nL 1178 0 \r\nL 603 0 \r\nL 603 3500 \r\nz\r\nM 603 4863 \r\nL 1178 4863 \r\nL 1178 4134 \r\nL 603 4134 \r\nL 603 4863 \r\nz\r\n\" id=\"DejaVuSans-69\" transform=\"scale(0.015625)\"/>\r\n       </defs>\r\n       <use xlink:href=\"#DejaVuSans-47\"/>\r\n       <use x=\"77.490234\" xlink:href=\"#DejaVuSans-79\"/>\r\n       <use x=\"136.669922\" xlink:href=\"#DejaVuSans-65\"/>\r\n       <use x=\"198.193359\" xlink:href=\"#DejaVuSans-6f\"/>\r\n       <use x=\"259.375\" xlink:href=\"#DejaVuSans-6e\"/>\r\n       <use x=\"322.753906\" xlink:href=\"#DejaVuSans-67\"/>\r\n       <use x=\"386.230469\" xlink:href=\"#DejaVuSans-67\"/>\r\n       <use x=\"449.707031\" xlink:href=\"#DejaVuSans-69\"/>\r\n       <use x=\"477.490234\" xlink:href=\"#DejaVuSans-2d\"/>\r\n       <use x=\"513.574219\" xlink:href=\"#DejaVuSans-64\"/>\r\n       <use x=\"577.050781\" xlink:href=\"#DejaVuSans-6f\"/>\r\n      </g>\r\n     </g>\r\n    </g>\r\n    <g id=\"xtick_6\">\r\n     <g id=\"line2d_6\">\r\n      <g>\r\n       <use style=\"stroke:#000000;stroke-width:0.8;\" x=\"324.416381\" xlink:href=\"#mdedcae4ca4\" y=\"333.36\"/>\r\n      </g>\r\n     </g>\r\n     <g id=\"text_6\">\r\n      <!-- Daejeon -->\r\n      <g transform=\"translate(307.882875 367.624815)rotate(-30)scale(0.1 -0.1)\">\r\n       <defs>\r\n        <path d=\"M 1259 4147 \r\nL 1259 519 \r\nL 2022 519 \r\nQ 2988 519 3436 956 \r\nQ 3884 1394 3884 2338 \r\nQ 3884 3275 3436 3711 \r\nQ 2988 4147 2022 4147 \r\nL 1259 4147 \r\nz\r\nM 628 4666 \r\nL 1925 4666 \r\nQ 3281 4666 3915 4102 \r\nQ 4550 3538 4550 2338 \r\nQ 4550 1131 3912 565 \r\nQ 3275 0 1925 0 \r\nL 628 0 \r\nL 628 4666 \r\nz\r\n\" id=\"DejaVuSans-44\" transform=\"scale(0.015625)\"/>\r\n       </defs>\r\n       <use xlink:href=\"#DejaVuSans-44\"/>\r\n       <use x=\"77.001953\" xlink:href=\"#DejaVuSans-61\"/>\r\n       <use x=\"138.28125\" xlink:href=\"#DejaVuSans-65\"/>\r\n       <use x=\"199.804688\" xlink:href=\"#DejaVuSans-6a\"/>\r\n       <use x=\"227.587891\" xlink:href=\"#DejaVuSans-65\"/>\r\n       <use x=\"289.111328\" xlink:href=\"#DejaVuSans-6f\"/>\r\n       <use x=\"350.292969\" xlink:href=\"#DejaVuSans-6e\"/>\r\n      </g>\r\n     </g>\r\n    </g>\r\n    <g id=\"xtick_7\">\r\n     <g id=\"line2d_7\">\r\n      <g>\r\n       <use style=\"stroke:#000000;stroke-width:0.8;\" x=\"376.934028\" xlink:href=\"#mdedcae4ca4\" y=\"333.36\"/>\r\n      </g>\r\n     </g>\r\n     <g id=\"text_7\">\r\n      <!-- Chungcheongnam-do -->\r\n      <g transform=\"translate(331.800033 400.649815)rotate(-30)scale(0.1 -0.1)\">\r\n       <defs>\r\n        <path d=\"M 4122 4306 \r\nL 4122 3641 \r\nQ 3803 3938 3442 4084 \r\nQ 3081 4231 2675 4231 \r\nQ 1875 4231 1450 3742 \r\nQ 1025 3253 1025 2328 \r\nQ 1025 1406 1450 917 \r\nQ 1875 428 2675 428 \r\nQ 3081 428 3442 575 \r\nQ 3803 722 4122 1019 \r\nL 4122 359 \r\nQ 3791 134 3420 21 \r\nQ 3050 -91 2638 -91 \r\nQ 1578 -91 968 557 \r\nQ 359 1206 359 2328 \r\nQ 359 3453 968 4101 \r\nQ 1578 4750 2638 4750 \r\nQ 3056 4750 3426 4639 \r\nQ 3797 4528 4122 4306 \r\nz\r\n\" id=\"DejaVuSans-43\" transform=\"scale(0.015625)\"/>\r\n        <path d=\"M 3328 2828 \r\nQ 3544 3216 3844 3400 \r\nQ 4144 3584 4550 3584 \r\nQ 5097 3584 5394 3201 \r\nQ 5691 2819 5691 2113 \r\nL 5691 0 \r\nL 5113 0 \r\nL 5113 2094 \r\nQ 5113 2597 4934 2840 \r\nQ 4756 3084 4391 3084 \r\nQ 3944 3084 3684 2787 \r\nQ 3425 2491 3425 1978 \r\nL 3425 0 \r\nL 2847 0 \r\nL 2847 2094 \r\nQ 2847 2600 2669 2842 \r\nQ 2491 3084 2119 3084 \r\nQ 1678 3084 1418 2786 \r\nQ 1159 2488 1159 1978 \r\nL 1159 0 \r\nL 581 0 \r\nL 581 3500 \r\nL 1159 3500 \r\nL 1159 2956 \r\nQ 1356 3278 1631 3431 \r\nQ 1906 3584 2284 3584 \r\nQ 2666 3584 2933 3390 \r\nQ 3200 3197 3328 2828 \r\nz\r\n\" id=\"DejaVuSans-6d\" transform=\"scale(0.015625)\"/>\r\n       </defs>\r\n       <use xlink:href=\"#DejaVuSans-43\"/>\r\n       <use x=\"69.824219\" xlink:href=\"#DejaVuSans-68\"/>\r\n       <use x=\"133.203125\" xlink:href=\"#DejaVuSans-75\"/>\r\n       <use x=\"196.582031\" xlink:href=\"#DejaVuSans-6e\"/>\r\n       <use x=\"259.960938\" xlink:href=\"#DejaVuSans-67\"/>\r\n       <use x=\"323.4375\" xlink:href=\"#DejaVuSans-63\"/>\r\n       <use x=\"378.417969\" xlink:href=\"#DejaVuSans-68\"/>\r\n       <use x=\"441.796875\" xlink:href=\"#DejaVuSans-65\"/>\r\n       <use x=\"503.320312\" xlink:href=\"#DejaVuSans-6f\"/>\r\n       <use x=\"564.501953\" xlink:href=\"#DejaVuSans-6e\"/>\r\n       <use x=\"627.880859\" xlink:href=\"#DejaVuSans-67\"/>\r\n       <use x=\"691.357422\" xlink:href=\"#DejaVuSans-6e\"/>\r\n       <use x=\"754.736328\" xlink:href=\"#DejaVuSans-61\"/>\r\n       <use x=\"816.015625\" xlink:href=\"#DejaVuSans-6d\"/>\r\n       <use x=\"913.427734\" xlink:href=\"#DejaVuSans-2d\"/>\r\n       <use x=\"949.511719\" xlink:href=\"#DejaVuSans-64\"/>\r\n       <use x=\"1012.988281\" xlink:href=\"#DejaVuSans-6f\"/>\r\n      </g>\r\n     </g>\r\n    </g>\r\n    <g id=\"xtick_8\">\r\n     <g id=\"line2d_8\">\r\n      <g>\r\n       <use style=\"stroke:#000000;stroke-width:0.8;\" x=\"429.451675\" xlink:href=\"#mdedcae4ca4\" y=\"333.36\"/>\r\n      </g>\r\n     </g>\r\n     <g id=\"text_8\">\r\n      <!-- Daegu -->\r\n      <g transform=\"translate(416.686056 363.274034)rotate(-30)scale(0.1 -0.1)\">\r\n       <use xlink:href=\"#DejaVuSans-44\"/>\r\n       <use x=\"77.001953\" xlink:href=\"#DejaVuSans-61\"/>\r\n       <use x=\"138.28125\" xlink:href=\"#DejaVuSans-65\"/>\r\n       <use x=\"199.804688\" xlink:href=\"#DejaVuSans-67\"/>\r\n       <use x=\"263.28125\" xlink:href=\"#DejaVuSans-75\"/>\r\n      </g>\r\n     </g>\r\n    </g>\r\n    <g id=\"xtick_9\">\r\n     <g id=\"line2d_9\">\r\n      <g>\r\n       <use style=\"stroke:#000000;stroke-width:0.8;\" x=\"481.969322\" xlink:href=\"#mdedcae4ca4\" y=\"333.36\"/>\r\n      </g>\r\n     </g>\r\n     <g id=\"text_9\">\r\n      <!-- Ulsan -->\r\n      <g transform=\"translate(471.323435 360.826377)rotate(-30)scale(0.1 -0.1)\">\r\n       <defs>\r\n        <path d=\"M 556 4666 \r\nL 1191 4666 \r\nL 1191 1831 \r\nQ 1191 1081 1462 751 \r\nQ 1734 422 2344 422 \r\nQ 2950 422 3222 751 \r\nQ 3494 1081 3494 1831 \r\nL 3494 4666 \r\nL 4128 4666 \r\nL 4128 1753 \r\nQ 4128 841 3676 375 \r\nQ 3225 -91 2344 -91 \r\nQ 1459 -91 1007 375 \r\nQ 556 841 556 1753 \r\nL 556 4666 \r\nz\r\n\" id=\"DejaVuSans-55\" transform=\"scale(0.015625)\"/>\r\n       </defs>\r\n       <use xlink:href=\"#DejaVuSans-55\"/>\r\n       <use x=\"73.193359\" xlink:href=\"#DejaVuSans-6c\"/>\r\n       <use x=\"100.976562\" xlink:href=\"#DejaVuSans-73\"/>\r\n       <use x=\"153.076172\" xlink:href=\"#DejaVuSans-61\"/>\r\n       <use x=\"214.355469\" xlink:href=\"#DejaVuSans-6e\"/>\r\n      </g>\r\n     </g>\r\n    </g>\r\n    <g id=\"xtick_10\">\r\n     <g id=\"line2d_10\">\r\n      <g>\r\n       <use style=\"stroke:#000000;stroke-width:0.8;\" x=\"534.486969\" xlink:href=\"#mdedcae4ca4\" y=\"333.36\"/>\r\n      </g>\r\n     </g>\r\n     <g id=\"text_10\">\r\n      <!-- Busan -->\r\n      <g transform=\"translate(522.498066 362.377159)rotate(-30)scale(0.1 -0.1)\">\r\n       <defs>\r\n        <path d=\"M 1259 2228 \r\nL 1259 519 \r\nL 2272 519 \r\nQ 2781 519 3026 730 \r\nQ 3272 941 3272 1375 \r\nQ 3272 1813 3026 2020 \r\nQ 2781 2228 2272 2228 \r\nL 1259 2228 \r\nz\r\nM 1259 4147 \r\nL 1259 2741 \r\nL 2194 2741 \r\nQ 2656 2741 2882 2914 \r\nQ 3109 3088 3109 3444 \r\nQ 3109 3797 2882 3972 \r\nQ 2656 4147 2194 4147 \r\nL 1259 4147 \r\nz\r\nM 628 4666 \r\nL 2241 4666 \r\nQ 2963 4666 3353 4366 \r\nQ 3744 4066 3744 3513 \r\nQ 3744 3084 3544 2831 \r\nQ 3344 2578 2956 2516 \r\nQ 3422 2416 3680 2098 \r\nQ 3938 1781 3938 1306 \r\nQ 3938 681 3513 340 \r\nQ 3088 0 2303 0 \r\nL 628 0 \r\nL 628 4666 \r\nz\r\n\" id=\"DejaVuSans-42\" transform=\"scale(0.015625)\"/>\r\n       </defs>\r\n       <use xlink:href=\"#DejaVuSans-42\"/>\r\n       <use x=\"68.603516\" xlink:href=\"#DejaVuSans-75\"/>\r\n       <use x=\"131.982422\" xlink:href=\"#DejaVuSans-73\"/>\r\n       <use x=\"184.082031\" xlink:href=\"#DejaVuSans-61\"/>\r\n       <use x=\"245.361328\" xlink:href=\"#DejaVuSans-6e\"/>\r\n      </g>\r\n     </g>\r\n    </g>\r\n    <g id=\"xtick_11\">\r\n     <g id=\"line2d_11\">\r\n      <g>\r\n       <use style=\"stroke:#000000;stroke-width:0.8;\" x=\"587.004617\" xlink:href=\"#mdedcae4ca4\" y=\"333.36\"/>\r\n      </g>\r\n     </g>\r\n     <g id=\"text_11\">\r\n      <!-- Gangwon-do -->\r\n      <g transform=\"translate(560.986778 378.576377)rotate(-30)scale(0.1 -0.1)\">\r\n       <defs>\r\n        <path d=\"M 269 3500 \r\nL 844 3500 \r\nL 1563 769 \r\nL 2278 3500 \r\nL 2956 3500 \r\nL 3675 769 \r\nL 4391 3500 \r\nL 4966 3500 \r\nL 4050 0 \r\nL 3372 0 \r\nL 2619 2869 \r\nL 1863 0 \r\nL 1184 0 \r\nL 269 3500 \r\nz\r\n\" id=\"DejaVuSans-77\" transform=\"scale(0.015625)\"/>\r\n       </defs>\r\n       <use xlink:href=\"#DejaVuSans-47\"/>\r\n       <use x=\"77.490234\" xlink:href=\"#DejaVuSans-61\"/>\r\n       <use x=\"138.769531\" xlink:href=\"#DejaVuSans-6e\"/>\r\n       <use x=\"202.148438\" xlink:href=\"#DejaVuSans-67\"/>\r\n       <use x=\"265.625\" xlink:href=\"#DejaVuSans-77\"/>\r\n       <use x=\"347.412109\" xlink:href=\"#DejaVuSans-6f\"/>\r\n       <use x=\"408.59375\" xlink:href=\"#DejaVuSans-6e\"/>\r\n       <use x=\"471.972656\" xlink:href=\"#DejaVuSans-2d\"/>\r\n       <use x=\"508.056641\" xlink:href=\"#DejaVuSans-64\"/>\r\n       <use x=\"571.533203\" xlink:href=\"#DejaVuSans-6f\"/>\r\n      </g>\r\n     </g>\r\n    </g>\r\n    <g id=\"xtick_12\">\r\n     <g id=\"line2d_12\">\r\n      <g>\r\n       <use style=\"stroke:#000000;stroke-width:0.8;\" x=\"639.522264\" xlink:href=\"#mdedcae4ca4\" y=\"333.36\"/>\r\n      </g>\r\n     </g>\r\n     <g id=\"text_12\">\r\n      <!-- Gyeongsangnam-do -->\r\n      <g transform=\"translate(597.198114 397.405284)rotate(-30)scale(0.1 -0.1)\">\r\n       <use xlink:href=\"#DejaVuSans-47\"/>\r\n       <use x=\"77.490234\" xlink:href=\"#DejaVuSans-79\"/>\r\n       <use x=\"136.669922\" xlink:href=\"#DejaVuSans-65\"/>\r\n       <use x=\"198.193359\" xlink:href=\"#DejaVuSans-6f\"/>\r\n       <use x=\"259.375\" xlink:href=\"#DejaVuSans-6e\"/>\r\n       <use x=\"322.753906\" xlink:href=\"#DejaVuSans-67\"/>\r\n       <use x=\"386.230469\" xlink:href=\"#DejaVuSans-73\"/>\r\n       <use x=\"438.330078\" xlink:href=\"#DejaVuSans-61\"/>\r\n       <use x=\"499.609375\" xlink:href=\"#DejaVuSans-6e\"/>\r\n       <use x=\"562.988281\" xlink:href=\"#DejaVuSans-67\"/>\r\n       <use x=\"626.464844\" xlink:href=\"#DejaVuSans-6e\"/>\r\n       <use x=\"689.84375\" xlink:href=\"#DejaVuSans-61\"/>\r\n       <use x=\"751.123047\" xlink:href=\"#DejaVuSans-6d\"/>\r\n       <use x=\"848.535156\" xlink:href=\"#DejaVuSans-2d\"/>\r\n       <use x=\"884.619141\" xlink:href=\"#DejaVuSans-64\"/>\r\n       <use x=\"948.095703\" xlink:href=\"#DejaVuSans-6f\"/>\r\n      </g>\r\n     </g>\r\n    </g>\r\n    <g id=\"xtick_13\">\r\n     <g id=\"line2d_13\">\r\n      <g>\r\n       <use style=\"stroke:#000000;stroke-width:0.8;\" x=\"692.039911\" xlink:href=\"#mdedcae4ca4\" y=\"333.36\"/>\r\n      </g>\r\n     </g>\r\n     <g id=\"text_13\">\r\n      <!-- Chungcheongbuk-do -->\r\n      <g transform=\"translate(648.520917 398.784971)rotate(-30)scale(0.1 -0.1)\">\r\n       <use xlink:href=\"#DejaVuSans-43\"/>\r\n       <use x=\"69.824219\" xlink:href=\"#DejaVuSans-68\"/>\r\n       <use x=\"133.203125\" xlink:href=\"#DejaVuSans-75\"/>\r\n       <use x=\"196.582031\" xlink:href=\"#DejaVuSans-6e\"/>\r\n       <use x=\"259.960938\" xlink:href=\"#DejaVuSans-67\"/>\r\n       <use x=\"323.4375\" xlink:href=\"#DejaVuSans-63\"/>\r\n       <use x=\"378.417969\" xlink:href=\"#DejaVuSans-68\"/>\r\n       <use x=\"441.796875\" xlink:href=\"#DejaVuSans-65\"/>\r\n       <use x=\"503.320312\" xlink:href=\"#DejaVuSans-6f\"/>\r\n       <use x=\"564.501953\" xlink:href=\"#DejaVuSans-6e\"/>\r\n       <use x=\"627.880859\" xlink:href=\"#DejaVuSans-67\"/>\r\n       <use x=\"691.357422\" xlink:href=\"#DejaVuSans-62\"/>\r\n       <use x=\"754.833984\" xlink:href=\"#DejaVuSans-75\"/>\r\n       <use x=\"818.212891\" xlink:href=\"#DejaVuSans-6b\"/>\r\n       <use x=\"876.123047\" xlink:href=\"#DejaVuSans-2d\"/>\r\n       <use x=\"912.207031\" xlink:href=\"#DejaVuSans-64\"/>\r\n       <use x=\"975.683594\" xlink:href=\"#DejaVuSans-6f\"/>\r\n      </g>\r\n     </g>\r\n    </g>\r\n    <g id=\"xtick_14\">\r\n     <g id=\"line2d_14\">\r\n      <g>\r\n       <use style=\"stroke:#000000;stroke-width:0.8;\" x=\"744.557558\" xlink:href=\"#mdedcae4ca4\" y=\"333.36\"/>\r\n      </g>\r\n     </g>\r\n     <g id=\"text_14\">\r\n      <!-- Gwangju -->\r\n      <g transform=\"translate(726.946932 368.868565)rotate(-30)scale(0.1 -0.1)\">\r\n       <use xlink:href=\"#DejaVuSans-47\"/>\r\n       <use x=\"77.490234\" xlink:href=\"#DejaVuSans-77\"/>\r\n       <use x=\"159.277344\" xlink:href=\"#DejaVuSans-61\"/>\r\n       <use x=\"220.556641\" xlink:href=\"#DejaVuSans-6e\"/>\r\n       <use x=\"283.935547\" xlink:href=\"#DejaVuSans-67\"/>\r\n       <use x=\"347.412109\" xlink:href=\"#DejaVuSans-6a\"/>\r\n       <use x=\"375.195312\" xlink:href=\"#DejaVuSans-75\"/>\r\n      </g>\r\n     </g>\r\n    </g>\r\n    <g id=\"xtick_15\">\r\n     <g id=\"line2d_15\">\r\n      <g>\r\n       <use style=\"stroke:#000000;stroke-width:0.8;\" x=\"797.075205\" xlink:href=\"#mdedcae4ca4\" y=\"333.36\"/>\r\n      </g>\r\n     </g>\r\n     <g id=\"text_15\">\r\n      <!-- Jeju-do -->\r\n      <g transform=\"translate(783.605263 364.087315)rotate(-30)scale(0.1 -0.1)\">\r\n       <defs>\r\n        <path d=\"M 628 4666 \r\nL 1259 4666 \r\nL 1259 325 \r\nQ 1259 -519 939 -900 \r\nQ 619 -1281 -91 -1281 \r\nL -331 -1281 \r\nL -331 -750 \r\nL -134 -750 \r\nQ 284 -750 456 -515 \r\nQ 628 -281 628 325 \r\nL 628 4666 \r\nz\r\n\" id=\"DejaVuSans-4a\" transform=\"scale(0.015625)\"/>\r\n       </defs>\r\n       <use xlink:href=\"#DejaVuSans-4a\"/>\r\n       <use x=\"29.492188\" xlink:href=\"#DejaVuSans-65\"/>\r\n       <use x=\"91.015625\" xlink:href=\"#DejaVuSans-6a\"/>\r\n       <use x=\"118.798828\" xlink:href=\"#DejaVuSans-75\"/>\r\n       <use x=\"182.177734\" xlink:href=\"#DejaVuSans-2d\"/>\r\n       <use x=\"218.261719\" xlink:href=\"#DejaVuSans-64\"/>\r\n       <use x=\"281.738281\" xlink:href=\"#DejaVuSans-6f\"/>\r\n      </g>\r\n     </g>\r\n    </g>\r\n    <g id=\"xtick_16\">\r\n     <g id=\"line2d_16\">\r\n      <g>\r\n       <use style=\"stroke:#000000;stroke-width:0.8;\" x=\"849.592852\" xlink:href=\"#mdedcae4ca4\" y=\"333.36\"/>\r\n      </g>\r\n     </g>\r\n     <g id=\"text_16\">\r\n      <!-- Jeollabuk-do -->\r\n      <g transform=\"translate(824.360526 377.669346)rotate(-30)scale(0.1 -0.1)\">\r\n       <use xlink:href=\"#DejaVuSans-4a\"/>\r\n       <use x=\"29.492188\" xlink:href=\"#DejaVuSans-65\"/>\r\n       <use x=\"91.015625\" xlink:href=\"#DejaVuSans-6f\"/>\r\n       <use x=\"152.197266\" xlink:href=\"#DejaVuSans-6c\"/>\r\n       <use x=\"179.980469\" xlink:href=\"#DejaVuSans-6c\"/>\r\n       <use x=\"207.763672\" xlink:href=\"#DejaVuSans-61\"/>\r\n       <use x=\"269.042969\" xlink:href=\"#DejaVuSans-62\"/>\r\n       <use x=\"332.519531\" xlink:href=\"#DejaVuSans-75\"/>\r\n       <use x=\"395.898438\" xlink:href=\"#DejaVuSans-6b\"/>\r\n       <use x=\"453.808594\" xlink:href=\"#DejaVuSans-2d\"/>\r\n       <use x=\"489.892578\" xlink:href=\"#DejaVuSans-64\"/>\r\n       <use x=\"553.369141\" xlink:href=\"#DejaVuSans-6f\"/>\r\n      </g>\r\n     </g>\r\n    </g>\r\n    <g id=\"xtick_17\">\r\n     <g id=\"line2d_17\">\r\n      <g>\r\n       <use style=\"stroke:#000000;stroke-width:0.8;\" x=\"902.110499\" xlink:href=\"#mdedcae4ca4\" y=\"333.36\"/>\r\n      </g>\r\n     </g>\r\n     <g id=\"text_17\">\r\n      <!-- Jeollanam-do -->\r\n      <g transform=\"translate(875.263171 379.53419)rotate(-30)scale(0.1 -0.1)\">\r\n       <use xlink:href=\"#DejaVuSans-4a\"/>\r\n       <use x=\"29.492188\" xlink:href=\"#DejaVuSans-65\"/>\r\n       <use x=\"91.015625\" xlink:href=\"#DejaVuSans-6f\"/>\r\n       <use x=\"152.197266\" xlink:href=\"#DejaVuSans-6c\"/>\r\n       <use x=\"179.980469\" xlink:href=\"#DejaVuSans-6c\"/>\r\n       <use x=\"207.763672\" xlink:href=\"#DejaVuSans-61\"/>\r\n       <use x=\"269.042969\" xlink:href=\"#DejaVuSans-6e\"/>\r\n       <use x=\"332.421875\" xlink:href=\"#DejaVuSans-61\"/>\r\n       <use x=\"393.701172\" xlink:href=\"#DejaVuSans-6d\"/>\r\n       <use x=\"491.113281\" xlink:href=\"#DejaVuSans-2d\"/>\r\n       <use x=\"527.197266\" xlink:href=\"#DejaVuSans-64\"/>\r\n       <use x=\"590.673828\" xlink:href=\"#DejaVuSans-6f\"/>\r\n      </g>\r\n     </g>\r\n    </g>\r\n    <g id=\"text_18\">\r\n     <!-- province -->\r\n     <g transform=\"translate(460.449791 414.049315)scale(0.1 -0.1)\">\r\n      <defs>\r\n       <path d=\"M 1159 525 \r\nL 1159 -1331 \r\nL 581 -1331 \r\nL 581 3500 \r\nL 1159 3500 \r\nL 1159 2969 \r\nQ 1341 3281 1617 3432 \r\nQ 1894 3584 2278 3584 \r\nQ 2916 3584 3314 3078 \r\nQ 3713 2572 3713 1747 \r\nQ 3713 922 3314 415 \r\nQ 2916 -91 2278 -91 \r\nQ 1894 -91 1617 61 \r\nQ 1341 213 1159 525 \r\nz\r\nM 3116 1747 \r\nQ 3116 2381 2855 2742 \r\nQ 2594 3103 2138 3103 \r\nQ 1681 3103 1420 2742 \r\nQ 1159 2381 1159 1747 \r\nQ 1159 1113 1420 752 \r\nQ 1681 391 2138 391 \r\nQ 2594 391 2855 752 \r\nQ 3116 1113 3116 1747 \r\nz\r\n\" id=\"DejaVuSans-70\" transform=\"scale(0.015625)\"/>\r\n       <path d=\"M 2631 2963 \r\nQ 2534 3019 2420 3045 \r\nQ 2306 3072 2169 3072 \r\nQ 1681 3072 1420 2755 \r\nQ 1159 2438 1159 1844 \r\nL 1159 0 \r\nL 581 0 \r\nL 581 3500 \r\nL 1159 3500 \r\nL 1159 2956 \r\nQ 1341 3275 1631 3429 \r\nQ 1922 3584 2338 3584 \r\nQ 2397 3584 2469 3576 \r\nQ 2541 3569 2628 3553 \r\nL 2631 2963 \r\nz\r\n\" id=\"DejaVuSans-72\" transform=\"scale(0.015625)\"/>\r\n       <path d=\"M 191 3500 \r\nL 800 3500 \r\nL 1894 563 \r\nL 2988 3500 \r\nL 3597 3500 \r\nL 2284 0 \r\nL 1503 0 \r\nL 191 3500 \r\nz\r\n\" id=\"DejaVuSans-76\" transform=\"scale(0.015625)\"/>\r\n      </defs>\r\n      <use xlink:href=\"#DejaVuSans-70\"/>\r\n      <use x=\"63.476562\" xlink:href=\"#DejaVuSans-72\"/>\r\n      <use x=\"102.339844\" xlink:href=\"#DejaVuSans-6f\"/>\r\n      <use x=\"163.521484\" xlink:href=\"#DejaVuSans-76\"/>\r\n      <use x=\"222.701172\" xlink:href=\"#DejaVuSans-69\"/>\r\n      <use x=\"250.484375\" xlink:href=\"#DejaVuSans-6e\"/>\r\n      <use x=\"313.863281\" xlink:href=\"#DejaVuSans-63\"/>\r\n      <use x=\"368.84375\" xlink:href=\"#DejaVuSans-65\"/>\r\n     </g>\r\n    </g>\r\n   </g>\r\n   <g id=\"matplotlib.axis_2\">\r\n    <g id=\"ytick_1\">\r\n     <g id=\"line2d_18\">\r\n      <defs>\r\n       <path d=\"M 0 0 \r\nL -3.5 0 \r\n\" id=\"me194675786\" style=\"stroke:#000000;stroke-width:0.8;\"/>\r\n      </defs>\r\n      <g>\r\n       <use style=\"stroke:#000000;stroke-width:0.8;\" x=\"35.569322\" xlink:href=\"#me194675786\" y=\"333.36\"/>\r\n      </g>\r\n     </g>\r\n     <g id=\"text_19\">\r\n      <!-- 0 -->\r\n      <g transform=\"translate(22.019392 339.322471)rotate(-30)scale(0.1 -0.1)\">\r\n       <defs>\r\n        <path d=\"M 2034 4250 \r\nQ 1547 4250 1301 3770 \r\nQ 1056 3291 1056 2328 \r\nQ 1056 1369 1301 889 \r\nQ 1547 409 2034 409 \r\nQ 2525 409 2770 889 \r\nQ 3016 1369 3016 2328 \r\nQ 3016 3291 2770 3770 \r\nQ 2525 4250 2034 4250 \r\nz\r\nM 2034 4750 \r\nQ 2819 4750 3233 4129 \r\nQ 3647 3509 3647 2328 \r\nQ 3647 1150 3233 529 \r\nQ 2819 -91 2034 -91 \r\nQ 1250 -91 836 529 \r\nQ 422 1150 422 2328 \r\nQ 422 3509 836 4129 \r\nQ 1250 4750 2034 4750 \r\nz\r\n\" id=\"DejaVuSans-30\" transform=\"scale(0.015625)\"/>\r\n       </defs>\r\n       <use xlink:href=\"#DejaVuSans-30\"/>\r\n      </g>\r\n     </g>\r\n    </g>\r\n    <g id=\"ytick_2\">\r\n     <g id=\"line2d_19\">\r\n      <g>\r\n       <use style=\"stroke:#000000;stroke-width:0.8;\" x=\"35.569322\" xlink:href=\"#me194675786\" y=\"267.062775\"/>\r\n      </g>\r\n     </g>\r\n     <g id=\"text_20\">\r\n      <!-- 100 -->\r\n      <g transform=\"translate(10.999219 279.387746)rotate(-30)scale(0.1 -0.1)\">\r\n       <defs>\r\n        <path d=\"M 794 531 \r\nL 1825 531 \r\nL 1825 4091 \r\nL 703 3866 \r\nL 703 4441 \r\nL 1819 4666 \r\nL 2450 4666 \r\nL 2450 531 \r\nL 3481 531 \r\nL 3481 0 \r\nL 794 0 \r\nL 794 531 \r\nz\r\n\" id=\"DejaVuSans-31\" transform=\"scale(0.015625)\"/>\r\n       </defs>\r\n       <use xlink:href=\"#DejaVuSans-31\"/>\r\n       <use x=\"63.623047\" xlink:href=\"#DejaVuSans-30\"/>\r\n       <use x=\"127.246094\" xlink:href=\"#DejaVuSans-30\"/>\r\n      </g>\r\n     </g>\r\n    </g>\r\n    <g id=\"ytick_3\">\r\n     <g id=\"line2d_20\">\r\n      <g>\r\n       <use style=\"stroke:#000000;stroke-width:0.8;\" x=\"35.569322\" xlink:href=\"#me194675786\" y=\"200.76555\"/>\r\n      </g>\r\n     </g>\r\n     <g id=\"text_21\">\r\n      <!-- 200 -->\r\n      <g transform=\"translate(10.999219 213.090521)rotate(-30)scale(0.1 -0.1)\">\r\n       <defs>\r\n        <path d=\"M 1228 531 \r\nL 3431 531 \r\nL 3431 0 \r\nL 469 0 \r\nL 469 531 \r\nQ 828 903 1448 1529 \r\nQ 2069 2156 2228 2338 \r\nQ 2531 2678 2651 2914 \r\nQ 2772 3150 2772 3378 \r\nQ 2772 3750 2511 3984 \r\nQ 2250 4219 1831 4219 \r\nQ 1534 4219 1204 4116 \r\nQ 875 4013 500 3803 \r\nL 500 4441 \r\nQ 881 4594 1212 4672 \r\nQ 1544 4750 1819 4750 \r\nQ 2544 4750 2975 4387 \r\nQ 3406 4025 3406 3419 \r\nQ 3406 3131 3298 2873 \r\nQ 3191 2616 2906 2266 \r\nQ 2828 2175 2409 1742 \r\nQ 1991 1309 1228 531 \r\nz\r\n\" id=\"DejaVuSans-32\" transform=\"scale(0.015625)\"/>\r\n       </defs>\r\n       <use xlink:href=\"#DejaVuSans-32\"/>\r\n       <use x=\"63.623047\" xlink:href=\"#DejaVuSans-30\"/>\r\n       <use x=\"127.246094\" xlink:href=\"#DejaVuSans-30\"/>\r\n      </g>\r\n     </g>\r\n    </g>\r\n    <g id=\"ytick_4\">\r\n     <g id=\"line2d_21\">\r\n      <g>\r\n       <use style=\"stroke:#000000;stroke-width:0.8;\" x=\"35.569322\" xlink:href=\"#me194675786\" y=\"134.468325\"/>\r\n      </g>\r\n     </g>\r\n     <g id=\"text_22\">\r\n      <!-- 300 -->\r\n      <g transform=\"translate(10.999219 146.793296)rotate(-30)scale(0.1 -0.1)\">\r\n       <defs>\r\n        <path d=\"M 2597 2516 \r\nQ 3050 2419 3304 2112 \r\nQ 3559 1806 3559 1356 \r\nQ 3559 666 3084 287 \r\nQ 2609 -91 1734 -91 \r\nQ 1441 -91 1130 -33 \r\nQ 819 25 488 141 \r\nL 488 750 \r\nQ 750 597 1062 519 \r\nQ 1375 441 1716 441 \r\nQ 2309 441 2620 675 \r\nQ 2931 909 2931 1356 \r\nQ 2931 1769 2642 2001 \r\nQ 2353 2234 1838 2234 \r\nL 1294 2234 \r\nL 1294 2753 \r\nL 1863 2753 \r\nQ 2328 2753 2575 2939 \r\nQ 2822 3125 2822 3475 \r\nQ 2822 3834 2567 4026 \r\nQ 2313 4219 1838 4219 \r\nQ 1578 4219 1281 4162 \r\nQ 984 4106 628 3988 \r\nL 628 4550 \r\nQ 988 4650 1302 4700 \r\nQ 1616 4750 1894 4750 \r\nQ 2613 4750 3031 4423 \r\nQ 3450 4097 3450 3541 \r\nQ 3450 3153 3228 2886 \r\nQ 3006 2619 2597 2516 \r\nz\r\n\" id=\"DejaVuSans-33\" transform=\"scale(0.015625)\"/>\r\n       </defs>\r\n       <use xlink:href=\"#DejaVuSans-33\"/>\r\n       <use x=\"63.623047\" xlink:href=\"#DejaVuSans-30\"/>\r\n       <use x=\"127.246094\" xlink:href=\"#DejaVuSans-30\"/>\r\n      </g>\r\n     </g>\r\n    </g>\r\n    <g id=\"ytick_5\">\r\n     <g id=\"line2d_22\">\r\n      <g>\r\n       <use style=\"stroke:#000000;stroke-width:0.8;\" x=\"35.569322\" xlink:href=\"#me194675786\" y=\"68.1711\"/>\r\n      </g>\r\n     </g>\r\n     <g id=\"text_23\">\r\n      <!-- 400 -->\r\n      <g transform=\"translate(10.999219 80.496071)rotate(-30)scale(0.1 -0.1)\">\r\n       <defs>\r\n        <path d=\"M 2419 4116 \r\nL 825 1625 \r\nL 2419 1625 \r\nL 2419 4116 \r\nz\r\nM 2253 4666 \r\nL 3047 4666 \r\nL 3047 1625 \r\nL 3713 1625 \r\nL 3713 1100 \r\nL 3047 1100 \r\nL 3047 0 \r\nL 2419 0 \r\nL 2419 1100 \r\nL 313 1100 \r\nL 313 1709 \r\nL 2253 4666 \r\nz\r\n\" id=\"DejaVuSans-34\" transform=\"scale(0.015625)\"/>\r\n       </defs>\r\n       <use xlink:href=\"#DejaVuSans-34\"/>\r\n       <use x=\"63.623047\" xlink:href=\"#DejaVuSans-30\"/>\r\n       <use x=\"127.246094\" xlink:href=\"#DejaVuSans-30\"/>\r\n      </g>\r\n     </g>\r\n    </g>\r\n   </g>\r\n   <g id=\"patch_20\">\r\n    <path d=\"M 35.569322 333.36 \r\nL 35.569322 7.2 \r\n\" style=\"fill:none;stroke:#000000;stroke-linecap:square;stroke-linejoin:miter;stroke-width:0.8;\"/>\r\n   </g>\r\n   <g id=\"patch_21\">\r\n    <path d=\"M 928.369322 333.36 \r\nL 928.369322 7.2 \r\n\" style=\"fill:none;stroke:#000000;stroke-linecap:square;stroke-linejoin:miter;stroke-width:0.8;\"/>\r\n   </g>\r\n   <g id=\"patch_22\">\r\n    <path d=\"M 35.569322 333.36 \r\nL 928.369322 333.36 \r\n\" style=\"fill:none;stroke:#000000;stroke-linecap:square;stroke-linejoin:miter;stroke-width:0.8;\"/>\r\n   </g>\r\n   <g id=\"patch_23\">\r\n    <path d=\"M 35.569322 7.2 \r\nL 928.369322 7.2 \r\n\" style=\"fill:none;stroke:#000000;stroke-linecap:square;stroke-linejoin:miter;stroke-width:0.8;\"/>\r\n   </g>\r\n   <g id=\"text_24\">\r\n    <!-- 469.0 -->\r\n    <g transform=\"translate(47.514083 22.426014)scale(0.1 -0.1)\">\r\n     <defs>\r\n      <path d=\"M 2113 2584 \r\nQ 1688 2584 1439 2293 \r\nQ 1191 2003 1191 1497 \r\nQ 1191 994 1439 701 \r\nQ 1688 409 2113 409 \r\nQ 2538 409 2786 701 \r\nQ 3034 994 3034 1497 \r\nQ 3034 2003 2786 2293 \r\nQ 2538 2584 2113 2584 \r\nz\r\nM 3366 4563 \r\nL 3366 3988 \r\nQ 3128 4100 2886 4159 \r\nQ 2644 4219 2406 4219 \r\nQ 1781 4219 1451 3797 \r\nQ 1122 3375 1075 2522 \r\nQ 1259 2794 1537 2939 \r\nQ 1816 3084 2150 3084 \r\nQ 2853 3084 3261 2657 \r\nQ 3669 2231 3669 1497 \r\nQ 3669 778 3244 343 \r\nQ 2819 -91 2113 -91 \r\nQ 1303 -91 875 529 \r\nQ 447 1150 447 2328 \r\nQ 447 3434 972 4092 \r\nQ 1497 4750 2381 4750 \r\nQ 2619 4750 2861 4703 \r\nQ 3103 4656 3366 4563 \r\nz\r\n\" id=\"DejaVuSans-36\" transform=\"scale(0.015625)\"/>\r\n      <path d=\"M 703 97 \r\nL 703 672 \r\nQ 941 559 1184 500 \r\nQ 1428 441 1663 441 \r\nQ 2288 441 2617 861 \r\nQ 2947 1281 2994 2138 \r\nQ 2813 1869 2534 1725 \r\nQ 2256 1581 1919 1581 \r\nQ 1219 1581 811 2004 \r\nQ 403 2428 403 3163 \r\nQ 403 3881 828 4315 \r\nQ 1253 4750 1959 4750 \r\nQ 2769 4750 3195 4129 \r\nQ 3622 3509 3622 2328 \r\nQ 3622 1225 3098 567 \r\nQ 2575 -91 1691 -91 \r\nQ 1453 -91 1209 -44 \r\nQ 966 3 703 97 \r\nz\r\nM 1959 2075 \r\nQ 2384 2075 2632 2365 \r\nQ 2881 2656 2881 3163 \r\nQ 2881 3666 2632 3958 \r\nQ 2384 4250 1959 4250 \r\nQ 1534 4250 1286 3958 \r\nQ 1038 3666 1038 3163 \r\nQ 1038 2656 1286 2365 \r\nQ 1534 2075 1959 2075 \r\nz\r\n\" id=\"DejaVuSans-39\" transform=\"scale(0.015625)\"/>\r\n      <path d=\"M 684 794 \r\nL 1344 794 \r\nL 1344 0 \r\nL 684 0 \r\nL 684 794 \r\nz\r\n\" id=\"DejaVuSans-2e\" transform=\"scale(0.015625)\"/>\r\n     </defs>\r\n     <use xlink:href=\"#DejaVuSans-34\"/>\r\n     <use x=\"63.623047\" xlink:href=\"#DejaVuSans-36\"/>\r\n     <use x=\"127.246094\" xlink:href=\"#DejaVuSans-39\"/>\r\n     <use x=\"190.869141\" xlink:href=\"#DejaVuSans-2e\"/>\r\n     <use x=\"222.65625\" xlink:href=\"#DejaVuSans-30\"/>\r\n    </g>\r\n   </g>\r\n   <g id=\"text_25\">\r\n    <!-- 150.0 -->\r\n    <g transform=\"translate(100.03173 233.914162)scale(0.1 -0.1)\">\r\n     <defs>\r\n      <path d=\"M 691 4666 \r\nL 3169 4666 \r\nL 3169 4134 \r\nL 1269 4134 \r\nL 1269 2991 \r\nQ 1406 3038 1543 3061 \r\nQ 1681 3084 1819 3084 \r\nQ 2600 3084 3056 2656 \r\nQ 3513 2228 3513 1497 \r\nQ 3513 744 3044 326 \r\nQ 2575 -91 1722 -91 \r\nQ 1428 -91 1123 -41 \r\nQ 819 9 494 109 \r\nL 494 744 \r\nQ 775 591 1075 516 \r\nQ 1375 441 1709 441 \r\nQ 2250 441 2565 725 \r\nQ 2881 1009 2881 1497 \r\nQ 2881 1984 2565 2268 \r\nQ 2250 2553 1709 2553 \r\nQ 1456 2553 1204 2497 \r\nQ 953 2441 691 2322 \r\nL 691 4666 \r\nz\r\n\" id=\"DejaVuSans-35\" transform=\"scale(0.015625)\"/>\r\n     </defs>\r\n     <use xlink:href=\"#DejaVuSans-31\"/>\r\n     <use x=\"63.623047\" xlink:href=\"#DejaVuSans-35\"/>\r\n     <use x=\"127.246094\" xlink:href=\"#DejaVuSans-30\"/>\r\n     <use x=\"190.869141\" xlink:href=\"#DejaVuSans-2e\"/>\r\n     <use x=\"222.65625\" xlink:href=\"#DejaVuSans-30\"/>\r\n    </g>\r\n   </g>\r\n   <g id=\"text_26\">\r\n    <!-- 136.0 -->\r\n    <g transform=\"translate(152.549378 243.195774)scale(0.1 -0.1)\">\r\n     <use xlink:href=\"#DejaVuSans-31\"/>\r\n     <use x=\"63.623047\" xlink:href=\"#DejaVuSans-33\"/>\r\n     <use x=\"127.246094\" xlink:href=\"#DejaVuSans-36\"/>\r\n     <use x=\"190.869141\" xlink:href=\"#DejaVuSans-2e\"/>\r\n     <use x=\"222.65625\" xlink:href=\"#DejaVuSans-30\"/>\r\n    </g>\r\n   </g>\r\n   <g id=\"text_27\">\r\n    <!-- 116.0 -->\r\n    <g transform=\"translate(205.067025 256.455219)scale(0.1 -0.1)\">\r\n     <use xlink:href=\"#DejaVuSans-31\"/>\r\n     <use x=\"63.623047\" xlink:href=\"#DejaVuSans-31\"/>\r\n     <use x=\"127.246094\" xlink:href=\"#DejaVuSans-36\"/>\r\n     <use x=\"190.869141\" xlink:href=\"#DejaVuSans-2e\"/>\r\n     <use x=\"222.65625\" xlink:href=\"#DejaVuSans-30\"/>\r\n    </g>\r\n   </g>\r\n   <g id=\"text_28\">\r\n    <!-- 91.0 -->\r\n    <g transform=\"translate(260.765922 273.029525)scale(0.1 -0.1)\">\r\n     <use xlink:href=\"#DejaVuSans-39\"/>\r\n     <use x=\"63.623047\" xlink:href=\"#DejaVuSans-31\"/>\r\n     <use x=\"127.246094\" xlink:href=\"#DejaVuSans-2e\"/>\r\n     <use x=\"159.033203\" xlink:href=\"#DejaVuSans-30\"/>\r\n    </g>\r\n   </g>\r\n   <g id=\"text_29\">\r\n    <!-- 79.0 -->\r\n    <g transform=\"translate(313.283569 280.985192)scale(0.1 -0.1)\">\r\n     <defs>\r\n      <path d=\"M 525 4666 \r\nL 3525 4666 \r\nL 3525 4397 \r\nL 1831 0 \r\nL 1172 0 \r\nL 2766 4134 \r\nL 525 4134 \r\nL 525 4666 \r\nz\r\n\" id=\"DejaVuSans-37\" transform=\"scale(0.015625)\"/>\r\n     </defs>\r\n     <use xlink:href=\"#DejaVuSans-37\"/>\r\n     <use x=\"63.623047\" xlink:href=\"#DejaVuSans-39\"/>\r\n     <use x=\"127.246094\" xlink:href=\"#DejaVuSans-2e\"/>\r\n     <use x=\"159.033203\" xlink:href=\"#DejaVuSans-30\"/>\r\n    </g>\r\n   </g>\r\n   <g id=\"text_30\">\r\n    <!-- 77.0 -->\r\n    <g transform=\"translate(365.801216 282.311137)scale(0.1 -0.1)\">\r\n     <use xlink:href=\"#DejaVuSans-37\"/>\r\n     <use x=\"63.623047\" xlink:href=\"#DejaVuSans-37\"/>\r\n     <use x=\"127.246094\" xlink:href=\"#DejaVuSans-2e\"/>\r\n     <use x=\"159.033203\" xlink:href=\"#DejaVuSans-30\"/>\r\n    </g>\r\n   </g>\r\n   <g id=\"text_31\">\r\n    <!-- 56.0 -->\r\n    <g transform=\"translate(418.318863 296.233554)scale(0.1 -0.1)\">\r\n     <use xlink:href=\"#DejaVuSans-35\"/>\r\n     <use x=\"63.623047\" xlink:href=\"#DejaVuSans-36\"/>\r\n     <use x=\"127.246094\" xlink:href=\"#DejaVuSans-2e\"/>\r\n     <use x=\"159.033203\" xlink:href=\"#DejaVuSans-30\"/>\r\n    </g>\r\n   </g>\r\n   <g id=\"text_32\">\r\n    <!-- 48.0 -->\r\n    <g transform=\"translate(470.83651 301.537332)scale(0.1 -0.1)\">\r\n     <defs>\r\n      <path d=\"M 2034 2216 \r\nQ 1584 2216 1326 1975 \r\nQ 1069 1734 1069 1313 \r\nQ 1069 891 1326 650 \r\nQ 1584 409 2034 409 \r\nQ 2484 409 2743 651 \r\nQ 3003 894 3003 1313 \r\nQ 3003 1734 2745 1975 \r\nQ 2488 2216 2034 2216 \r\nz\r\nM 1403 2484 \r\nQ 997 2584 770 2862 \r\nQ 544 3141 544 3541 \r\nQ 544 4100 942 4425 \r\nQ 1341 4750 2034 4750 \r\nQ 2731 4750 3128 4425 \r\nQ 3525 4100 3525 3541 \r\nQ 3525 3141 3298 2862 \r\nQ 3072 2584 2669 2484 \r\nQ 3125 2378 3379 2068 \r\nQ 3634 1759 3634 1313 \r\nQ 3634 634 3220 271 \r\nQ 2806 -91 2034 -91 \r\nQ 1263 -91 848 271 \r\nQ 434 634 434 1313 \r\nQ 434 1759 690 2068 \r\nQ 947 2378 1403 2484 \r\nz\r\nM 1172 3481 \r\nQ 1172 3119 1398 2916 \r\nQ 1625 2713 2034 2713 \r\nQ 2441 2713 2670 2916 \r\nQ 2900 3119 2900 3481 \r\nQ 2900 3844 2670 4047 \r\nQ 2441 4250 2034 4250 \r\nQ 1625 4250 1398 4047 \r\nQ 1172 3844 1172 3481 \r\nz\r\n\" id=\"DejaVuSans-38\" transform=\"scale(0.015625)\"/>\r\n     </defs>\r\n     <use xlink:href=\"#DejaVuSans-34\"/>\r\n     <use x=\"63.623047\" xlink:href=\"#DejaVuSans-38\"/>\r\n     <use x=\"127.246094\" xlink:href=\"#DejaVuSans-2e\"/>\r\n     <use x=\"159.033203\" xlink:href=\"#DejaVuSans-30\"/>\r\n    </g>\r\n   </g>\r\n   <g id=\"text_33\">\r\n    <!-- 45.0 -->\r\n    <g transform=\"translate(523.354157 303.526249)scale(0.1 -0.1)\">\r\n     <use xlink:href=\"#DejaVuSans-34\"/>\r\n     <use x=\"63.623047\" xlink:href=\"#DejaVuSans-35\"/>\r\n     <use x=\"127.246094\" xlink:href=\"#DejaVuSans-2e\"/>\r\n     <use x=\"159.033203\" xlink:href=\"#DejaVuSans-30\"/>\r\n    </g>\r\n   </g>\r\n   <g id=\"text_34\">\r\n    <!-- 41.0 -->\r\n    <g transform=\"translate(575.871804 306.178138)scale(0.1 -0.1)\">\r\n     <use xlink:href=\"#DejaVuSans-34\"/>\r\n     <use x=\"63.623047\" xlink:href=\"#DejaVuSans-31\"/>\r\n     <use x=\"127.246094\" xlink:href=\"#DejaVuSans-2e\"/>\r\n     <use x=\"159.033203\" xlink:href=\"#DejaVuSans-30\"/>\r\n    </g>\r\n   </g>\r\n   <g id=\"text_35\">\r\n    <!-- 40.0 -->\r\n    <g transform=\"translate(628.389451 306.84111)scale(0.1 -0.1)\">\r\n     <use xlink:href=\"#DejaVuSans-34\"/>\r\n     <use x=\"63.623047\" xlink:href=\"#DejaVuSans-30\"/>\r\n     <use x=\"127.246094\" xlink:href=\"#DejaVuSans-2e\"/>\r\n     <use x=\"159.033203\" xlink:href=\"#DejaVuSans-30\"/>\r\n    </g>\r\n   </g>\r\n   <g id=\"text_36\">\r\n    <!-- 34.0 -->\r\n    <g transform=\"translate(680.907098 310.818943)scale(0.1 -0.1)\">\r\n     <use xlink:href=\"#DejaVuSans-33\"/>\r\n     <use x=\"63.623047\" xlink:href=\"#DejaVuSans-34\"/>\r\n     <use x=\"127.246094\" xlink:href=\"#DejaVuSans-2e\"/>\r\n     <use x=\"159.033203\" xlink:href=\"#DejaVuSans-30\"/>\r\n    </g>\r\n   </g>\r\n   <g id=\"text_37\">\r\n    <!-- 30.0 -->\r\n    <g transform=\"translate(733.424745 313.470832)scale(0.1 -0.1)\">\r\n     <use xlink:href=\"#DejaVuSans-33\"/>\r\n     <use x=\"63.623047\" xlink:href=\"#DejaVuSans-30\"/>\r\n     <use x=\"127.246094\" xlink:href=\"#DejaVuSans-2e\"/>\r\n     <use x=\"159.033203\" xlink:href=\"#DejaVuSans-30\"/>\r\n    </g>\r\n   </g>\r\n   <g id=\"text_38\">\r\n    <!-- 28.0 -->\r\n    <g transform=\"translate(785.942392 314.796777)scale(0.1 -0.1)\">\r\n     <use xlink:href=\"#DejaVuSans-32\"/>\r\n     <use x=\"63.623047\" xlink:href=\"#DejaVuSans-38\"/>\r\n     <use x=\"127.246094\" xlink:href=\"#DejaVuSans-2e\"/>\r\n     <use x=\"159.033203\" xlink:href=\"#DejaVuSans-30\"/>\r\n    </g>\r\n   </g>\r\n   <g id=\"text_39\">\r\n    <!-- 15.0 -->\r\n    <g transform=\"translate(838.460039 323.415416)scale(0.1 -0.1)\">\r\n     <use xlink:href=\"#DejaVuSans-31\"/>\r\n     <use x=\"63.623047\" xlink:href=\"#DejaVuSans-35\"/>\r\n     <use x=\"127.246094\" xlink:href=\"#DejaVuSans-2e\"/>\r\n     <use x=\"159.033203\" xlink:href=\"#DejaVuSans-30\"/>\r\n    </g>\r\n   </g>\r\n   <g id=\"text_40\">\r\n    <!-- 14.0 -->\r\n    <g transform=\"translate(890.977686 324.078388)scale(0.1 -0.1)\">\r\n     <use xlink:href=\"#DejaVuSans-31\"/>\r\n     <use x=\"63.623047\" xlink:href=\"#DejaVuSans-34\"/>\r\n     <use x=\"127.246094\" xlink:href=\"#DejaVuSans-2e\"/>\r\n     <use x=\"159.033203\" xlink:href=\"#DejaVuSans-30\"/>\r\n    </g>\r\n   </g>\r\n   <g id=\"legend_1\">\r\n    <g id=\"patch_24\">\r\n     <path d=\"M 831.139635 30.15625 \r\nL 921.369322 30.15625 \r\nQ 923.369322 30.15625 923.369322 28.15625 \r\nL 923.369322 14.2 \r\nQ 923.369322 12.2 921.369322 12.2 \r\nL 831.139635 12.2 \r\nQ 829.139635 12.2 829.139635 14.2 \r\nL 829.139635 28.15625 \r\nQ 829.139635 30.15625 831.139635 30.15625 \r\nz\r\n\" style=\"fill:#ffffff;opacity:0.8;stroke:#cccccc;stroke-linejoin:miter;\"/>\r\n    </g>\r\n    <g id=\"patch_25\">\r\n     <path d=\"M 833.139635 23.798437 \r\nL 853.139635 23.798437 \r\nL 853.139635 16.798437 \r\nL 833.139635 16.798437 \r\nz\r\n\" style=\"fill:#1f77b4;\"/>\r\n    </g>\r\n    <g id=\"text_41\">\r\n     <!-- case_per_M -->\r\n     <g transform=\"translate(861.139635 23.798437)scale(0.1 -0.1)\">\r\n      <defs>\r\n       <path d=\"M 3263 -1063 \r\nL 3263 -1509 \r\nL -63 -1509 \r\nL -63 -1063 \r\nL 3263 -1063 \r\nz\r\n\" id=\"DejaVuSans-5f\" transform=\"scale(0.015625)\"/>\r\n       <path d=\"M 628 4666 \r\nL 1569 4666 \r\nL 2759 1491 \r\nL 3956 4666 \r\nL 4897 4666 \r\nL 4897 0 \r\nL 4281 0 \r\nL 4281 4097 \r\nL 3078 897 \r\nL 2444 897 \r\nL 1241 4097 \r\nL 1241 0 \r\nL 628 0 \r\nL 628 4666 \r\nz\r\n\" id=\"DejaVuSans-4d\" transform=\"scale(0.015625)\"/>\r\n      </defs>\r\n      <use xlink:href=\"#DejaVuSans-63\"/>\r\n      <use x=\"54.980469\" xlink:href=\"#DejaVuSans-61\"/>\r\n      <use x=\"116.259766\" xlink:href=\"#DejaVuSans-73\"/>\r\n      <use x=\"168.359375\" xlink:href=\"#DejaVuSans-65\"/>\r\n      <use x=\"229.882812\" xlink:href=\"#DejaVuSans-5f\"/>\r\n      <use x=\"279.882812\" xlink:href=\"#DejaVuSans-70\"/>\r\n      <use x=\"343.359375\" xlink:href=\"#DejaVuSans-65\"/>\r\n      <use x=\"404.882812\" xlink:href=\"#DejaVuSans-72\"/>\r\n      <use x=\"445.996094\" xlink:href=\"#DejaVuSans-5f\"/>\r\n      <use x=\"495.996094\" xlink:href=\"#DejaVuSans-4d\"/>\r\n     </g>\r\n    </g>\r\n   </g>\r\n  </g>\r\n </g>\r\n <defs>\r\n  <clipPath id=\"p57812dcb0e\">\r\n   <rect height=\"326.16\" width=\"892.8\" x=\"35.569322\" y=\"7.2\"/>\r\n  </clipPath>\r\n </defs>\r\n</svg>\r\n",
      "image/png": "[encoded data removed]"
     },
     "metadata": {
      "needs_background": "light"
     }
    }
   ],
   "source": [
    "df_grouped_by_province['case_per_M'] = df_grouped_by_province['counts'] / df_grouped_by_province['province_population_in_M']\n",
    "\n",
    "df_grouped_by_province.sort_values(by = ['case_per_M'], inplace = True, ascending=False)\n",
    "\n",
    "barchart = df_grouped_by_province.plot(x = 'province', y = 'case_per_M', kind = 'bar', figsize = (16,6))\n",
    "barchart.tick_params(labelrotation=30)\n",
    "for index, num in enumerate(df_grouped_by_province['case_per_M']):\n",
    "    num = np.round(num, decimals = 0)\n",
    "    barchart.text(index, num, str(num), horizontalalignment = 'center')"
   ]
  },
  {
   "cell_type": "code",
   "execution_count": 25,
   "metadata": {},
   "outputs": [
    {
     "output_type": "display_data",
     "data": {
      "application/vnd.plotly.v1+json": {
       "config": {
        "plotlyServerURL": "https://plot.ly"
       },
       "data": [
        {
         "branchvalues": "total",
         "customdata": [
          [
           1
          ],
          [
           2
          ],
          [
           7
          ],
          [
           2
          ],
          [
           1
          ],
          [
           1
          ],
          [
           1
          ],
          [
           28
          ],
          [
           1
          ],
          [
           1
          ],
          [
           1
          ],
          [
           1
          ],
          [
           1
          ],
          [
           1
          ],
          [
           1
          ],
          [
           1
          ],
          [
           1
          ],
          [
           1
          ],
          [
           2
          ],
          [
           1
          ],
          [
           3
          ],
          [
           1.6666666666666667
          ],
          [
           1
          ],
          [
           1
          ],
          [
           1.6666666666666667
          ],
          [
           1
          ],
          [
           20.047619047619047
          ],
          [
           1.8571428571428572
          ],
          [
           1
          ],
          [
           14.728813559322035
          ]
         ],
         "domain": {
          "x": [
           0,
           1
          ],
          "y": [
           0,
           1
          ]
         },
         "hovertemplate": "labels=%{label}<br>counts_sum=%{value}<br>parent=%{parent}<br>id=%{id}<br>counts=%{color}<extra></extra>",
         "ids": [
          "South Korea/Gyeongsangbuk-do/Bonghwa-gun",
          "South Korea/Busan/Busanjin-gu",
          "South Korea/Gyeongsangbuk-do/Cheongdo-gun",
          "South Korea/Gangwon-do/Cheorwon-gun",
          "South Korea/Gyeongsangbuk-do/Chilgok-gun",
          "South Korea/Seoul/Dobong-gu",
          "South Korea/Gyeongsangbuk-do/Gyeongju-si",
          "South Korea/Gyeongsangbuk-do/Gyeongsan-si",
          "South Korea/Seoul/Jongno-gu",
          "South Korea/Seoul/Mapo-gu",
          "South Korea/Daegu/Nam-gu",
          "South Korea/Ulsan/Nam-gu",
          "South Korea/Gyeonggi-do/Namyangju-si",
          "South Korea/Daejeon/Seo-gu",
          "South Korea/Seoul/Seodaemun-gu",
          "South Korea/Gyeongsangbuk-do/Seongju-gun",
          "South Korea/Gangwon-do/Taebaek-si",
          "South Korea/Gyeongsangbuk-do/Yecheon-gun",
          "South Korea/Gyeongsangbuk-do/Yeongcheon-si",
          "South Korea/Busan/etc",
          "South Korea/Seoul/etc",
          "South Korea/Busan",
          "South Korea/Daegu",
          "South Korea/Daejeon",
          "South Korea/Gangwon-do",
          "South Korea/Gyeonggi-do",
          "South Korea/Gyeongsangbuk-do",
          "South Korea/Seoul",
          "South Korea/Ulsan",
          "South Korea"
         ],
         "labels": [
          "Bonghwa-gun",
          "Busanjin-gu",
          "Cheongdo-gun",
          "Cheorwon-gun",
          "Chilgok-gun",
          "Dobong-gu",
          "Gyeongju-si",
          "Gyeongsan-si",
          "Jongno-gu",
          "Mapo-gu",
          "Nam-gu",
          "Nam-gu",
          "Namyangju-si",
          "Seo-gu",
          "Seodaemun-gu",
          "Seongju-gun",
          "Taebaek-si",
          "Yecheon-gun",
          "Yeongcheon-si",
          "etc",
          "etc",
          "Busan",
          "Daegu",
          "Daejeon",
          "Gangwon-do",
          "Gyeonggi-do",
          "Gyeongsangbuk-do",
          "Seoul",
          "Ulsan",
          "South Korea"
         ],
         "marker": {
          "coloraxis": "coloraxis",
          "colors": [
           1,
           2,
           7,
           2,
           1,
           1,
           1,
           28,
           1,
           1,
           1,
           1,
           1,
           1,
           1,
           1,
           1,
           1,
           2,
           1,
           3,
           1.6666666666666667,
           1,
           1,
           1.6666666666666667,
           1,
           20.047619047619047,
           1.8571428571428572,
           1,
           14.728813559322035
          ]
         },
         "name": "",
         "parents": [
          "South Korea/Gyeongsangbuk-do",
          "South Korea/Busan",
          "South Korea/Gyeongsangbuk-do",
          "South Korea/Gangwon-do",
          "South Korea/Gyeongsangbuk-do",
          "South Korea/Seoul",
          "South Korea/Gyeongsangbuk-do",
          "South Korea/Gyeongsangbuk-do",
          "South Korea/Seoul",
          "South Korea/Seoul",
          "South Korea/Daegu",
          "South Korea/Ulsan",
          "South Korea/Gyeonggi-do",
          "South Korea/Daejeon",
          "South Korea/Seoul",
          "South Korea/Gyeongsangbuk-do",
          "South Korea/Gangwon-do",
          "South Korea/Gyeongsangbuk-do",
          "South Korea/Gyeongsangbuk-do",
          "South Korea/Busan",
          "South Korea/Seoul",
          "South Korea",
          "South Korea",
          "South Korea",
          "South Korea",
          "South Korea",
          "South Korea",
          "South Korea",
          "South Korea",
          ""
         ],
         "type": "treemap",
         "values": [
          1,
          2,
          7,
          2,
          1,
          1,
          1,
          28,
          1,
          1,
          1,
          1,
          1,
          1,
          1,
          1,
          1,
          1,
          2,
          1,
          3,
          3,
          1,
          1,
          3,
          1,
          42,
          7,
          1,
          59
         ]
        }
       ],
       "layout": {
        "coloraxis": {
         "colorbar": {
          "title": {
           "text": "counts"
          }
         },
         "colorscale": [
          [
           0,
           "rgb(253, 237, 176)"
          ],
          [
           0.09090909090909091,
           "rgb(250, 205, 145)"
          ],
          [
           0.18181818181818182,
           "rgb(246, 173, 119)"
          ],
          [
           0.2727272727272727,
           "rgb(240, 142, 98)"
          ],
          [
           0.36363636363636365,
           "rgb(231, 109, 84)"
          ],
          [
           0.45454545454545453,
           "rgb(216, 80, 83)"
          ],
          [
           0.5454545454545454,
           "rgb(195, 56, 90)"
          ],
          [
           0.6363636363636364,
           "rgb(168, 40, 96)"
          ],
          [
           0.7272727272727273,
           "rgb(138, 29, 99)"
          ],
          [
           0.8181818181818182,
           "rgb(107, 24, 93)"
          ],
          [
           0.9090909090909091,
           "rgb(76, 21, 80)"
          ],
          [
           1,
           "rgb(47, 15, 61)"
          ]
         ]
        },
        "height": 600,
        "legend": {
         "tracegroupgap": 0
        },
        "template": {
         "data": {
          "bar": [
           {
            "error_x": {
             "color": "rgb(36,36,36)"
            },
            "error_y": {
             "color": "rgb(36,36,36)"
            },
            "marker": {
             "line": {
              "color": "rgb(234,234,242)",
              "width": 0.5
             }
            },
            "type": "bar"
           }
          ],
          "barpolar": [
           {
            "marker": {
             "line": {
              "color": "rgb(234,234,242)",
              "width": 0.5
             }
            },
            "type": "barpolar"
           }
          ],
          "carpet": [
           {
            "aaxis": {
             "endlinecolor": "rgb(36,36,36)",
             "gridcolor": "white",
             "linecolor": "white",
             "minorgridcolor": "white",
             "startlinecolor": "rgb(36,36,36)"
            },
            "baxis": {
             "endlinecolor": "rgb(36,36,36)",
             "gridcolor": "white",
             "linecolor": "white",
             "minorgridcolor": "white",
             "startlinecolor": "rgb(36,36,36)"
            },
            "type": "carpet"
           }
          ],
          "choropleth": [
           {
            "colorbar": {
             "outlinewidth": 0,
             "tickcolor": "rgb(36,36,36)",
             "ticklen": 8,
             "ticks": "outside",
             "tickwidth": 2
            },
            "type": "choropleth"
           }
          ],
          "contour": [
           {
            "colorbar": {
             "outlinewidth": 0,
             "tickcolor": "rgb(36,36,36)",
             "ticklen": 8,
             "ticks": "outside",
             "tickwidth": 2
            },
            "colorscale": [
             [
              0,
              "rgb(2,4,25)"
             ],
             [
              0.06274509803921569,
              "rgb(24,15,41)"
             ],
             [
              0.12549019607843137,
              "rgb(47,23,57)"
             ],
             [
              0.18823529411764706,
              "rgb(71,28,72)"
             ],
             [
              0.25098039215686274,
              "rgb(97,30,82)"
             ],
             [
              0.3137254901960784,
              "rgb(123,30,89)"
             ],
             [
              0.3764705882352941,
              "rgb(150,27,91)"
             ],
             [
              0.4392156862745098,
              "rgb(177,22,88)"
             ],
             [
              0.5019607843137255,
              "rgb(203,26,79)"
             ],
             [
              0.5647058823529412,
              "rgb(223,47,67)"
             ],
             [
              0.6274509803921569,
              "rgb(236,76,61)"
             ],
             [
              0.6901960784313725,
              "rgb(242,107,73)"
             ],
             [
              0.7529411764705882,
              "rgb(244,135,95)"
             ],
             [
              0.8156862745098039,
              "rgb(245,162,122)"
             ],
             [
              0.8784313725490196,
              "rgb(246,188,153)"
             ],
             [
              0.9411764705882353,
              "rgb(247,212,187)"
             ],
             [
              1,
              "rgb(250,234,220)"
             ]
            ],
            "type": "contour"
           }
          ],
          "contourcarpet": [
           {
            "colorbar": {
             "outlinewidth": 0,
             "tickcolor": "rgb(36,36,36)",
             "ticklen": 8,
             "ticks": "outside",
             "tickwidth": 2
            },
            "type": "contourcarpet"
           }
          ],
          "heatmap": [
           {
            "colorbar": {
             "outlinewidth": 0,
             "tickcolor": "rgb(36,36,36)",
             "ticklen": 8,
             "ticks": "outside",
             "tickwidth": 2
            },
            "colorscale": [
             [
              0,
              "rgb(2,4,25)"
             ],
             [
              0.06274509803921569,
              "rgb(24,15,41)"
             ],
             [
              0.12549019607843137,
              "rgb(47,23,57)"
             ],
             [
              0.18823529411764706,
              "rgb(71,28,72)"
             ],
             [
              0.25098039215686274,
              "rgb(97,30,82)"
             ],
             [
              0.3137254901960784,
              "rgb(123,30,89)"
             ],
             [
              0.3764705882352941,
              "rgb(150,27,91)"
             ],
             [
              0.4392156862745098,
              "rgb(177,22,88)"
             ],
             [
              0.5019607843137255,
              "rgb(203,26,79)"
             ],
             [
              0.5647058823529412,
              "rgb(223,47,67)"
             ],
             [
              0.6274509803921569,
              "rgb(236,76,61)"
             ],
             [
              0.6901960784313725,
              "rgb(242,107,73)"
             ],
             [
              0.7529411764705882,
              "rgb(244,135,95)"
             ],
             [
              0.8156862745098039,
              "rgb(245,162,122)"
             ],
             [
              0.8784313725490196,
              "rgb(246,188,153)"
             ],
             [
              0.9411764705882353,
              "rgb(247,212,187)"
             ],
             [
              1,
              "rgb(250,234,220)"
             ]
            ],
            "type": "heatmap"
           }
          ],
          "heatmapgl": [
           {
            "colorbar": {
             "outlinewidth": 0,
             "tickcolor": "rgb(36,36,36)",
             "ticklen": 8,
             "ticks": "outside",
             "tickwidth": 2
            },
            "colorscale": [
             [
              0,
              "rgb(2,4,25)"
             ],
             [
              0.06274509803921569,
              "rgb(24,15,41)"
             ],
             [
              0.12549019607843137,
              "rgb(47,23,57)"
             ],
             [
              0.18823529411764706,
              "rgb(71,28,72)"
             ],
             [
              0.25098039215686274,
              "rgb(97,30,82)"
             ],
             [
              0.3137254901960784,
              "rgb(123,30,89)"
             ],
             [
              0.3764705882352941,
              "rgb(150,27,91)"
             ],
             [
              0.4392156862745098,
              "rgb(177,22,88)"
             ],
             [
              0.5019607843137255,
              "rgb(203,26,79)"
             ],
             [
              0.5647058823529412,
              "rgb(223,47,67)"
             ],
             [
              0.6274509803921569,
              "rgb(236,76,61)"
             ],
             [
              0.6901960784313725,
              "rgb(242,107,73)"
             ],
             [
              0.7529411764705882,
              "rgb(244,135,95)"
             ],
             [
              0.8156862745098039,
              "rgb(245,162,122)"
             ],
             [
              0.8784313725490196,
              "rgb(246,188,153)"
             ],
             [
              0.9411764705882353,
              "rgb(247,212,187)"
             ],
             [
              1,
              "rgb(250,234,220)"
             ]
            ],
            "type": "heatmapgl"
           }
          ],
          "histogram": [
           {
            "marker": {
             "colorbar": {
              "outlinewidth": 0,
              "tickcolor": "rgb(36,36,36)",
              "ticklen": 8,
              "ticks": "outside",
              "tickwidth": 2
             }
            },
            "type": "histogram"
           }
          ],
          "histogram2d": [
           {
            "colorbar": {
             "outlinewidth": 0,
             "tickcolor": "rgb(36,36,36)",
             "ticklen": 8,
             "ticks": "outside",
             "tickwidth": 2
            },
            "colorscale": [
             [
              0,
              "rgb(2,4,25)"
             ],
             [
              0.06274509803921569,
              "rgb(24,15,41)"
             ],
             [
              0.12549019607843137,
              "rgb(47,23,57)"
             ],
             [
              0.18823529411764706,
              "rgb(71,28,72)"
             ],
             [
              0.25098039215686274,
              "rgb(97,30,82)"
             ],
             [
              0.3137254901960784,
              "rgb(123,30,89)"
             ],
             [
              0.3764705882352941,
              "rgb(150,27,91)"
             ],
             [
              0.4392156862745098,
              "rgb(177,22,88)"
             ],
             [
              0.5019607843137255,
              "rgb(203,26,79)"
             ],
             [
              0.5647058823529412,
              "rgb(223,47,67)"
             ],
             [
              0.6274509803921569,
              "rgb(236,76,61)"
             ],
             [
              0.6901960784313725,
              "rgb(242,107,73)"
             ],
             [
              0.7529411764705882,
              "rgb(244,135,95)"
             ],
             [
              0.8156862745098039,
              "rgb(245,162,122)"
             ],
             [
              0.8784313725490196,
              "rgb(246,188,153)"
             ],
             [
              0.9411764705882353,
              "rgb(247,212,187)"
             ],
             [
              1,
              "rgb(250,234,220)"
             ]
            ],
            "type": "histogram2d"
           }
          ],
          "histogram2dcontour": [
           {
            "colorbar": {
             "outlinewidth": 0,
             "tickcolor": "rgb(36,36,36)",
             "ticklen": 8,
             "ticks": "outside",
             "tickwidth": 2
            },
            "colorscale": [
             [
              0,
              "rgb(2,4,25)"
             ],
             [
              0.06274509803921569,
              "rgb(24,15,41)"
             ],
             [
              0.12549019607843137,
              "rgb(47,23,57)"
             ],
             [
              0.18823529411764706,
              "rgb(71,28,72)"
             ],
             [
              0.25098039215686274,
              "rgb(97,30,82)"
             ],
             [
              0.3137254901960784,
              "rgb(123,30,89)"
             ],
             [
              0.3764705882352941,
              "rgb(150,27,91)"
             ],
             [
              0.4392156862745098,
              "rgb(177,22,88)"
             ],
             [
              0.5019607843137255,
              "rgb(203,26,79)"
             ],
             [
              0.5647058823529412,
              "rgb(223,47,67)"
             ],
             [
              0.6274509803921569,
              "rgb(236,76,61)"
             ],
             [
              0.6901960784313725,
              "rgb(242,107,73)"
             ],
             [
              0.7529411764705882,
              "rgb(244,135,95)"
             ],
             [
              0.8156862745098039,
              "rgb(245,162,122)"
             ],
             [
              0.8784313725490196,
              "rgb(246,188,153)"
             ],
             [
              0.9411764705882353,
              "rgb(247,212,187)"
             ],
             [
              1,
              "rgb(250,234,220)"
             ]
            ],
            "type": "histogram2dcontour"
           }
          ],
          "mesh3d": [
           {
            "colorbar": {
             "outlinewidth": 0,
             "tickcolor": "rgb(36,36,36)",
             "ticklen": 8,
             "ticks": "outside",
             "tickwidth": 2
            },
            "type": "mesh3d"
           }
          ],
          "parcoords": [
           {
            "line": {
             "colorbar": {
              "outlinewidth": 0,
              "tickcolor": "rgb(36,36,36)",
              "ticklen": 8,
              "ticks": "outside",
              "tickwidth": 2
             }
            },
            "type": "parcoords"
           }
          ],
          "pie": [
           {
            "automargin": true,
            "type": "pie"
           }
          ],
          "scatter": [
           {
            "marker": {
             "colorbar": {
              "outlinewidth": 0,
              "tickcolor": "rgb(36,36,36)",
              "ticklen": 8,
              "ticks": "outside",
              "tickwidth": 2
             }
            },
            "type": "scatter"
           }
          ],
          "scatter3d": [
           {
            "line": {
             "colorbar": {
              "outlinewidth": 0,
              "tickcolor": "rgb(36,36,36)",
              "ticklen": 8,
              "ticks": "outside",
              "tickwidth": 2
             }
            },
            "marker": {
             "colorbar": {
              "outlinewidth": 0,
              "tickcolor": "rgb(36,36,36)",
              "ticklen": 8,
              "ticks": "outside",
              "tickwidth": 2
             }
            },
            "type": "scatter3d"
           }
          ],
          "scattercarpet": [
           {
            "marker": {
             "colorbar": {
              "outlinewidth": 0,
              "tickcolor": "rgb(36,36,36)",
              "ticklen": 8,
              "ticks": "outside",
              "tickwidth": 2
             }
            },
            "type": "scattercarpet"
           }
          ],
          "scattergeo": [
           {
            "marker": {
             "colorbar": {
              "outlinewidth": 0,
              "tickcolor": "rgb(36,36,36)",
              "ticklen": 8,
              "ticks": "outside",
              "tickwidth": 2
             }
            },
            "type": "scattergeo"
           }
          ],
          "scattergl": [
           {
            "marker": {
             "colorbar": {
              "outlinewidth": 0,
              "tickcolor": "rgb(36,36,36)",
              "ticklen": 8,
              "ticks": "outside",
              "tickwidth": 2
             }
            },
            "type": "scattergl"
           }
          ],
          "scattermapbox": [
           {
            "marker": {
             "colorbar": {
              "outlinewidth": 0,
              "tickcolor": "rgb(36,36,36)",
              "ticklen": 8,
              "ticks": "outside",
              "tickwidth": 2
             }
            },
            "type": "scattermapbox"
           }
          ],
          "scatterpolar": [
           {
            "marker": {
             "colorbar": {
              "outlinewidth": 0,
              "tickcolor": "rgb(36,36,36)",
              "ticklen": 8,
              "ticks": "outside",
              "tickwidth": 2
             }
            },
            "type": "scatterpolar"
           }
          ],
          "scatterpolargl": [
           {
            "marker": {
             "colorbar": {
              "outlinewidth": 0,
              "tickcolor": "rgb(36,36,36)",
              "ticklen": 8,
              "ticks": "outside",
              "tickwidth": 2
             }
            },
            "type": "scatterpolargl"
           }
          ],
          "scatterternary": [
           {
            "marker": {
             "colorbar": {
              "outlinewidth": 0,
              "tickcolor": "rgb(36,36,36)",
              "ticklen": 8,
              "ticks": "outside",
              "tickwidth": 2
             }
            },
            "type": "scatterternary"
           }
          ],
          "surface": [
           {
            "colorbar": {
             "outlinewidth": 0,
             "tickcolor": "rgb(36,36,36)",
             "ticklen": 8,
             "ticks": "outside",
             "tickwidth": 2
            },
            "colorscale": [
             [
              0,
              "rgb(2,4,25)"
             ],
             [
              0.06274509803921569,
              "rgb(24,15,41)"
             ],
             [
              0.12549019607843137,
              "rgb(47,23,57)"
             ],
             [
              0.18823529411764706,
              "rgb(71,28,72)"
             ],
             [
              0.25098039215686274,
              "rgb(97,30,82)"
             ],
             [
              0.3137254901960784,
              "rgb(123,30,89)"
             ],
             [
              0.3764705882352941,
              "rgb(150,27,91)"
             ],
             [
              0.4392156862745098,
              "rgb(177,22,88)"
             ],
             [
              0.5019607843137255,
              "rgb(203,26,79)"
             ],
             [
              0.5647058823529412,
              "rgb(223,47,67)"
             ],
             [
              0.6274509803921569,
              "rgb(236,76,61)"
             ],
             [
              0.6901960784313725,
              "rgb(242,107,73)"
             ],
             [
              0.7529411764705882,
              "rgb(244,135,95)"
             ],
             [
              0.8156862745098039,
              "rgb(245,162,122)"
             ],
             [
              0.8784313725490196,
              "rgb(246,188,153)"
             ],
             [
              0.9411764705882353,
              "rgb(247,212,187)"
             ],
             [
              1,
              "rgb(250,234,220)"
             ]
            ],
            "type": "surface"
           }
          ],
          "table": [
           {
            "cells": {
             "fill": {
              "color": "rgb(231,231,240)"
             },
             "line": {
              "color": "white"
             }
            },
            "header": {
             "fill": {
              "color": "rgb(183,183,191)"
             },
             "line": {
              "color": "white"
             }
            },
            "type": "table"
           }
          ]
         },
         "layout": {
          "annotationdefaults": {
           "arrowcolor": "rgb(67,103,167)"
          },
          "autotypenumbers": "strict",
          "coloraxis": {
           "colorbar": {
            "outlinewidth": 0,
            "tickcolor": "rgb(36,36,36)",
            "ticklen": 8,
            "ticks": "outside",
            "tickwidth": 2
           }
          },
          "colorscale": {
           "sequential": [
            [
             0,
             "rgb(2,4,25)"
            ],
            [
             0.06274509803921569,
             "rgb(24,15,41)"
            ],
            [
             0.12549019607843137,
             "rgb(47,23,57)"
            ],
            [
             0.18823529411764706,
             "rgb(71,28,72)"
            ],
            [
             0.25098039215686274,
             "rgb(97,30,82)"
            ],
            [
             0.3137254901960784,
             "rgb(123,30,89)"
            ],
            [
             0.3764705882352941,
             "rgb(150,27,91)"
            ],
            [
             0.4392156862745098,
             "rgb(177,22,88)"
            ],
            [
             0.5019607843137255,
             "rgb(203,26,79)"
            ],
            [
             0.5647058823529412,
             "rgb(223,47,67)"
            ],
            [
             0.6274509803921569,
             "rgb(236,76,61)"
            ],
            [
             0.6901960784313725,
             "rgb(242,107,73)"
            ],
            [
             0.7529411764705882,
             "rgb(244,135,95)"
            ],
            [
             0.8156862745098039,
             "rgb(245,162,122)"
            ],
            [
             0.8784313725490196,
             "rgb(246,188,153)"
            ],
            [
             0.9411764705882353,
             "rgb(247,212,187)"
            ],
            [
             1,
             "rgb(250,234,220)"
            ]
           ],
           "sequentialminus": [
            [
             0,
             "rgb(2,4,25)"
            ],
            [
             0.06274509803921569,
             "rgb(24,15,41)"
            ],
            [
             0.12549019607843137,
             "rgb(47,23,57)"
            ],
            [
             0.18823529411764706,
             "rgb(71,28,72)"
            ],
            [
             0.25098039215686274,
             "rgb(97,30,82)"
            ],
            [
             0.3137254901960784,
             "rgb(123,30,89)"
            ],
            [
             0.3764705882352941,
             "rgb(150,27,91)"
            ],
            [
             0.4392156862745098,
             "rgb(177,22,88)"
            ],
            [
             0.5019607843137255,
             "rgb(203,26,79)"
            ],
            [
             0.5647058823529412,
             "rgb(223,47,67)"
            ],
            [
             0.6274509803921569,
             "rgb(236,76,61)"
            ],
            [
             0.6901960784313725,
             "rgb(242,107,73)"
            ],
            [
             0.7529411764705882,
             "rgb(244,135,95)"
            ],
            [
             0.8156862745098039,
             "rgb(245,162,122)"
            ],
            [
             0.8784313725490196,
             "rgb(246,188,153)"
            ],
            [
             0.9411764705882353,
             "rgb(247,212,187)"
            ],
            [
             1,
             "rgb(250,234,220)"
            ]
           ]
          },
          "colorway": [
           "rgb(76,114,176)",
           "rgb(221,132,82)",
           "rgb(85,168,104)",
           "rgb(196,78,82)",
           "rgb(129,114,179)",
           "rgb(147,120,96)",
           "rgb(218,139,195)",
           "rgb(140,140,140)",
           "rgb(204,185,116)",
           "rgb(100,181,205)"
          ],
          "font": {
           "color": "rgb(36,36,36)"
          },
          "geo": {
           "bgcolor": "white",
           "lakecolor": "white",
           "landcolor": "rgb(234,234,242)",
           "showlakes": true,
           "showland": true,
           "subunitcolor": "white"
          },
          "hoverlabel": {
           "align": "left"
          },
          "hovermode": "closest",
          "paper_bgcolor": "white",
          "plot_bgcolor": "rgb(234,234,242)",
          "polar": {
           "angularaxis": {
            "gridcolor": "white",
            "linecolor": "white",
            "showgrid": true,
            "ticks": ""
           },
           "bgcolor": "rgb(234,234,242)",
           "radialaxis": {
            "gridcolor": "white",
            "linecolor": "white",
            "showgrid": true,
            "ticks": ""
           }
          },
          "scene": {
           "xaxis": {
            "backgroundcolor": "rgb(234,234,242)",
            "gridcolor": "white",
            "gridwidth": 2,
            "linecolor": "white",
            "showbackground": true,
            "showgrid": true,
            "ticks": "",
            "zerolinecolor": "white"
           },
           "yaxis": {
            "backgroundcolor": "rgb(234,234,242)",
            "gridcolor": "white",
            "gridwidth": 2,
            "linecolor": "white",
            "showbackground": true,
            "showgrid": true,
            "ticks": "",
            "zerolinecolor": "white"
           },
           "zaxis": {
            "backgroundcolor": "rgb(234,234,242)",
            "gridcolor": "white",
            "gridwidth": 2,
            "linecolor": "white",
            "showbackground": true,
            "showgrid": true,
            "ticks": "",
            "zerolinecolor": "white"
           }
          },
          "shapedefaults": {
           "fillcolor": "rgb(67,103,167)",
           "line": {
            "width": 0
           },
           "opacity": 0.5
          },
          "ternary": {
           "aaxis": {
            "gridcolor": "white",
            "linecolor": "white",
            "showgrid": true,
            "ticks": ""
           },
           "baxis": {
            "gridcolor": "white",
            "linecolor": "white",
            "showgrid": true,
            "ticks": ""
           },
           "bgcolor": "rgb(234,234,242)",
           "caxis": {
            "gridcolor": "white",
            "linecolor": "white",
            "showgrid": true,
            "ticks": ""
           }
          },
          "xaxis": {
           "automargin": true,
           "gridcolor": "white",
           "linecolor": "white",
           "showgrid": true,
           "ticks": "",
           "title": {
            "standoff": 15
           },
           "zerolinecolor": "white"
          },
          "yaxis": {
           "automargin": true,
           "gridcolor": "white",
           "linecolor": "white",
           "showgrid": true,
           "ticks": "",
           "title": {
            "standoff": 15
           },
           "zerolinecolor": "white"
          }
         }
        },
        "title": {
         "text": "Current Share of South Korea COVID19 Death"
        },
        "width": 1200
       }
      }
     },
     "metadata": {}
    }
   ],
   "source": [
    "# df_deceased_grouped = df_deceased.groupby(by=['province', 'city']).count()['patient_id'].reset_index(name='counts')\n",
    "# Putting the ['patient_id'] after the count() is Bad, as it wasters the count() calculation on other columns\n",
    "\n",
    "df_deceased_grouped = df_deceased.groupby(by=['province', 'city'])['patient_id'].count().reset_index(name='counts')\n",
    "df_deceased_grouped['Country'] = 'South Korea'\n",
    "fig = px.treemap(df_deceased_grouped, path=['Country', 'province', 'city'], values = 'counts', color = 'counts',\n",
    "                color_continuous_scale='matter', title = 'Current Share of South Korea COVID19 Death')\n",
    "fig.update_layout(width=1200, height = 600, template='seaborn')\n",
    "# fig.update_layout(width=1200, height = 600)\n",
    "fig.show()"
   ]
  },
  {
   "cell_type": "code",
   "execution_count": null,
   "metadata": {},
   "outputs": [],
   "source": []
  },
  {
   "cell_type": "code",
   "execution_count": null,
   "metadata": {},
   "outputs": [],
   "source": []
  },
  {
   "cell_type": "code",
   "execution_count": 26,
   "metadata": {},
   "outputs": [
    {
     "output_type": "execute_result",
     "data": {
      "text/plain": [
       "          Date  ConfirmedCases\n",
       "0   2020-01-20               1\n",
       "1   2020-01-23               1\n",
       "2   2020-01-26               1\n",
       "3   2020-01-27               1\n",
       "4   2020-01-30               4\n",
       "..         ...             ...\n",
       "143 2020-06-26              40\n",
       "144 2020-06-27              48\n",
       "145 2020-06-28              38\n",
       "146 2020-06-29              25\n",
       "147 2020-06-30               7\n",
       "\n",
       "[148 rows x 2 columns]"
      ],
      "text/html": "<div>\n<style scoped>\n    .dataframe tbody tr th:only-of-type {\n        vertical-align: middle;\n    }\n\n    .dataframe tbody tr th {\n        vertical-align: top;\n    }\n\n    .dataframe thead th {\n        text-align: right;\n    }\n</style>\n<table border=\"1\" class=\"dataframe\">\n  <thead>\n    <tr style=\"text-align: right;\">\n      <th></th>\n      <th>Date</th>\n      <th>ConfirmedCases</th>\n    </tr>\n  </thead>\n  <tbody>\n    <tr>\n      <th>0</th>\n      <td>2020-01-20</td>\n      <td>1</td>\n    </tr>\n    <tr>\n      <th>1</th>\n      <td>2020-01-23</td>\n      <td>1</td>\n    </tr>\n    <tr>\n      <th>2</th>\n      <td>2020-01-26</td>\n      <td>1</td>\n    </tr>\n    <tr>\n      <th>3</th>\n      <td>2020-01-27</td>\n      <td>1</td>\n    </tr>\n    <tr>\n      <th>4</th>\n      <td>2020-01-30</td>\n      <td>4</td>\n    </tr>\n    <tr>\n      <th>...</th>\n      <td>...</td>\n      <td>...</td>\n    </tr>\n    <tr>\n      <th>143</th>\n      <td>2020-06-26</td>\n      <td>40</td>\n    </tr>\n    <tr>\n      <th>144</th>\n      <td>2020-06-27</td>\n      <td>48</td>\n    </tr>\n    <tr>\n      <th>145</th>\n      <td>2020-06-28</td>\n      <td>38</td>\n    </tr>\n    <tr>\n      <th>146</th>\n      <td>2020-06-29</td>\n      <td>25</td>\n    </tr>\n    <tr>\n      <th>147</th>\n      <td>2020-06-30</td>\n      <td>7</td>\n    </tr>\n  </tbody>\n</table>\n<p>148 rows × 2 columns</p>\n</div>"
     },
     "metadata": {},
     "execution_count": 26
    }
   ],
   "source": [
    "df_daily_confirm = df.groupby(by=['confirmed_date']).count()['patient_id'].reset_index(name='ConfirmedCases')\n",
    "df_daily_confirm.rename(columns={'confirmed_date':'Date'}, inplace = True)\n",
    "df_daily_confirm"
   ]
  },
  {
   "cell_type": "code",
   "execution_count": 27,
   "metadata": {},
   "outputs": [],
   "source": [
    "df_daily_death = df_deceased.groupby(by=['deceased_date']).count()['patient_id'].reset_index(name='Death')\n",
    "df_daily_death.rename(columns={'deceased_date':'Date'}, inplace = True)"
   ]
  },
  {
   "cell_type": "code",
   "execution_count": 28,
   "metadata": {},
   "outputs": [
    {
     "output_type": "execute_result",
     "data": {
      "text/plain": [
       "          Date  ConfirmedCases  Death\n",
       "0   2020-01-20               1    0.0\n",
       "1   2020-01-23               1    0.0\n",
       "2   2020-01-26               1    0.0\n",
       "3   2020-01-27               1    0.0\n",
       "4   2020-01-30               4    0.0\n",
       "..         ...             ...    ...\n",
       "143 2020-06-26              40    0.0\n",
       "144 2020-06-27              48    0.0\n",
       "145 2020-06-28              38    0.0\n",
       "146 2020-06-29              25    0.0\n",
       "147 2020-06-30               7    0.0\n",
       "\n",
       "[148 rows x 3 columns]"
      ],
      "text/html": "<div>\n<style scoped>\n    .dataframe tbody tr th:only-of-type {\n        vertical-align: middle;\n    }\n\n    .dataframe tbody tr th {\n        vertical-align: top;\n    }\n\n    .dataframe thead th {\n        text-align: right;\n    }\n</style>\n<table border=\"1\" class=\"dataframe\">\n  <thead>\n    <tr style=\"text-align: right;\">\n      <th></th>\n      <th>Date</th>\n      <th>ConfirmedCases</th>\n      <th>Death</th>\n    </tr>\n  </thead>\n  <tbody>\n    <tr>\n      <th>0</th>\n      <td>2020-01-20</td>\n      <td>1</td>\n      <td>0.0</td>\n    </tr>\n    <tr>\n      <th>1</th>\n      <td>2020-01-23</td>\n      <td>1</td>\n      <td>0.0</td>\n    </tr>\n    <tr>\n      <th>2</th>\n      <td>2020-01-26</td>\n      <td>1</td>\n      <td>0.0</td>\n    </tr>\n    <tr>\n      <th>3</th>\n      <td>2020-01-27</td>\n      <td>1</td>\n      <td>0.0</td>\n    </tr>\n    <tr>\n      <th>4</th>\n      <td>2020-01-30</td>\n      <td>4</td>\n      <td>0.0</td>\n    </tr>\n    <tr>\n      <th>...</th>\n      <td>...</td>\n      <td>...</td>\n      <td>...</td>\n    </tr>\n    <tr>\n      <th>143</th>\n      <td>2020-06-26</td>\n      <td>40</td>\n      <td>0.0</td>\n    </tr>\n    <tr>\n      <th>144</th>\n      <td>2020-06-27</td>\n      <td>48</td>\n      <td>0.0</td>\n    </tr>\n    <tr>\n      <th>145</th>\n      <td>2020-06-28</td>\n      <td>38</td>\n      <td>0.0</td>\n    </tr>\n    <tr>\n      <th>146</th>\n      <td>2020-06-29</td>\n      <td>25</td>\n      <td>0.0</td>\n    </tr>\n    <tr>\n      <th>147</th>\n      <td>2020-06-30</td>\n      <td>7</td>\n      <td>0.0</td>\n    </tr>\n  </tbody>\n</table>\n<p>148 rows × 3 columns</p>\n</div>"
     },
     "metadata": {},
     "execution_count": 28
    }
   ],
   "source": [
    "df_daily = pd.merge(df_daily_confirm, df_daily_death, on=['Date'], how = 'outer')\n",
    "df_daily.fillna(0, inplace=True)\n",
    "df_daily"
   ]
  },
  {
   "cell_type": "code",
   "execution_count": 29,
   "metadata": {},
   "outputs": [],
   "source": [
    "def draw_with_rolling_avg(df, x, y1, y2, days = 7):\n",
    "    df['cases_roll_avg'] = df[y1].rolling(days).mean()\n",
    "    df['deaths_roll_avg'] = df[y2].rolling(days).mean()\n",
    "    fig, ax = plt.subplots(figsize=(23,12))\n",
    "    sns.lineplot(x=df[x], y = df[y1], ax = ax, lw = 0.3, color = '#4285F4', label='Daily Cases', legend=False);\n",
    "    sns.lineplot(x=df[x], y = df['cases_roll_avg'], ax = ax, lw = 3, color = '#4285F4', label='7day rolling avg Cases', legend=False);\n",
    "    ax2 = ax.twinx()\n",
    "    sns.lineplot(x=df[x], y = df[y2], ax = ax2, lw = 0.3, color = '#EA4335', label='Daily Death', legend=False)\n",
    "    sns.lineplot(x=df[x], y = df['deaths_roll_avg'], ax = ax2, lw = 3, color = '#EA4335', label='7day rolling avg Death', legend=False)\n",
    "    ax.set_title('South Korea: Daily Cases & Death\\nwith 7-Day Rolling Averages', fontsize = 20)\n",
    "    ax.legend(loc='upper left')\n",
    "    ax2.legend(loc='upper right')\n"
   ]
  },
  {
   "cell_type": "code",
   "execution_count": 30,
   "metadata": {},
   "outputs": [
    {
     "output_type": "display_data",
     "data": {
      "text/plain": "<Figure size 1656x864 with 2 Axes>",
      "image/svg+xml": "<?xml version=\"1.0\" encoding=\"utf-8\" standalone=\"no\"?>\r\n<!DOCTYPE svg PUBLIC \"-//W3C//DTD SVG 1.1//EN\"\r\n  \"http://www.w3.org/Graphics/SVG/1.1/DTD/svg11.dtd\">\r\n<svg height=\"740.66875pt\" version=\"1.1\" viewBox=\"0 0 1374.146875 740.66875\" width=\"1374.146875pt\" xmlns=\"http://www.w3.org/2000/svg\" xmlns:xlink=\"http://www.w3.org/1999/xlink\">\r\n <metadata>\r\n  <rdf:RDF xmlns:cc=\"http://creativecommons.org/ns#\" xmlns:dc=\"http://purl.org/dc/elements/1.1/\" xmlns:rdf=\"http://www.w3.org/1999/02/22-rdf-syntax-ns#\">\r\n   <cc:Work>\r\n    <dc:type rdf:resource=\"http://purl.org/dc/dcmitype/StillImage\"/>\r\n    <dc:date>2021-04-18T18:58:23.492797</dc:date>\r\n    <dc:format>image/svg+xml</dc:format>\r\n    <dc:creator>\r\n     <cc:Agent>\r\n      <dc:title>Matplotlib v3.4.0, https://matplotlib.org/</dc:title>\r\n     </cc:Agent>\r\n    </dc:creator>\r\n   </cc:Work>\r\n  </rdf:RDF>\r\n </metadata>\r\n <defs>\r\n  <style type=\"text/css\">*{stroke-linecap:butt;stroke-linejoin:round;}</style>\r\n </defs>\r\n <g id=\"figure_1\">\r\n  <g id=\"patch_1\">\r\n   <path d=\"M 0 740.66875 \r\nL 1374.146875 740.66875 \r\nL 1374.146875 0 \r\nL 0 0 \r\nz\r\n\" style=\"fill:none;\"/>\r\n  </g>\r\n  <g id=\"axes_1\">\r\n   <g id=\"patch_2\">\r\n    <path d=\"M 46.965625 703.1125 \r\nL 1330.365625 703.1125 \r\nL 1330.365625 50.7925 \r\nL 46.965625 50.7925 \r\nz\r\n\" style=\"fill:#ffffff;\"/>\r\n   </g>\r\n   <g id=\"matplotlib.axis_1\">\r\n    <g id=\"xtick_1\">\r\n     <g id=\"line2d_1\">\r\n      <defs>\r\n       <path d=\"M 0 0 \r\nL 0 3.5 \r\n\" id=\"mc19ff85217\" style=\"stroke:#000000;stroke-width:0.8;\"/>\r\n      </defs>\r\n      <g>\r\n       <use style=\"stroke:#000000;stroke-width:0.8;\" x=\"191.726231\" xlink:href=\"#mc19ff85217\" y=\"703.1125\"/>\r\n      </g>\r\n     </g>\r\n     <g id=\"text_1\">\r\n      <!-- 2020-02 -->\r\n      <g transform=\"translate(170.834825 717.710938)scale(0.1 -0.1)\">\r\n       <defs>\r\n        <path d=\"M 1228 531 \r\nL 3431 531 \r\nL 3431 0 \r\nL 469 0 \r\nL 469 531 \r\nQ 828 903 1448 1529 \r\nQ 2069 2156 2228 2338 \r\nQ 2531 2678 2651 2914 \r\nQ 2772 3150 2772 3378 \r\nQ 2772 3750 2511 3984 \r\nQ 2250 4219 1831 4219 \r\nQ 1534 4219 1204 4116 \r\nQ 875 4013 500 3803 \r\nL 500 4441 \r\nQ 881 4594 1212 4672 \r\nQ 1544 4750 1819 4750 \r\nQ 2544 4750 2975 4387 \r\nQ 3406 4025 3406 3419 \r\nQ 3406 3131 3298 2873 \r\nQ 3191 2616 2906 2266 \r\nQ 2828 2175 2409 1742 \r\nQ 1991 1309 1228 531 \r\nz\r\n\" id=\"DejaVuSans-32\" transform=\"scale(0.015625)\"/>\r\n        <path d=\"M 2034 4250 \r\nQ 1547 4250 1301 3770 \r\nQ 1056 3291 1056 2328 \r\nQ 1056 1369 1301 889 \r\nQ 1547 409 2034 409 \r\nQ 2525 409 2770 889 \r\nQ 3016 1369 3016 2328 \r\nQ 3016 3291 2770 3770 \r\nQ 2525 4250 2034 4250 \r\nz\r\nM 2034 4750 \r\nQ 2819 4750 3233 4129 \r\nQ 3647 3509 3647 2328 \r\nQ 3647 1150 3233 529 \r\nQ 2819 -91 2034 -91 \r\nQ 1250 -91 836 529 \r\nQ 422 1150 422 2328 \r\nQ 422 3509 836 4129 \r\nQ 1250 4750 2034 4750 \r\nz\r\n\" id=\"DejaVuSans-30\" transform=\"scale(0.015625)\"/>\r\n        <path d=\"M 313 2009 \r\nL 1997 2009 \r\nL 1997 1497 \r\nL 313 1497 \r\nL 313 2009 \r\nz\r\n\" id=\"DejaVuSans-2d\" transform=\"scale(0.015625)\"/>\r\n       </defs>\r\n       <use xlink:href=\"#DejaVuSans-32\"/>\r\n       <use x=\"63.623047\" xlink:href=\"#DejaVuSans-30\"/>\r\n       <use x=\"127.246094\" xlink:href=\"#DejaVuSans-32\"/>\r\n       <use x=\"190.869141\" xlink:href=\"#DejaVuSans-30\"/>\r\n       <use x=\"254.492188\" xlink:href=\"#DejaVuSans-2d\"/>\r\n       <use x=\"290.576172\" xlink:href=\"#DejaVuSans-30\"/>\r\n       <use x=\"354.199219\" xlink:href=\"#DejaVuSans-32\"/>\r\n      </g>\r\n     </g>\r\n    </g>\r\n    <g id=\"xtick_2\">\r\n     <g id=\"line2d_2\">\r\n      <g>\r\n       <use style=\"stroke:#000000;stroke-width:0.8;\" x=\"400.584817\" xlink:href=\"#mc19ff85217\" y=\"703.1125\"/>\r\n      </g>\r\n     </g>\r\n     <g id=\"text_2\">\r\n      <!-- 2020-03 -->\r\n      <g transform=\"translate(379.693411 717.710938)scale(0.1 -0.1)\">\r\n       <defs>\r\n        <path d=\"M 2597 2516 \r\nQ 3050 2419 3304 2112 \r\nQ 3559 1806 3559 1356 \r\nQ 3559 666 3084 287 \r\nQ 2609 -91 1734 -91 \r\nQ 1441 -91 1130 -33 \r\nQ 819 25 488 141 \r\nL 488 750 \r\nQ 750 597 1062 519 \r\nQ 1375 441 1716 441 \r\nQ 2309 441 2620 675 \r\nQ 2931 909 2931 1356 \r\nQ 2931 1769 2642 2001 \r\nQ 2353 2234 1838 2234 \r\nL 1294 2234 \r\nL 1294 2753 \r\nL 1863 2753 \r\nQ 2328 2753 2575 2939 \r\nQ 2822 3125 2822 3475 \r\nQ 2822 3834 2567 4026 \r\nQ 2313 4219 1838 4219 \r\nQ 1578 4219 1281 4162 \r\nQ 984 4106 628 3988 \r\nL 628 4550 \r\nQ 988 4650 1302 4700 \r\nQ 1616 4750 1894 4750 \r\nQ 2613 4750 3031 4423 \r\nQ 3450 4097 3450 3541 \r\nQ 3450 3153 3228 2886 \r\nQ 3006 2619 2597 2516 \r\nz\r\n\" id=\"DejaVuSans-33\" transform=\"scale(0.015625)\"/>\r\n       </defs>\r\n       <use xlink:href=\"#DejaVuSans-32\"/>\r\n       <use x=\"63.623047\" xlink:href=\"#DejaVuSans-30\"/>\r\n       <use x=\"127.246094\" xlink:href=\"#DejaVuSans-32\"/>\r\n       <use x=\"190.869141\" xlink:href=\"#DejaVuSans-30\"/>\r\n       <use x=\"254.492188\" xlink:href=\"#DejaVuSans-2d\"/>\r\n       <use x=\"290.576172\" xlink:href=\"#DejaVuSans-30\"/>\r\n       <use x=\"354.199219\" xlink:href=\"#DejaVuSans-33\"/>\r\n      </g>\r\n     </g>\r\n    </g>\r\n    <g id=\"xtick_3\">\r\n     <g id=\"line2d_3\">\r\n      <g>\r\n       <use style=\"stroke:#000000;stroke-width:0.8;\" x=\"623.847443\" xlink:href=\"#mc19ff85217\" y=\"703.1125\"/>\r\n      </g>\r\n     </g>\r\n     <g id=\"text_3\">\r\n      <!-- 2020-04 -->\r\n      <g transform=\"translate(602.956037 717.710938)scale(0.1 -0.1)\">\r\n       <defs>\r\n        <path d=\"M 2419 4116 \r\nL 825 1625 \r\nL 2419 1625 \r\nL 2419 4116 \r\nz\r\nM 2253 4666 \r\nL 3047 4666 \r\nL 3047 1625 \r\nL 3713 1625 \r\nL 3713 1100 \r\nL 3047 1100 \r\nL 3047 0 \r\nL 2419 0 \r\nL 2419 1100 \r\nL 313 1100 \r\nL 313 1709 \r\nL 2253 4666 \r\nz\r\n\" id=\"DejaVuSans-34\" transform=\"scale(0.015625)\"/>\r\n       </defs>\r\n       <use xlink:href=\"#DejaVuSans-32\"/>\r\n       <use x=\"63.623047\" xlink:href=\"#DejaVuSans-30\"/>\r\n       <use x=\"127.246094\" xlink:href=\"#DejaVuSans-32\"/>\r\n       <use x=\"190.869141\" xlink:href=\"#DejaVuSans-30\"/>\r\n       <use x=\"254.492188\" xlink:href=\"#DejaVuSans-2d\"/>\r\n       <use x=\"290.576172\" xlink:href=\"#DejaVuSans-30\"/>\r\n       <use x=\"354.199219\" xlink:href=\"#DejaVuSans-34\"/>\r\n      </g>\r\n     </g>\r\n    </g>\r\n    <g id=\"xtick_4\">\r\n     <g id=\"line2d_4\">\r\n      <g>\r\n       <use style=\"stroke:#000000;stroke-width:0.8;\" x=\"839.908049\" xlink:href=\"#mc19ff85217\" y=\"703.1125\"/>\r\n      </g>\r\n     </g>\r\n     <g id=\"text_4\">\r\n      <!-- 2020-05 -->\r\n      <g transform=\"translate(819.016643 717.710938)scale(0.1 -0.1)\">\r\n       <defs>\r\n        <path d=\"M 691 4666 \r\nL 3169 4666 \r\nL 3169 4134 \r\nL 1269 4134 \r\nL 1269 2991 \r\nQ 1406 3038 1543 3061 \r\nQ 1681 3084 1819 3084 \r\nQ 2600 3084 3056 2656 \r\nQ 3513 2228 3513 1497 \r\nQ 3513 744 3044 326 \r\nQ 2575 -91 1722 -91 \r\nQ 1428 -91 1123 -41 \r\nQ 819 9 494 109 \r\nL 494 744 \r\nQ 775 591 1075 516 \r\nQ 1375 441 1709 441 \r\nQ 2250 441 2565 725 \r\nQ 2881 1009 2881 1497 \r\nQ 2881 1984 2565 2268 \r\nQ 2250 2553 1709 2553 \r\nQ 1456 2553 1204 2497 \r\nQ 953 2441 691 2322 \r\nL 691 4666 \r\nz\r\n\" id=\"DejaVuSans-35\" transform=\"scale(0.015625)\"/>\r\n       </defs>\r\n       <use xlink:href=\"#DejaVuSans-32\"/>\r\n       <use x=\"63.623047\" xlink:href=\"#DejaVuSans-30\"/>\r\n       <use x=\"127.246094\" xlink:href=\"#DejaVuSans-32\"/>\r\n       <use x=\"190.869141\" xlink:href=\"#DejaVuSans-30\"/>\r\n       <use x=\"254.492188\" xlink:href=\"#DejaVuSans-2d\"/>\r\n       <use x=\"290.576172\" xlink:href=\"#DejaVuSans-30\"/>\r\n       <use x=\"354.199219\" xlink:href=\"#DejaVuSans-35\"/>\r\n      </g>\r\n     </g>\r\n    </g>\r\n    <g id=\"xtick_5\">\r\n     <g id=\"line2d_5\">\r\n      <g>\r\n       <use style=\"stroke:#000000;stroke-width:0.8;\" x=\"1063.170676\" xlink:href=\"#mc19ff85217\" y=\"703.1125\"/>\r\n      </g>\r\n     </g>\r\n     <g id=\"text_5\">\r\n      <!-- 2020-06 -->\r\n      <g transform=\"translate(1042.279269 717.710938)scale(0.1 -0.1)\">\r\n       <defs>\r\n        <path d=\"M 2113 2584 \r\nQ 1688 2584 1439 2293 \r\nQ 1191 2003 1191 1497 \r\nQ 1191 994 1439 701 \r\nQ 1688 409 2113 409 \r\nQ 2538 409 2786 701 \r\nQ 3034 994 3034 1497 \r\nQ 3034 2003 2786 2293 \r\nQ 2538 2584 2113 2584 \r\nz\r\nM 3366 4563 \r\nL 3366 3988 \r\nQ 3128 4100 2886 4159 \r\nQ 2644 4219 2406 4219 \r\nQ 1781 4219 1451 3797 \r\nQ 1122 3375 1075 2522 \r\nQ 1259 2794 1537 2939 \r\nQ 1816 3084 2150 3084 \r\nQ 2853 3084 3261 2657 \r\nQ 3669 2231 3669 1497 \r\nQ 3669 778 3244 343 \r\nQ 2819 -91 2113 -91 \r\nQ 1303 -91 875 529 \r\nQ 447 1150 447 2328 \r\nQ 447 3434 972 4092 \r\nQ 1497 4750 2381 4750 \r\nQ 2619 4750 2861 4703 \r\nQ 3103 4656 3366 4563 \r\nz\r\n\" id=\"DejaVuSans-36\" transform=\"scale(0.015625)\"/>\r\n       </defs>\r\n       <use xlink:href=\"#DejaVuSans-32\"/>\r\n       <use x=\"63.623047\" xlink:href=\"#DejaVuSans-30\"/>\r\n       <use x=\"127.246094\" xlink:href=\"#DejaVuSans-32\"/>\r\n       <use x=\"190.869141\" xlink:href=\"#DejaVuSans-30\"/>\r\n       <use x=\"254.492188\" xlink:href=\"#DejaVuSans-2d\"/>\r\n       <use x=\"290.576172\" xlink:href=\"#DejaVuSans-30\"/>\r\n       <use x=\"354.199219\" xlink:href=\"#DejaVuSans-36\"/>\r\n      </g>\r\n     </g>\r\n    </g>\r\n    <g id=\"xtick_6\">\r\n     <g id=\"line2d_6\">\r\n      <g>\r\n       <use style=\"stroke:#000000;stroke-width:0.8;\" x=\"1279.231282\" xlink:href=\"#mc19ff85217\" y=\"703.1125\"/>\r\n      </g>\r\n     </g>\r\n     <g id=\"text_6\">\r\n      <!-- 2020-07 -->\r\n      <g transform=\"translate(1258.339875 717.710938)scale(0.1 -0.1)\">\r\n       <defs>\r\n        <path d=\"M 525 4666 \r\nL 3525 4666 \r\nL 3525 4397 \r\nL 1831 0 \r\nL 1172 0 \r\nL 2766 4134 \r\nL 525 4134 \r\nL 525 4666 \r\nz\r\n\" id=\"DejaVuSans-37\" transform=\"scale(0.015625)\"/>\r\n       </defs>\r\n       <use xlink:href=\"#DejaVuSans-32\"/>\r\n       <use x=\"63.623047\" xlink:href=\"#DejaVuSans-30\"/>\r\n       <use x=\"127.246094\" xlink:href=\"#DejaVuSans-32\"/>\r\n       <use x=\"190.869141\" xlink:href=\"#DejaVuSans-30\"/>\r\n       <use x=\"254.492188\" xlink:href=\"#DejaVuSans-2d\"/>\r\n       <use x=\"290.576172\" xlink:href=\"#DejaVuSans-30\"/>\r\n       <use x=\"354.199219\" xlink:href=\"#DejaVuSans-37\"/>\r\n      </g>\r\n     </g>\r\n    </g>\r\n    <g id=\"text_7\">\r\n     <!-- Date -->\r\n     <g transform=\"translate(676.714844 731.389062)scale(0.1 -0.1)\">\r\n      <defs>\r\n       <path d=\"M 1259 4147 \r\nL 1259 519 \r\nL 2022 519 \r\nQ 2988 519 3436 956 \r\nQ 3884 1394 3884 2338 \r\nQ 3884 3275 3436 3711 \r\nQ 2988 4147 2022 4147 \r\nL 1259 4147 \r\nz\r\nM 628 4666 \r\nL 1925 4666 \r\nQ 3281 4666 3915 4102 \r\nQ 4550 3538 4550 2338 \r\nQ 4550 1131 3912 565 \r\nQ 3275 0 1925 0 \r\nL 628 0 \r\nL 628 4666 \r\nz\r\n\" id=\"DejaVuSans-44\" transform=\"scale(0.015625)\"/>\r\n       <path d=\"M 2194 1759 \r\nQ 1497 1759 1228 1600 \r\nQ 959 1441 959 1056 \r\nQ 959 750 1161 570 \r\nQ 1363 391 1709 391 \r\nQ 2188 391 2477 730 \r\nQ 2766 1069 2766 1631 \r\nL 2766 1759 \r\nL 2194 1759 \r\nz\r\nM 3341 1997 \r\nL 3341 0 \r\nL 2766 0 \r\nL 2766 531 \r\nQ 2569 213 2275 61 \r\nQ 1981 -91 1556 -91 \r\nQ 1019 -91 701 211 \r\nQ 384 513 384 1019 \r\nQ 384 1609 779 1909 \r\nQ 1175 2209 1959 2209 \r\nL 2766 2209 \r\nL 2766 2266 \r\nQ 2766 2663 2505 2880 \r\nQ 2244 3097 1772 3097 \r\nQ 1472 3097 1187 3025 \r\nQ 903 2953 641 2809 \r\nL 641 3341 \r\nQ 956 3463 1253 3523 \r\nQ 1550 3584 1831 3584 \r\nQ 2591 3584 2966 3190 \r\nQ 3341 2797 3341 1997 \r\nz\r\n\" id=\"DejaVuSans-61\" transform=\"scale(0.015625)\"/>\r\n       <path d=\"M 1172 4494 \r\nL 1172 3500 \r\nL 2356 3500 \r\nL 2356 3053 \r\nL 1172 3053 \r\nL 1172 1153 \r\nQ 1172 725 1289 603 \r\nQ 1406 481 1766 481 \r\nL 2356 481 \r\nL 2356 0 \r\nL 1766 0 \r\nQ 1100 0 847 248 \r\nQ 594 497 594 1153 \r\nL 594 3053 \r\nL 172 3053 \r\nL 172 3500 \r\nL 594 3500 \r\nL 594 4494 \r\nL 1172 4494 \r\nz\r\n\" id=\"DejaVuSans-74\" transform=\"scale(0.015625)\"/>\r\n       <path d=\"M 3597 1894 \r\nL 3597 1613 \r\nL 953 1613 \r\nQ 991 1019 1311 708 \r\nQ 1631 397 2203 397 \r\nQ 2534 397 2845 478 \r\nQ 3156 559 3463 722 \r\nL 3463 178 \r\nQ 3153 47 2828 -22 \r\nQ 2503 -91 2169 -91 \r\nQ 1331 -91 842 396 \r\nQ 353 884 353 1716 \r\nQ 353 2575 817 3079 \r\nQ 1281 3584 2069 3584 \r\nQ 2775 3584 3186 3129 \r\nQ 3597 2675 3597 1894 \r\nz\r\nM 3022 2063 \r\nQ 3016 2534 2758 2815 \r\nQ 2500 3097 2075 3097 \r\nQ 1594 3097 1305 2825 \r\nQ 1016 2553 972 2059 \r\nL 3022 2063 \r\nz\r\n\" id=\"DejaVuSans-65\" transform=\"scale(0.015625)\"/>\r\n      </defs>\r\n      <use xlink:href=\"#DejaVuSans-44\"/>\r\n      <use x=\"77.001953\" xlink:href=\"#DejaVuSans-61\"/>\r\n      <use x=\"138.28125\" xlink:href=\"#DejaVuSans-74\"/>\r\n      <use x=\"177.490234\" xlink:href=\"#DejaVuSans-65\"/>\r\n     </g>\r\n    </g>\r\n   </g>\r\n   <g id=\"matplotlib.axis_2\">\r\n    <g id=\"ytick_1\">\r\n     <g id=\"line2d_7\">\r\n      <defs>\r\n       <path d=\"M 0 0 \r\nL -3.5 0 \r\n\" id=\"m8d055cafd1\" style=\"stroke:#000000;stroke-width:0.8;\"/>\r\n      </defs>\r\n      <g>\r\n       <use style=\"stroke:#000000;stroke-width:0.8;\" x=\"46.965625\" xlink:href=\"#m8d055cafd1\" y=\"677.579773\"/>\r\n      </g>\r\n     </g>\r\n     <g id=\"text_8\">\r\n      <!-- 0 -->\r\n      <g transform=\"translate(33.603125 681.378991)scale(0.1 -0.1)\">\r\n       <use xlink:href=\"#DejaVuSans-30\"/>\r\n      </g>\r\n     </g>\r\n    </g>\r\n    <g id=\"ytick_2\">\r\n     <g id=\"line2d_8\">\r\n      <g>\r\n       <use style=\"stroke:#000000;stroke-width:0.8;\" x=\"46.965625\" xlink:href=\"#m8d055cafd1\" y=\"595.216136\"/>\r\n      </g>\r\n     </g>\r\n     <g id=\"text_9\">\r\n      <!-- 20 -->\r\n      <g transform=\"translate(27.240625 599.015355)scale(0.1 -0.1)\">\r\n       <use xlink:href=\"#DejaVuSans-32\"/>\r\n       <use x=\"63.623047\" xlink:href=\"#DejaVuSans-30\"/>\r\n      </g>\r\n     </g>\r\n    </g>\r\n    <g id=\"ytick_3\">\r\n     <g id=\"line2d_9\">\r\n      <g>\r\n       <use style=\"stroke:#000000;stroke-width:0.8;\" x=\"46.965625\" xlink:href=\"#m8d055cafd1\" y=\"512.8525\"/>\r\n      </g>\r\n     </g>\r\n     <g id=\"text_10\">\r\n      <!-- 40 -->\r\n      <g transform=\"translate(27.240625 516.651719)scale(0.1 -0.1)\">\r\n       <use xlink:href=\"#DejaVuSans-34\"/>\r\n       <use x=\"63.623047\" xlink:href=\"#DejaVuSans-30\"/>\r\n      </g>\r\n     </g>\r\n    </g>\r\n    <g id=\"ytick_4\">\r\n     <g id=\"line2d_10\">\r\n      <g>\r\n       <use style=\"stroke:#000000;stroke-width:0.8;\" x=\"46.965625\" xlink:href=\"#m8d055cafd1\" y=\"430.488864\"/>\r\n      </g>\r\n     </g>\r\n     <g id=\"text_11\">\r\n      <!-- 60 -->\r\n      <g transform=\"translate(27.240625 434.288082)scale(0.1 -0.1)\">\r\n       <use xlink:href=\"#DejaVuSans-36\"/>\r\n       <use x=\"63.623047\" xlink:href=\"#DejaVuSans-30\"/>\r\n      </g>\r\n     </g>\r\n    </g>\r\n    <g id=\"ytick_5\">\r\n     <g id=\"line2d_11\">\r\n      <g>\r\n       <use style=\"stroke:#000000;stroke-width:0.8;\" x=\"46.965625\" xlink:href=\"#m8d055cafd1\" y=\"348.125227\"/>\r\n      </g>\r\n     </g>\r\n     <g id=\"text_12\">\r\n      <!-- 80 -->\r\n      <g transform=\"translate(27.240625 351.924446)scale(0.1 -0.1)\">\r\n       <defs>\r\n        <path d=\"M 2034 2216 \r\nQ 1584 2216 1326 1975 \r\nQ 1069 1734 1069 1313 \r\nQ 1069 891 1326 650 \r\nQ 1584 409 2034 409 \r\nQ 2484 409 2743 651 \r\nQ 3003 894 3003 1313 \r\nQ 3003 1734 2745 1975 \r\nQ 2488 2216 2034 2216 \r\nz\r\nM 1403 2484 \r\nQ 997 2584 770 2862 \r\nQ 544 3141 544 3541 \r\nQ 544 4100 942 4425 \r\nQ 1341 4750 2034 4750 \r\nQ 2731 4750 3128 4425 \r\nQ 3525 4100 3525 3541 \r\nQ 3525 3141 3298 2862 \r\nQ 3072 2584 2669 2484 \r\nQ 3125 2378 3379 2068 \r\nQ 3634 1759 3634 1313 \r\nQ 3634 634 3220 271 \r\nQ 2806 -91 2034 -91 \r\nQ 1263 -91 848 271 \r\nQ 434 634 434 1313 \r\nQ 434 1759 690 2068 \r\nQ 947 2378 1403 2484 \r\nz\r\nM 1172 3481 \r\nQ 1172 3119 1398 2916 \r\nQ 1625 2713 2034 2713 \r\nQ 2441 2713 2670 2916 \r\nQ 2900 3119 2900 3481 \r\nQ 2900 3844 2670 4047 \r\nQ 2441 4250 2034 4250 \r\nQ 1625 4250 1398 4047 \r\nQ 1172 3844 1172 3481 \r\nz\r\n\" id=\"DejaVuSans-38\" transform=\"scale(0.015625)\"/>\r\n       </defs>\r\n       <use xlink:href=\"#DejaVuSans-38\"/>\r\n       <use x=\"63.623047\" xlink:href=\"#DejaVuSans-30\"/>\r\n      </g>\r\n     </g>\r\n    </g>\r\n    <g id=\"ytick_6\">\r\n     <g id=\"line2d_12\">\r\n      <g>\r\n       <use style=\"stroke:#000000;stroke-width:0.8;\" x=\"46.965625\" xlink:href=\"#m8d055cafd1\" y=\"265.761591\"/>\r\n      </g>\r\n     </g>\r\n     <g id=\"text_13\">\r\n      <!-- 100 -->\r\n      <g transform=\"translate(20.878125 269.56081)scale(0.1 -0.1)\">\r\n       <defs>\r\n        <path d=\"M 794 531 \r\nL 1825 531 \r\nL 1825 4091 \r\nL 703 3866 \r\nL 703 4441 \r\nL 1819 4666 \r\nL 2450 4666 \r\nL 2450 531 \r\nL 3481 531 \r\nL 3481 0 \r\nL 794 0 \r\nL 794 531 \r\nz\r\n\" id=\"DejaVuSans-31\" transform=\"scale(0.015625)\"/>\r\n       </defs>\r\n       <use xlink:href=\"#DejaVuSans-31\"/>\r\n       <use x=\"63.623047\" xlink:href=\"#DejaVuSans-30\"/>\r\n       <use x=\"127.246094\" xlink:href=\"#DejaVuSans-30\"/>\r\n      </g>\r\n     </g>\r\n    </g>\r\n    <g id=\"ytick_7\">\r\n     <g id=\"line2d_13\">\r\n      <g>\r\n       <use style=\"stroke:#000000;stroke-width:0.8;\" x=\"46.965625\" xlink:href=\"#m8d055cafd1\" y=\"183.397955\"/>\r\n      </g>\r\n     </g>\r\n     <g id=\"text_14\">\r\n      <!-- 120 -->\r\n      <g transform=\"translate(20.878125 187.197173)scale(0.1 -0.1)\">\r\n       <use xlink:href=\"#DejaVuSans-31\"/>\r\n       <use x=\"63.623047\" xlink:href=\"#DejaVuSans-32\"/>\r\n       <use x=\"127.246094\" xlink:href=\"#DejaVuSans-30\"/>\r\n      </g>\r\n     </g>\r\n    </g>\r\n    <g id=\"ytick_8\">\r\n     <g id=\"line2d_14\">\r\n      <g>\r\n       <use style=\"stroke:#000000;stroke-width:0.8;\" x=\"46.965625\" xlink:href=\"#m8d055cafd1\" y=\"101.034318\"/>\r\n      </g>\r\n     </g>\r\n     <g id=\"text_15\">\r\n      <!-- 140 -->\r\n      <g transform=\"translate(20.878125 104.833537)scale(0.1 -0.1)\">\r\n       <use xlink:href=\"#DejaVuSans-31\"/>\r\n       <use x=\"63.623047\" xlink:href=\"#DejaVuSans-34\"/>\r\n       <use x=\"127.246094\" xlink:href=\"#DejaVuSans-30\"/>\r\n      </g>\r\n     </g>\r\n    </g>\r\n    <g id=\"text_16\">\r\n     <!-- ConfirmedCases -->\r\n     <g transform=\"translate(14.798438 417.751719)rotate(-90)scale(0.1 -0.1)\">\r\n      <defs>\r\n       <path d=\"M 4122 4306 \r\nL 4122 3641 \r\nQ 3803 3938 3442 4084 \r\nQ 3081 4231 2675 4231 \r\nQ 1875 4231 1450 3742 \r\nQ 1025 3253 1025 2328 \r\nQ 1025 1406 1450 917 \r\nQ 1875 428 2675 428 \r\nQ 3081 428 3442 575 \r\nQ 3803 722 4122 1019 \r\nL 4122 359 \r\nQ 3791 134 3420 21 \r\nQ 3050 -91 2638 -91 \r\nQ 1578 -91 968 557 \r\nQ 359 1206 359 2328 \r\nQ 359 3453 968 4101 \r\nQ 1578 4750 2638 4750 \r\nQ 3056 4750 3426 4639 \r\nQ 3797 4528 4122 4306 \r\nz\r\n\" id=\"DejaVuSans-43\" transform=\"scale(0.015625)\"/>\r\n       <path d=\"M 1959 3097 \r\nQ 1497 3097 1228 2736 \r\nQ 959 2375 959 1747 \r\nQ 959 1119 1226 758 \r\nQ 1494 397 1959 397 \r\nQ 2419 397 2687 759 \r\nQ 2956 1122 2956 1747 \r\nQ 2956 2369 2687 2733 \r\nQ 2419 3097 1959 3097 \r\nz\r\nM 1959 3584 \r\nQ 2709 3584 3137 3096 \r\nQ 3566 2609 3566 1747 \r\nQ 3566 888 3137 398 \r\nQ 2709 -91 1959 -91 \r\nQ 1206 -91 779 398 \r\nQ 353 888 353 1747 \r\nQ 353 2609 779 3096 \r\nQ 1206 3584 1959 3584 \r\nz\r\n\" id=\"DejaVuSans-6f\" transform=\"scale(0.015625)\"/>\r\n       <path d=\"M 3513 2113 \r\nL 3513 0 \r\nL 2938 0 \r\nL 2938 2094 \r\nQ 2938 2591 2744 2837 \r\nQ 2550 3084 2163 3084 \r\nQ 1697 3084 1428 2787 \r\nQ 1159 2491 1159 1978 \r\nL 1159 0 \r\nL 581 0 \r\nL 581 3500 \r\nL 1159 3500 \r\nL 1159 2956 \r\nQ 1366 3272 1645 3428 \r\nQ 1925 3584 2291 3584 \r\nQ 2894 3584 3203 3211 \r\nQ 3513 2838 3513 2113 \r\nz\r\n\" id=\"DejaVuSans-6e\" transform=\"scale(0.015625)\"/>\r\n       <path d=\"M 2375 4863 \r\nL 2375 4384 \r\nL 1825 4384 \r\nQ 1516 4384 1395 4259 \r\nQ 1275 4134 1275 3809 \r\nL 1275 3500 \r\nL 2222 3500 \r\nL 2222 3053 \r\nL 1275 3053 \r\nL 1275 0 \r\nL 697 0 \r\nL 697 3053 \r\nL 147 3053 \r\nL 147 3500 \r\nL 697 3500 \r\nL 697 3744 \r\nQ 697 4328 969 4595 \r\nQ 1241 4863 1831 4863 \r\nL 2375 4863 \r\nz\r\n\" id=\"DejaVuSans-66\" transform=\"scale(0.015625)\"/>\r\n       <path d=\"M 603 3500 \r\nL 1178 3500 \r\nL 1178 0 \r\nL 603 0 \r\nL 603 3500 \r\nz\r\nM 603 4863 \r\nL 1178 4863 \r\nL 1178 4134 \r\nL 603 4134 \r\nL 603 4863 \r\nz\r\n\" id=\"DejaVuSans-69\" transform=\"scale(0.015625)\"/>\r\n       <path d=\"M 2631 2963 \r\nQ 2534 3019 2420 3045 \r\nQ 2306 3072 2169 3072 \r\nQ 1681 3072 1420 2755 \r\nQ 1159 2438 1159 1844 \r\nL 1159 0 \r\nL 581 0 \r\nL 581 3500 \r\nL 1159 3500 \r\nL 1159 2956 \r\nQ 1341 3275 1631 3429 \r\nQ 1922 3584 2338 3584 \r\nQ 2397 3584 2469 3576 \r\nQ 2541 3569 2628 3553 \r\nL 2631 2963 \r\nz\r\n\" id=\"DejaVuSans-72\" transform=\"scale(0.015625)\"/>\r\n       <path d=\"M 3328 2828 \r\nQ 3544 3216 3844 3400 \r\nQ 4144 3584 4550 3584 \r\nQ 5097 3584 5394 3201 \r\nQ 5691 2819 5691 2113 \r\nL 5691 0 \r\nL 5113 0 \r\nL 5113 2094 \r\nQ 5113 2597 4934 2840 \r\nQ 4756 3084 4391 3084 \r\nQ 3944 3084 3684 2787 \r\nQ 3425 2491 3425 1978 \r\nL 3425 0 \r\nL 2847 0 \r\nL 2847 2094 \r\nQ 2847 2600 2669 2842 \r\nQ 2491 3084 2119 3084 \r\nQ 1678 3084 1418 2786 \r\nQ 1159 2488 1159 1978 \r\nL 1159 0 \r\nL 581 0 \r\nL 581 3500 \r\nL 1159 3500 \r\nL 1159 2956 \r\nQ 1356 3278 1631 3431 \r\nQ 1906 3584 2284 3584 \r\nQ 2666 3584 2933 3390 \r\nQ 3200 3197 3328 2828 \r\nz\r\n\" id=\"DejaVuSans-6d\" transform=\"scale(0.015625)\"/>\r\n       <path d=\"M 2906 2969 \r\nL 2906 4863 \r\nL 3481 4863 \r\nL 3481 0 \r\nL 2906 0 \r\nL 2906 525 \r\nQ 2725 213 2448 61 \r\nQ 2172 -91 1784 -91 \r\nQ 1150 -91 751 415 \r\nQ 353 922 353 1747 \r\nQ 353 2572 751 3078 \r\nQ 1150 3584 1784 3584 \r\nQ 2172 3584 2448 3432 \r\nQ 2725 3281 2906 2969 \r\nz\r\nM 947 1747 \r\nQ 947 1113 1208 752 \r\nQ 1469 391 1925 391 \r\nQ 2381 391 2643 752 \r\nQ 2906 1113 2906 1747 \r\nQ 2906 2381 2643 2742 \r\nQ 2381 3103 1925 3103 \r\nQ 1469 3103 1208 2742 \r\nQ 947 2381 947 1747 \r\nz\r\n\" id=\"DejaVuSans-64\" transform=\"scale(0.015625)\"/>\r\n       <path d=\"M 2834 3397 \r\nL 2834 2853 \r\nQ 2591 2978 2328 3040 \r\nQ 2066 3103 1784 3103 \r\nQ 1356 3103 1142 2972 \r\nQ 928 2841 928 2578 \r\nQ 928 2378 1081 2264 \r\nQ 1234 2150 1697 2047 \r\nL 1894 2003 \r\nQ 2506 1872 2764 1633 \r\nQ 3022 1394 3022 966 \r\nQ 3022 478 2636 193 \r\nQ 2250 -91 1575 -91 \r\nQ 1294 -91 989 -36 \r\nQ 684 19 347 128 \r\nL 347 722 \r\nQ 666 556 975 473 \r\nQ 1284 391 1588 391 \r\nQ 1994 391 2212 530 \r\nQ 2431 669 2431 922 \r\nQ 2431 1156 2273 1281 \r\nQ 2116 1406 1581 1522 \r\nL 1381 1569 \r\nQ 847 1681 609 1914 \r\nQ 372 2147 372 2553 \r\nQ 372 3047 722 3315 \r\nQ 1072 3584 1716 3584 \r\nQ 2034 3584 2315 3537 \r\nQ 2597 3491 2834 3397 \r\nz\r\n\" id=\"DejaVuSans-73\" transform=\"scale(0.015625)\"/>\r\n      </defs>\r\n      <use xlink:href=\"#DejaVuSans-43\"/>\r\n      <use x=\"69.824219\" xlink:href=\"#DejaVuSans-6f\"/>\r\n      <use x=\"131.005859\" xlink:href=\"#DejaVuSans-6e\"/>\r\n      <use x=\"194.384766\" xlink:href=\"#DejaVuSans-66\"/>\r\n      <use x=\"229.589844\" xlink:href=\"#DejaVuSans-69\"/>\r\n      <use x=\"257.373047\" xlink:href=\"#DejaVuSans-72\"/>\r\n      <use x=\"296.736328\" xlink:href=\"#DejaVuSans-6d\"/>\r\n      <use x=\"394.148438\" xlink:href=\"#DejaVuSans-65\"/>\r\n      <use x=\"455.671875\" xlink:href=\"#DejaVuSans-64\"/>\r\n      <use x=\"519.148438\" xlink:href=\"#DejaVuSans-43\"/>\r\n      <use x=\"588.972656\" xlink:href=\"#DejaVuSans-61\"/>\r\n      <use x=\"650.251953\" xlink:href=\"#DejaVuSans-73\"/>\r\n      <use x=\"702.351562\" xlink:href=\"#DejaVuSans-65\"/>\r\n      <use x=\"763.875\" xlink:href=\"#DejaVuSans-73\"/>\r\n     </g>\r\n    </g>\r\n   </g>\r\n   <g id=\"line2d_15\">\r\n    <path clip-path=\"url(#p19a0d7f916)\" d=\"M 105.301989 673.461591 \r\nL 155.71613 673.461591 \r\nL 177.322191 661.107045 \r\nL 184.524211 665.225227 \r\nL 191.726231 673.461591 \r\nL 198.928251 665.225227 \r\nL 206.130271 673.461591 \r\nL 220.534312 656.988864 \r\nL 227.736332 669.343409 \r\nL 234.938352 673.461591 \r\nL 249.342393 665.225227 \r\nL 256.544413 673.461591 \r\nL 299.756534 669.343409 \r\nL 314.160574 640.516136 \r\nL 321.362595 562.270682 \r\nL 328.564615 504.616136 \r\nL 335.766635 525.207045 \r\nL 342.968655 381.070682 \r\nL 350.170676 368.716136 \r\nL 357.372696 442.843409 \r\nL 364.574716 294.588864 \r\nL 371.776736 175.161591 \r\nL 378.978756 216.343409 \r\nL 386.180777 113.388864 \r\nL 393.382797 253.407045 \r\nL 400.584817 129.861591 \r\nL 407.786837 397.543409 \r\nL 414.988857 212.225227 \r\nL 422.190878 199.870682 \r\nL 429.392898 80.443409 \r\nL 436.594918 269.879773 \r\nL 443.796938 442.843409 \r\nL 450.998958 455.197955 \r\nL 458.200979 393.425227 \r\nL 465.402999 286.3525 \r\nL 472.605019 467.5525 \r\nL 479.807039 533.443409 \r\nL 487.009059 533.443409 \r\nL 494.21108 537.561591 \r\nL 501.4131 525.207045 \r\nL 508.61512 459.316136 \r\nL 515.81714 496.379773 \r\nL 523.01916 442.843409 \r\nL 530.221181 471.670682 \r\nL 537.423201 376.9525 \r\nL 544.625221 521.088864 \r\nL 551.827241 549.916136 \r\nL 559.029261 582.861591 \r\nL 566.231282 442.843409 \r\nL 573.433302 484.025227 \r\nL 580.635322 475.788864 \r\nL 587.837342 475.788864 \r\nL 595.039362 401.661591 \r\nL 602.241383 451.079773 \r\nL 609.443403 488.143409 \r\nL 616.645423 356.361591 \r\nL 623.847443 479.907045 \r\nL 631.049463 434.607045 \r\nL 638.251484 479.907045 \r\nL 645.453504 500.497955 \r\nL 652.655524 566.388864 \r\nL 659.857544 586.979773 \r\nL 667.059564 537.561591 \r\nL 674.261585 578.743409 \r\nL 681.463605 582.861591 \r\nL 688.665625 611.688864 \r\nL 695.867645 628.161591 \r\nL 703.069665 603.4525 \r\nL 710.271686 607.570682 \r\nL 717.473706 595.216136 \r\nL 724.675726 619.925227 \r\nL 731.877746 632.279773 \r\nL 739.079766 624.043409 \r\nL 746.281787 656.988864 \r\nL 753.483807 648.7525 \r\nL 760.685827 652.870682 \r\nL 767.887847 636.397955 \r\nL 775.089867 648.7525 \r\nL 782.291888 656.988864 \r\nL 789.493908 644.634318 \r\nL 796.695928 640.516136 \r\nL 803.897948 656.988864 \r\nL 811.099968 636.397955 \r\nL 818.301989 652.870682 \r\nL 825.504009 673.461591 \r\nL 832.706029 661.107045 \r\nL 839.908049 661.107045 \r\nL 847.110069 640.516136 \r\nL 854.31209 665.225227 \r\nL 868.71613 669.343409 \r\nL 875.91815 665.225227 \r\nL 883.12017 644.634318 \r\nL 890.322191 586.979773 \r\nL 897.524211 554.034318 \r\nL 904.726231 566.388864 \r\nL 911.928251 562.270682 \r\nL 919.130271 591.097955 \r\nL 926.332292 558.1525 \r\nL 933.534312 578.743409 \r\nL 940.736332 636.397955 \r\nL 947.938352 636.397955 \r\nL 955.140372 648.7525 \r\nL 962.342393 619.925227 \r\nL 969.544413 566.388864 \r\nL 976.746433 615.807045 \r\nL 983.948453 632.279773 \r\nL 991.150473 586.979773 \r\nL 998.352494 595.216136 \r\nL 1012.756534 619.925227 \r\nL 1019.958554 525.207045 \r\nL 1027.160574 360.479773 \r\nL 1041.564615 525.207045 \r\nL 1048.766635 582.861591 \r\nL 1055.968655 545.797955 \r\nL 1063.170676 488.143409 \r\nL 1070.372696 496.379773 \r\nL 1077.574716 541.679773 \r\nL 1084.776736 516.970682 \r\nL 1091.978756 459.316136 \r\nL 1099.180777 463.434318 \r\nL 1106.382797 562.270682 \r\nL 1113.584817 521.088864 \r\nL 1120.786837 471.670682 \r\nL 1127.988857 521.088864 \r\nL 1135.190878 496.379773 \r\nL 1142.392898 475.788864 \r\nL 1149.594918 521.088864 \r\nL 1156.796938 574.625227 \r\nL 1163.998958 578.743409 \r\nL 1171.200979 512.8525 \r\nL 1178.402999 471.670682 \r\nL 1185.605019 504.616136 \r\nL 1192.807039 463.434318 \r\nL 1200.009059 508.734318 \r\nL 1207.21108 595.216136 \r\nL 1214.4131 615.807045 \r\nL 1221.61512 521.088864 \r\nL 1228.81714 574.625227 \r\nL 1236.01916 541.679773 \r\nL 1243.221181 512.8525 \r\nL 1250.423201 479.907045 \r\nL 1257.625221 521.088864 \r\nL 1264.827241 574.625227 \r\nL 1272.029261 648.7525 \r\nL 1272.029261 648.7525 \r\n\" style=\"fill:none;stroke:#4285f4;stroke-linecap:square;stroke-width:0.3;\"/>\r\n   </g>\r\n   <g id=\"line2d_16\">\r\n    <path clip-path=\"url(#p19a0d7f916)\" d=\"M 191.726231 670.520032 \r\nL 198.928251 669.343409 \r\nL 206.130271 669.343409 \r\nL 220.534312 666.990162 \r\nL 227.736332 666.401851 \r\nL 234.938352 668.166786 \r\nL 256.544413 668.166786 \r\nL 299.756534 668.755097 \r\nL 314.160574 664.048604 \r\nL 321.362595 650.517435 \r\nL 328.564615 626.984968 \r\nL 335.766635 605.805747 \r\nL 342.968655 565.21224 \r\nL 350.170676 521.677175 \r\nL 357.372696 489.320032 \r\nL 364.574716 439.901851 \r\nL 371.776736 384.600552 \r\nL 378.978756 343.418734 \r\nL 386.180777 284.587565 \r\nL 393.382797 266.349903 \r\nL 400.584817 232.227825 \r\nL 407.786837 225.756396 \r\nL 414.988857 213.990162 \r\nL 422.190878 217.520032 \r\nL 429.392898 198.105747 \r\nL 436.594918 220.461591 \r\nL 443.796938 247.523929 \r\nL 450.998958 294.000552 \r\nL 458.200979 293.41224 \r\nL 465.402999 304.001851 \r\nL 472.605019 342.24211 \r\nL 479.807039 406.956396 \r\nL 487.009059 444.608344 \r\nL 494.21108 458.139513 \r\nL 501.4131 468.140812 \r\nL 508.61512 477.553799 \r\nL 515.81714 507.557695 \r\nL 523.01916 504.027825 \r\nL 530.221181 495.203149 \r\nL 537.423201 472.847305 \r\nL 544.625221 470.494058 \r\nL 551.827241 474.023929 \r\nL 559.029261 491.673279 \r\nL 566.231282 484.025227 \r\nL 573.433302 489.908344 \r\nL 580.635322 490.496656 \r\nL 587.837342 504.616136 \r\nL 595.039362 487.555097 \r\nL 602.241383 473.435617 \r\nL 609.443403 459.904448 \r\nL 616.645423 447.549903 \r\nL 623.847443 446.961591 \r\nL 631.049463 441.078474 \r\nL 638.251484 441.666786 \r\nL 645.453504 455.786266 \r\nL 652.655524 472.258994 \r\nL 659.857544 486.378474 \r\nL 667.059564 512.264188 \r\nL 674.261585 526.383669 \r\nL 681.463605 547.56289 \r\nL 688.665625 566.388864 \r\nL 695.867645 584.626526 \r\nL 703.069665 589.921331 \r\nL 710.271686 592.86289 \r\nL 717.473706 601.099253 \r\nL 724.675726 606.98237 \r\nL 731.877746 614.04211 \r\nL 739.079766 615.807045 \r\nL 746.281787 619.925227 \r\nL 760.685827 632.868084 \r\nL 767.887847 638.751201 \r\nL 775.089867 642.869383 \r\nL 782.291888 646.399253 \r\nL 789.493908 649.340812 \r\nL 796.695928 646.987565 \r\nL 803.897948 648.164188 \r\nL 811.099968 645.810942 \r\nL 818.301989 648.164188 \r\nL 825.504009 651.694058 \r\nL 832.706029 652.28237 \r\nL 839.908049 654.635617 \r\nL 847.110069 654.635617 \r\nL 854.31209 655.81224 \r\nL 868.71613 660.518734 \r\nL 875.91815 662.283669 \r\nL 883.12017 658.165487 \r\nL 890.322191 647.575877 \r\nL 897.524211 632.279773 \r\nL 904.726231 621.690162 \r\nL 911.928251 606.98237 \r\nL 919.130271 595.804448 \r\nL 926.332292 580.508344 \r\nL 933.534312 571.095357 \r\nL 940.736332 578.155097 \r\nL 955.140372 601.687565 \r\nL 962.342393 609.923929 \r\nL 969.544413 606.394058 \r\nL 976.746433 614.630422 \r\nL 983.948453 622.278474 \r\nL 991.150473 615.218734 \r\nL 1005.554514 603.4525 \r\nL 1012.756534 603.4525 \r\nL 1019.958554 597.569383 \r\nL 1027.160574 561.094058 \r\nL 1034.362595 534.031721 \r\nL 1041.564615 525.207045 \r\nL 1048.766635 523.44211 \r\nL 1055.968655 514.617435 \r\nL 1063.170676 495.791461 \r\nL 1070.372696 491.673279 \r\nL 1077.574716 517.558994 \r\nL 1084.776736 528.148604 \r\nL 1091.978756 518.735617 \r\nL 1099.180777 501.674578 \r\nL 1106.382797 504.027825 \r\nL 1113.584817 508.734318 \r\nL 1120.786837 505.204448 \r\nL 1135.190878 499.321331 \r\nL 1142.392898 501.674578 \r\nL 1149.594918 509.910942 \r\nL 1156.796938 511.675877 \r\nL 1163.998958 519.91224 \r\nL 1171.200979 525.795357 \r\nL 1178.402999 518.735617 \r\nL 1185.605019 519.91224 \r\nL 1200.009059 516.38237 \r\nL 1207.21108 519.323929 \r\nL 1214.4131 524.618734 \r\nL 1221.61512 525.795357 \r\nL 1228.81714 540.503149 \r\nL 1236.01916 545.797955 \r\nL 1243.221181 552.857695 \r\nL 1250.423201 548.739513 \r\nL 1257.625221 538.149903 \r\nL 1264.827241 532.266786 \r\nL 1272.029261 550.504448 \r\nL 1272.029261 550.504448 \r\n\" style=\"fill:none;stroke:#4285f4;stroke-linecap:square;stroke-width:3;\"/>\r\n   </g>\r\n   <g id=\"patch_3\">\r\n    <path d=\"M 46.965625 703.1125 \r\nL 46.965625 50.7925 \r\n\" style=\"fill:none;stroke:#000000;stroke-linecap:square;stroke-linejoin:miter;stroke-width:0.8;\"/>\r\n   </g>\r\n   <g id=\"patch_4\">\r\n    <path d=\"M 1330.365625 703.1125 \r\nL 1330.365625 50.7925 \r\n\" style=\"fill:none;stroke:#000000;stroke-linecap:square;stroke-linejoin:miter;stroke-width:0.8;\"/>\r\n   </g>\r\n   <g id=\"patch_5\">\r\n    <path d=\"M 46.965625 703.1125 \r\nL 1330.365625 703.1125 \r\n\" style=\"fill:none;stroke:#000000;stroke-linecap:square;stroke-linejoin:miter;stroke-width:0.8;\"/>\r\n   </g>\r\n   <g id=\"patch_6\">\r\n    <path d=\"M 46.965625 50.7925 \r\nL 1330.365625 50.7925 \r\n\" style=\"fill:none;stroke:#000000;stroke-linecap:square;stroke-linejoin:miter;stroke-width:0.8;\"/>\r\n   </g>\r\n   <g id=\"text_17\">\r\n    <!-- South Korea: Daily Cases &amp; Death -->\r\n    <g transform=\"translate(518.976563 22.396875)scale(0.2 -0.2)\">\r\n     <defs>\r\n      <path d=\"M 3425 4513 \r\nL 3425 3897 \r\nQ 3066 4069 2747 4153 \r\nQ 2428 4238 2131 4238 \r\nQ 1616 4238 1336 4038 \r\nQ 1056 3838 1056 3469 \r\nQ 1056 3159 1242 3001 \r\nQ 1428 2844 1947 2747 \r\nL 2328 2669 \r\nQ 3034 2534 3370 2195 \r\nQ 3706 1856 3706 1288 \r\nQ 3706 609 3251 259 \r\nQ 2797 -91 1919 -91 \r\nQ 1588 -91 1214 -16 \r\nQ 841 59 441 206 \r\nL 441 856 \r\nQ 825 641 1194 531 \r\nQ 1563 422 1919 422 \r\nQ 2459 422 2753 634 \r\nQ 3047 847 3047 1241 \r\nQ 3047 1584 2836 1778 \r\nQ 2625 1972 2144 2069 \r\nL 1759 2144 \r\nQ 1053 2284 737 2584 \r\nQ 422 2884 422 3419 \r\nQ 422 4038 858 4394 \r\nQ 1294 4750 2059 4750 \r\nQ 2388 4750 2728 4690 \r\nQ 3069 4631 3425 4513 \r\nz\r\n\" id=\"DejaVuSans-53\" transform=\"scale(0.015625)\"/>\r\n      <path d=\"M 544 1381 \r\nL 544 3500 \r\nL 1119 3500 \r\nL 1119 1403 \r\nQ 1119 906 1312 657 \r\nQ 1506 409 1894 409 \r\nQ 2359 409 2629 706 \r\nQ 2900 1003 2900 1516 \r\nL 2900 3500 \r\nL 3475 3500 \r\nL 3475 0 \r\nL 2900 0 \r\nL 2900 538 \r\nQ 2691 219 2414 64 \r\nQ 2138 -91 1772 -91 \r\nQ 1169 -91 856 284 \r\nQ 544 659 544 1381 \r\nz\r\nM 1991 3584 \r\nL 1991 3584 \r\nz\r\n\" id=\"DejaVuSans-75\" transform=\"scale(0.015625)\"/>\r\n      <path d=\"M 3513 2113 \r\nL 3513 0 \r\nL 2938 0 \r\nL 2938 2094 \r\nQ 2938 2591 2744 2837 \r\nQ 2550 3084 2163 3084 \r\nQ 1697 3084 1428 2787 \r\nQ 1159 2491 1159 1978 \r\nL 1159 0 \r\nL 581 0 \r\nL 581 4863 \r\nL 1159 4863 \r\nL 1159 2956 \r\nQ 1366 3272 1645 3428 \r\nQ 1925 3584 2291 3584 \r\nQ 2894 3584 3203 3211 \r\nQ 3513 2838 3513 2113 \r\nz\r\n\" id=\"DejaVuSans-68\" transform=\"scale(0.015625)\"/>\r\n      <path id=\"DejaVuSans-20\" transform=\"scale(0.015625)\"/>\r\n      <path d=\"M 628 4666 \r\nL 1259 4666 \r\nL 1259 2694 \r\nL 3353 4666 \r\nL 4166 4666 \r\nL 1850 2491 \r\nL 4331 0 \r\nL 3500 0 \r\nL 1259 2247 \r\nL 1259 0 \r\nL 628 0 \r\nL 628 4666 \r\nz\r\n\" id=\"DejaVuSans-4b\" transform=\"scale(0.015625)\"/>\r\n      <path d=\"M 750 794 \r\nL 1409 794 \r\nL 1409 0 \r\nL 750 0 \r\nL 750 794 \r\nz\r\nM 750 3309 \r\nL 1409 3309 \r\nL 1409 2516 \r\nL 750 2516 \r\nL 750 3309 \r\nz\r\n\" id=\"DejaVuSans-3a\" transform=\"scale(0.015625)\"/>\r\n      <path d=\"M 603 4863 \r\nL 1178 4863 \r\nL 1178 0 \r\nL 603 0 \r\nL 603 4863 \r\nz\r\n\" id=\"DejaVuSans-6c\" transform=\"scale(0.015625)\"/>\r\n      <path d=\"M 2059 -325 \r\nQ 1816 -950 1584 -1140 \r\nQ 1353 -1331 966 -1331 \r\nL 506 -1331 \r\nL 506 -850 \r\nL 844 -850 \r\nQ 1081 -850 1212 -737 \r\nQ 1344 -625 1503 -206 \r\nL 1606 56 \r\nL 191 3500 \r\nL 800 3500 \r\nL 1894 763 \r\nL 2988 3500 \r\nL 3597 3500 \r\nL 2059 -325 \r\nz\r\n\" id=\"DejaVuSans-79\" transform=\"scale(0.015625)\"/>\r\n      <path d=\"M 1556 2509 \r\nQ 1272 2256 1139 2004 \r\nQ 1006 1753 1006 1478 \r\nQ 1006 1022 1337 719 \r\nQ 1669 416 2169 416 \r\nQ 2466 416 2725 514 \r\nQ 2984 613 3213 813 \r\nL 1556 2509 \r\nz\r\nM 1997 2859 \r\nL 3584 1234 \r\nQ 3769 1513 3872 1830 \r\nQ 3975 2147 3994 2503 \r\nL 4575 2503 \r\nQ 4538 2091 4375 1687 \r\nQ 4213 1284 3922 891 \r\nL 4794 0 \r\nL 4006 0 \r\nL 3559 459 \r\nQ 3234 181 2878 45 \r\nQ 2522 -91 2113 -91 \r\nQ 1359 -91 881 339 \r\nQ 403 769 403 1441 \r\nQ 403 1841 612 2192 \r\nQ 822 2544 1241 2853 \r\nQ 1091 3050 1012 3245 \r\nQ 934 3441 934 3628 \r\nQ 934 4134 1281 4442 \r\nQ 1628 4750 2203 4750 \r\nQ 2463 4750 2720 4694 \r\nQ 2978 4638 3244 4525 \r\nL 3244 3956 \r\nQ 2972 4103 2725 4179 \r\nQ 2478 4256 2266 4256 \r\nQ 1938 4256 1733 4082 \r\nQ 1528 3909 1528 3634 \r\nQ 1528 3475 1620 3314 \r\nQ 1713 3153 1997 2859 \r\nz\r\n\" id=\"DejaVuSans-26\" transform=\"scale(0.015625)\"/>\r\n     </defs>\r\n     <use xlink:href=\"#DejaVuSans-53\"/>\r\n     <use x=\"63.476562\" xlink:href=\"#DejaVuSans-6f\"/>\r\n     <use x=\"124.658203\" xlink:href=\"#DejaVuSans-75\"/>\r\n     <use x=\"188.037109\" xlink:href=\"#DejaVuSans-74\"/>\r\n     <use x=\"227.246094\" xlink:href=\"#DejaVuSans-68\"/>\r\n     <use x=\"290.625\" xlink:href=\"#DejaVuSans-20\"/>\r\n     <use x=\"322.412109\" xlink:href=\"#DejaVuSans-4b\"/>\r\n     <use x=\"382.988281\" xlink:href=\"#DejaVuSans-6f\"/>\r\n     <use x=\"444.169922\" xlink:href=\"#DejaVuSans-72\"/>\r\n     <use x=\"483.033203\" xlink:href=\"#DejaVuSans-65\"/>\r\n     <use x=\"544.556641\" xlink:href=\"#DejaVuSans-61\"/>\r\n     <use x=\"605.835938\" xlink:href=\"#DejaVuSans-3a\"/>\r\n     <use x=\"639.527344\" xlink:href=\"#DejaVuSans-20\"/>\r\n     <use x=\"671.314453\" xlink:href=\"#DejaVuSans-44\"/>\r\n     <use x=\"748.316406\" xlink:href=\"#DejaVuSans-61\"/>\r\n     <use x=\"809.595703\" xlink:href=\"#DejaVuSans-69\"/>\r\n     <use x=\"837.378906\" xlink:href=\"#DejaVuSans-6c\"/>\r\n     <use x=\"865.162109\" xlink:href=\"#DejaVuSans-79\"/>\r\n     <use x=\"924.341797\" xlink:href=\"#DejaVuSans-20\"/>\r\n     <use x=\"956.128906\" xlink:href=\"#DejaVuSans-43\"/>\r\n     <use x=\"1025.953125\" xlink:href=\"#DejaVuSans-61\"/>\r\n     <use x=\"1087.232422\" xlink:href=\"#DejaVuSans-73\"/>\r\n     <use x=\"1139.332031\" xlink:href=\"#DejaVuSans-65\"/>\r\n     <use x=\"1200.855469\" xlink:href=\"#DejaVuSans-73\"/>\r\n     <use x=\"1252.955078\" xlink:href=\"#DejaVuSans-20\"/>\r\n     <use x=\"1284.742188\" xlink:href=\"#DejaVuSans-26\"/>\r\n     <use x=\"1362.720703\" xlink:href=\"#DejaVuSans-20\"/>\r\n     <use x=\"1394.507812\" xlink:href=\"#DejaVuSans-44\"/>\r\n     <use x=\"1471.509766\" xlink:href=\"#DejaVuSans-65\"/>\r\n     <use x=\"1533.033203\" xlink:href=\"#DejaVuSans-61\"/>\r\n     <use x=\"1594.3125\" xlink:href=\"#DejaVuSans-74\"/>\r\n     <use x=\"1633.521484\" xlink:href=\"#DejaVuSans-68\"/>\r\n    </g>\r\n    <!-- with 7-Day Rolling Averages -->\r\n    <g transform=\"translate(548.2875 44.7925)scale(0.2 -0.2)\">\r\n     <defs>\r\n      <path d=\"M 269 3500 \r\nL 844 3500 \r\nL 1563 769 \r\nL 2278 3500 \r\nL 2956 3500 \r\nL 3675 769 \r\nL 4391 3500 \r\nL 4966 3500 \r\nL 4050 0 \r\nL 3372 0 \r\nL 2619 2869 \r\nL 1863 0 \r\nL 1184 0 \r\nL 269 3500 \r\nz\r\n\" id=\"DejaVuSans-77\" transform=\"scale(0.015625)\"/>\r\n      <path d=\"M 2841 2188 \r\nQ 3044 2119 3236 1894 \r\nQ 3428 1669 3622 1275 \r\nL 4263 0 \r\nL 3584 0 \r\nL 2988 1197 \r\nQ 2756 1666 2539 1819 \r\nQ 2322 1972 1947 1972 \r\nL 1259 1972 \r\nL 1259 0 \r\nL 628 0 \r\nL 628 4666 \r\nL 2053 4666 \r\nQ 2853 4666 3247 4331 \r\nQ 3641 3997 3641 3322 \r\nQ 3641 2881 3436 2590 \r\nQ 3231 2300 2841 2188 \r\nz\r\nM 1259 4147 \r\nL 1259 2491 \r\nL 2053 2491 \r\nQ 2509 2491 2742 2702 \r\nQ 2975 2913 2975 3322 \r\nQ 2975 3731 2742 3939 \r\nQ 2509 4147 2053 4147 \r\nL 1259 4147 \r\nz\r\n\" id=\"DejaVuSans-52\" transform=\"scale(0.015625)\"/>\r\n      <path d=\"M 2906 1791 \r\nQ 2906 2416 2648 2759 \r\nQ 2391 3103 1925 3103 \r\nQ 1463 3103 1205 2759 \r\nQ 947 2416 947 1791 \r\nQ 947 1169 1205 825 \r\nQ 1463 481 1925 481 \r\nQ 2391 481 2648 825 \r\nQ 2906 1169 2906 1791 \r\nz\r\nM 3481 434 \r\nQ 3481 -459 3084 -895 \r\nQ 2688 -1331 1869 -1331 \r\nQ 1566 -1331 1297 -1286 \r\nQ 1028 -1241 775 -1147 \r\nL 775 -588 \r\nQ 1028 -725 1275 -790 \r\nQ 1522 -856 1778 -856 \r\nQ 2344 -856 2625 -561 \r\nQ 2906 -266 2906 331 \r\nL 2906 616 \r\nQ 2728 306 2450 153 \r\nQ 2172 0 1784 0 \r\nQ 1141 0 747 490 \r\nQ 353 981 353 1791 \r\nQ 353 2603 747 3093 \r\nQ 1141 3584 1784 3584 \r\nQ 2172 3584 2450 3431 \r\nQ 2728 3278 2906 2969 \r\nL 2906 3500 \r\nL 3481 3500 \r\nL 3481 434 \r\nz\r\n\" id=\"DejaVuSans-67\" transform=\"scale(0.015625)\"/>\r\n      <path d=\"M 2188 4044 \r\nL 1331 1722 \r\nL 3047 1722 \r\nL 2188 4044 \r\nz\r\nM 1831 4666 \r\nL 2547 4666 \r\nL 4325 0 \r\nL 3669 0 \r\nL 3244 1197 \r\nL 1141 1197 \r\nL 716 0 \r\nL 50 0 \r\nL 1831 4666 \r\nz\r\n\" id=\"DejaVuSans-41\" transform=\"scale(0.015625)\"/>\r\n      <path d=\"M 191 3500 \r\nL 800 3500 \r\nL 1894 563 \r\nL 2988 3500 \r\nL 3597 3500 \r\nL 2284 0 \r\nL 1503 0 \r\nL 191 3500 \r\nz\r\n\" id=\"DejaVuSans-76\" transform=\"scale(0.015625)\"/>\r\n     </defs>\r\n     <use xlink:href=\"#DejaVuSans-77\"/>\r\n     <use x=\"81.787109\" xlink:href=\"#DejaVuSans-69\"/>\r\n     <use x=\"109.570312\" xlink:href=\"#DejaVuSans-74\"/>\r\n     <use x=\"148.779297\" xlink:href=\"#DejaVuSans-68\"/>\r\n     <use x=\"212.158203\" xlink:href=\"#DejaVuSans-20\"/>\r\n     <use x=\"243.945312\" xlink:href=\"#DejaVuSans-37\"/>\r\n     <use x=\"307.568359\" xlink:href=\"#DejaVuSans-2d\"/>\r\n     <use x=\"343.652344\" xlink:href=\"#DejaVuSans-44\"/>\r\n     <use x=\"420.654297\" xlink:href=\"#DejaVuSans-61\"/>\r\n     <use x=\"481.933594\" xlink:href=\"#DejaVuSans-79\"/>\r\n     <use x=\"541.113281\" xlink:href=\"#DejaVuSans-20\"/>\r\n     <use x=\"572.900391\" xlink:href=\"#DejaVuSans-52\"/>\r\n     <use x=\"637.882812\" xlink:href=\"#DejaVuSans-6f\"/>\r\n     <use x=\"699.064453\" xlink:href=\"#DejaVuSans-6c\"/>\r\n     <use x=\"726.847656\" xlink:href=\"#DejaVuSans-6c\"/>\r\n     <use x=\"754.630859\" xlink:href=\"#DejaVuSans-69\"/>\r\n     <use x=\"782.414062\" xlink:href=\"#DejaVuSans-6e\"/>\r\n     <use x=\"845.792969\" xlink:href=\"#DejaVuSans-67\"/>\r\n     <use x=\"909.269531\" xlink:href=\"#DejaVuSans-20\"/>\r\n     <use x=\"941.056641\" xlink:href=\"#DejaVuSans-41\"/>\r\n     <use x=\"1003.589844\" xlink:href=\"#DejaVuSans-76\"/>\r\n     <use x=\"1062.769531\" xlink:href=\"#DejaVuSans-65\"/>\r\n     <use x=\"1124.292969\" xlink:href=\"#DejaVuSans-72\"/>\r\n     <use x=\"1165.40625\" xlink:href=\"#DejaVuSans-61\"/>\r\n     <use x=\"1226.685547\" xlink:href=\"#DejaVuSans-67\"/>\r\n     <use x=\"1290.162109\" xlink:href=\"#DejaVuSans-65\"/>\r\n     <use x=\"1351.685547\" xlink:href=\"#DejaVuSans-73\"/>\r\n    </g>\r\n   </g>\r\n   <g id=\"legend_1\">\r\n    <g id=\"patch_7\">\r\n     <path d=\"M 53.965625 88.14875 \r\nL 199.360938 88.14875 \r\nQ 201.360938 88.14875 201.360938 86.14875 \r\nL 201.360938 57.7925 \r\nQ 201.360938 55.7925 199.360938 55.7925 \r\nL 53.965625 55.7925 \r\nQ 51.965625 55.7925 51.965625 57.7925 \r\nL 51.965625 86.14875 \r\nQ 51.965625 88.14875 53.965625 88.14875 \r\nz\r\n\" style=\"fill:#ffffff;opacity:0.8;stroke:#cccccc;stroke-linejoin:miter;\"/>\r\n    </g>\r\n    <g id=\"line2d_17\">\r\n     <path d=\"M 55.965625 63.890937 \r\nL 75.965625 63.890937 \r\n\" style=\"fill:none;stroke:#4285f4;stroke-linecap:square;stroke-width:0.3;\"/>\r\n    </g>\r\n    <g id=\"line2d_18\"/>\r\n    <g id=\"text_18\">\r\n     <!-- Daily Cases -->\r\n     <g transform=\"translate(83.965625 67.390937)scale(0.1 -0.1)\">\r\n      <use xlink:href=\"#DejaVuSans-44\"/>\r\n      <use x=\"77.001953\" xlink:href=\"#DejaVuSans-61\"/>\r\n      <use x=\"138.28125\" xlink:href=\"#DejaVuSans-69\"/>\r\n      <use x=\"166.064453\" xlink:href=\"#DejaVuSans-6c\"/>\r\n      <use x=\"193.847656\" xlink:href=\"#DejaVuSans-79\"/>\r\n      <use x=\"253.027344\" xlink:href=\"#DejaVuSans-20\"/>\r\n      <use x=\"284.814453\" xlink:href=\"#DejaVuSans-43\"/>\r\n      <use x=\"354.638672\" xlink:href=\"#DejaVuSans-61\"/>\r\n      <use x=\"415.917969\" xlink:href=\"#DejaVuSans-73\"/>\r\n      <use x=\"468.017578\" xlink:href=\"#DejaVuSans-65\"/>\r\n      <use x=\"529.541016\" xlink:href=\"#DejaVuSans-73\"/>\r\n     </g>\r\n    </g>\r\n    <g id=\"line2d_19\">\r\n     <path d=\"M 55.965625 78.569062 \r\nL 75.965625 78.569062 \r\n\" style=\"fill:none;stroke:#4285f4;stroke-linecap:square;stroke-width:3;\"/>\r\n    </g>\r\n    <g id=\"line2d_20\"/>\r\n    <g id=\"text_19\">\r\n     <!-- 7day rolling avg Cases -->\r\n     <g transform=\"translate(83.965625 82.069062)scale(0.1 -0.1)\">\r\n      <use xlink:href=\"#DejaVuSans-37\"/>\r\n      <use x=\"63.623047\" xlink:href=\"#DejaVuSans-64\"/>\r\n      <use x=\"127.099609\" xlink:href=\"#DejaVuSans-61\"/>\r\n      <use x=\"188.378906\" xlink:href=\"#DejaVuSans-79\"/>\r\n      <use x=\"247.558594\" xlink:href=\"#DejaVuSans-20\"/>\r\n      <use x=\"279.345703\" xlink:href=\"#DejaVuSans-72\"/>\r\n      <use x=\"318.208984\" xlink:href=\"#DejaVuSans-6f\"/>\r\n      <use x=\"379.390625\" xlink:href=\"#DejaVuSans-6c\"/>\r\n      <use x=\"407.173828\" xlink:href=\"#DejaVuSans-6c\"/>\r\n      <use x=\"434.957031\" xlink:href=\"#DejaVuSans-69\"/>\r\n      <use x=\"462.740234\" xlink:href=\"#DejaVuSans-6e\"/>\r\n      <use x=\"526.119141\" xlink:href=\"#DejaVuSans-67\"/>\r\n      <use x=\"589.595703\" xlink:href=\"#DejaVuSans-20\"/>\r\n      <use x=\"621.382812\" xlink:href=\"#DejaVuSans-61\"/>\r\n      <use x=\"682.662109\" xlink:href=\"#DejaVuSans-76\"/>\r\n      <use x=\"741.841797\" xlink:href=\"#DejaVuSans-67\"/>\r\n      <use x=\"805.318359\" xlink:href=\"#DejaVuSans-20\"/>\r\n      <use x=\"837.105469\" xlink:href=\"#DejaVuSans-43\"/>\r\n      <use x=\"906.929688\" xlink:href=\"#DejaVuSans-61\"/>\r\n      <use x=\"968.208984\" xlink:href=\"#DejaVuSans-73\"/>\r\n      <use x=\"1020.308594\" xlink:href=\"#DejaVuSans-65\"/>\r\n      <use x=\"1081.832031\" xlink:href=\"#DejaVuSans-73\"/>\r\n     </g>\r\n    </g>\r\n   </g>\r\n  </g>\r\n  <g id=\"axes_2\">\r\n   <g id=\"matplotlib.axis_3\">\r\n    <g id=\"ytick_9\">\r\n     <g id=\"line2d_21\">\r\n      <defs>\r\n       <path d=\"M 0 0 \r\nL 3.5 0 \r\n\" id=\"mbce2a66076\" style=\"stroke:#000000;stroke-width:0.8;\"/>\r\n      </defs>\r\n      <g>\r\n       <use style=\"stroke:#000000;stroke-width:0.8;\" x=\"1330.365625\" xlink:href=\"#mbce2a66076\" y=\"673.461591\"/>\r\n      </g>\r\n     </g>\r\n     <g id=\"text_20\">\r\n      <!-- 0.0 -->\r\n      <g transform=\"translate(1337.365625 677.26081)scale(0.1 -0.1)\">\r\n       <defs>\r\n        <path d=\"M 684 794 \r\nL 1344 794 \r\nL 1344 0 \r\nL 684 0 \r\nL 684 794 \r\nz\r\n\" id=\"DejaVuSans-2e\" transform=\"scale(0.015625)\"/>\r\n       </defs>\r\n       <use xlink:href=\"#DejaVuSans-30\"/>\r\n       <use x=\"63.623047\" xlink:href=\"#DejaVuSans-2e\"/>\r\n       <use x=\"95.410156\" xlink:href=\"#DejaVuSans-30\"/>\r\n      </g>\r\n     </g>\r\n    </g>\r\n    <g id=\"ytick_10\">\r\n     <g id=\"line2d_22\">\r\n      <g>\r\n       <use style=\"stroke:#000000;stroke-width:0.8;\" x=\"1330.365625\" xlink:href=\"#mbce2a66076\" y=\"599.334318\"/>\r\n      </g>\r\n     </g>\r\n     <g id=\"text_21\">\r\n      <!-- 0.5 -->\r\n      <g transform=\"translate(1337.365625 603.133537)scale(0.1 -0.1)\">\r\n       <use xlink:href=\"#DejaVuSans-30\"/>\r\n       <use x=\"63.623047\" xlink:href=\"#DejaVuSans-2e\"/>\r\n       <use x=\"95.410156\" xlink:href=\"#DejaVuSans-35\"/>\r\n      </g>\r\n     </g>\r\n    </g>\r\n    <g id=\"ytick_11\">\r\n     <g id=\"line2d_23\">\r\n      <g>\r\n       <use style=\"stroke:#000000;stroke-width:0.8;\" x=\"1330.365625\" xlink:href=\"#mbce2a66076\" y=\"525.207045\"/>\r\n      </g>\r\n     </g>\r\n     <g id=\"text_22\">\r\n      <!-- 1.0 -->\r\n      <g transform=\"translate(1337.365625 529.006264)scale(0.1 -0.1)\">\r\n       <use xlink:href=\"#DejaVuSans-31\"/>\r\n       <use x=\"63.623047\" xlink:href=\"#DejaVuSans-2e\"/>\r\n       <use x=\"95.410156\" xlink:href=\"#DejaVuSans-30\"/>\r\n      </g>\r\n     </g>\r\n    </g>\r\n    <g id=\"ytick_12\">\r\n     <g id=\"line2d_24\">\r\n      <g>\r\n       <use style=\"stroke:#000000;stroke-width:0.8;\" x=\"1330.365625\" xlink:href=\"#mbce2a66076\" y=\"451.079773\"/>\r\n      </g>\r\n     </g>\r\n     <g id=\"text_23\">\r\n      <!-- 1.5 -->\r\n      <g transform=\"translate(1337.365625 454.878991)scale(0.1 -0.1)\">\r\n       <use xlink:href=\"#DejaVuSans-31\"/>\r\n       <use x=\"63.623047\" xlink:href=\"#DejaVuSans-2e\"/>\r\n       <use x=\"95.410156\" xlink:href=\"#DejaVuSans-35\"/>\r\n      </g>\r\n     </g>\r\n    </g>\r\n    <g id=\"ytick_13\">\r\n     <g id=\"line2d_25\">\r\n      <g>\r\n       <use style=\"stroke:#000000;stroke-width:0.8;\" x=\"1330.365625\" xlink:href=\"#mbce2a66076\" y=\"376.9525\"/>\r\n      </g>\r\n     </g>\r\n     <g id=\"text_24\">\r\n      <!-- 2.0 -->\r\n      <g transform=\"translate(1337.365625 380.751719)scale(0.1 -0.1)\">\r\n       <use xlink:href=\"#DejaVuSans-32\"/>\r\n       <use x=\"63.623047\" xlink:href=\"#DejaVuSans-2e\"/>\r\n       <use x=\"95.410156\" xlink:href=\"#DejaVuSans-30\"/>\r\n      </g>\r\n     </g>\r\n    </g>\r\n    <g id=\"ytick_14\">\r\n     <g id=\"line2d_26\">\r\n      <g>\r\n       <use style=\"stroke:#000000;stroke-width:0.8;\" x=\"1330.365625\" xlink:href=\"#mbce2a66076\" y=\"302.825227\"/>\r\n      </g>\r\n     </g>\r\n     <g id=\"text_25\">\r\n      <!-- 2.5 -->\r\n      <g transform=\"translate(1337.365625 306.624446)scale(0.1 -0.1)\">\r\n       <use xlink:href=\"#DejaVuSans-32\"/>\r\n       <use x=\"63.623047\" xlink:href=\"#DejaVuSans-2e\"/>\r\n       <use x=\"95.410156\" xlink:href=\"#DejaVuSans-35\"/>\r\n      </g>\r\n     </g>\r\n    </g>\r\n    <g id=\"ytick_15\">\r\n     <g id=\"line2d_27\">\r\n      <g>\r\n       <use style=\"stroke:#000000;stroke-width:0.8;\" x=\"1330.365625\" xlink:href=\"#mbce2a66076\" y=\"228.697955\"/>\r\n      </g>\r\n     </g>\r\n     <g id=\"text_26\">\r\n      <!-- 3.0 -->\r\n      <g transform=\"translate(1337.365625 232.497173)scale(0.1 -0.1)\">\r\n       <use xlink:href=\"#DejaVuSans-33\"/>\r\n       <use x=\"63.623047\" xlink:href=\"#DejaVuSans-2e\"/>\r\n       <use x=\"95.410156\" xlink:href=\"#DejaVuSans-30\"/>\r\n      </g>\r\n     </g>\r\n    </g>\r\n    <g id=\"ytick_16\">\r\n     <g id=\"line2d_28\">\r\n      <g>\r\n       <use style=\"stroke:#000000;stroke-width:0.8;\" x=\"1330.365625\" xlink:href=\"#mbce2a66076\" y=\"154.570682\"/>\r\n      </g>\r\n     </g>\r\n     <g id=\"text_27\">\r\n      <!-- 3.5 -->\r\n      <g transform=\"translate(1337.365625 158.369901)scale(0.1 -0.1)\">\r\n       <use xlink:href=\"#DejaVuSans-33\"/>\r\n       <use x=\"63.623047\" xlink:href=\"#DejaVuSans-2e\"/>\r\n       <use x=\"95.410156\" xlink:href=\"#DejaVuSans-35\"/>\r\n      </g>\r\n     </g>\r\n    </g>\r\n    <g id=\"ytick_17\">\r\n     <g id=\"line2d_29\">\r\n      <g>\r\n       <use style=\"stroke:#000000;stroke-width:0.8;\" x=\"1330.365625\" xlink:href=\"#mbce2a66076\" y=\"80.443409\"/>\r\n      </g>\r\n     </g>\r\n     <g id=\"text_28\">\r\n      <!-- 4.0 -->\r\n      <g transform=\"translate(1337.365625 84.242628)scale(0.1 -0.1)\">\r\n       <use xlink:href=\"#DejaVuSans-34\"/>\r\n       <use x=\"63.623047\" xlink:href=\"#DejaVuSans-2e\"/>\r\n       <use x=\"95.410156\" xlink:href=\"#DejaVuSans-30\"/>\r\n      </g>\r\n     </g>\r\n    </g>\r\n    <g id=\"text_29\">\r\n     <!-- Death -->\r\n     <g transform=\"translate(1364.867188 392.072031)rotate(-90)scale(0.1 -0.1)\">\r\n      <use xlink:href=\"#DejaVuSans-44\"/>\r\n      <use x=\"77.001953\" xlink:href=\"#DejaVuSans-65\"/>\r\n      <use x=\"138.525391\" xlink:href=\"#DejaVuSans-61\"/>\r\n      <use x=\"199.804688\" xlink:href=\"#DejaVuSans-74\"/>\r\n      <use x=\"239.013672\" xlink:href=\"#DejaVuSans-68\"/>\r\n     </g>\r\n    </g>\r\n   </g>\r\n   <g id=\"line2d_30\">\r\n    <path clip-path=\"url(#p19a0d7f916)\" d=\"M 105.301989 673.461591 \r\nL 314.160574 673.461591 \r\nL 321.362595 525.207045 \r\nL 328.564615 673.461591 \r\nL 335.766635 525.207045 \r\nL 342.968655 673.461591 \r\nL 350.170676 80.443409 \r\nL 357.372696 525.207045 \r\nL 364.574716 376.9525 \r\nL 371.776736 525.207045 \r\nL 378.978756 525.207045 \r\nL 386.180777 673.461591 \r\nL 393.382797 673.461591 \r\nL 400.584817 228.697955 \r\nL 407.786837 80.443409 \r\nL 414.988857 525.207045 \r\nL 422.190878 80.443409 \r\nL 429.392898 80.443409 \r\nL 436.594918 525.207045 \r\nL 443.796938 376.9525 \r\nL 450.998958 525.207045 \r\nL 458.200979 228.697955 \r\nL 465.402999 673.461591 \r\nL 472.605019 525.207045 \r\nL 479.807039 673.461591 \r\nL 501.4131 673.461591 \r\nL 508.61512 228.697955 \r\nL 515.81714 673.461591 \r\nL 523.01916 525.207045 \r\nL 530.221181 673.461591 \r\nL 537.423201 525.207045 \r\nL 544.625221 673.461591 \r\nL 551.827241 525.207045 \r\nL 559.029261 673.461591 \r\nL 580.635322 228.697955 \r\nL 587.837342 525.207045 \r\nL 595.039362 673.461591 \r\nL 602.241383 525.207045 \r\nL 609.443403 673.461591 \r\nL 616.645423 228.697955 \r\nL 623.847443 673.461591 \r\nL 638.251484 376.9525 \r\nL 645.453504 673.461591 \r\nL 652.655524 525.207045 \r\nL 659.857544 525.207045 \r\nL 667.059564 673.461591 \r\nL 674.261585 525.207045 \r\nL 681.463605 525.207045 \r\nL 688.665625 673.461591 \r\nL 695.867645 376.9525 \r\nL 703.069665 673.461591 \r\nL 739.079766 673.461591 \r\nL 746.281787 525.207045 \r\nL 753.483807 673.461591 \r\nL 767.887847 673.461591 \r\nL 775.089867 525.207045 \r\nL 782.291888 673.461591 \r\nL 839.908049 673.461591 \r\nL 847.110069 525.207045 \r\nL 854.31209 673.461591 \r\nL 904.726231 673.461591 \r\nL 911.928251 525.207045 \r\nL 919.130271 673.461591 \r\nL 1005.554514 673.461591 \r\nL 1012.756534 525.207045 \r\nL 1019.958554 673.461591 \r\nL 1272.029261 673.461591 \r\nL 1272.029261 673.461591 \r\n\" style=\"fill:none;stroke:#ea4335;stroke-linecap:square;stroke-width:0.3;\"/>\r\n   </g>\r\n   <g id=\"line2d_31\">\r\n    <path clip-path=\"url(#p19a0d7f916)\" d=\"M 191.726231 673.461591 \r\nL 314.160574 673.461591 \r\nL 321.362595 652.28237 \r\nL 328.564615 652.28237 \r\nL 335.766635 631.103149 \r\nL 342.968655 631.103149 \r\nL 350.170676 546.386266 \r\nL 357.372696 525.207045 \r\nL 364.574716 482.848604 \r\nL 371.776736 482.848604 \r\nL 378.978756 461.669383 \r\nL 386.180777 482.848604 \r\nL 393.382797 482.848604 \r\nL 400.584817 504.027825 \r\nL 407.786837 440.490162 \r\nL 414.988857 461.669383 \r\nL 429.392898 334.594058 \r\nL 436.594918 313.414838 \r\nL 443.796938 271.056396 \r\nL 450.998958 313.414838 \r\nL 465.402999 355.773279 \r\nL 472.605019 419.310942 \r\nL 479.807039 504.027825 \r\nL 487.009059 525.207045 \r\nL 494.21108 567.565487 \r\nL 501.4131 588.744708 \r\nL 530.221181 588.744708 \r\nL 537.423201 567.565487 \r\nL 544.625221 567.565487 \r\nL 551.827241 546.386266 \r\nL 559.029261 609.923929 \r\nL 573.433302 567.565487 \r\nL 580.635322 504.027825 \r\nL 609.443403 504.027825 \r\nL 616.645423 461.669383 \r\nL 631.049463 546.386266 \r\nL 638.251484 525.207045 \r\nL 652.655524 525.207045 \r\nL 659.857544 504.027825 \r\nL 667.059564 567.565487 \r\nL 674.261585 546.386266 \r\nL 681.463605 546.386266 \r\nL 688.665625 588.744708 \r\nL 695.867645 546.386266 \r\nL 710.271686 588.744708 \r\nL 717.473706 588.744708 \r\nL 731.877746 631.103149 \r\nL 739.079766 631.103149 \r\nL 746.281787 652.28237 \r\nL 767.887847 652.28237 \r\nL 775.089867 631.103149 \r\nL 789.493908 631.103149 \r\nL 796.695928 652.28237 \r\nL 818.301989 652.28237 \r\nL 825.504009 673.461591 \r\nL 839.908049 673.461591 \r\nL 847.110069 652.28237 \r\nL 897.524211 652.28237 \r\nL 904.726231 673.461591 \r\nL 911.928251 652.28237 \r\nL 955.140372 652.28237 \r\nL 962.342393 673.461591 \r\nL 1005.554514 673.461591 \r\nL 1012.756534 652.28237 \r\nL 1055.968655 652.28237 \r\nL 1063.170676 673.461591 \r\nL 1272.029261 673.461591 \r\nL 1272.029261 673.461591 \r\n\" style=\"fill:none;stroke:#ea4335;stroke-linecap:square;stroke-width:3;\"/>\r\n   </g>\r\n   <g id=\"patch_8\">\r\n    <path d=\"M 46.965625 703.1125 \r\nL 46.965625 50.7925 \r\n\" style=\"fill:none;stroke:#000000;stroke-linecap:square;stroke-linejoin:miter;stroke-width:0.8;\"/>\r\n   </g>\r\n   <g id=\"patch_9\">\r\n    <path d=\"M 1330.365625 703.1125 \r\nL 1330.365625 50.7925 \r\n\" style=\"fill:none;stroke:#000000;stroke-linecap:square;stroke-linejoin:miter;stroke-width:0.8;\"/>\r\n   </g>\r\n   <g id=\"patch_10\">\r\n    <path d=\"M 46.965625 703.1125 \r\nL 1330.365625 703.1125 \r\n\" style=\"fill:none;stroke:#000000;stroke-linecap:square;stroke-linejoin:miter;stroke-width:0.8;\"/>\r\n   </g>\r\n   <g id=\"patch_11\">\r\n    <path d=\"M 46.965625 50.7925 \r\nL 1330.365625 50.7925 \r\n\" style=\"fill:none;stroke:#000000;stroke-linecap:square;stroke-linejoin:miter;stroke-width:0.8;\"/>\r\n   </g>\r\n   <g id=\"legend_2\">\r\n    <g id=\"patch_12\">\r\n     <path d=\"M 1177.414063 88.14875 \r\nL 1323.365625 88.14875 \r\nQ 1325.365625 88.14875 1325.365625 86.14875 \r\nL 1325.365625 57.7925 \r\nQ 1325.365625 55.7925 1323.365625 55.7925 \r\nL 1177.414063 55.7925 \r\nQ 1175.414063 55.7925 1175.414063 57.7925 \r\nL 1175.414063 86.14875 \r\nQ 1175.414063 88.14875 1177.414063 88.14875 \r\nz\r\n\" style=\"fill:#ffffff;opacity:0.8;stroke:#cccccc;stroke-linejoin:miter;\"/>\r\n    </g>\r\n    <g id=\"line2d_32\">\r\n     <path d=\"M 1179.414063 63.890937 \r\nL 1199.414063 63.890937 \r\n\" style=\"fill:none;stroke:#ea4335;stroke-linecap:square;stroke-width:0.3;\"/>\r\n    </g>\r\n    <g id=\"line2d_33\"/>\r\n    <g id=\"text_30\">\r\n     <!-- Daily Death -->\r\n     <g transform=\"translate(1207.414063 67.390937)scale(0.1 -0.1)\">\r\n      <use xlink:href=\"#DejaVuSans-44\"/>\r\n      <use x=\"77.001953\" xlink:href=\"#DejaVuSans-61\"/>\r\n      <use x=\"138.28125\" xlink:href=\"#DejaVuSans-69\"/>\r\n      <use x=\"166.064453\" xlink:href=\"#DejaVuSans-6c\"/>\r\n      <use x=\"193.847656\" xlink:href=\"#DejaVuSans-79\"/>\r\n      <use x=\"253.027344\" xlink:href=\"#DejaVuSans-20\"/>\r\n      <use x=\"284.814453\" xlink:href=\"#DejaVuSans-44\"/>\r\n      <use x=\"361.816406\" xlink:href=\"#DejaVuSans-65\"/>\r\n      <use x=\"423.339844\" xlink:href=\"#DejaVuSans-61\"/>\r\n      <use x=\"484.619141\" xlink:href=\"#DejaVuSans-74\"/>\r\n      <use x=\"523.828125\" xlink:href=\"#DejaVuSans-68\"/>\r\n     </g>\r\n    </g>\r\n    <g id=\"line2d_34\">\r\n     <path d=\"M 1179.414063 78.569062 \r\nL 1199.414063 78.569062 \r\n\" style=\"fill:none;stroke:#ea4335;stroke-linecap:square;stroke-width:3;\"/>\r\n    </g>\r\n    <g id=\"line2d_35\"/>\r\n    <g id=\"text_31\">\r\n     <!-- 7day rolling avg Death -->\r\n     <g transform=\"translate(1207.414063 82.069062)scale(0.1 -0.1)\">\r\n      <use xlink:href=\"#DejaVuSans-37\"/>\r\n      <use x=\"63.623047\" xlink:href=\"#DejaVuSans-64\"/>\r\n      <use x=\"127.099609\" xlink:href=\"#DejaVuSans-61\"/>\r\n      <use x=\"188.378906\" xlink:href=\"#DejaVuSans-79\"/>\r\n      <use x=\"247.558594\" xlink:href=\"#DejaVuSans-20\"/>\r\n      <use x=\"279.345703\" xlink:href=\"#DejaVuSans-72\"/>\r\n      <use x=\"318.208984\" xlink:href=\"#DejaVuSans-6f\"/>\r\n      <use x=\"379.390625\" xlink:href=\"#DejaVuSans-6c\"/>\r\n      <use x=\"407.173828\" xlink:href=\"#DejaVuSans-6c\"/>\r\n      <use x=\"434.957031\" xlink:href=\"#DejaVuSans-69\"/>\r\n      <use x=\"462.740234\" xlink:href=\"#DejaVuSans-6e\"/>\r\n      <use x=\"526.119141\" xlink:href=\"#DejaVuSans-67\"/>\r\n      <use x=\"589.595703\" xlink:href=\"#DejaVuSans-20\"/>\r\n      <use x=\"621.382812\" xlink:href=\"#DejaVuSans-61\"/>\r\n      <use x=\"682.662109\" xlink:href=\"#DejaVuSans-76\"/>\r\n      <use x=\"741.841797\" xlink:href=\"#DejaVuSans-67\"/>\r\n      <use x=\"805.318359\" xlink:href=\"#DejaVuSans-20\"/>\r\n      <use x=\"837.105469\" xlink:href=\"#DejaVuSans-44\"/>\r\n      <use x=\"914.107422\" xlink:href=\"#DejaVuSans-65\"/>\r\n      <use x=\"975.630859\" xlink:href=\"#DejaVuSans-61\"/>\r\n      <use x=\"1036.910156\" xlink:href=\"#DejaVuSans-74\"/>\r\n      <use x=\"1076.119141\" xlink:href=\"#DejaVuSans-68\"/>\r\n     </g>\r\n    </g>\r\n   </g>\r\n  </g>\r\n </g>\r\n <defs>\r\n  <clipPath id=\"p19a0d7f916\">\r\n   <rect height=\"652.32\" width=\"1283.4\" x=\"46.965625\" y=\"50.7925\"/>\r\n  </clipPath>\r\n </defs>\r\n</svg>\r\n",
      "image/png": "[encoded data removed]"
     },
     "metadata": {
      "needs_background": "light"
     }
    }
   ],
   "source": [
    "draw_with_rolling_avg(df_daily, 'Date', 'ConfirmedCases', 'Death', days = 7)"
   ]
  },
  {
   "cell_type": "code",
   "execution_count": 69,
   "metadata": {},
   "outputs": [],
   "source": []
  },
  {
   "cell_type": "code",
   "execution_count": 31,
   "metadata": {},
   "outputs": [
    {
     "output_type": "execute_result",
     "data": {
      "text/plain": [
       "    code province         city   latitude   longitude  \\\n",
       "0  10000    Seoul        Seoul  37.566953  126.977977   \n",
       "1  10010    Seoul   Gangnam-gu  37.518421  127.047222   \n",
       "2  10020    Seoul  Gangdong-gu  37.530492  127.123837   \n",
       "3  10030    Seoul   Gangbuk-gu  37.639938  127.025508   \n",
       "4  10040    Seoul   Gangseo-gu  37.551166  126.849506   \n",
       "\n",
       "   elementary_school_count  kindergarten_count  university_count  \\\n",
       "0                      607                 830                48   \n",
       "1                       33                  38                 0   \n",
       "2                       27                  32                 0   \n",
       "3                       14                  21                 0   \n",
       "4                       36                  56                 1   \n",
       "\n",
       "   academy_ratio  elderly_population_ratio  elderly_alone_ratio  \\\n",
       "0           1.44                     15.38                  5.8   \n",
       "1           4.18                     13.17                  4.3   \n",
       "2           1.54                     14.55                  5.4   \n",
       "3           0.67                     19.49                  8.5   \n",
       "4           1.17                     14.39                  5.7   \n",
       "\n",
       "   nursing_home_count  \n",
       "0               22739  \n",
       "1                3088  \n",
       "2                1023  \n",
       "3                 628  \n",
       "4                1080  "
      ],
      "text/html": "<div>\n<style scoped>\n    .dataframe tbody tr th:only-of-type {\n        vertical-align: middle;\n    }\n\n    .dataframe tbody tr th {\n        vertical-align: top;\n    }\n\n    .dataframe thead th {\n        text-align: right;\n    }\n</style>\n<table border=\"1\" class=\"dataframe\">\n  <thead>\n    <tr style=\"text-align: right;\">\n      <th></th>\n      <th>code</th>\n      <th>province</th>\n      <th>city</th>\n      <th>latitude</th>\n      <th>longitude</th>\n      <th>elementary_school_count</th>\n      <th>kindergarten_count</th>\n      <th>university_count</th>\n      <th>academy_ratio</th>\n      <th>elderly_population_ratio</th>\n      <th>elderly_alone_ratio</th>\n      <th>nursing_home_count</th>\n    </tr>\n  </thead>\n  <tbody>\n    <tr>\n      <th>0</th>\n      <td>10000</td>\n      <td>Seoul</td>\n      <td>Seoul</td>\n      <td>37.566953</td>\n      <td>126.977977</td>\n      <td>607</td>\n      <td>830</td>\n      <td>48</td>\n      <td>1.44</td>\n      <td>15.38</td>\n      <td>5.8</td>\n      <td>22739</td>\n    </tr>\n    <tr>\n      <th>1</th>\n      <td>10010</td>\n      <td>Seoul</td>\n      <td>Gangnam-gu</td>\n      <td>37.518421</td>\n      <td>127.047222</td>\n      <td>33</td>\n      <td>38</td>\n      <td>0</td>\n      <td>4.18</td>\n      <td>13.17</td>\n      <td>4.3</td>\n      <td>3088</td>\n    </tr>\n    <tr>\n      <th>2</th>\n      <td>10020</td>\n      <td>Seoul</td>\n      <td>Gangdong-gu</td>\n      <td>37.530492</td>\n      <td>127.123837</td>\n      <td>27</td>\n      <td>32</td>\n      <td>0</td>\n      <td>1.54</td>\n      <td>14.55</td>\n      <td>5.4</td>\n      <td>1023</td>\n    </tr>\n    <tr>\n      <th>3</th>\n      <td>10030</td>\n      <td>Seoul</td>\n      <td>Gangbuk-gu</td>\n      <td>37.639938</td>\n      <td>127.025508</td>\n      <td>14</td>\n      <td>21</td>\n      <td>0</td>\n      <td>0.67</td>\n      <td>19.49</td>\n      <td>8.5</td>\n      <td>628</td>\n    </tr>\n    <tr>\n      <th>4</th>\n      <td>10040</td>\n      <td>Seoul</td>\n      <td>Gangseo-gu</td>\n      <td>37.551166</td>\n      <td>126.849506</td>\n      <td>36</td>\n      <td>56</td>\n      <td>1</td>\n      <td>1.17</td>\n      <td>14.39</td>\n      <td>5.7</td>\n      <td>1080</td>\n    </tr>\n  </tbody>\n</table>\n</div>"
     },
     "metadata": {},
     "execution_count": 31
    }
   ],
   "source": [
    "region_df = pd.read_csv('.\\data\\Region.csv')\n",
    "region_df.head()"
   ]
  },
  {
   "cell_type": "code",
   "execution_count": 32,
   "metadata": {},
   "outputs": [
    {
     "output_type": "execute_result",
     "data": {
      "text/plain": [
       "                              code  latitude  longitude  \\\n",
       "code                      1.000000 -0.419027   0.122203   \n",
       "latitude                 -0.419027  1.000000  -0.224579   \n",
       "longitude                 0.122203 -0.224579   1.000000   \n",
       "elementary_school_count   0.144407  0.076126  -0.066627   \n",
       "kindergarten_count        0.134610  0.079424  -0.068006   \n",
       "university_count          0.133138  0.077213  -0.064224   \n",
       "academy_ratio            -0.239473 -0.090529  -0.009302   \n",
       "elderly_population_ratio  0.567764 -0.296788   0.093870   \n",
       "elderly_alone_ratio       0.643314 -0.390378   0.096800   \n",
       "nursing_home_count        0.095244  0.096744  -0.071889   \n",
       "\n",
       "                          elementary_school_count  kindergarten_count  \\\n",
       "code                                     0.144407            0.134610   \n",
       "latitude                                 0.076126            0.079424   \n",
       "longitude                               -0.066627           -0.068006   \n",
       "elementary_school_count                  1.000000            0.998604   \n",
       "kindergarten_count                       0.998604            1.000000   \n",
       "university_count                         0.995520            0.993414   \n",
       "academy_ratio                            0.074542            0.080832   \n",
       "elderly_population_ratio                -0.093582           -0.105287   \n",
       "elderly_alone_ratio                     -0.086028           -0.096907   \n",
       "nursing_home_count                       0.987042            0.986783   \n",
       "\n",
       "                          university_count  academy_ratio  \\\n",
       "code                              0.133138      -0.239473   \n",
       "latitude                          0.077213      -0.090529   \n",
       "longitude                        -0.064224      -0.009302   \n",
       "elementary_school_count           0.995520       0.074542   \n",
       "kindergarten_count                0.993414       0.080832   \n",
       "university_count                  1.000000       0.081918   \n",
       "academy_ratio                     0.081918       1.000000   \n",
       "elderly_population_ratio         -0.105257      -0.627524   \n",
       "elderly_alone_ratio              -0.100359      -0.578918   \n",
       "nursing_home_count                0.989203       0.089914   \n",
       "\n",
       "                          elderly_population_ratio  elderly_alone_ratio  \\\n",
       "code                                      0.567764             0.643314   \n",
       "latitude                                 -0.296788            -0.390378   \n",
       "longitude                                 0.093870             0.096800   \n",
       "elementary_school_count                  -0.093582            -0.086028   \n",
       "kindergarten_count                       -0.105287            -0.096907   \n",
       "university_count                         -0.105257            -0.100359   \n",
       "academy_ratio                            -0.627524            -0.578918   \n",
       "elderly_population_ratio                  1.000000             0.975789   \n",
       "elderly_alone_ratio                       0.975789             1.000000   \n",
       "nursing_home_count                       -0.114462            -0.111793   \n",
       "\n",
       "                          nursing_home_count  \n",
       "code                                0.095244  \n",
       "latitude                            0.096744  \n",
       "longitude                          -0.071889  \n",
       "elementary_school_count             0.987042  \n",
       "kindergarten_count                  0.986783  \n",
       "university_count                    0.989203  \n",
       "academy_ratio                       0.089914  \n",
       "elderly_population_ratio           -0.114462  \n",
       "elderly_alone_ratio                -0.111793  \n",
       "nursing_home_count                  1.000000  "
      ],
      "text/html": "<div>\n<style scoped>\n    .dataframe tbody tr th:only-of-type {\n        vertical-align: middle;\n    }\n\n    .dataframe tbody tr th {\n        vertical-align: top;\n    }\n\n    .dataframe thead th {\n        text-align: right;\n    }\n</style>\n<table border=\"1\" class=\"dataframe\">\n  <thead>\n    <tr style=\"text-align: right;\">\n      <th></th>\n      <th>code</th>\n      <th>latitude</th>\n      <th>longitude</th>\n      <th>elementary_school_count</th>\n      <th>kindergarten_count</th>\n      <th>university_count</th>\n      <th>academy_ratio</th>\n      <th>elderly_population_ratio</th>\n      <th>elderly_alone_ratio</th>\n      <th>nursing_home_count</th>\n    </tr>\n  </thead>\n  <tbody>\n    <tr>\n      <th>code</th>\n      <td>1.000000</td>\n      <td>-0.419027</td>\n      <td>0.122203</td>\n      <td>0.144407</td>\n      <td>0.134610</td>\n      <td>0.133138</td>\n      <td>-0.239473</td>\n      <td>0.567764</td>\n      <td>0.643314</td>\n      <td>0.095244</td>\n    </tr>\n    <tr>\n      <th>latitude</th>\n      <td>-0.419027</td>\n      <td>1.000000</td>\n      <td>-0.224579</td>\n      <td>0.076126</td>\n      <td>0.079424</td>\n      <td>0.077213</td>\n      <td>-0.090529</td>\n      <td>-0.296788</td>\n      <td>-0.390378</td>\n      <td>0.096744</td>\n    </tr>\n    <tr>\n      <th>longitude</th>\n      <td>0.122203</td>\n      <td>-0.224579</td>\n      <td>1.000000</td>\n      <td>-0.066627</td>\n      <td>-0.068006</td>\n      <td>-0.064224</td>\n      <td>-0.009302</td>\n      <td>0.093870</td>\n      <td>0.096800</td>\n      <td>-0.071889</td>\n    </tr>\n    <tr>\n      <th>elementary_school_count</th>\n      <td>0.144407</td>\n      <td>0.076126</td>\n      <td>-0.066627</td>\n      <td>1.000000</td>\n      <td>0.998604</td>\n      <td>0.995520</td>\n      <td>0.074542</td>\n      <td>-0.093582</td>\n      <td>-0.086028</td>\n      <td>0.987042</td>\n    </tr>\n    <tr>\n      <th>kindergarten_count</th>\n      <td>0.134610</td>\n      <td>0.079424</td>\n      <td>-0.068006</td>\n      <td>0.998604</td>\n      <td>1.000000</td>\n      <td>0.993414</td>\n      <td>0.080832</td>\n      <td>-0.105287</td>\n      <td>-0.096907</td>\n      <td>0.986783</td>\n    </tr>\n    <tr>\n      <th>university_count</th>\n      <td>0.133138</td>\n      <td>0.077213</td>\n      <td>-0.064224</td>\n      <td>0.995520</td>\n      <td>0.993414</td>\n      <td>1.000000</td>\n      <td>0.081918</td>\n      <td>-0.105257</td>\n      <td>-0.100359</td>\n      <td>0.989203</td>\n    </tr>\n    <tr>\n      <th>academy_ratio</th>\n      <td>-0.239473</td>\n      <td>-0.090529</td>\n      <td>-0.009302</td>\n      <td>0.074542</td>\n      <td>0.080832</td>\n      <td>0.081918</td>\n      <td>1.000000</td>\n      <td>-0.627524</td>\n      <td>-0.578918</td>\n      <td>0.089914</td>\n    </tr>\n    <tr>\n      <th>elderly_population_ratio</th>\n      <td>0.567764</td>\n      <td>-0.296788</td>\n      <td>0.093870</td>\n      <td>-0.093582</td>\n      <td>-0.105287</td>\n      <td>-0.105257</td>\n      <td>-0.627524</td>\n      <td>1.000000</td>\n      <td>0.975789</td>\n      <td>-0.114462</td>\n    </tr>\n    <tr>\n      <th>elderly_alone_ratio</th>\n      <td>0.643314</td>\n      <td>-0.390378</td>\n      <td>0.096800</td>\n      <td>-0.086028</td>\n      <td>-0.096907</td>\n      <td>-0.100359</td>\n      <td>-0.578918</td>\n      <td>0.975789</td>\n      <td>1.000000</td>\n      <td>-0.111793</td>\n    </tr>\n    <tr>\n      <th>nursing_home_count</th>\n      <td>0.095244</td>\n      <td>0.096744</td>\n      <td>-0.071889</td>\n      <td>0.987042</td>\n      <td>0.986783</td>\n      <td>0.989203</td>\n      <td>0.089914</td>\n      <td>-0.114462</td>\n      <td>-0.111793</td>\n      <td>1.000000</td>\n    </tr>\n  </tbody>\n</table>\n</div>"
     },
     "metadata": {},
     "execution_count": 32
    }
   ],
   "source": [
    "region_df.corr()"
   ]
  },
  {
   "cell_type": "code",
   "execution_count": 33,
   "metadata": {},
   "outputs": [
    {
     "output_type": "execute_result",
     "data": {
      "text/plain": [
       "      code           province               city   latitude   longitude  \\\n",
       "0    10000              Seoul              Seoul  37.566953  126.977977   \n",
       "26   11000              Busan              Busan  35.179884  129.074796   \n",
       "43   12000              Daegu              Daegu  35.872150  128.601783   \n",
       "52   13000            Gwangju            Gwangju  35.160467  126.851392   \n",
       "58   14000            Incheon            Incheon  37.456188  126.705920   \n",
       "69   15000            Daejeon            Daejeon  36.350621  127.384744   \n",
       "75   16000              Ulsan              Ulsan  35.539797  129.311538   \n",
       "81   17000             Sejong             Sejong  36.480132  127.289021   \n",
       "82   20000        Gyeonggi-do        Gyeonggi-do  37.275119  127.009466   \n",
       "114  30000         Gangwon-do         Gangwon-do  37.885369  127.729868   \n",
       "133  40000  Chungcheongbuk-do  Chungcheongbuk-do  36.635680  127.491384   \n",
       "145  41000  Chungcheongnam-do  Chungcheongnam-do  36.658976  126.673318   \n",
       "161  50000       Jeollabuk-do       Jeollabuk-do  35.820308  127.108791   \n",
       "176  51000       Jeollanam-do       Jeollanam-do  34.816095  126.463021   \n",
       "199  60000   Gyeongsangbuk-do   Gyeongsangbuk-do  36.576032  128.505599   \n",
       "223  61000   Gyeongsangnam-do   Gyeongsangnam-do  35.238294  128.692397   \n",
       "242  70000            Jeju-do            Jeju-do  33.488936  126.500423   \n",
       "243  80000              Korea              Korea  37.566953  126.977977   \n",
       "\n",
       "     elementary_school_count  kindergarten_count  university_count  \\\n",
       "0                        607                 830                48   \n",
       "26                       304                 408                22   \n",
       "43                       229                 355                11   \n",
       "52                       155                 312                17   \n",
       "58                       250                 403                 7   \n",
       "69                       148                 260                15   \n",
       "75                       119                 200                 4   \n",
       "81                        48                  60                 3   \n",
       "82                      1277                2237                61   \n",
       "114                      349                 368                18   \n",
       "133                      259                 328                17   \n",
       "145                      409                 499                21   \n",
       "161                      419                 519                19   \n",
       "176                      429                 542                19   \n",
       "199                      471                 707                33   \n",
       "223                      501                 686                21   \n",
       "242                      113                 123                 4   \n",
       "243                     6087                8837               340   \n",
       "\n",
       "     academy_ratio  elderly_population_ratio  elderly_alone_ratio  \\\n",
       "0             1.44                     15.38                  5.8   \n",
       "26            1.40                     18.41                  8.6   \n",
       "43            1.62                     15.78                  7.5   \n",
       "52            2.38                     13.57                  6.4   \n",
       "58            1.27                     13.20                  5.8   \n",
       "69            1.49                     13.65                  5.8   \n",
       "75            2.21                     11.76                  5.2   \n",
       "81            1.78                      9.48                  3.8   \n",
       "82            1.60                     12.63                  5.2   \n",
       "114           1.42                     19.89                  9.8   \n",
       "133           1.39                     17.28                  8.5   \n",
       "145           1.38                     18.40                  8.9   \n",
       "161           2.12                     20.60                 10.9   \n",
       "176           1.45                     22.81                 13.5   \n",
       "199           1.33                     20.85                 11.1   \n",
       "223           1.78                     16.51                  9.1   \n",
       "242           1.53                     15.10                  6.4   \n",
       "243           1.56                     15.67                  7.2   \n",
       "\n",
       "     nursing_home_count  \n",
       "0                 22739  \n",
       "26                 6752  \n",
       "43                 5083  \n",
       "52                 2852  \n",
       "58                 4497  \n",
       "69                 2984  \n",
       "75                 1801  \n",
       "81                  491  \n",
       "82                20491  \n",
       "114                2519  \n",
       "133                2769  \n",
       "145                3641  \n",
       "161                3774  \n",
       "176                3389  \n",
       "199                4474  \n",
       "223                5364  \n",
       "242                1245  \n",
       "243               94865  "
      ],
      "text/html": "<div>\n<style scoped>\n    .dataframe tbody tr th:only-of-type {\n        vertical-align: middle;\n    }\n\n    .dataframe tbody tr th {\n        vertical-align: top;\n    }\n\n    .dataframe thead th {\n        text-align: right;\n    }\n</style>\n<table border=\"1\" class=\"dataframe\">\n  <thead>\n    <tr style=\"text-align: right;\">\n      <th></th>\n      <th>code</th>\n      <th>province</th>\n      <th>city</th>\n      <th>latitude</th>\n      <th>longitude</th>\n      <th>elementary_school_count</th>\n      <th>kindergarten_count</th>\n      <th>university_count</th>\n      <th>academy_ratio</th>\n      <th>elderly_population_ratio</th>\n      <th>elderly_alone_ratio</th>\n      <th>nursing_home_count</th>\n    </tr>\n  </thead>\n  <tbody>\n    <tr>\n      <th>0</th>\n      <td>10000</td>\n      <td>Seoul</td>\n      <td>Seoul</td>\n      <td>37.566953</td>\n      <td>126.977977</td>\n      <td>607</td>\n      <td>830</td>\n      <td>48</td>\n      <td>1.44</td>\n      <td>15.38</td>\n      <td>5.8</td>\n      <td>22739</td>\n    </tr>\n    <tr>\n      <th>26</th>\n      <td>11000</td>\n      <td>Busan</td>\n      <td>Busan</td>\n      <td>35.179884</td>\n      <td>129.074796</td>\n      <td>304</td>\n      <td>408</td>\n      <td>22</td>\n      <td>1.40</td>\n      <td>18.41</td>\n      <td>8.6</td>\n      <td>6752</td>\n    </tr>\n    <tr>\n      <th>43</th>\n      <td>12000</td>\n      <td>Daegu</td>\n      <td>Daegu</td>\n      <td>35.872150</td>\n      <td>128.601783</td>\n      <td>229</td>\n      <td>355</td>\n      <td>11</td>\n      <td>1.62</td>\n      <td>15.78</td>\n      <td>7.5</td>\n      <td>5083</td>\n    </tr>\n    <tr>\n      <th>52</th>\n      <td>13000</td>\n      <td>Gwangju</td>\n      <td>Gwangju</td>\n      <td>35.160467</td>\n      <td>126.851392</td>\n      <td>155</td>\n      <td>312</td>\n      <td>17</td>\n      <td>2.38</td>\n      <td>13.57</td>\n      <td>6.4</td>\n      <td>2852</td>\n    </tr>\n    <tr>\n      <th>58</th>\n      <td>14000</td>\n      <td>Incheon</td>\n      <td>Incheon</td>\n      <td>37.456188</td>\n      <td>126.705920</td>\n      <td>250</td>\n      <td>403</td>\n      <td>7</td>\n      <td>1.27</td>\n      <td>13.20</td>\n      <td>5.8</td>\n      <td>4497</td>\n    </tr>\n    <tr>\n      <th>69</th>\n      <td>15000</td>\n      <td>Daejeon</td>\n      <td>Daejeon</td>\n      <td>36.350621</td>\n      <td>127.384744</td>\n      <td>148</td>\n      <td>260</td>\n      <td>15</td>\n      <td>1.49</td>\n      <td>13.65</td>\n      <td>5.8</td>\n      <td>2984</td>\n    </tr>\n    <tr>\n      <th>75</th>\n      <td>16000</td>\n      <td>Ulsan</td>\n      <td>Ulsan</td>\n      <td>35.539797</td>\n      <td>129.311538</td>\n      <td>119</td>\n      <td>200</td>\n      <td>4</td>\n      <td>2.21</td>\n      <td>11.76</td>\n      <td>5.2</td>\n      <td>1801</td>\n    </tr>\n    <tr>\n      <th>81</th>\n      <td>17000</td>\n      <td>Sejong</td>\n      <td>Sejong</td>\n      <td>36.480132</td>\n      <td>127.289021</td>\n      <td>48</td>\n      <td>60</td>\n      <td>3</td>\n      <td>1.78</td>\n      <td>9.48</td>\n      <td>3.8</td>\n      <td>491</td>\n    </tr>\n    <tr>\n      <th>82</th>\n      <td>20000</td>\n      <td>Gyeonggi-do</td>\n      <td>Gyeonggi-do</td>\n      <td>37.275119</td>\n      <td>127.009466</td>\n      <td>1277</td>\n      <td>2237</td>\n      <td>61</td>\n      <td>1.60</td>\n      <td>12.63</td>\n      <td>5.2</td>\n      <td>20491</td>\n    </tr>\n    <tr>\n      <th>114</th>\n      <td>30000</td>\n      <td>Gangwon-do</td>\n      <td>Gangwon-do</td>\n      <td>37.885369</td>\n      <td>127.729868</td>\n      <td>349</td>\n      <td>368</td>\n      <td>18</td>\n      <td>1.42</td>\n      <td>19.89</td>\n      <td>9.8</td>\n      <td>2519</td>\n    </tr>\n    <tr>\n      <th>133</th>\n      <td>40000</td>\n      <td>Chungcheongbuk-do</td>\n      <td>Chungcheongbuk-do</td>\n      <td>36.635680</td>\n      <td>127.491384</td>\n      <td>259</td>\n      <td>328</td>\n      <td>17</td>\n      <td>1.39</td>\n      <td>17.28</td>\n      <td>8.5</td>\n      <td>2769</td>\n    </tr>\n    <tr>\n      <th>145</th>\n      <td>41000</td>\n      <td>Chungcheongnam-do</td>\n      <td>Chungcheongnam-do</td>\n      <td>36.658976</td>\n      <td>126.673318</td>\n      <td>409</td>\n      <td>499</td>\n      <td>21</td>\n      <td>1.38</td>\n      <td>18.40</td>\n      <td>8.9</td>\n      <td>3641</td>\n    </tr>\n    <tr>\n      <th>161</th>\n      <td>50000</td>\n      <td>Jeollabuk-do</td>\n      <td>Jeollabuk-do</td>\n      <td>35.820308</td>\n      <td>127.108791</td>\n      <td>419</td>\n      <td>519</td>\n      <td>19</td>\n      <td>2.12</td>\n      <td>20.60</td>\n      <td>10.9</td>\n      <td>3774</td>\n    </tr>\n    <tr>\n      <th>176</th>\n      <td>51000</td>\n      <td>Jeollanam-do</td>\n      <td>Jeollanam-do</td>\n      <td>34.816095</td>\n      <td>126.463021</td>\n      <td>429</td>\n      <td>542</td>\n      <td>19</td>\n      <td>1.45</td>\n      <td>22.81</td>\n      <td>13.5</td>\n      <td>3389</td>\n    </tr>\n    <tr>\n      <th>199</th>\n      <td>60000</td>\n      <td>Gyeongsangbuk-do</td>\n      <td>Gyeongsangbuk-do</td>\n      <td>36.576032</td>\n      <td>128.505599</td>\n      <td>471</td>\n      <td>707</td>\n      <td>33</td>\n      <td>1.33</td>\n      <td>20.85</td>\n      <td>11.1</td>\n      <td>4474</td>\n    </tr>\n    <tr>\n      <th>223</th>\n      <td>61000</td>\n      <td>Gyeongsangnam-do</td>\n      <td>Gyeongsangnam-do</td>\n      <td>35.238294</td>\n      <td>128.692397</td>\n      <td>501</td>\n      <td>686</td>\n      <td>21</td>\n      <td>1.78</td>\n      <td>16.51</td>\n      <td>9.1</td>\n      <td>5364</td>\n    </tr>\n    <tr>\n      <th>242</th>\n      <td>70000</td>\n      <td>Jeju-do</td>\n      <td>Jeju-do</td>\n      <td>33.488936</td>\n      <td>126.500423</td>\n      <td>113</td>\n      <td>123</td>\n      <td>4</td>\n      <td>1.53</td>\n      <td>15.10</td>\n      <td>6.4</td>\n      <td>1245</td>\n    </tr>\n    <tr>\n      <th>243</th>\n      <td>80000</td>\n      <td>Korea</td>\n      <td>Korea</td>\n      <td>37.566953</td>\n      <td>126.977977</td>\n      <td>6087</td>\n      <td>8837</td>\n      <td>340</td>\n      <td>1.56</td>\n      <td>15.67</td>\n      <td>7.2</td>\n      <td>94865</td>\n    </tr>\n  </tbody>\n</table>\n</div>"
     },
     "metadata": {},
     "execution_count": 33
    }
   ],
   "source": [
    "region_only_df = region_df[region_df['province'] == region_df['city']].copy()\n",
    "region_only_df"
   ]
  },
  {
   "cell_type": "code",
   "execution_count": 34,
   "metadata": {},
   "outputs": [
    {
     "output_type": "execute_result",
     "data": {
      "text/plain": [
       "             province  elementary_school_count  kindergarten_count  \\\n",
       "0               Seoul                      607                 830   \n",
       "1               Busan                      304                 408   \n",
       "2               Daegu                      229                 355   \n",
       "3             Gwangju                      155                 312   \n",
       "4             Incheon                      250                 403   \n",
       "5             Daejeon                      148                 260   \n",
       "6               Ulsan                      119                 200   \n",
       "7              Sejong                       48                  60   \n",
       "8         Gyeonggi-do                     1277                2237   \n",
       "9          Gangwon-do                      349                 368   \n",
       "10  Chungcheongbuk-do                      259                 328   \n",
       "11  Chungcheongnam-do                      409                 499   \n",
       "12       Jeollabuk-do                      419                 519   \n",
       "13       Jeollanam-do                      429                 542   \n",
       "14   Gyeongsangbuk-do                      471                 707   \n",
       "15   Gyeongsangnam-do                      501                 686   \n",
       "16            Jeju-do                      113                 123   \n",
       "\n",
       "    university_count  province_population_in_M  \n",
       "0                 48                      9.64  \n",
       "1                 22                      3.37  \n",
       "2                 11                      2.43  \n",
       "3                 17                      1.49  \n",
       "4                  7                      2.95  \n",
       "5                 15                      1.50  \n",
       "6                  4                      1.14  \n",
       "7                  3                      0.34  \n",
       "8                 61                     13.30  \n",
       "9                 18                      1.52  \n",
       "10                17                      1.63  \n",
       "11                21                      2.19  \n",
       "12                19                      1.81  \n",
       "13                19                      1.79  \n",
       "14                33                      2.67  \n",
       "15                21                      3.35  \n",
       "16                 4                      0.67  "
      ],
      "text/html": "<div>\n<style scoped>\n    .dataframe tbody tr th:only-of-type {\n        vertical-align: middle;\n    }\n\n    .dataframe tbody tr th {\n        vertical-align: top;\n    }\n\n    .dataframe thead th {\n        text-align: right;\n    }\n</style>\n<table border=\"1\" class=\"dataframe\">\n  <thead>\n    <tr style=\"text-align: right;\">\n      <th></th>\n      <th>province</th>\n      <th>elementary_school_count</th>\n      <th>kindergarten_count</th>\n      <th>university_count</th>\n      <th>province_population_in_M</th>\n    </tr>\n  </thead>\n  <tbody>\n    <tr>\n      <th>0</th>\n      <td>Seoul</td>\n      <td>607</td>\n      <td>830</td>\n      <td>48</td>\n      <td>9.64</td>\n    </tr>\n    <tr>\n      <th>1</th>\n      <td>Busan</td>\n      <td>304</td>\n      <td>408</td>\n      <td>22</td>\n      <td>3.37</td>\n    </tr>\n    <tr>\n      <th>2</th>\n      <td>Daegu</td>\n      <td>229</td>\n      <td>355</td>\n      <td>11</td>\n      <td>2.43</td>\n    </tr>\n    <tr>\n      <th>3</th>\n      <td>Gwangju</td>\n      <td>155</td>\n      <td>312</td>\n      <td>17</td>\n      <td>1.49</td>\n    </tr>\n    <tr>\n      <th>4</th>\n      <td>Incheon</td>\n      <td>250</td>\n      <td>403</td>\n      <td>7</td>\n      <td>2.95</td>\n    </tr>\n    <tr>\n      <th>5</th>\n      <td>Daejeon</td>\n      <td>148</td>\n      <td>260</td>\n      <td>15</td>\n      <td>1.50</td>\n    </tr>\n    <tr>\n      <th>6</th>\n      <td>Ulsan</td>\n      <td>119</td>\n      <td>200</td>\n      <td>4</td>\n      <td>1.14</td>\n    </tr>\n    <tr>\n      <th>7</th>\n      <td>Sejong</td>\n      <td>48</td>\n      <td>60</td>\n      <td>3</td>\n      <td>0.34</td>\n    </tr>\n    <tr>\n      <th>8</th>\n      <td>Gyeonggi-do</td>\n      <td>1277</td>\n      <td>2237</td>\n      <td>61</td>\n      <td>13.30</td>\n    </tr>\n    <tr>\n      <th>9</th>\n      <td>Gangwon-do</td>\n      <td>349</td>\n      <td>368</td>\n      <td>18</td>\n      <td>1.52</td>\n    </tr>\n    <tr>\n      <th>10</th>\n      <td>Chungcheongbuk-do</td>\n      <td>259</td>\n      <td>328</td>\n      <td>17</td>\n      <td>1.63</td>\n    </tr>\n    <tr>\n      <th>11</th>\n      <td>Chungcheongnam-do</td>\n      <td>409</td>\n      <td>499</td>\n      <td>21</td>\n      <td>2.19</td>\n    </tr>\n    <tr>\n      <th>12</th>\n      <td>Jeollabuk-do</td>\n      <td>419</td>\n      <td>519</td>\n      <td>19</td>\n      <td>1.81</td>\n    </tr>\n    <tr>\n      <th>13</th>\n      <td>Jeollanam-do</td>\n      <td>429</td>\n      <td>542</td>\n      <td>19</td>\n      <td>1.79</td>\n    </tr>\n    <tr>\n      <th>14</th>\n      <td>Gyeongsangbuk-do</td>\n      <td>471</td>\n      <td>707</td>\n      <td>33</td>\n      <td>2.67</td>\n    </tr>\n    <tr>\n      <th>15</th>\n      <td>Gyeongsangnam-do</td>\n      <td>501</td>\n      <td>686</td>\n      <td>21</td>\n      <td>3.35</td>\n    </tr>\n    <tr>\n      <th>16</th>\n      <td>Jeju-do</td>\n      <td>113</td>\n      <td>123</td>\n      <td>4</td>\n      <td>0.67</td>\n    </tr>\n  </tbody>\n</table>\n</div>"
     },
     "metadata": {},
     "execution_count": 34
    }
   ],
   "source": [
    "region_only_df = pd.merge(region_only_df, popinfo, on='province')[['province', 'elementary_school_count','kindergarten_count','university_count','province_population_in_M']]\n",
    "region_only_df"
   ]
  },
  {
   "cell_type": "code",
   "execution_count": 35,
   "metadata": {},
   "outputs": [
    {
     "output_type": "execute_result",
     "data": {
      "text/plain": [
       "                          elementary_school_count  kindergarten_count  \\\n",
       "elementary_school_count                  1.000000            0.981118   \n",
       "kindergarten_count                       0.981118            1.000000   \n",
       "university_count                         0.915748            0.893019   \n",
       "province_population_in_M                 0.894961            0.909454   \n",
       "\n",
       "                          university_count  province_population_in_M  \n",
       "elementary_school_count           0.915748                  0.894961  \n",
       "kindergarten_count                0.893019                  0.909454  \n",
       "university_count                  1.000000                  0.909163  \n",
       "province_population_in_M          0.909163                  1.000000  "
      ],
      "text/html": "<div>\n<style scoped>\n    .dataframe tbody tr th:only-of-type {\n        vertical-align: middle;\n    }\n\n    .dataframe tbody tr th {\n        vertical-align: top;\n    }\n\n    .dataframe thead th {\n        text-align: right;\n    }\n</style>\n<table border=\"1\" class=\"dataframe\">\n  <thead>\n    <tr style=\"text-align: right;\">\n      <th></th>\n      <th>elementary_school_count</th>\n      <th>kindergarten_count</th>\n      <th>university_count</th>\n      <th>province_population_in_M</th>\n    </tr>\n  </thead>\n  <tbody>\n    <tr>\n      <th>elementary_school_count</th>\n      <td>1.000000</td>\n      <td>0.981118</td>\n      <td>0.915748</td>\n      <td>0.894961</td>\n    </tr>\n    <tr>\n      <th>kindergarten_count</th>\n      <td>0.981118</td>\n      <td>1.000000</td>\n      <td>0.893019</td>\n      <td>0.909454</td>\n    </tr>\n    <tr>\n      <th>university_count</th>\n      <td>0.915748</td>\n      <td>0.893019</td>\n      <td>1.000000</td>\n      <td>0.909163</td>\n    </tr>\n    <tr>\n      <th>province_population_in_M</th>\n      <td>0.894961</td>\n      <td>0.909454</td>\n      <td>0.909163</td>\n      <td>1.000000</td>\n    </tr>\n  </tbody>\n</table>\n</div>"
     },
     "metadata": {},
     "execution_count": 35
    }
   ],
   "source": [
    "region_only_df.corr()"
   ]
  },
  {
   "cell_type": "code",
   "execution_count": null,
   "metadata": {},
   "outputs": [],
   "source": []
  }
 ]
}